{
 "cells": [
  {
   "cell_type": "markdown",
   "id": "97cb8cea",
   "metadata": {},
   "source": [
    "# Portfolio"
   ]
  },
  {
   "cell_type": "code",
   "execution_count": 98,
   "id": "bf707a7b",
   "metadata": {},
   "outputs": [],
   "source": [
    "import numpy as np # linear algebra\n",
    "import pandas as pd # data processing, CSV file I/O (e.g. pd.read_csv)\n",
    "import matplotlib.pyplot as plt\n",
    "import seaborn as sns\n",
    "import plotly.express as px\n"
   ]
  },
  {
   "cell_type": "code",
   "execution_count": 99,
   "id": "62d1f109",
   "metadata": {
    "scrolled": true
   },
   "outputs": [
    {
     "name": "stdout",
     "output_type": "stream",
     "text": [
      "<module 'pandas' from 'C:\\\\Anaconda\\\\Lib\\\\site-packages\\\\pandas\\\\__init__.py'>\n"
     ]
    }
   ],
   "source": [
    "print(pd)"
   ]
  },
  {
   "cell_type": "code",
   "execution_count": 100,
   "id": "03d552ca",
   "metadata": {},
   "outputs": [],
   "source": [
    "ds = pd.read_csv(\"C:\\\\Users\\\\Administrator\\\\OneDrive\\\\Dokumente\\\\Data Science Portfolio\\\\Data Science\\\\Analytics-Avengers\\\\charging_data.csv\")"
   ]
  },
  {
   "cell_type": "markdown",
   "id": "93eb6279",
   "metadata": {},
   "source": [
    "## Data Understanding"
   ]
  },
  {
   "cell_type": "code",
   "execution_count": 101,
   "id": "63855ba1",
   "metadata": {
    "scrolled": true
   },
   "outputs": [
    {
     "data": {
      "text/html": [
       "<div>\n",
       "<style scoped>\n",
       "    .dataframe tbody tr th:only-of-type {\n",
       "        vertical-align: middle;\n",
       "    }\n",
       "\n",
       "    .dataframe tbody tr th {\n",
       "        vertical-align: top;\n",
       "    }\n",
       "\n",
       "    .dataframe thead th {\n",
       "        text-align: right;\n",
       "    }\n",
       "</style>\n",
       "<table border=\"1\" class=\"dataframe\">\n",
       "  <thead>\n",
       "    <tr style=\"text-align: right;\">\n",
       "      <th></th>\n",
       "      <th>Unnamed: 0</th>\n",
       "      <th>betreiber</th>\n",
       "      <th>art_der_ladeeinrichung</th>\n",
       "      <th>anzahl_ladepunkte</th>\n",
       "      <th>anschlussleistung</th>\n",
       "      <th>steckertypen1</th>\n",
       "      <th>steckertypen2</th>\n",
       "      <th>steckertypen3</th>\n",
       "      <th>steckertypen4</th>\n",
       "      <th>p1_kw</th>\n",
       "      <th>...</th>\n",
       "      <th>p4_kw</th>\n",
       "      <th>kreis_kreisfreie_stadt</th>\n",
       "      <th>ort</th>\n",
       "      <th>postleitzahl</th>\n",
       "      <th>strasse</th>\n",
       "      <th>hausnummer</th>\n",
       "      <th>adresszusatz</th>\n",
       "      <th>inbetriebnahmedatum</th>\n",
       "      <th>breitengrad</th>\n",
       "      <th>laengengrad</th>\n",
       "    </tr>\n",
       "  </thead>\n",
       "  <tbody>\n",
       "    <tr>\n",
       "      <th>0</th>\n",
       "      <td>0</td>\n",
       "      <td>GGEW AG</td>\n",
       "      <td>Normalladeeinrichtung</td>\n",
       "      <td>1</td>\n",
       "      <td>4.6</td>\n",
       "      <td>AC Steckdose Typ 2</td>\n",
       "      <td>NaN</td>\n",
       "      <td>NaN</td>\n",
       "      <td>NaN</td>\n",
       "      <td>4.6</td>\n",
       "      <td>...</td>\n",
       "      <td>NaN</td>\n",
       "      <td>Landkreis Bergstraße</td>\n",
       "      <td>Lorsch</td>\n",
       "      <td>64653</td>\n",
       "      <td>Klosterstr.</td>\n",
       "      <td>23</td>\n",
       "      <td>NaN</td>\n",
       "      <td>2017-01-02</td>\n",
       "      <td>49.653064</td>\n",
       "      <td>8.572109</td>\n",
       "    </tr>\n",
       "    <tr>\n",
       "      <th>1</th>\n",
       "      <td>1</td>\n",
       "      <td>Pfalzwerke AG</td>\n",
       "      <td>Schnellladeeinrichtung</td>\n",
       "      <td>2</td>\n",
       "      <td>75.0</td>\n",
       "      <td>AC Steckdose Typ 2</td>\n",
       "      <td>DC Kupplung Combo</td>\n",
       "      <td>NaN</td>\n",
       "      <td>NaN</td>\n",
       "      <td>22.0</td>\n",
       "      <td>...</td>\n",
       "      <td>NaN</td>\n",
       "      <td>Landkreis Bergstraße</td>\n",
       "      <td>Lorsch</td>\n",
       "      <td>64653</td>\n",
       "      <td>Nibelungenstraße</td>\n",
       "      <td>135-137</td>\n",
       "      <td>NaN</td>\n",
       "      <td>2021-04-27</td>\n",
       "      <td>49.652969</td>\n",
       "      <td>8.554764</td>\n",
       "    </tr>\n",
       "    <tr>\n",
       "      <th>2</th>\n",
       "      <td>2</td>\n",
       "      <td>ENTEGA Energie GmbH</td>\n",
       "      <td>Normalladeeinrichtung</td>\n",
       "      <td>2</td>\n",
       "      <td>44.0</td>\n",
       "      <td>AC Steckdose Typ 2</td>\n",
       "      <td>AC Steckdose Typ 2</td>\n",
       "      <td>NaN</td>\n",
       "      <td>NaN</td>\n",
       "      <td>22.0</td>\n",
       "      <td>...</td>\n",
       "      <td>NaN</td>\n",
       "      <td>Landkreis Bergstraße</td>\n",
       "      <td>Fürth</td>\n",
       "      <td>64658</td>\n",
       "      <td>Krumbacher Str.</td>\n",
       "      <td>39</td>\n",
       "      <td>NaN</td>\n",
       "      <td>2017-11-21</td>\n",
       "      <td>49.658037</td>\n",
       "      <td>8.787881</td>\n",
       "    </tr>\n",
       "    <tr>\n",
       "      <th>3</th>\n",
       "      <td>3</td>\n",
       "      <td>Entega Plus GmbH</td>\n",
       "      <td>Normalladeeinrichtung</td>\n",
       "      <td>2</td>\n",
       "      <td>22.0</td>\n",
       "      <td>AC Steckdose Typ 2</td>\n",
       "      <td>AC Steckdose Typ 2</td>\n",
       "      <td>NaN</td>\n",
       "      <td>NaN</td>\n",
       "      <td>22.0</td>\n",
       "      <td>...</td>\n",
       "      <td>NaN</td>\n",
       "      <td>Landkreis Bergstraße</td>\n",
       "      <td>Fürth</td>\n",
       "      <td>64658</td>\n",
       "      <td>Erbacher Str.</td>\n",
       "      <td>102</td>\n",
       "      <td>a</td>\n",
       "      <td>2022-04-08</td>\n",
       "      <td>49.663670</td>\n",
       "      <td>8.796830</td>\n",
       "    </tr>\n",
       "    <tr>\n",
       "      <th>4</th>\n",
       "      <td>4</td>\n",
       "      <td>Entega Plus GmbH</td>\n",
       "      <td>Normalladeeinrichtung</td>\n",
       "      <td>2</td>\n",
       "      <td>22.0</td>\n",
       "      <td>AC Steckdose Typ 2</td>\n",
       "      <td>AC Steckdose Typ 2</td>\n",
       "      <td>NaN</td>\n",
       "      <td>NaN</td>\n",
       "      <td>22.0</td>\n",
       "      <td>...</td>\n",
       "      <td>NaN</td>\n",
       "      <td>Landkreis Bergstraße</td>\n",
       "      <td>Fürth</td>\n",
       "      <td>64658</td>\n",
       "      <td>Schulstr.</td>\n",
       "      <td>12</td>\n",
       "      <td>NaN</td>\n",
       "      <td>2022-04-08</td>\n",
       "      <td>49.646360</td>\n",
       "      <td>8.781410</td>\n",
       "    </tr>\n",
       "  </tbody>\n",
       "</table>\n",
       "<p>5 rows × 22 columns</p>\n",
       "</div>"
      ],
      "text/plain": [
       "   Unnamed: 0            betreiber  art_der_ladeeinrichung  anzahl_ladepunkte  \\\n",
       "0           0              GGEW AG   Normalladeeinrichtung                  1   \n",
       "1           1        Pfalzwerke AG  Schnellladeeinrichtung                  2   \n",
       "2           2  ENTEGA Energie GmbH   Normalladeeinrichtung                  2   \n",
       "3           3     Entega Plus GmbH   Normalladeeinrichtung                  2   \n",
       "4           4     Entega Plus GmbH   Normalladeeinrichtung                  2   \n",
       "\n",
       "   anschlussleistung       steckertypen1       steckertypen2 steckertypen3  \\\n",
       "0                4.6  AC Steckdose Typ 2                 NaN           NaN   \n",
       "1               75.0  AC Steckdose Typ 2   DC Kupplung Combo           NaN   \n",
       "2               44.0  AC Steckdose Typ 2  AC Steckdose Typ 2           NaN   \n",
       "3               22.0  AC Steckdose Typ 2  AC Steckdose Typ 2           NaN   \n",
       "4               22.0  AC Steckdose Typ 2  AC Steckdose Typ 2           NaN   \n",
       "\n",
       "  steckertypen4  p1_kw  ...  p4_kw  kreis_kreisfreie_stadt     ort  \\\n",
       "0           NaN    4.6  ...    NaN    Landkreis Bergstraße  Lorsch   \n",
       "1           NaN   22.0  ...    NaN    Landkreis Bergstraße  Lorsch   \n",
       "2           NaN   22.0  ...    NaN    Landkreis Bergstraße   Fürth   \n",
       "3           NaN   22.0  ...    NaN    Landkreis Bergstraße   Fürth   \n",
       "4           NaN   22.0  ...    NaN    Landkreis Bergstraße   Fürth   \n",
       "\n",
       "  postleitzahl           strasse  hausnummer adresszusatz inbetriebnahmedatum  \\\n",
       "0        64653       Klosterstr.          23          NaN          2017-01-02   \n",
       "1        64653  Nibelungenstraße     135-137          NaN          2021-04-27   \n",
       "2        64658   Krumbacher Str.          39          NaN          2017-11-21   \n",
       "3        64658     Erbacher Str.         102            a          2022-04-08   \n",
       "4        64658         Schulstr.          12          NaN          2022-04-08   \n",
       "\n",
       "  breitengrad laengengrad  \n",
       "0   49.653064    8.572109  \n",
       "1   49.652969    8.554764  \n",
       "2   49.658037    8.787881  \n",
       "3   49.663670    8.796830  \n",
       "4   49.646360    8.781410  \n",
       "\n",
       "[5 rows x 22 columns]"
      ]
     },
     "execution_count": 101,
     "metadata": {},
     "output_type": "execute_result"
    }
   ],
   "source": [
    "ds.head()"
   ]
  },
  {
   "cell_type": "code",
   "execution_count": 102,
   "id": "86cb5a38",
   "metadata": {},
   "outputs": [
    {
     "data": {
      "text/html": [
       "<div>\n",
       "<style scoped>\n",
       "    .dataframe tbody tr th:only-of-type {\n",
       "        vertical-align: middle;\n",
       "    }\n",
       "\n",
       "    .dataframe tbody tr th {\n",
       "        vertical-align: top;\n",
       "    }\n",
       "\n",
       "    .dataframe thead th {\n",
       "        text-align: right;\n",
       "    }\n",
       "</style>\n",
       "<table border=\"1\" class=\"dataframe\">\n",
       "  <thead>\n",
       "    <tr style=\"text-align: right;\">\n",
       "      <th></th>\n",
       "      <th>Unnamed: 0</th>\n",
       "      <th>betreiber</th>\n",
       "      <th>art_der_ladeeinrichung</th>\n",
       "      <th>anzahl_ladepunkte</th>\n",
       "      <th>anschlussleistung</th>\n",
       "      <th>steckertypen1</th>\n",
       "      <th>steckertypen2</th>\n",
       "      <th>steckertypen3</th>\n",
       "      <th>steckertypen4</th>\n",
       "      <th>p1_kw</th>\n",
       "      <th>...</th>\n",
       "      <th>p4_kw</th>\n",
       "      <th>kreis_kreisfreie_stadt</th>\n",
       "      <th>ort</th>\n",
       "      <th>postleitzahl</th>\n",
       "      <th>strasse</th>\n",
       "      <th>hausnummer</th>\n",
       "      <th>adresszusatz</th>\n",
       "      <th>inbetriebnahmedatum</th>\n",
       "      <th>breitengrad</th>\n",
       "      <th>laengengrad</th>\n",
       "    </tr>\n",
       "  </thead>\n",
       "  <tbody>\n",
       "    <tr>\n",
       "      <th>36765</th>\n",
       "      <td>36765</td>\n",
       "      <td>Stadtwerke Leipzig GmbH</td>\n",
       "      <td>Normalladeeinrichtung</td>\n",
       "      <td>2</td>\n",
       "      <td>30.0</td>\n",
       "      <td>AC Steckdose Typ 2</td>\n",
       "      <td>AC Steckdose Typ 2</td>\n",
       "      <td>NaN</td>\n",
       "      <td>NaN</td>\n",
       "      <td>22.0</td>\n",
       "      <td>...</td>\n",
       "      <td>NaN</td>\n",
       "      <td>Kreisfreie Stadt Leipzig</td>\n",
       "      <td>Leipzig</td>\n",
       "      <td>4277</td>\n",
       "      <td>Bornaische Straße</td>\n",
       "      <td>108</td>\n",
       "      <td>NaN</td>\n",
       "      <td>2016-06-01</td>\n",
       "      <td>51.301227</td>\n",
       "      <td>12.384566</td>\n",
       "    </tr>\n",
       "    <tr>\n",
       "      <th>36766</th>\n",
       "      <td>36766</td>\n",
       "      <td>Stadtwerke Leipzig GmbH</td>\n",
       "      <td>Normalladeeinrichtung</td>\n",
       "      <td>2</td>\n",
       "      <td>30.0</td>\n",
       "      <td>AC Steckdose Typ 2</td>\n",
       "      <td>AC Steckdose Typ 2</td>\n",
       "      <td>NaN</td>\n",
       "      <td>NaN</td>\n",
       "      <td>22.0</td>\n",
       "      <td>...</td>\n",
       "      <td>NaN</td>\n",
       "      <td>Kreisfreie Stadt Leipzig</td>\n",
       "      <td>Leipzig</td>\n",
       "      <td>4277</td>\n",
       "      <td>Scheffelstraße</td>\n",
       "      <td>35</td>\n",
       "      <td>NaN</td>\n",
       "      <td>2016-06-01</td>\n",
       "      <td>51.311695</td>\n",
       "      <td>12.372912</td>\n",
       "    </tr>\n",
       "    <tr>\n",
       "      <th>36767</th>\n",
       "      <td>36767</td>\n",
       "      <td>Stadtwerke Leipzig GmbH</td>\n",
       "      <td>Normalladeeinrichtung</td>\n",
       "      <td>2</td>\n",
       "      <td>30.0</td>\n",
       "      <td>AC Steckdose Typ 2</td>\n",
       "      <td>AC Steckdose Typ 2</td>\n",
       "      <td>NaN</td>\n",
       "      <td>NaN</td>\n",
       "      <td>22.0</td>\n",
       "      <td>...</td>\n",
       "      <td>NaN</td>\n",
       "      <td>Kreisfreie Stadt Leipzig</td>\n",
       "      <td>Leipzig</td>\n",
       "      <td>4277</td>\n",
       "      <td>Bornaische Straße</td>\n",
       "      <td>55</td>\n",
       "      <td>NaN</td>\n",
       "      <td>2018-07-05</td>\n",
       "      <td>51.305046</td>\n",
       "      <td>12.382487</td>\n",
       "    </tr>\n",
       "    <tr>\n",
       "      <th>36768</th>\n",
       "      <td>36768</td>\n",
       "      <td>Stadtwerke Leipzig GmbH</td>\n",
       "      <td>Normalladeeinrichtung</td>\n",
       "      <td>2</td>\n",
       "      <td>30.0</td>\n",
       "      <td>AC Steckdose Typ 2</td>\n",
       "      <td>AC Steckdose Typ 2</td>\n",
       "      <td>NaN</td>\n",
       "      <td>NaN</td>\n",
       "      <td>22.0</td>\n",
       "      <td>...</td>\n",
       "      <td>NaN</td>\n",
       "      <td>Kreisfreie Stadt Leipzig</td>\n",
       "      <td>Leipzig</td>\n",
       "      <td>4277</td>\n",
       "      <td>Richard Lehmann Straße</td>\n",
       "      <td>120</td>\n",
       "      <td>NaN</td>\n",
       "      <td>2019-08-12</td>\n",
       "      <td>51.314325</td>\n",
       "      <td>12.397213</td>\n",
       "    </tr>\n",
       "    <tr>\n",
       "      <th>36769</th>\n",
       "      <td>36769</td>\n",
       "      <td>Stadtwerke Leipzig GmbH</td>\n",
       "      <td>Normalladeeinrichtung</td>\n",
       "      <td>2</td>\n",
       "      <td>22.0</td>\n",
       "      <td>AC Kupplung Typ 2</td>\n",
       "      <td>AC Kupplung Typ 2</td>\n",
       "      <td>NaN</td>\n",
       "      <td>NaN</td>\n",
       "      <td>11.0</td>\n",
       "      <td>...</td>\n",
       "      <td>NaN</td>\n",
       "      <td>Kreisfreie Stadt Leipzig</td>\n",
       "      <td>Leipzig</td>\n",
       "      <td>4277</td>\n",
       "      <td>Eichendorffstraße</td>\n",
       "      <td>11</td>\n",
       "      <td>Parkplatz Fitnessstudio, Zuganskarte notwendig</td>\n",
       "      <td>2022-04-13</td>\n",
       "      <td>51.314364</td>\n",
       "      <td>12.374747</td>\n",
       "    </tr>\n",
       "  </tbody>\n",
       "</table>\n",
       "<p>5 rows × 22 columns</p>\n",
       "</div>"
      ],
      "text/plain": [
       "       Unnamed: 0                betreiber art_der_ladeeinrichung  \\\n",
       "36765       36765  Stadtwerke Leipzig GmbH  Normalladeeinrichtung   \n",
       "36766       36766  Stadtwerke Leipzig GmbH  Normalladeeinrichtung   \n",
       "36767       36767  Stadtwerke Leipzig GmbH  Normalladeeinrichtung   \n",
       "36768       36768  Stadtwerke Leipzig GmbH  Normalladeeinrichtung   \n",
       "36769       36769  Stadtwerke Leipzig GmbH  Normalladeeinrichtung   \n",
       "\n",
       "       anzahl_ladepunkte  anschlussleistung       steckertypen1  \\\n",
       "36765                  2               30.0  AC Steckdose Typ 2   \n",
       "36766                  2               30.0  AC Steckdose Typ 2   \n",
       "36767                  2               30.0  AC Steckdose Typ 2   \n",
       "36768                  2               30.0  AC Steckdose Typ 2   \n",
       "36769                  2               22.0   AC Kupplung Typ 2   \n",
       "\n",
       "            steckertypen2 steckertypen3 steckertypen4  p1_kw  ...  p4_kw  \\\n",
       "36765  AC Steckdose Typ 2           NaN           NaN   22.0  ...    NaN   \n",
       "36766  AC Steckdose Typ 2           NaN           NaN   22.0  ...    NaN   \n",
       "36767  AC Steckdose Typ 2           NaN           NaN   22.0  ...    NaN   \n",
       "36768  AC Steckdose Typ 2           NaN           NaN   22.0  ...    NaN   \n",
       "36769   AC Kupplung Typ 2           NaN           NaN   11.0  ...    NaN   \n",
       "\n",
       "         kreis_kreisfreie_stadt      ort postleitzahl                 strasse  \\\n",
       "36765  Kreisfreie Stadt Leipzig  Leipzig         4277       Bornaische Straße   \n",
       "36766  Kreisfreie Stadt Leipzig  Leipzig         4277          Scheffelstraße   \n",
       "36767  Kreisfreie Stadt Leipzig  Leipzig         4277       Bornaische Straße   \n",
       "36768  Kreisfreie Stadt Leipzig  Leipzig         4277  Richard Lehmann Straße   \n",
       "36769  Kreisfreie Stadt Leipzig  Leipzig         4277       Eichendorffstraße   \n",
       "\n",
       "       hausnummer                                    adresszusatz  \\\n",
       "36765         108                                             NaN   \n",
       "36766          35                                             NaN   \n",
       "36767          55                                             NaN   \n",
       "36768         120                                             NaN   \n",
       "36769          11  Parkplatz Fitnessstudio, Zuganskarte notwendig   \n",
       "\n",
       "      inbetriebnahmedatum breitengrad laengengrad  \n",
       "36765          2016-06-01   51.301227   12.384566  \n",
       "36766          2016-06-01   51.311695   12.372912  \n",
       "36767          2018-07-05   51.305046   12.382487  \n",
       "36768          2019-08-12   51.314325   12.397213  \n",
       "36769          2022-04-13   51.314364   12.374747  \n",
       "\n",
       "[5 rows x 22 columns]"
      ]
     },
     "execution_count": 102,
     "metadata": {},
     "output_type": "execute_result"
    }
   ],
   "source": [
    "ds.tail()"
   ]
  },
  {
   "cell_type": "code",
   "execution_count": 103,
   "id": "a2b381e8",
   "metadata": {},
   "outputs": [
    {
     "data": {
      "text/plain": [
       "(36770, 22)"
      ]
     },
     "execution_count": 103,
     "metadata": {},
     "output_type": "execute_result"
    }
   ],
   "source": [
    "ds.shape"
   ]
  },
  {
   "cell_type": "code",
   "execution_count": 104,
   "id": "cb708fcf",
   "metadata": {},
   "outputs": [
    {
     "name": "stdout",
     "output_type": "stream",
     "text": [
      "Unnamed: 0                    0\n",
      "betreiber                     0\n",
      "art_der_ladeeinrichung        0\n",
      "anzahl_ladepunkte             0\n",
      "anschlussleistung             0\n",
      "steckertypen1                 0\n",
      "steckertypen2              5659\n",
      "steckertypen3             34537\n",
      "steckertypen4             35638\n",
      "p1_kw                         0\n",
      "p2_kw                      5641\n",
      "p3_kw                     34537\n",
      "p4_kw                     35639\n",
      "kreis_kreisfreie_stadt        0\n",
      "ort                           0\n",
      "postleitzahl                  0\n",
      "strasse                       0\n",
      "hausnummer                    0\n",
      "adresszusatz              32147\n",
      "inbetriebnahmedatum           0\n",
      "breitengrad                   0\n",
      "laengengrad                   0\n",
      "dtype: int64\n"
     ]
    }
   ],
   "source": [
    "print(ds.isnull().sum())"
   ]
  },
  {
   "cell_type": "code",
   "execution_count": 105,
   "id": "97c3b4c2",
   "metadata": {},
   "outputs": [
    {
     "data": {
      "text/plain": [
       "<Axes: >"
      ]
     },
     "execution_count": 105,
     "metadata": {},
     "output_type": "execute_result"
    },
    {
     "data": {
      "image/png": "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",
      "text/plain": [
       "<Figure size 640x480 with 1 Axes>"
      ]
     },
     "metadata": {},
     "output_type": "display_data"
    }
   ],
   "source": [
    "sns.heatmap(ds.isnull(),yticklabels=False,cbar=False,cmap='viridis')"
   ]
  },
  {
   "cell_type": "code",
   "execution_count": 106,
   "id": "c5905769",
   "metadata": {},
   "outputs": [
    {
     "name": "stdout",
     "output_type": "stream",
     "text": [
      "<class 'pandas.core.frame.DataFrame'>\n",
      "RangeIndex: 36770 entries, 0 to 36769\n",
      "Data columns (total 22 columns):\n",
      " #   Column                  Non-Null Count  Dtype  \n",
      "---  ------                  --------------  -----  \n",
      " 0   Unnamed: 0              36770 non-null  int64  \n",
      " 1   betreiber               36770 non-null  object \n",
      " 2   art_der_ladeeinrichung  36770 non-null  object \n",
      " 3   anzahl_ladepunkte       36770 non-null  int64  \n",
      " 4   anschlussleistung       36770 non-null  float64\n",
      " 5   steckertypen1           36770 non-null  object \n",
      " 6   steckertypen2           31111 non-null  object \n",
      " 7   steckertypen3           2233 non-null   object \n",
      " 8   steckertypen4           1132 non-null   object \n",
      " 9   p1_kw                   36770 non-null  float64\n",
      " 10  p2_kw                   31129 non-null  float64\n",
      " 11  p3_kw                   2233 non-null   float64\n",
      " 12  p4_kw                   1131 non-null   float64\n",
      " 13  kreis_kreisfreie_stadt  36770 non-null  object \n",
      " 14  ort                     36770 non-null  object \n",
      " 15  postleitzahl            36770 non-null  int64  \n",
      " 16  strasse                 36770 non-null  object \n",
      " 17  hausnummer              36770 non-null  object \n",
      " 18  adresszusatz            4623 non-null   object \n",
      " 19  inbetriebnahmedatum     36770 non-null  object \n",
      " 20  breitengrad             36770 non-null  float64\n",
      " 21  laengengrad             36770 non-null  float64\n",
      "dtypes: float64(7), int64(3), object(12)\n",
      "memory usage: 6.2+ MB\n"
     ]
    }
   ],
   "source": [
    "ds.info()"
   ]
  },
  {
   "cell_type": "code",
   "execution_count": 107,
   "id": "bc9c4acd",
   "metadata": {},
   "outputs": [
    {
     "data": {
      "text/html": [
       "<div>\n",
       "<style scoped>\n",
       "    .dataframe tbody tr th:only-of-type {\n",
       "        vertical-align: middle;\n",
       "    }\n",
       "\n",
       "    .dataframe tbody tr th {\n",
       "        vertical-align: top;\n",
       "    }\n",
       "\n",
       "    .dataframe thead th {\n",
       "        text-align: right;\n",
       "    }\n",
       "</style>\n",
       "<table border=\"1\" class=\"dataframe\">\n",
       "  <thead>\n",
       "    <tr style=\"text-align: right;\">\n",
       "      <th></th>\n",
       "      <th>Unnamed: 0</th>\n",
       "      <th>anzahl_ladepunkte</th>\n",
       "      <th>anschlussleistung</th>\n",
       "      <th>p1_kw</th>\n",
       "      <th>p2_kw</th>\n",
       "      <th>p3_kw</th>\n",
       "      <th>p4_kw</th>\n",
       "      <th>postleitzahl</th>\n",
       "      <th>breitengrad</th>\n",
       "      <th>laengengrad</th>\n",
       "    </tr>\n",
       "  </thead>\n",
       "  <tbody>\n",
       "    <tr>\n",
       "      <th>count</th>\n",
       "      <td>36770.000000</td>\n",
       "      <td>36770.000000</td>\n",
       "      <td>36770.000000</td>\n",
       "      <td>36770.000000</td>\n",
       "      <td>31129.000000</td>\n",
       "      <td>2233.000000</td>\n",
       "      <td>1131.000000</td>\n",
       "      <td>36770.000000</td>\n",
       "      <td>36770.000000</td>\n",
       "      <td>36770.000000</td>\n",
       "    </tr>\n",
       "    <tr>\n",
       "      <th>mean</th>\n",
       "      <td>18384.500000</td>\n",
       "      <td>1.938075</td>\n",
       "      <td>53.879393</td>\n",
       "      <td>37.648928</td>\n",
       "      <td>38.365378</td>\n",
       "      <td>32.406879</td>\n",
       "      <td>26.196729</td>\n",
       "      <td>54564.223117</td>\n",
       "      <td>50.562816</td>\n",
       "      <td>9.751840</td>\n",
       "    </tr>\n",
       "    <tr>\n",
       "      <th>std</th>\n",
       "      <td>10614.729036</td>\n",
       "      <td>0.550034</td>\n",
       "      <td>64.178987</td>\n",
       "      <td>58.958237</td>\n",
       "      <td>58.080733</td>\n",
       "      <td>40.314259</td>\n",
       "      <td>39.295098</td>\n",
       "      <td>27390.091752</td>\n",
       "      <td>1.828351</td>\n",
       "      <td>2.026769</td>\n",
       "    </tr>\n",
       "    <tr>\n",
       "      <th>min</th>\n",
       "      <td>0.000000</td>\n",
       "      <td>1.000000</td>\n",
       "      <td>2.000000</td>\n",
       "      <td>1.000000</td>\n",
       "      <td>2.000000</td>\n",
       "      <td>2.000000</td>\n",
       "      <td>2.300000</td>\n",
       "      <td>1062.000000</td>\n",
       "      <td>47.284400</td>\n",
       "      <td>5.243745</td>\n",
       "    </tr>\n",
       "    <tr>\n",
       "      <th>25%</th>\n",
       "      <td>9192.250000</td>\n",
       "      <td>2.000000</td>\n",
       "      <td>22.000000</td>\n",
       "      <td>22.000000</td>\n",
       "      <td>22.000000</td>\n",
       "      <td>22.000000</td>\n",
       "      <td>22.000000</td>\n",
       "      <td>31137.000000</td>\n",
       "      <td>48.833821</td>\n",
       "      <td>8.249386</td>\n",
       "    </tr>\n",
       "    <tr>\n",
       "      <th>50%</th>\n",
       "      <td>18384.500000</td>\n",
       "      <td>2.000000</td>\n",
       "      <td>44.000000</td>\n",
       "      <td>22.000000</td>\n",
       "      <td>22.000000</td>\n",
       "      <td>22.000000</td>\n",
       "      <td>22.000000</td>\n",
       "      <td>56357.000000</td>\n",
       "      <td>50.661428</td>\n",
       "      <td>9.470774</td>\n",
       "    </tr>\n",
       "    <tr>\n",
       "      <th>75%</th>\n",
       "      <td>27576.750000</td>\n",
       "      <td>2.000000</td>\n",
       "      <td>44.000000</td>\n",
       "      <td>22.000000</td>\n",
       "      <td>22.000000</td>\n",
       "      <td>22.000000</td>\n",
       "      <td>22.000000</td>\n",
       "      <td>79117.000000</td>\n",
       "      <td>51.992060</td>\n",
       "      <td>11.462498</td>\n",
       "    </tr>\n",
       "    <tr>\n",
       "      <th>max</th>\n",
       "      <td>36769.000000</td>\n",
       "      <td>4.000000</td>\n",
       "      <td>1200.000000</td>\n",
       "      <td>360.000000</td>\n",
       "      <td>360.000000</td>\n",
       "      <td>360.000000</td>\n",
       "      <td>360.000000</td>\n",
       "      <td>99991.000000</td>\n",
       "      <td>55.019600</td>\n",
       "      <td>15.543810</td>\n",
       "    </tr>\n",
       "  </tbody>\n",
       "</table>\n",
       "</div>"
      ],
      "text/plain": [
       "         Unnamed: 0  anzahl_ladepunkte  anschlussleistung         p1_kw  \\\n",
       "count  36770.000000       36770.000000       36770.000000  36770.000000   \n",
       "mean   18384.500000           1.938075          53.879393     37.648928   \n",
       "std    10614.729036           0.550034          64.178987     58.958237   \n",
       "min        0.000000           1.000000           2.000000      1.000000   \n",
       "25%     9192.250000           2.000000          22.000000     22.000000   \n",
       "50%    18384.500000           2.000000          44.000000     22.000000   \n",
       "75%    27576.750000           2.000000          44.000000     22.000000   \n",
       "max    36769.000000           4.000000        1200.000000    360.000000   \n",
       "\n",
       "              p2_kw        p3_kw        p4_kw  postleitzahl   breitengrad  \\\n",
       "count  31129.000000  2233.000000  1131.000000  36770.000000  36770.000000   \n",
       "mean      38.365378    32.406879    26.196729  54564.223117     50.562816   \n",
       "std       58.080733    40.314259    39.295098  27390.091752      1.828351   \n",
       "min        2.000000     2.000000     2.300000   1062.000000     47.284400   \n",
       "25%       22.000000    22.000000    22.000000  31137.000000     48.833821   \n",
       "50%       22.000000    22.000000    22.000000  56357.000000     50.661428   \n",
       "75%       22.000000    22.000000    22.000000  79117.000000     51.992060   \n",
       "max      360.000000   360.000000   360.000000  99991.000000     55.019600   \n",
       "\n",
       "        laengengrad  \n",
       "count  36770.000000  \n",
       "mean       9.751840  \n",
       "std        2.026769  \n",
       "min        5.243745  \n",
       "25%        8.249386  \n",
       "50%        9.470774  \n",
       "75%       11.462498  \n",
       "max       15.543810  "
      ]
     },
     "execution_count": 107,
     "metadata": {},
     "output_type": "execute_result"
    }
   ],
   "source": [
    "ds.describe()"
   ]
  },
  {
   "cell_type": "markdown",
   "id": "b62495ce",
   "metadata": {},
   "source": [
    "## Data Cleaning"
   ]
  },
  {
   "cell_type": "code",
   "execution_count": 108,
   "id": "5c580aa6",
   "metadata": {
    "scrolled": true
   },
   "outputs": [
    {
     "data": {
      "text/plain": [
       "<Axes: >"
      ]
     },
     "execution_count": 108,
     "metadata": {},
     "output_type": "execute_result"
    },
    {
     "data": {
      "image/png": "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",
      "text/plain": [
       "<Figure size 640x480 with 1 Axes>"
      ]
     },
     "metadata": {},
     "output_type": "display_data"
    }
   ],
   "source": [
    "sns.heatmap(ds.isnull(),yticklabels=False,cbar=False,cmap='viridis')"
   ]
  },
  {
   "cell_type": "code",
   "execution_count": 109,
   "id": "70210792",
   "metadata": {},
   "outputs": [],
   "source": [
    "#Drop Columns/Entfernen der unnötigen Spalten\n",
    "ds = ds.drop(columns=['Unnamed: 0', 'steckertypen1', 'steckertypen2', 'steckertypen3', 'steckertypen4', 'p1_kw', 'p2_kw', 'p3_kw', 'p4_kw', 'adresszusatz'])"
   ]
  },
  {
   "cell_type": "code",
   "execution_count": 110,
   "id": "f1f3412d",
   "metadata": {
    "scrolled": true
   },
   "outputs": [
    {
     "data": {
      "text/plain": [
       "<Axes: >"
      ]
     },
     "execution_count": 110,
     "metadata": {},
     "output_type": "execute_result"
    },
    {
     "data": {
      "image/png": "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",
      "text/plain": [
       "<Figure size 640x480 with 1 Axes>"
      ]
     },
     "metadata": {},
     "output_type": "display_data"
    }
   ],
   "source": [
    "sns.heatmap(ds.isnull(),yticklabels=False,cbar=False,cmap='viridis')"
   ]
  },
  {
   "cell_type": "code",
   "execution_count": 111,
   "id": "4b7d9202",
   "metadata": {},
   "outputs": [],
   "source": [
    "# Entfernen alle Zeilen mit fehlenden Werten\n",
    "ds_clean = ds_clean.dropna()"
   ]
  },
  {
   "cell_type": "markdown",
   "id": "71d649a6",
   "metadata": {},
   "source": [
    "## Data Analyse"
   ]
  },
  {
   "cell_type": "markdown",
   "id": "ba6baecb",
   "metadata": {},
   "source": [
    "### Wachstum in Deutschland über die Jahre"
   ]
  },
  {
   "cell_type": "code",
   "execution_count": 112,
   "id": "19bdb3a6",
   "metadata": {},
   "outputs": [],
   "source": [
    "# datetime\n",
    "ds['inbetriebnahmedatum'] = pd.to_datetime(ds['inbetriebnahmedatum'])"
   ]
  },
  {
   "cell_type": "code",
   "execution_count": 113,
   "id": "8a7d1dd8",
   "metadata": {},
   "outputs": [],
   "source": [
    "ds['year'] = ds['inbetriebnahmedatum'].dt.year\n",
    "ds['month'] = ds['inbetriebnahmedatum'].dt.month"
   ]
  },
  {
   "cell_type": "code",
   "execution_count": 114,
   "id": "5b72de3c",
   "metadata": {},
   "outputs": [],
   "source": [
    "# Wie viele E- Ladesationen wurden im Jahr gebaut?\n",
    "year_group =pd.DataFrame(ds.groupby('year').size().reset_index(name='count'))"
   ]
  },
  {
   "cell_type": "code",
   "execution_count": 115,
   "id": "fb4cb46d",
   "metadata": {},
   "outputs": [
    {
     "data": {
      "application/vnd.plotly.v1+json": {
       "config": {
        "plotlyServerURL": "https://plot.ly"
       },
       "data": [
        {
         "alignmentgroup": "True",
         "hovertemplate": "year=%{x}<br>count=%{marker.color}<extra></extra>",
         "legendgroup": "",
         "marker": {
          "color": [
           1,
           1,
           2,
           1,
           52,
           70,
           198,
           181,
           128,
           250,
           520,
           1128,
           1883,
           3781,
           4809,
           5563,
           7867,
           9157,
           1178
          ],
          "coloraxis": "coloraxis",
          "pattern": {
           "shape": ""
          }
         },
         "name": "",
         "offsetgroup": "",
         "orientation": "v",
         "showlegend": false,
         "textposition": "auto",
         "type": "bar",
         "x": [
          1992,
          2001,
          2007,
          2008,
          2009,
          2010,
          2011,
          2012,
          2013,
          2014,
          2015,
          2016,
          2017,
          2018,
          2019,
          2020,
          2021,
          2022,
          2023
         ],
         "xaxis": "x",
         "y": [
          1,
          1,
          2,
          1,
          52,
          70,
          198,
          181,
          128,
          250,
          520,
          1128,
          1883,
          3781,
          4809,
          5563,
          7867,
          9157,
          1178
         ],
         "yaxis": "y"
        }
       ],
       "layout": {
        "barmode": "relative",
        "coloraxis": {
         "colorbar": {
          "title": {
           "text": "count"
          }
         },
         "colorscale": [
          [
           0,
           "#0d0887"
          ],
          [
           0.1111111111111111,
           "#46039f"
          ],
          [
           0.2222222222222222,
           "#7201a8"
          ],
          [
           0.3333333333333333,
           "#9c179e"
          ],
          [
           0.4444444444444444,
           "#bd3786"
          ],
          [
           0.5555555555555556,
           "#d8576b"
          ],
          [
           0.6666666666666666,
           "#ed7953"
          ],
          [
           0.7777777777777778,
           "#fb9f3a"
          ],
          [
           0.8888888888888888,
           "#fdca26"
          ],
          [
           1,
           "#f0f921"
          ]
         ]
        },
        "height": 700,
        "legend": {
         "tracegroupgap": 0
        },
        "template": {
         "data": {
          "bar": [
           {
            "error_x": {
             "color": "#2a3f5f"
            },
            "error_y": {
             "color": "#2a3f5f"
            },
            "marker": {
             "line": {
              "color": "#E5ECF6",
              "width": 0.5
             },
             "pattern": {
              "fillmode": "overlay",
              "size": 10,
              "solidity": 0.2
             }
            },
            "type": "bar"
           }
          ],
          "barpolar": [
           {
            "marker": {
             "line": {
              "color": "#E5ECF6",
              "width": 0.5
             },
             "pattern": {
              "fillmode": "overlay",
              "size": 10,
              "solidity": 0.2
             }
            },
            "type": "barpolar"
           }
          ],
          "carpet": [
           {
            "aaxis": {
             "endlinecolor": "#2a3f5f",
             "gridcolor": "white",
             "linecolor": "white",
             "minorgridcolor": "white",
             "startlinecolor": "#2a3f5f"
            },
            "baxis": {
             "endlinecolor": "#2a3f5f",
             "gridcolor": "white",
             "linecolor": "white",
             "minorgridcolor": "white",
             "startlinecolor": "#2a3f5f"
            },
            "type": "carpet"
           }
          ],
          "choropleth": [
           {
            "colorbar": {
             "outlinewidth": 0,
             "ticks": ""
            },
            "type": "choropleth"
           }
          ],
          "contour": [
           {
            "colorbar": {
             "outlinewidth": 0,
             "ticks": ""
            },
            "colorscale": [
             [
              0,
              "#0d0887"
             ],
             [
              0.1111111111111111,
              "#46039f"
             ],
             [
              0.2222222222222222,
              "#7201a8"
             ],
             [
              0.3333333333333333,
              "#9c179e"
             ],
             [
              0.4444444444444444,
              "#bd3786"
             ],
             [
              0.5555555555555556,
              "#d8576b"
             ],
             [
              0.6666666666666666,
              "#ed7953"
             ],
             [
              0.7777777777777778,
              "#fb9f3a"
             ],
             [
              0.8888888888888888,
              "#fdca26"
             ],
             [
              1,
              "#f0f921"
             ]
            ],
            "type": "contour"
           }
          ],
          "contourcarpet": [
           {
            "colorbar": {
             "outlinewidth": 0,
             "ticks": ""
            },
            "type": "contourcarpet"
           }
          ],
          "heatmap": [
           {
            "colorbar": {
             "outlinewidth": 0,
             "ticks": ""
            },
            "colorscale": [
             [
              0,
              "#0d0887"
             ],
             [
              0.1111111111111111,
              "#46039f"
             ],
             [
              0.2222222222222222,
              "#7201a8"
             ],
             [
              0.3333333333333333,
              "#9c179e"
             ],
             [
              0.4444444444444444,
              "#bd3786"
             ],
             [
              0.5555555555555556,
              "#d8576b"
             ],
             [
              0.6666666666666666,
              "#ed7953"
             ],
             [
              0.7777777777777778,
              "#fb9f3a"
             ],
             [
              0.8888888888888888,
              "#fdca26"
             ],
             [
              1,
              "#f0f921"
             ]
            ],
            "type": "heatmap"
           }
          ],
          "heatmapgl": [
           {
            "colorbar": {
             "outlinewidth": 0,
             "ticks": ""
            },
            "colorscale": [
             [
              0,
              "#0d0887"
             ],
             [
              0.1111111111111111,
              "#46039f"
             ],
             [
              0.2222222222222222,
              "#7201a8"
             ],
             [
              0.3333333333333333,
              "#9c179e"
             ],
             [
              0.4444444444444444,
              "#bd3786"
             ],
             [
              0.5555555555555556,
              "#d8576b"
             ],
             [
              0.6666666666666666,
              "#ed7953"
             ],
             [
              0.7777777777777778,
              "#fb9f3a"
             ],
             [
              0.8888888888888888,
              "#fdca26"
             ],
             [
              1,
              "#f0f921"
             ]
            ],
            "type": "heatmapgl"
           }
          ],
          "histogram": [
           {
            "marker": {
             "pattern": {
              "fillmode": "overlay",
              "size": 10,
              "solidity": 0.2
             }
            },
            "type": "histogram"
           }
          ],
          "histogram2d": [
           {
            "colorbar": {
             "outlinewidth": 0,
             "ticks": ""
            },
            "colorscale": [
             [
              0,
              "#0d0887"
             ],
             [
              0.1111111111111111,
              "#46039f"
             ],
             [
              0.2222222222222222,
              "#7201a8"
             ],
             [
              0.3333333333333333,
              "#9c179e"
             ],
             [
              0.4444444444444444,
              "#bd3786"
             ],
             [
              0.5555555555555556,
              "#d8576b"
             ],
             [
              0.6666666666666666,
              "#ed7953"
             ],
             [
              0.7777777777777778,
              "#fb9f3a"
             ],
             [
              0.8888888888888888,
              "#fdca26"
             ],
             [
              1,
              "#f0f921"
             ]
            ],
            "type": "histogram2d"
           }
          ],
          "histogram2dcontour": [
           {
            "colorbar": {
             "outlinewidth": 0,
             "ticks": ""
            },
            "colorscale": [
             [
              0,
              "#0d0887"
             ],
             [
              0.1111111111111111,
              "#46039f"
             ],
             [
              0.2222222222222222,
              "#7201a8"
             ],
             [
              0.3333333333333333,
              "#9c179e"
             ],
             [
              0.4444444444444444,
              "#bd3786"
             ],
             [
              0.5555555555555556,
              "#d8576b"
             ],
             [
              0.6666666666666666,
              "#ed7953"
             ],
             [
              0.7777777777777778,
              "#fb9f3a"
             ],
             [
              0.8888888888888888,
              "#fdca26"
             ],
             [
              1,
              "#f0f921"
             ]
            ],
            "type": "histogram2dcontour"
           }
          ],
          "mesh3d": [
           {
            "colorbar": {
             "outlinewidth": 0,
             "ticks": ""
            },
            "type": "mesh3d"
           }
          ],
          "parcoords": [
           {
            "line": {
             "colorbar": {
              "outlinewidth": 0,
              "ticks": ""
             }
            },
            "type": "parcoords"
           }
          ],
          "pie": [
           {
            "automargin": true,
            "type": "pie"
           }
          ],
          "scatter": [
           {
            "fillpattern": {
             "fillmode": "overlay",
             "size": 10,
             "solidity": 0.2
            },
            "type": "scatter"
           }
          ],
          "scatter3d": [
           {
            "line": {
             "colorbar": {
              "outlinewidth": 0,
              "ticks": ""
             }
            },
            "marker": {
             "colorbar": {
              "outlinewidth": 0,
              "ticks": ""
             }
            },
            "type": "scatter3d"
           }
          ],
          "scattercarpet": [
           {
            "marker": {
             "colorbar": {
              "outlinewidth": 0,
              "ticks": ""
             }
            },
            "type": "scattercarpet"
           }
          ],
          "scattergeo": [
           {
            "marker": {
             "colorbar": {
              "outlinewidth": 0,
              "ticks": ""
             }
            },
            "type": "scattergeo"
           }
          ],
          "scattergl": [
           {
            "marker": {
             "colorbar": {
              "outlinewidth": 0,
              "ticks": ""
             }
            },
            "type": "scattergl"
           }
          ],
          "scattermapbox": [
           {
            "marker": {
             "colorbar": {
              "outlinewidth": 0,
              "ticks": ""
             }
            },
            "type": "scattermapbox"
           }
          ],
          "scatterpolar": [
           {
            "marker": {
             "colorbar": {
              "outlinewidth": 0,
              "ticks": ""
             }
            },
            "type": "scatterpolar"
           }
          ],
          "scatterpolargl": [
           {
            "marker": {
             "colorbar": {
              "outlinewidth": 0,
              "ticks": ""
             }
            },
            "type": "scatterpolargl"
           }
          ],
          "scatterternary": [
           {
            "marker": {
             "colorbar": {
              "outlinewidth": 0,
              "ticks": ""
             }
            },
            "type": "scatterternary"
           }
          ],
          "surface": [
           {
            "colorbar": {
             "outlinewidth": 0,
             "ticks": ""
            },
            "colorscale": [
             [
              0,
              "#0d0887"
             ],
             [
              0.1111111111111111,
              "#46039f"
             ],
             [
              0.2222222222222222,
              "#7201a8"
             ],
             [
              0.3333333333333333,
              "#9c179e"
             ],
             [
              0.4444444444444444,
              "#bd3786"
             ],
             [
              0.5555555555555556,
              "#d8576b"
             ],
             [
              0.6666666666666666,
              "#ed7953"
             ],
             [
              0.7777777777777778,
              "#fb9f3a"
             ],
             [
              0.8888888888888888,
              "#fdca26"
             ],
             [
              1,
              "#f0f921"
             ]
            ],
            "type": "surface"
           }
          ],
          "table": [
           {
            "cells": {
             "fill": {
              "color": "#EBF0F8"
             },
             "line": {
              "color": "white"
             }
            },
            "header": {
             "fill": {
              "color": "#C8D4E3"
             },
             "line": {
              "color": "white"
             }
            },
            "type": "table"
           }
          ]
         },
         "layout": {
          "annotationdefaults": {
           "arrowcolor": "#2a3f5f",
           "arrowhead": 0,
           "arrowwidth": 1
          },
          "autotypenumbers": "strict",
          "coloraxis": {
           "colorbar": {
            "outlinewidth": 0,
            "ticks": ""
           }
          },
          "colorscale": {
           "diverging": [
            [
             0,
             "#8e0152"
            ],
            [
             0.1,
             "#c51b7d"
            ],
            [
             0.2,
             "#de77ae"
            ],
            [
             0.3,
             "#f1b6da"
            ],
            [
             0.4,
             "#fde0ef"
            ],
            [
             0.5,
             "#f7f7f7"
            ],
            [
             0.6,
             "#e6f5d0"
            ],
            [
             0.7,
             "#b8e186"
            ],
            [
             0.8,
             "#7fbc41"
            ],
            [
             0.9,
             "#4d9221"
            ],
            [
             1,
             "#276419"
            ]
           ],
           "sequential": [
            [
             0,
             "#0d0887"
            ],
            [
             0.1111111111111111,
             "#46039f"
            ],
            [
             0.2222222222222222,
             "#7201a8"
            ],
            [
             0.3333333333333333,
             "#9c179e"
            ],
            [
             0.4444444444444444,
             "#bd3786"
            ],
            [
             0.5555555555555556,
             "#d8576b"
            ],
            [
             0.6666666666666666,
             "#ed7953"
            ],
            [
             0.7777777777777778,
             "#fb9f3a"
            ],
            [
             0.8888888888888888,
             "#fdca26"
            ],
            [
             1,
             "#f0f921"
            ]
           ],
           "sequentialminus": [
            [
             0,
             "#0d0887"
            ],
            [
             0.1111111111111111,
             "#46039f"
            ],
            [
             0.2222222222222222,
             "#7201a8"
            ],
            [
             0.3333333333333333,
             "#9c179e"
            ],
            [
             0.4444444444444444,
             "#bd3786"
            ],
            [
             0.5555555555555556,
             "#d8576b"
            ],
            [
             0.6666666666666666,
             "#ed7953"
            ],
            [
             0.7777777777777778,
             "#fb9f3a"
            ],
            [
             0.8888888888888888,
             "#fdca26"
            ],
            [
             1,
             "#f0f921"
            ]
           ]
          },
          "colorway": [
           "#636efa",
           "#EF553B",
           "#00cc96",
           "#ab63fa",
           "#FFA15A",
           "#19d3f3",
           "#FF6692",
           "#B6E880",
           "#FF97FF",
           "#FECB52"
          ],
          "font": {
           "color": "#2a3f5f"
          },
          "geo": {
           "bgcolor": "white",
           "lakecolor": "white",
           "landcolor": "#E5ECF6",
           "showlakes": true,
           "showland": true,
           "subunitcolor": "white"
          },
          "hoverlabel": {
           "align": "left"
          },
          "hovermode": "closest",
          "mapbox": {
           "style": "light"
          },
          "paper_bgcolor": "white",
          "plot_bgcolor": "#E5ECF6",
          "polar": {
           "angularaxis": {
            "gridcolor": "white",
            "linecolor": "white",
            "ticks": ""
           },
           "bgcolor": "#E5ECF6",
           "radialaxis": {
            "gridcolor": "white",
            "linecolor": "white",
            "ticks": ""
           }
          },
          "scene": {
           "xaxis": {
            "backgroundcolor": "#E5ECF6",
            "gridcolor": "white",
            "gridwidth": 2,
            "linecolor": "white",
            "showbackground": true,
            "ticks": "",
            "zerolinecolor": "white"
           },
           "yaxis": {
            "backgroundcolor": "#E5ECF6",
            "gridcolor": "white",
            "gridwidth": 2,
            "linecolor": "white",
            "showbackground": true,
            "ticks": "",
            "zerolinecolor": "white"
           },
           "zaxis": {
            "backgroundcolor": "#E5ECF6",
            "gridcolor": "white",
            "gridwidth": 2,
            "linecolor": "white",
            "showbackground": true,
            "ticks": "",
            "zerolinecolor": "white"
           }
          },
          "shapedefaults": {
           "line": {
            "color": "#2a3f5f"
           }
          },
          "ternary": {
           "aaxis": {
            "gridcolor": "white",
            "linecolor": "white",
            "ticks": ""
           },
           "baxis": {
            "gridcolor": "white",
            "linecolor": "white",
            "ticks": ""
           },
           "bgcolor": "#E5ECF6",
           "caxis": {
            "gridcolor": "white",
            "linecolor": "white",
            "ticks": ""
           }
          },
          "title": {
           "x": 0.05
          },
          "xaxis": {
           "automargin": true,
           "gridcolor": "white",
           "linecolor": "white",
           "ticks": "",
           "title": {
            "standoff": 15
           },
           "zerolinecolor": "white",
           "zerolinewidth": 2
          },
          "yaxis": {
           "automargin": true,
           "gridcolor": "white",
           "linecolor": "white",
           "ticks": "",
           "title": {
            "standoff": 15
           },
           "zerolinecolor": "white",
           "zerolinewidth": 2
          }
         }
        },
        "title": {
         "text": "Wachstum an E-Ladestationen über die Jahre in Deutschland"
        },
        "xaxis": {
         "anchor": "y",
         "domain": [
          0,
          1
         ],
         "title": {
          "text": "Jahre"
         }
        },
        "yaxis": {
         "anchor": "x",
         "domain": [
          0,
          1
         ],
         "title": {
          "text": "Anzahl der Ladesäulen"
         }
        }
       }
      },
      "text/html": [
       "<div>                            <div id=\"6ad27886-5efa-4a5c-bd79-f84a9dcd1e77\" class=\"plotly-graph-div\" style=\"height:700px; width:100%;\"></div>            <script type=\"text/javascript\">                require([\"plotly\"], function(Plotly) {                    window.PLOTLYENV=window.PLOTLYENV || {};                                    if (document.getElementById(\"6ad27886-5efa-4a5c-bd79-f84a9dcd1e77\")) {                    Plotly.newPlot(                        \"6ad27886-5efa-4a5c-bd79-f84a9dcd1e77\",                        [{\"alignmentgroup\":\"True\",\"hovertemplate\":\"year=%{x}<br>count=%{marker.color}<extra></extra>\",\"legendgroup\":\"\",\"marker\":{\"color\":[1,1,2,1,52,70,198,181,128,250,520,1128,1883,3781,4809,5563,7867,9157,1178],\"coloraxis\":\"coloraxis\",\"pattern\":{\"shape\":\"\"}},\"name\":\"\",\"offsetgroup\":\"\",\"orientation\":\"v\",\"showlegend\":false,\"textposition\":\"auto\",\"x\":[1992,2001,2007,2008,2009,2010,2011,2012,2013,2014,2015,2016,2017,2018,2019,2020,2021,2022,2023],\"xaxis\":\"x\",\"y\":[1,1,2,1,52,70,198,181,128,250,520,1128,1883,3781,4809,5563,7867,9157,1178],\"yaxis\":\"y\",\"type\":\"bar\"}],                        {\"template\":{\"data\":{\"histogram2dcontour\":[{\"type\":\"histogram2dcontour\",\"colorbar\":{\"outlinewidth\":0,\"ticks\":\"\"},\"colorscale\":[[0.0,\"#0d0887\"],[0.1111111111111111,\"#46039f\"],[0.2222222222222222,\"#7201a8\"],[0.3333333333333333,\"#9c179e\"],[0.4444444444444444,\"#bd3786\"],[0.5555555555555556,\"#d8576b\"],[0.6666666666666666,\"#ed7953\"],[0.7777777777777778,\"#fb9f3a\"],[0.8888888888888888,\"#fdca26\"],[1.0,\"#f0f921\"]]}],\"choropleth\":[{\"type\":\"choropleth\",\"colorbar\":{\"outlinewidth\":0,\"ticks\":\"\"}}],\"histogram2d\":[{\"type\":\"histogram2d\",\"colorbar\":{\"outlinewidth\":0,\"ticks\":\"\"},\"colorscale\":[[0.0,\"#0d0887\"],[0.1111111111111111,\"#46039f\"],[0.2222222222222222,\"#7201a8\"],[0.3333333333333333,\"#9c179e\"],[0.4444444444444444,\"#bd3786\"],[0.5555555555555556,\"#d8576b\"],[0.6666666666666666,\"#ed7953\"],[0.7777777777777778,\"#fb9f3a\"],[0.8888888888888888,\"#fdca26\"],[1.0,\"#f0f921\"]]}],\"heatmap\":[{\"type\":\"heatmap\",\"colorbar\":{\"outlinewidth\":0,\"ticks\":\"\"},\"colorscale\":[[0.0,\"#0d0887\"],[0.1111111111111111,\"#46039f\"],[0.2222222222222222,\"#7201a8\"],[0.3333333333333333,\"#9c179e\"],[0.4444444444444444,\"#bd3786\"],[0.5555555555555556,\"#d8576b\"],[0.6666666666666666,\"#ed7953\"],[0.7777777777777778,\"#fb9f3a\"],[0.8888888888888888,\"#fdca26\"],[1.0,\"#f0f921\"]]}],\"heatmapgl\":[{\"type\":\"heatmapgl\",\"colorbar\":{\"outlinewidth\":0,\"ticks\":\"\"},\"colorscale\":[[0.0,\"#0d0887\"],[0.1111111111111111,\"#46039f\"],[0.2222222222222222,\"#7201a8\"],[0.3333333333333333,\"#9c179e\"],[0.4444444444444444,\"#bd3786\"],[0.5555555555555556,\"#d8576b\"],[0.6666666666666666,\"#ed7953\"],[0.7777777777777778,\"#fb9f3a\"],[0.8888888888888888,\"#fdca26\"],[1.0,\"#f0f921\"]]}],\"contourcarpet\":[{\"type\":\"contourcarpet\",\"colorbar\":{\"outlinewidth\":0,\"ticks\":\"\"}}],\"contour\":[{\"type\":\"contour\",\"colorbar\":{\"outlinewidth\":0,\"ticks\":\"\"},\"colorscale\":[[0.0,\"#0d0887\"],[0.1111111111111111,\"#46039f\"],[0.2222222222222222,\"#7201a8\"],[0.3333333333333333,\"#9c179e\"],[0.4444444444444444,\"#bd3786\"],[0.5555555555555556,\"#d8576b\"],[0.6666666666666666,\"#ed7953\"],[0.7777777777777778,\"#fb9f3a\"],[0.8888888888888888,\"#fdca26\"],[1.0,\"#f0f921\"]]}],\"surface\":[{\"type\":\"surface\",\"colorbar\":{\"outlinewidth\":0,\"ticks\":\"\"},\"colorscale\":[[0.0,\"#0d0887\"],[0.1111111111111111,\"#46039f\"],[0.2222222222222222,\"#7201a8\"],[0.3333333333333333,\"#9c179e\"],[0.4444444444444444,\"#bd3786\"],[0.5555555555555556,\"#d8576b\"],[0.6666666666666666,\"#ed7953\"],[0.7777777777777778,\"#fb9f3a\"],[0.8888888888888888,\"#fdca26\"],[1.0,\"#f0f921\"]]}],\"mesh3d\":[{\"type\":\"mesh3d\",\"colorbar\":{\"outlinewidth\":0,\"ticks\":\"\"}}],\"scatter\":[{\"fillpattern\":{\"fillmode\":\"overlay\",\"size\":10,\"solidity\":0.2},\"type\":\"scatter\"}],\"parcoords\":[{\"type\":\"parcoords\",\"line\":{\"colorbar\":{\"outlinewidth\":0,\"ticks\":\"\"}}}],\"scatterpolargl\":[{\"type\":\"scatterpolargl\",\"marker\":{\"colorbar\":{\"outlinewidth\":0,\"ticks\":\"\"}}}],\"bar\":[{\"error_x\":{\"color\":\"#2a3f5f\"},\"error_y\":{\"color\":\"#2a3f5f\"},\"marker\":{\"line\":{\"color\":\"#E5ECF6\",\"width\":0.5},\"pattern\":{\"fillmode\":\"overlay\",\"size\":10,\"solidity\":0.2}},\"type\":\"bar\"}],\"scattergeo\":[{\"type\":\"scattergeo\",\"marker\":{\"colorbar\":{\"outlinewidth\":0,\"ticks\":\"\"}}}],\"scatterpolar\":[{\"type\":\"scatterpolar\",\"marker\":{\"colorbar\":{\"outlinewidth\":0,\"ticks\":\"\"}}}],\"histogram\":[{\"marker\":{\"pattern\":{\"fillmode\":\"overlay\",\"size\":10,\"solidity\":0.2}},\"type\":\"histogram\"}],\"scattergl\":[{\"type\":\"scattergl\",\"marker\":{\"colorbar\":{\"outlinewidth\":0,\"ticks\":\"\"}}}],\"scatter3d\":[{\"type\":\"scatter3d\",\"line\":{\"colorbar\":{\"outlinewidth\":0,\"ticks\":\"\"}},\"marker\":{\"colorbar\":{\"outlinewidth\":0,\"ticks\":\"\"}}}],\"scattermapbox\":[{\"type\":\"scattermapbox\",\"marker\":{\"colorbar\":{\"outlinewidth\":0,\"ticks\":\"\"}}}],\"scatterternary\":[{\"type\":\"scatterternary\",\"marker\":{\"colorbar\":{\"outlinewidth\":0,\"ticks\":\"\"}}}],\"scattercarpet\":[{\"type\":\"scattercarpet\",\"marker\":{\"colorbar\":{\"outlinewidth\":0,\"ticks\":\"\"}}}],\"carpet\":[{\"aaxis\":{\"endlinecolor\":\"#2a3f5f\",\"gridcolor\":\"white\",\"linecolor\":\"white\",\"minorgridcolor\":\"white\",\"startlinecolor\":\"#2a3f5f\"},\"baxis\":{\"endlinecolor\":\"#2a3f5f\",\"gridcolor\":\"white\",\"linecolor\":\"white\",\"minorgridcolor\":\"white\",\"startlinecolor\":\"#2a3f5f\"},\"type\":\"carpet\"}],\"table\":[{\"cells\":{\"fill\":{\"color\":\"#EBF0F8\"},\"line\":{\"color\":\"white\"}},\"header\":{\"fill\":{\"color\":\"#C8D4E3\"},\"line\":{\"color\":\"white\"}},\"type\":\"table\"}],\"barpolar\":[{\"marker\":{\"line\":{\"color\":\"#E5ECF6\",\"width\":0.5},\"pattern\":{\"fillmode\":\"overlay\",\"size\":10,\"solidity\":0.2}},\"type\":\"barpolar\"}],\"pie\":[{\"automargin\":true,\"type\":\"pie\"}]},\"layout\":{\"autotypenumbers\":\"strict\",\"colorway\":[\"#636efa\",\"#EF553B\",\"#00cc96\",\"#ab63fa\",\"#FFA15A\",\"#19d3f3\",\"#FF6692\",\"#B6E880\",\"#FF97FF\",\"#FECB52\"],\"font\":{\"color\":\"#2a3f5f\"},\"hovermode\":\"closest\",\"hoverlabel\":{\"align\":\"left\"},\"paper_bgcolor\":\"white\",\"plot_bgcolor\":\"#E5ECF6\",\"polar\":{\"bgcolor\":\"#E5ECF6\",\"angularaxis\":{\"gridcolor\":\"white\",\"linecolor\":\"white\",\"ticks\":\"\"},\"radialaxis\":{\"gridcolor\":\"white\",\"linecolor\":\"white\",\"ticks\":\"\"}},\"ternary\":{\"bgcolor\":\"#E5ECF6\",\"aaxis\":{\"gridcolor\":\"white\",\"linecolor\":\"white\",\"ticks\":\"\"},\"baxis\":{\"gridcolor\":\"white\",\"linecolor\":\"white\",\"ticks\":\"\"},\"caxis\":{\"gridcolor\":\"white\",\"linecolor\":\"white\",\"ticks\":\"\"}},\"coloraxis\":{\"colorbar\":{\"outlinewidth\":0,\"ticks\":\"\"}},\"colorscale\":{\"sequential\":[[0.0,\"#0d0887\"],[0.1111111111111111,\"#46039f\"],[0.2222222222222222,\"#7201a8\"],[0.3333333333333333,\"#9c179e\"],[0.4444444444444444,\"#bd3786\"],[0.5555555555555556,\"#d8576b\"],[0.6666666666666666,\"#ed7953\"],[0.7777777777777778,\"#fb9f3a\"],[0.8888888888888888,\"#fdca26\"],[1.0,\"#f0f921\"]],\"sequentialminus\":[[0.0,\"#0d0887\"],[0.1111111111111111,\"#46039f\"],[0.2222222222222222,\"#7201a8\"],[0.3333333333333333,\"#9c179e\"],[0.4444444444444444,\"#bd3786\"],[0.5555555555555556,\"#d8576b\"],[0.6666666666666666,\"#ed7953\"],[0.7777777777777778,\"#fb9f3a\"],[0.8888888888888888,\"#fdca26\"],[1.0,\"#f0f921\"]],\"diverging\":[[0,\"#8e0152\"],[0.1,\"#c51b7d\"],[0.2,\"#de77ae\"],[0.3,\"#f1b6da\"],[0.4,\"#fde0ef\"],[0.5,\"#f7f7f7\"],[0.6,\"#e6f5d0\"],[0.7,\"#b8e186\"],[0.8,\"#7fbc41\"],[0.9,\"#4d9221\"],[1,\"#276419\"]]},\"xaxis\":{\"gridcolor\":\"white\",\"linecolor\":\"white\",\"ticks\":\"\",\"title\":{\"standoff\":15},\"zerolinecolor\":\"white\",\"automargin\":true,\"zerolinewidth\":2},\"yaxis\":{\"gridcolor\":\"white\",\"linecolor\":\"white\",\"ticks\":\"\",\"title\":{\"standoff\":15},\"zerolinecolor\":\"white\",\"automargin\":true,\"zerolinewidth\":2},\"scene\":{\"xaxis\":{\"backgroundcolor\":\"#E5ECF6\",\"gridcolor\":\"white\",\"linecolor\":\"white\",\"showbackground\":true,\"ticks\":\"\",\"zerolinecolor\":\"white\",\"gridwidth\":2},\"yaxis\":{\"backgroundcolor\":\"#E5ECF6\",\"gridcolor\":\"white\",\"linecolor\":\"white\",\"showbackground\":true,\"ticks\":\"\",\"zerolinecolor\":\"white\",\"gridwidth\":2},\"zaxis\":{\"backgroundcolor\":\"#E5ECF6\",\"gridcolor\":\"white\",\"linecolor\":\"white\",\"showbackground\":true,\"ticks\":\"\",\"zerolinecolor\":\"white\",\"gridwidth\":2}},\"shapedefaults\":{\"line\":{\"color\":\"#2a3f5f\"}},\"annotationdefaults\":{\"arrowcolor\":\"#2a3f5f\",\"arrowhead\":0,\"arrowwidth\":1},\"geo\":{\"bgcolor\":\"white\",\"landcolor\":\"#E5ECF6\",\"subunitcolor\":\"white\",\"showland\":true,\"showlakes\":true,\"lakecolor\":\"white\"},\"title\":{\"x\":0.05},\"mapbox\":{\"style\":\"light\"}}},\"xaxis\":{\"anchor\":\"y\",\"domain\":[0.0,1.0],\"title\":{\"text\":\"Jahre\"}},\"yaxis\":{\"anchor\":\"x\",\"domain\":[0.0,1.0],\"title\":{\"text\":\"Anzahl der Lades\\u00e4ulen\"}},\"coloraxis\":{\"colorbar\":{\"title\":{\"text\":\"count\"}},\"colorscale\":[[0.0,\"#0d0887\"],[0.1111111111111111,\"#46039f\"],[0.2222222222222222,\"#7201a8\"],[0.3333333333333333,\"#9c179e\"],[0.4444444444444444,\"#bd3786\"],[0.5555555555555556,\"#d8576b\"],[0.6666666666666666,\"#ed7953\"],[0.7777777777777778,\"#fb9f3a\"],[0.8888888888888888,\"#fdca26\"],[1.0,\"#f0f921\"]]},\"legend\":{\"tracegroupgap\":0},\"title\":{\"text\":\"Wachstum an E-Ladestationen \\u00fcber die Jahre in Deutschland\"},\"barmode\":\"relative\",\"height\":700},                        {\"responsive\": true}                    ).then(function(){\n",
       "                            \n",
       "var gd = document.getElementById('6ad27886-5efa-4a5c-bd79-f84a9dcd1e77');\n",
       "var x = new MutationObserver(function (mutations, observer) {{\n",
       "        var display = window.getComputedStyle(gd).display;\n",
       "        if (!display || display === 'none') {{\n",
       "            console.log([gd, 'removed!']);\n",
       "            Plotly.purge(gd);\n",
       "            observer.disconnect();\n",
       "        }}\n",
       "}});\n",
       "\n",
       "// Listen for the removal of the full notebook cells\n",
       "var notebookContainer = gd.closest('#notebook-container');\n",
       "if (notebookContainer) {{\n",
       "    x.observe(notebookContainer, {childList: true});\n",
       "}}\n",
       "\n",
       "// Listen for the clearing of the current output cell\n",
       "var outputEl = gd.closest('.output');\n",
       "if (outputEl) {{\n",
       "    x.observe(outputEl, {childList: true});\n",
       "}}\n",
       "\n",
       "                        })                };                });            </script>        </div>"
      ]
     },
     "metadata": {},
     "output_type": "display_data"
    }
   ],
   "source": [
    "fig = px.bar(year_group,\n",
    "            x='year',\n",
    "            y='count',\n",
    "            title='Wachstum an E-Ladestationen über die Jahre in Deutschland',\n",
    "            color='count',\n",
    "            height = 700)\n",
    "fig.update_layout(xaxis_title='Jahre', yaxis_title='Anzahl der Ladesäulen')\n",
    "fig.show()"
   ]
  },
  {
   "cell_type": "markdown",
   "id": "deb522ff",
   "metadata": {},
   "source": [
    "### EnBW vs. Konkurrenz"
   ]
  },
  {
   "cell_type": "code",
   "execution_count": 116,
   "id": "730c3c84",
   "metadata": {},
   "outputs": [],
   "source": [
    "monthly_betreiber_data = ds.groupby(['year', 'month', 'betreiber']).size().sort_values(ascending=False) .reset_index(name='count')\n",
    "monthly_betreiber_data['date'] = pd.to_datetime(dict(year = monthly_betreiber_data.year, month = monthly_betreiber_data.month, day=1))"
   ]
  },
  {
   "cell_type": "code",
   "execution_count": 117,
   "id": "8cf665c9",
   "metadata": {},
   "outputs": [],
   "source": [
    "konkurrenz_betreiber = betreiber_group['betreiber'].head(4).values"
   ]
  },
  {
   "cell_type": "code",
   "execution_count": 118,
   "id": "c2b4fbc6",
   "metadata": {},
   "outputs": [
    {
     "data": {
      "text/plain": [
       "array(['E.ON Drive GmbH', 'EnBW mobility+ AG und Co.KG', 'EWE Go GmbH',\n",
       "       'Mercedes-Benz AG'], dtype=object)"
      ]
     },
     "execution_count": 118,
     "metadata": {},
     "output_type": "execute_result"
    }
   ],
   "source": [
    "konkurrenz_betreiber"
   ]
  },
  {
   "cell_type": "code",
   "execution_count": 119,
   "id": "acd2dfb5",
   "metadata": {},
   "outputs": [],
   "source": [
    "monthly_betreiber_data = monthly_betreiber_data[monthly_betreiber_data['betreiber'].isin(konkurrenz_betreiber)]\n",
    "monthly_betreiber_data.sort_values(by='date', inplace = True) "
   ]
  },
  {
   "cell_type": "code",
   "execution_count": 120,
   "id": "4fb516f3",
   "metadata": {},
   "outputs": [
    {
     "data": {
      "application/vnd.plotly.v1+json": {
       "config": {
        "plotlyServerURL": "https://plot.ly"
       },
       "data": [
        {
         "hovertemplate": "Betreiber=EWE Go GmbH<br>date=%{x}<br>count=%{y}<extra></extra>",
         "legendgroup": "EWE Go GmbH",
         "line": {
          "color": "#636efa",
          "dash": "solid"
         },
         "marker": {
          "symbol": "circle"
         },
         "mode": "lines",
         "name": "EWE Go GmbH",
         "orientation": "v",
         "showlegend": true,
         "type": "scatter",
         "x": [
          "2011-03-01T00:00:00",
          "2011-04-01T00:00:00",
          "2011-06-01T00:00:00",
          "2011-09-01T00:00:00",
          "2012-04-01T00:00:00",
          "2013-02-01T00:00:00",
          "2013-12-01T00:00:00",
          "2014-02-01T00:00:00",
          "2014-03-01T00:00:00",
          "2015-03-01T00:00:00",
          "2015-04-01T00:00:00",
          "2015-05-01T00:00:00",
          "2015-06-01T00:00:00",
          "2015-07-01T00:00:00",
          "2015-09-01T00:00:00",
          "2015-11-01T00:00:00",
          "2015-12-01T00:00:00",
          "2016-01-01T00:00:00",
          "2016-02-01T00:00:00",
          "2016-03-01T00:00:00",
          "2016-04-01T00:00:00",
          "2016-05-01T00:00:00",
          "2016-06-01T00:00:00",
          "2016-07-01T00:00:00",
          "2016-08-01T00:00:00",
          "2016-09-01T00:00:00",
          "2016-10-01T00:00:00",
          "2016-11-01T00:00:00",
          "2016-12-01T00:00:00",
          "2017-01-01T00:00:00",
          "2017-02-01T00:00:00",
          "2017-03-01T00:00:00",
          "2017-04-01T00:00:00",
          "2017-05-01T00:00:00",
          "2017-06-01T00:00:00",
          "2017-07-01T00:00:00",
          "2017-08-01T00:00:00",
          "2017-09-01T00:00:00",
          "2017-10-01T00:00:00",
          "2017-11-01T00:00:00",
          "2017-12-01T00:00:00",
          "2018-01-01T00:00:00",
          "2018-02-01T00:00:00",
          "2018-03-01T00:00:00",
          "2018-04-01T00:00:00",
          "2018-05-01T00:00:00",
          "2018-06-01T00:00:00",
          "2018-07-01T00:00:00",
          "2018-08-01T00:00:00",
          "2018-09-01T00:00:00",
          "2018-10-01T00:00:00",
          "2018-11-01T00:00:00",
          "2018-12-01T00:00:00",
          "2019-01-01T00:00:00",
          "2019-02-01T00:00:00",
          "2019-03-01T00:00:00",
          "2019-04-01T00:00:00",
          "2019-05-01T00:00:00",
          "2019-06-01T00:00:00",
          "2019-07-01T00:00:00",
          "2019-08-01T00:00:00",
          "2019-09-01T00:00:00",
          "2019-10-01T00:00:00",
          "2019-11-01T00:00:00",
          "2019-12-01T00:00:00",
          "2020-01-01T00:00:00",
          "2020-02-01T00:00:00",
          "2020-03-01T00:00:00",
          "2020-04-01T00:00:00",
          "2020-05-01T00:00:00",
          "2020-06-01T00:00:00",
          "2020-07-01T00:00:00",
          "2020-08-01T00:00:00",
          "2020-09-01T00:00:00",
          "2020-10-01T00:00:00",
          "2020-11-01T00:00:00",
          "2020-12-01T00:00:00",
          "2021-01-01T00:00:00",
          "2021-02-01T00:00:00",
          "2021-03-01T00:00:00",
          "2021-04-01T00:00:00",
          "2021-05-01T00:00:00",
          "2021-06-01T00:00:00",
          "2021-07-01T00:00:00",
          "2021-08-01T00:00:00",
          "2021-09-01T00:00:00",
          "2021-10-01T00:00:00",
          "2021-11-01T00:00:00",
          "2021-12-01T00:00:00",
          "2022-01-01T00:00:00",
          "2022-02-01T00:00:00",
          "2022-03-01T00:00:00",
          "2022-04-01T00:00:00",
          "2022-05-01T00:00:00",
          "2022-06-01T00:00:00",
          "2022-07-01T00:00:00",
          "2022-08-01T00:00:00",
          "2022-09-01T00:00:00",
          "2022-10-01T00:00:00",
          "2022-11-01T00:00:00",
          "2022-12-01T00:00:00",
          "2023-01-01T00:00:00",
          "2023-02-01T00:00:00"
         ],
         "xaxis": "x",
         "y": [
          18,
          3,
          1,
          1,
          1,
          1,
          1,
          1,
          2,
          1,
          1,
          2,
          1,
          2,
          3,
          2,
          9,
          4,
          1,
          3,
          6,
          2,
          3,
          2,
          7,
          1,
          4,
          5,
          3,
          1,
          2,
          11,
          27,
          8,
          20,
          8,
          12,
          17,
          5,
          12,
          7,
          5,
          2,
          6,
          5,
          10,
          2,
          18,
          11,
          9,
          13,
          4,
          16,
          4,
          18,
          12,
          17,
          24,
          10,
          14,
          6,
          10,
          13,
          8,
          6,
          4,
          5,
          5,
          11,
          4,
          5,
          14,
          5,
          3,
          10,
          1,
          3,
          2,
          2,
          2,
          3,
          3,
          4,
          7,
          10,
          7,
          11,
          7,
          18,
          6,
          21,
          24,
          30,
          22,
          29,
          22,
          27,
          17,
          21,
          16,
          10,
          15,
          24
         ],
         "yaxis": "y"
        },
        {
         "hovertemplate": "Betreiber=EnBW mobility+ AG und Co.KG<br>date=%{x}<br>count=%{y}<extra></extra>",
         "legendgroup": "EnBW mobility+ AG und Co.KG",
         "line": {
          "color": "#EF553B",
          "dash": "solid"
         },
         "marker": {
          "symbol": "circle"
         },
         "mode": "lines",
         "name": "EnBW mobility+ AG und Co.KG",
         "orientation": "v",
         "showlegend": true,
         "type": "scatter",
         "x": [
          "2012-06-01T00:00:00",
          "2016-03-01T00:00:00",
          "2016-04-01T00:00:00",
          "2016-05-01T00:00:00",
          "2016-08-01T00:00:00",
          "2016-11-01T00:00:00",
          "2016-12-01T00:00:00",
          "2017-01-01T00:00:00",
          "2017-02-01T00:00:00",
          "2017-03-01T00:00:00",
          "2017-06-01T00:00:00",
          "2017-07-01T00:00:00",
          "2017-08-01T00:00:00",
          "2017-09-01T00:00:00",
          "2017-10-01T00:00:00",
          "2017-11-01T00:00:00",
          "2017-12-01T00:00:00",
          "2018-01-01T00:00:00",
          "2018-02-01T00:00:00",
          "2018-03-01T00:00:00",
          "2018-04-01T00:00:00",
          "2018-05-01T00:00:00",
          "2018-06-01T00:00:00",
          "2018-07-01T00:00:00",
          "2018-08-01T00:00:00",
          "2018-09-01T00:00:00",
          "2018-10-01T00:00:00",
          "2018-11-01T00:00:00",
          "2018-12-01T00:00:00",
          "2019-01-01T00:00:00",
          "2019-02-01T00:00:00",
          "2019-03-01T00:00:00",
          "2019-04-01T00:00:00",
          "2019-05-01T00:00:00",
          "2019-06-01T00:00:00",
          "2019-07-01T00:00:00",
          "2019-08-01T00:00:00",
          "2019-09-01T00:00:00",
          "2019-10-01T00:00:00",
          "2019-11-01T00:00:00",
          "2019-12-01T00:00:00",
          "2020-01-01T00:00:00",
          "2020-02-01T00:00:00",
          "2020-03-01T00:00:00",
          "2020-04-01T00:00:00",
          "2020-05-01T00:00:00",
          "2020-06-01T00:00:00",
          "2020-07-01T00:00:00",
          "2020-08-01T00:00:00",
          "2020-09-01T00:00:00",
          "2020-10-01T00:00:00",
          "2020-11-01T00:00:00",
          "2020-12-01T00:00:00",
          "2021-01-01T00:00:00",
          "2021-02-01T00:00:00",
          "2021-03-01T00:00:00",
          "2021-04-01T00:00:00",
          "2021-05-01T00:00:00",
          "2021-06-01T00:00:00",
          "2021-07-01T00:00:00",
          "2021-08-01T00:00:00",
          "2021-09-01T00:00:00",
          "2021-10-01T00:00:00",
          "2021-11-01T00:00:00",
          "2021-12-01T00:00:00",
          "2022-01-01T00:00:00",
          "2022-02-01T00:00:00",
          "2022-03-01T00:00:00",
          "2022-04-01T00:00:00",
          "2022-05-01T00:00:00",
          "2022-06-01T00:00:00",
          "2022-07-01T00:00:00",
          "2022-08-01T00:00:00",
          "2022-09-01T00:00:00",
          "2022-10-01T00:00:00",
          "2022-11-01T00:00:00",
          "2022-12-01T00:00:00",
          "2023-01-01T00:00:00",
          "2023-02-01T00:00:00"
         ],
         "xaxis": "x",
         "y": [
          2,
          1,
          1,
          2,
          1,
          4,
          27,
          3,
          1,
          1,
          6,
          13,
          24,
          17,
          14,
          9,
          16,
          4,
          10,
          7,
          18,
          24,
          31,
          24,
          15,
          18,
          7,
          39,
          59,
          12,
          11,
          19,
          15,
          29,
          22,
          35,
          32,
          87,
          32,
          42,
          52,
          11,
          10,
          63,
          43,
          26,
          16,
          40,
          40,
          45,
          28,
          71,
          79,
          19,
          16,
          31,
          41,
          28,
          28,
          59,
          8,
          42,
          27,
          18,
          45,
          9,
          18,
          19,
          15,
          18,
          10,
          41,
          30,
          32,
          20,
          25,
          78,
          40,
          31
         ],
         "yaxis": "y"
        },
        {
         "hovertemplate": "Betreiber=E.ON Drive GmbH<br>date=%{x}<br>count=%{y}<extra></extra>",
         "legendgroup": "E.ON Drive GmbH",
         "line": {
          "color": "#00cc96",
          "dash": "solid"
         },
         "marker": {
          "symbol": "circle"
         },
         "mode": "lines",
         "name": "E.ON Drive GmbH",
         "orientation": "v",
         "showlegend": true,
         "type": "scatter",
         "x": [
          "2015-12-01T00:00:00",
          "2016-02-01T00:00:00",
          "2016-03-01T00:00:00",
          "2016-04-01T00:00:00",
          "2016-05-01T00:00:00",
          "2016-07-01T00:00:00",
          "2016-08-01T00:00:00",
          "2016-10-01T00:00:00",
          "2016-11-01T00:00:00",
          "2016-12-01T00:00:00",
          "2017-01-01T00:00:00",
          "2017-03-01T00:00:00",
          "2017-04-01T00:00:00",
          "2017-05-01T00:00:00",
          "2017-06-01T00:00:00",
          "2017-07-01T00:00:00",
          "2017-08-01T00:00:00",
          "2017-09-01T00:00:00",
          "2017-10-01T00:00:00",
          "2017-11-01T00:00:00",
          "2017-12-01T00:00:00",
          "2018-01-01T00:00:00",
          "2018-02-01T00:00:00",
          "2018-03-01T00:00:00",
          "2018-04-01T00:00:00",
          "2018-05-01T00:00:00",
          "2018-06-01T00:00:00",
          "2018-07-01T00:00:00",
          "2018-08-01T00:00:00",
          "2018-09-01T00:00:00",
          "2018-10-01T00:00:00",
          "2018-11-01T00:00:00",
          "2018-12-01T00:00:00",
          "2019-01-01T00:00:00",
          "2019-02-01T00:00:00",
          "2019-03-01T00:00:00",
          "2019-04-01T00:00:00",
          "2019-05-01T00:00:00",
          "2019-06-01T00:00:00",
          "2019-07-01T00:00:00",
          "2019-08-01T00:00:00",
          "2019-09-01T00:00:00",
          "2019-10-01T00:00:00",
          "2019-11-01T00:00:00",
          "2019-12-01T00:00:00",
          "2020-01-01T00:00:00",
          "2020-02-01T00:00:00",
          "2020-03-01T00:00:00",
          "2020-04-01T00:00:00",
          "2020-05-01T00:00:00",
          "2020-06-01T00:00:00",
          "2020-07-01T00:00:00",
          "2020-08-01T00:00:00",
          "2020-09-01T00:00:00",
          "2020-10-01T00:00:00",
          "2020-11-01T00:00:00",
          "2020-12-01T00:00:00",
          "2021-01-01T00:00:00",
          "2021-02-01T00:00:00",
          "2021-03-01T00:00:00",
          "2021-04-01T00:00:00",
          "2021-05-01T00:00:00",
          "2021-06-01T00:00:00",
          "2021-07-01T00:00:00",
          "2021-08-01T00:00:00",
          "2021-09-01T00:00:00",
          "2021-10-01T00:00:00",
          "2021-11-01T00:00:00",
          "2021-12-01T00:00:00",
          "2022-01-01T00:00:00",
          "2022-02-01T00:00:00",
          "2022-03-01T00:00:00",
          "2022-04-01T00:00:00",
          "2022-05-01T00:00:00",
          "2022-06-01T00:00:00",
          "2022-07-01T00:00:00",
          "2022-08-01T00:00:00",
          "2022-09-01T00:00:00",
          "2022-10-01T00:00:00",
          "2022-11-01T00:00:00",
          "2022-12-01T00:00:00"
         ],
         "xaxis": "x",
         "y": [
          3,
          1,
          2,
          1,
          1,
          10,
          4,
          2,
          2,
          14,
          16,
          3,
          5,
          2,
          10,
          22,
          29,
          16,
          11,
          8,
          11,
          11,
          11,
          13,
          13,
          28,
          12,
          12,
          18,
          27,
          11,
          5,
          8,
          16,
          8,
          12,
          9,
          8,
          13,
          18,
          16,
          13,
          7,
          9,
          20,
          2,
          5,
          5,
          12,
          5,
          3,
          58,
          133,
          112,
          208,
          62,
          68,
          42,
          237,
          91,
          74,
          48,
          135,
          10,
          6,
          54,
          27,
          16,
          44,
          1,
          10,
          117,
          11,
          6,
          12,
          8,
          10,
          8,
          10,
          6,
          7
         ],
         "yaxis": "y"
        },
        {
         "hovertemplate": "Betreiber=Mercedes-Benz AG<br>date=%{x}<br>count=%{y}<extra></extra>",
         "legendgroup": "Mercedes-Benz AG",
         "line": {
          "color": "#ab63fa",
          "dash": "solid"
         },
         "marker": {
          "symbol": "circle"
         },
         "mode": "lines",
         "name": "Mercedes-Benz AG",
         "orientation": "v",
         "showlegend": true,
         "type": "scatter",
         "x": [
          "2018-12-01T00:00:00",
          "2019-02-01T00:00:00",
          "2019-12-01T00:00:00",
          "2020-01-01T00:00:00",
          "2020-05-01T00:00:00",
          "2020-06-01T00:00:00",
          "2021-01-01T00:00:00",
          "2021-02-01T00:00:00",
          "2021-03-01T00:00:00",
          "2021-04-01T00:00:00",
          "2021-05-01T00:00:00",
          "2021-07-01T00:00:00",
          "2021-10-01T00:00:00",
          "2021-12-01T00:00:00",
          "2022-01-01T00:00:00",
          "2022-03-01T00:00:00",
          "2022-04-01T00:00:00",
          "2022-05-01T00:00:00",
          "2022-06-01T00:00:00",
          "2022-07-01T00:00:00",
          "2022-08-01T00:00:00",
          "2022-09-01T00:00:00",
          "2022-10-01T00:00:00",
          "2022-11-01T00:00:00",
          "2022-12-01T00:00:00",
          "2023-01-01T00:00:00"
         ],
         "xaxis": "x",
         "y": [
          1,
          2,
          21,
          8,
          16,
          3,
          1,
          70,
          26,
          6,
          3,
          26,
          2,
          9,
          17,
          10,
          3,
          32,
          54,
          24,
          62,
          3,
          35,
          74,
          244,
          73
         ],
         "yaxis": "y"
        }
       ],
       "layout": {
        "height": 700,
        "legend": {
         "title": {
          "text": "Betreiber"
         },
         "tracegroupgap": 0
        },
        "template": {
         "data": {
          "bar": [
           {
            "error_x": {
             "color": "#2a3f5f"
            },
            "error_y": {
             "color": "#2a3f5f"
            },
            "marker": {
             "line": {
              "color": "#E5ECF6",
              "width": 0.5
             },
             "pattern": {
              "fillmode": "overlay",
              "size": 10,
              "solidity": 0.2
             }
            },
            "type": "bar"
           }
          ],
          "barpolar": [
           {
            "marker": {
             "line": {
              "color": "#E5ECF6",
              "width": 0.5
             },
             "pattern": {
              "fillmode": "overlay",
              "size": 10,
              "solidity": 0.2
             }
            },
            "type": "barpolar"
           }
          ],
          "carpet": [
           {
            "aaxis": {
             "endlinecolor": "#2a3f5f",
             "gridcolor": "white",
             "linecolor": "white",
             "minorgridcolor": "white",
             "startlinecolor": "#2a3f5f"
            },
            "baxis": {
             "endlinecolor": "#2a3f5f",
             "gridcolor": "white",
             "linecolor": "white",
             "minorgridcolor": "white",
             "startlinecolor": "#2a3f5f"
            },
            "type": "carpet"
           }
          ],
          "choropleth": [
           {
            "colorbar": {
             "outlinewidth": 0,
             "ticks": ""
            },
            "type": "choropleth"
           }
          ],
          "contour": [
           {
            "colorbar": {
             "outlinewidth": 0,
             "ticks": ""
            },
            "colorscale": [
             [
              0,
              "#0d0887"
             ],
             [
              0.1111111111111111,
              "#46039f"
             ],
             [
              0.2222222222222222,
              "#7201a8"
             ],
             [
              0.3333333333333333,
              "#9c179e"
             ],
             [
              0.4444444444444444,
              "#bd3786"
             ],
             [
              0.5555555555555556,
              "#d8576b"
             ],
             [
              0.6666666666666666,
              "#ed7953"
             ],
             [
              0.7777777777777778,
              "#fb9f3a"
             ],
             [
              0.8888888888888888,
              "#fdca26"
             ],
             [
              1,
              "#f0f921"
             ]
            ],
            "type": "contour"
           }
          ],
          "contourcarpet": [
           {
            "colorbar": {
             "outlinewidth": 0,
             "ticks": ""
            },
            "type": "contourcarpet"
           }
          ],
          "heatmap": [
           {
            "colorbar": {
             "outlinewidth": 0,
             "ticks": ""
            },
            "colorscale": [
             [
              0,
              "#0d0887"
             ],
             [
              0.1111111111111111,
              "#46039f"
             ],
             [
              0.2222222222222222,
              "#7201a8"
             ],
             [
              0.3333333333333333,
              "#9c179e"
             ],
             [
              0.4444444444444444,
              "#bd3786"
             ],
             [
              0.5555555555555556,
              "#d8576b"
             ],
             [
              0.6666666666666666,
              "#ed7953"
             ],
             [
              0.7777777777777778,
              "#fb9f3a"
             ],
             [
              0.8888888888888888,
              "#fdca26"
             ],
             [
              1,
              "#f0f921"
             ]
            ],
            "type": "heatmap"
           }
          ],
          "heatmapgl": [
           {
            "colorbar": {
             "outlinewidth": 0,
             "ticks": ""
            },
            "colorscale": [
             [
              0,
              "#0d0887"
             ],
             [
              0.1111111111111111,
              "#46039f"
             ],
             [
              0.2222222222222222,
              "#7201a8"
             ],
             [
              0.3333333333333333,
              "#9c179e"
             ],
             [
              0.4444444444444444,
              "#bd3786"
             ],
             [
              0.5555555555555556,
              "#d8576b"
             ],
             [
              0.6666666666666666,
              "#ed7953"
             ],
             [
              0.7777777777777778,
              "#fb9f3a"
             ],
             [
              0.8888888888888888,
              "#fdca26"
             ],
             [
              1,
              "#f0f921"
             ]
            ],
            "type": "heatmapgl"
           }
          ],
          "histogram": [
           {
            "marker": {
             "pattern": {
              "fillmode": "overlay",
              "size": 10,
              "solidity": 0.2
             }
            },
            "type": "histogram"
           }
          ],
          "histogram2d": [
           {
            "colorbar": {
             "outlinewidth": 0,
             "ticks": ""
            },
            "colorscale": [
             [
              0,
              "#0d0887"
             ],
             [
              0.1111111111111111,
              "#46039f"
             ],
             [
              0.2222222222222222,
              "#7201a8"
             ],
             [
              0.3333333333333333,
              "#9c179e"
             ],
             [
              0.4444444444444444,
              "#bd3786"
             ],
             [
              0.5555555555555556,
              "#d8576b"
             ],
             [
              0.6666666666666666,
              "#ed7953"
             ],
             [
              0.7777777777777778,
              "#fb9f3a"
             ],
             [
              0.8888888888888888,
              "#fdca26"
             ],
             [
              1,
              "#f0f921"
             ]
            ],
            "type": "histogram2d"
           }
          ],
          "histogram2dcontour": [
           {
            "colorbar": {
             "outlinewidth": 0,
             "ticks": ""
            },
            "colorscale": [
             [
              0,
              "#0d0887"
             ],
             [
              0.1111111111111111,
              "#46039f"
             ],
             [
              0.2222222222222222,
              "#7201a8"
             ],
             [
              0.3333333333333333,
              "#9c179e"
             ],
             [
              0.4444444444444444,
              "#bd3786"
             ],
             [
              0.5555555555555556,
              "#d8576b"
             ],
             [
              0.6666666666666666,
              "#ed7953"
             ],
             [
              0.7777777777777778,
              "#fb9f3a"
             ],
             [
              0.8888888888888888,
              "#fdca26"
             ],
             [
              1,
              "#f0f921"
             ]
            ],
            "type": "histogram2dcontour"
           }
          ],
          "mesh3d": [
           {
            "colorbar": {
             "outlinewidth": 0,
             "ticks": ""
            },
            "type": "mesh3d"
           }
          ],
          "parcoords": [
           {
            "line": {
             "colorbar": {
              "outlinewidth": 0,
              "ticks": ""
             }
            },
            "type": "parcoords"
           }
          ],
          "pie": [
           {
            "automargin": true,
            "type": "pie"
           }
          ],
          "scatter": [
           {
            "fillpattern": {
             "fillmode": "overlay",
             "size": 10,
             "solidity": 0.2
            },
            "type": "scatter"
           }
          ],
          "scatter3d": [
           {
            "line": {
             "colorbar": {
              "outlinewidth": 0,
              "ticks": ""
             }
            },
            "marker": {
             "colorbar": {
              "outlinewidth": 0,
              "ticks": ""
             }
            },
            "type": "scatter3d"
           }
          ],
          "scattercarpet": [
           {
            "marker": {
             "colorbar": {
              "outlinewidth": 0,
              "ticks": ""
             }
            },
            "type": "scattercarpet"
           }
          ],
          "scattergeo": [
           {
            "marker": {
             "colorbar": {
              "outlinewidth": 0,
              "ticks": ""
             }
            },
            "type": "scattergeo"
           }
          ],
          "scattergl": [
           {
            "marker": {
             "colorbar": {
              "outlinewidth": 0,
              "ticks": ""
             }
            },
            "type": "scattergl"
           }
          ],
          "scattermapbox": [
           {
            "marker": {
             "colorbar": {
              "outlinewidth": 0,
              "ticks": ""
             }
            },
            "type": "scattermapbox"
           }
          ],
          "scatterpolar": [
           {
            "marker": {
             "colorbar": {
              "outlinewidth": 0,
              "ticks": ""
             }
            },
            "type": "scatterpolar"
           }
          ],
          "scatterpolargl": [
           {
            "marker": {
             "colorbar": {
              "outlinewidth": 0,
              "ticks": ""
             }
            },
            "type": "scatterpolargl"
           }
          ],
          "scatterternary": [
           {
            "marker": {
             "colorbar": {
              "outlinewidth": 0,
              "ticks": ""
             }
            },
            "type": "scatterternary"
           }
          ],
          "surface": [
           {
            "colorbar": {
             "outlinewidth": 0,
             "ticks": ""
            },
            "colorscale": [
             [
              0,
              "#0d0887"
             ],
             [
              0.1111111111111111,
              "#46039f"
             ],
             [
              0.2222222222222222,
              "#7201a8"
             ],
             [
              0.3333333333333333,
              "#9c179e"
             ],
             [
              0.4444444444444444,
              "#bd3786"
             ],
             [
              0.5555555555555556,
              "#d8576b"
             ],
             [
              0.6666666666666666,
              "#ed7953"
             ],
             [
              0.7777777777777778,
              "#fb9f3a"
             ],
             [
              0.8888888888888888,
              "#fdca26"
             ],
             [
              1,
              "#f0f921"
             ]
            ],
            "type": "surface"
           }
          ],
          "table": [
           {
            "cells": {
             "fill": {
              "color": "#EBF0F8"
             },
             "line": {
              "color": "white"
             }
            },
            "header": {
             "fill": {
              "color": "#C8D4E3"
             },
             "line": {
              "color": "white"
             }
            },
            "type": "table"
           }
          ]
         },
         "layout": {
          "annotationdefaults": {
           "arrowcolor": "#2a3f5f",
           "arrowhead": 0,
           "arrowwidth": 1
          },
          "autotypenumbers": "strict",
          "coloraxis": {
           "colorbar": {
            "outlinewidth": 0,
            "ticks": ""
           }
          },
          "colorscale": {
           "diverging": [
            [
             0,
             "#8e0152"
            ],
            [
             0.1,
             "#c51b7d"
            ],
            [
             0.2,
             "#de77ae"
            ],
            [
             0.3,
             "#f1b6da"
            ],
            [
             0.4,
             "#fde0ef"
            ],
            [
             0.5,
             "#f7f7f7"
            ],
            [
             0.6,
             "#e6f5d0"
            ],
            [
             0.7,
             "#b8e186"
            ],
            [
             0.8,
             "#7fbc41"
            ],
            [
             0.9,
             "#4d9221"
            ],
            [
             1,
             "#276419"
            ]
           ],
           "sequential": [
            [
             0,
             "#0d0887"
            ],
            [
             0.1111111111111111,
             "#46039f"
            ],
            [
             0.2222222222222222,
             "#7201a8"
            ],
            [
             0.3333333333333333,
             "#9c179e"
            ],
            [
             0.4444444444444444,
             "#bd3786"
            ],
            [
             0.5555555555555556,
             "#d8576b"
            ],
            [
             0.6666666666666666,
             "#ed7953"
            ],
            [
             0.7777777777777778,
             "#fb9f3a"
            ],
            [
             0.8888888888888888,
             "#fdca26"
            ],
            [
             1,
             "#f0f921"
            ]
           ],
           "sequentialminus": [
            [
             0,
             "#0d0887"
            ],
            [
             0.1111111111111111,
             "#46039f"
            ],
            [
             0.2222222222222222,
             "#7201a8"
            ],
            [
             0.3333333333333333,
             "#9c179e"
            ],
            [
             0.4444444444444444,
             "#bd3786"
            ],
            [
             0.5555555555555556,
             "#d8576b"
            ],
            [
             0.6666666666666666,
             "#ed7953"
            ],
            [
             0.7777777777777778,
             "#fb9f3a"
            ],
            [
             0.8888888888888888,
             "#fdca26"
            ],
            [
             1,
             "#f0f921"
            ]
           ]
          },
          "colorway": [
           "#636efa",
           "#EF553B",
           "#00cc96",
           "#ab63fa",
           "#FFA15A",
           "#19d3f3",
           "#FF6692",
           "#B6E880",
           "#FF97FF",
           "#FECB52"
          ],
          "font": {
           "color": "#2a3f5f"
          },
          "geo": {
           "bgcolor": "white",
           "lakecolor": "white",
           "landcolor": "#E5ECF6",
           "showlakes": true,
           "showland": true,
           "subunitcolor": "white"
          },
          "hoverlabel": {
           "align": "left"
          },
          "hovermode": "closest",
          "mapbox": {
           "style": "light"
          },
          "paper_bgcolor": "white",
          "plot_bgcolor": "#E5ECF6",
          "polar": {
           "angularaxis": {
            "gridcolor": "white",
            "linecolor": "white",
            "ticks": ""
           },
           "bgcolor": "#E5ECF6",
           "radialaxis": {
            "gridcolor": "white",
            "linecolor": "white",
            "ticks": ""
           }
          },
          "scene": {
           "xaxis": {
            "backgroundcolor": "#E5ECF6",
            "gridcolor": "white",
            "gridwidth": 2,
            "linecolor": "white",
            "showbackground": true,
            "ticks": "",
            "zerolinecolor": "white"
           },
           "yaxis": {
            "backgroundcolor": "#E5ECF6",
            "gridcolor": "white",
            "gridwidth": 2,
            "linecolor": "white",
            "showbackground": true,
            "ticks": "",
            "zerolinecolor": "white"
           },
           "zaxis": {
            "backgroundcolor": "#E5ECF6",
            "gridcolor": "white",
            "gridwidth": 2,
            "linecolor": "white",
            "showbackground": true,
            "ticks": "",
            "zerolinecolor": "white"
           }
          },
          "shapedefaults": {
           "line": {
            "color": "#2a3f5f"
           }
          },
          "ternary": {
           "aaxis": {
            "gridcolor": "white",
            "linecolor": "white",
            "ticks": ""
           },
           "baxis": {
            "gridcolor": "white",
            "linecolor": "white",
            "ticks": ""
           },
           "bgcolor": "#E5ECF6",
           "caxis": {
            "gridcolor": "white",
            "linecolor": "white",
            "ticks": ""
           }
          },
          "title": {
           "x": 0.05
          },
          "xaxis": {
           "automargin": true,
           "gridcolor": "white",
           "linecolor": "white",
           "ticks": "",
           "title": {
            "standoff": 15
           },
           "zerolinecolor": "white",
           "zerolinewidth": 2
          },
          "yaxis": {
           "automargin": true,
           "gridcolor": "white",
           "linecolor": "white",
           "ticks": "",
           "title": {
            "standoff": 15
           },
           "zerolinecolor": "white",
           "zerolinewidth": 2
          }
         }
        },
        "title": {
         "text": "Wachstum der Ladestationen je Betreiber (monatlich)"
        },
        "xaxis": {
         "anchor": "y",
         "domain": [
          0,
          1
         ],
         "title": {
          "text": "Jahre"
         }
        },
        "yaxis": {
         "anchor": "x",
         "domain": [
          0,
          1
         ],
         "title": {
          "text": "Anzahl der Ladesäulen"
         }
        }
       }
      },
      "text/html": [
       "<div>                            <div id=\"120ea21a-e1e2-43a5-a7e5-240892b15309\" class=\"plotly-graph-div\" style=\"height:700px; width:100%;\"></div>            <script type=\"text/javascript\">                require([\"plotly\"], function(Plotly) {                    window.PLOTLYENV=window.PLOTLYENV || {};                                    if (document.getElementById(\"120ea21a-e1e2-43a5-a7e5-240892b15309\")) {                    Plotly.newPlot(                        \"120ea21a-e1e2-43a5-a7e5-240892b15309\",                        [{\"hovertemplate\":\"Betreiber=EWE Go GmbH<br>date=%{x}<br>count=%{y}<extra></extra>\",\"legendgroup\":\"EWE Go GmbH\",\"line\":{\"color\":\"#636efa\",\"dash\":\"solid\"},\"marker\":{\"symbol\":\"circle\"},\"mode\":\"lines\",\"name\":\"EWE Go GmbH\",\"orientation\":\"v\",\"showlegend\":true,\"x\":[\"2011-03-01T00:00:00\",\"2011-04-01T00:00:00\",\"2011-06-01T00:00:00\",\"2011-09-01T00:00:00\",\"2012-04-01T00:00:00\",\"2013-02-01T00:00:00\",\"2013-12-01T00:00:00\",\"2014-02-01T00:00:00\",\"2014-03-01T00:00:00\",\"2015-03-01T00:00:00\",\"2015-04-01T00:00:00\",\"2015-05-01T00:00:00\",\"2015-06-01T00:00:00\",\"2015-07-01T00:00:00\",\"2015-09-01T00:00:00\",\"2015-11-01T00:00:00\",\"2015-12-01T00:00:00\",\"2016-01-01T00:00:00\",\"2016-02-01T00:00:00\",\"2016-03-01T00:00:00\",\"2016-04-01T00:00:00\",\"2016-05-01T00:00:00\",\"2016-06-01T00:00:00\",\"2016-07-01T00:00:00\",\"2016-08-01T00:00:00\",\"2016-09-01T00:00:00\",\"2016-10-01T00:00:00\",\"2016-11-01T00:00:00\",\"2016-12-01T00:00:00\",\"2017-01-01T00:00:00\",\"2017-02-01T00:00:00\",\"2017-03-01T00:00:00\",\"2017-04-01T00:00:00\",\"2017-05-01T00:00:00\",\"2017-06-01T00:00:00\",\"2017-07-01T00:00:00\",\"2017-08-01T00:00:00\",\"2017-09-01T00:00:00\",\"2017-10-01T00:00:00\",\"2017-11-01T00:00:00\",\"2017-12-01T00:00:00\",\"2018-01-01T00:00:00\",\"2018-02-01T00:00:00\",\"2018-03-01T00:00:00\",\"2018-04-01T00:00:00\",\"2018-05-01T00:00:00\",\"2018-06-01T00:00:00\",\"2018-07-01T00:00:00\",\"2018-08-01T00:00:00\",\"2018-09-01T00:00:00\",\"2018-10-01T00:00:00\",\"2018-11-01T00:00:00\",\"2018-12-01T00:00:00\",\"2019-01-01T00:00:00\",\"2019-02-01T00:00:00\",\"2019-03-01T00:00:00\",\"2019-04-01T00:00:00\",\"2019-05-01T00:00:00\",\"2019-06-01T00:00:00\",\"2019-07-01T00:00:00\",\"2019-08-01T00:00:00\",\"2019-09-01T00:00:00\",\"2019-10-01T00:00:00\",\"2019-11-01T00:00:00\",\"2019-12-01T00:00:00\",\"2020-01-01T00:00:00\",\"2020-02-01T00:00:00\",\"2020-03-01T00:00:00\",\"2020-04-01T00:00:00\",\"2020-05-01T00:00:00\",\"2020-06-01T00:00:00\",\"2020-07-01T00:00:00\",\"2020-08-01T00:00:00\",\"2020-09-01T00:00:00\",\"2020-10-01T00:00:00\",\"2020-11-01T00:00:00\",\"2020-12-01T00:00:00\",\"2021-01-01T00:00:00\",\"2021-02-01T00:00:00\",\"2021-03-01T00:00:00\",\"2021-04-01T00:00:00\",\"2021-05-01T00:00:00\",\"2021-06-01T00:00:00\",\"2021-07-01T00:00:00\",\"2021-08-01T00:00:00\",\"2021-09-01T00:00:00\",\"2021-10-01T00:00:00\",\"2021-11-01T00:00:00\",\"2021-12-01T00:00:00\",\"2022-01-01T00:00:00\",\"2022-02-01T00:00:00\",\"2022-03-01T00:00:00\",\"2022-04-01T00:00:00\",\"2022-05-01T00:00:00\",\"2022-06-01T00:00:00\",\"2022-07-01T00:00:00\",\"2022-08-01T00:00:00\",\"2022-09-01T00:00:00\",\"2022-10-01T00:00:00\",\"2022-11-01T00:00:00\",\"2022-12-01T00:00:00\",\"2023-01-01T00:00:00\",\"2023-02-01T00:00:00\"],\"xaxis\":\"x\",\"y\":[18,3,1,1,1,1,1,1,2,1,1,2,1,2,3,2,9,4,1,3,6,2,3,2,7,1,4,5,3,1,2,11,27,8,20,8,12,17,5,12,7,5,2,6,5,10,2,18,11,9,13,4,16,4,18,12,17,24,10,14,6,10,13,8,6,4,5,5,11,4,5,14,5,3,10,1,3,2,2,2,3,3,4,7,10,7,11,7,18,6,21,24,30,22,29,22,27,17,21,16,10,15,24],\"yaxis\":\"y\",\"type\":\"scatter\"},{\"hovertemplate\":\"Betreiber=EnBW mobility+ AG und Co.KG<br>date=%{x}<br>count=%{y}<extra></extra>\",\"legendgroup\":\"EnBW mobility+ AG und Co.KG\",\"line\":{\"color\":\"#EF553B\",\"dash\":\"solid\"},\"marker\":{\"symbol\":\"circle\"},\"mode\":\"lines\",\"name\":\"EnBW mobility+ AG und Co.KG\",\"orientation\":\"v\",\"showlegend\":true,\"x\":[\"2012-06-01T00:00:00\",\"2016-03-01T00:00:00\",\"2016-04-01T00:00:00\",\"2016-05-01T00:00:00\",\"2016-08-01T00:00:00\",\"2016-11-01T00:00:00\",\"2016-12-01T00:00:00\",\"2017-01-01T00:00:00\",\"2017-02-01T00:00:00\",\"2017-03-01T00:00:00\",\"2017-06-01T00:00:00\",\"2017-07-01T00:00:00\",\"2017-08-01T00:00:00\",\"2017-09-01T00:00:00\",\"2017-10-01T00:00:00\",\"2017-11-01T00:00:00\",\"2017-12-01T00:00:00\",\"2018-01-01T00:00:00\",\"2018-02-01T00:00:00\",\"2018-03-01T00:00:00\",\"2018-04-01T00:00:00\",\"2018-05-01T00:00:00\",\"2018-06-01T00:00:00\",\"2018-07-01T00:00:00\",\"2018-08-01T00:00:00\",\"2018-09-01T00:00:00\",\"2018-10-01T00:00:00\",\"2018-11-01T00:00:00\",\"2018-12-01T00:00:00\",\"2019-01-01T00:00:00\",\"2019-02-01T00:00:00\",\"2019-03-01T00:00:00\",\"2019-04-01T00:00:00\",\"2019-05-01T00:00:00\",\"2019-06-01T00:00:00\",\"2019-07-01T00:00:00\",\"2019-08-01T00:00:00\",\"2019-09-01T00:00:00\",\"2019-10-01T00:00:00\",\"2019-11-01T00:00:00\",\"2019-12-01T00:00:00\",\"2020-01-01T00:00:00\",\"2020-02-01T00:00:00\",\"2020-03-01T00:00:00\",\"2020-04-01T00:00:00\",\"2020-05-01T00:00:00\",\"2020-06-01T00:00:00\",\"2020-07-01T00:00:00\",\"2020-08-01T00:00:00\",\"2020-09-01T00:00:00\",\"2020-10-01T00:00:00\",\"2020-11-01T00:00:00\",\"2020-12-01T00:00:00\",\"2021-01-01T00:00:00\",\"2021-02-01T00:00:00\",\"2021-03-01T00:00:00\",\"2021-04-01T00:00:00\",\"2021-05-01T00:00:00\",\"2021-06-01T00:00:00\",\"2021-07-01T00:00:00\",\"2021-08-01T00:00:00\",\"2021-09-01T00:00:00\",\"2021-10-01T00:00:00\",\"2021-11-01T00:00:00\",\"2021-12-01T00:00:00\",\"2022-01-01T00:00:00\",\"2022-02-01T00:00:00\",\"2022-03-01T00:00:00\",\"2022-04-01T00:00:00\",\"2022-05-01T00:00:00\",\"2022-06-01T00:00:00\",\"2022-07-01T00:00:00\",\"2022-08-01T00:00:00\",\"2022-09-01T00:00:00\",\"2022-10-01T00:00:00\",\"2022-11-01T00:00:00\",\"2022-12-01T00:00:00\",\"2023-01-01T00:00:00\",\"2023-02-01T00:00:00\"],\"xaxis\":\"x\",\"y\":[2,1,1,2,1,4,27,3,1,1,6,13,24,17,14,9,16,4,10,7,18,24,31,24,15,18,7,39,59,12,11,19,15,29,22,35,32,87,32,42,52,11,10,63,43,26,16,40,40,45,28,71,79,19,16,31,41,28,28,59,8,42,27,18,45,9,18,19,15,18,10,41,30,32,20,25,78,40,31],\"yaxis\":\"y\",\"type\":\"scatter\"},{\"hovertemplate\":\"Betreiber=E.ON Drive GmbH<br>date=%{x}<br>count=%{y}<extra></extra>\",\"legendgroup\":\"E.ON Drive GmbH\",\"line\":{\"color\":\"#00cc96\",\"dash\":\"solid\"},\"marker\":{\"symbol\":\"circle\"},\"mode\":\"lines\",\"name\":\"E.ON Drive GmbH\",\"orientation\":\"v\",\"showlegend\":true,\"x\":[\"2015-12-01T00:00:00\",\"2016-02-01T00:00:00\",\"2016-03-01T00:00:00\",\"2016-04-01T00:00:00\",\"2016-05-01T00:00:00\",\"2016-07-01T00:00:00\",\"2016-08-01T00:00:00\",\"2016-10-01T00:00:00\",\"2016-11-01T00:00:00\",\"2016-12-01T00:00:00\",\"2017-01-01T00:00:00\",\"2017-03-01T00:00:00\",\"2017-04-01T00:00:00\",\"2017-05-01T00:00:00\",\"2017-06-01T00:00:00\",\"2017-07-01T00:00:00\",\"2017-08-01T00:00:00\",\"2017-09-01T00:00:00\",\"2017-10-01T00:00:00\",\"2017-11-01T00:00:00\",\"2017-12-01T00:00:00\",\"2018-01-01T00:00:00\",\"2018-02-01T00:00:00\",\"2018-03-01T00:00:00\",\"2018-04-01T00:00:00\",\"2018-05-01T00:00:00\",\"2018-06-01T00:00:00\",\"2018-07-01T00:00:00\",\"2018-08-01T00:00:00\",\"2018-09-01T00:00:00\",\"2018-10-01T00:00:00\",\"2018-11-01T00:00:00\",\"2018-12-01T00:00:00\",\"2019-01-01T00:00:00\",\"2019-02-01T00:00:00\",\"2019-03-01T00:00:00\",\"2019-04-01T00:00:00\",\"2019-05-01T00:00:00\",\"2019-06-01T00:00:00\",\"2019-07-01T00:00:00\",\"2019-08-01T00:00:00\",\"2019-09-01T00:00:00\",\"2019-10-01T00:00:00\",\"2019-11-01T00:00:00\",\"2019-12-01T00:00:00\",\"2020-01-01T00:00:00\",\"2020-02-01T00:00:00\",\"2020-03-01T00:00:00\",\"2020-04-01T00:00:00\",\"2020-05-01T00:00:00\",\"2020-06-01T00:00:00\",\"2020-07-01T00:00:00\",\"2020-08-01T00:00:00\",\"2020-09-01T00:00:00\",\"2020-10-01T00:00:00\",\"2020-11-01T00:00:00\",\"2020-12-01T00:00:00\",\"2021-01-01T00:00:00\",\"2021-02-01T00:00:00\",\"2021-03-01T00:00:00\",\"2021-04-01T00:00:00\",\"2021-05-01T00:00:00\",\"2021-06-01T00:00:00\",\"2021-07-01T00:00:00\",\"2021-08-01T00:00:00\",\"2021-09-01T00:00:00\",\"2021-10-01T00:00:00\",\"2021-11-01T00:00:00\",\"2021-12-01T00:00:00\",\"2022-01-01T00:00:00\",\"2022-02-01T00:00:00\",\"2022-03-01T00:00:00\",\"2022-04-01T00:00:00\",\"2022-05-01T00:00:00\",\"2022-06-01T00:00:00\",\"2022-07-01T00:00:00\",\"2022-08-01T00:00:00\",\"2022-09-01T00:00:00\",\"2022-10-01T00:00:00\",\"2022-11-01T00:00:00\",\"2022-12-01T00:00:00\"],\"xaxis\":\"x\",\"y\":[3,1,2,1,1,10,4,2,2,14,16,3,5,2,10,22,29,16,11,8,11,11,11,13,13,28,12,12,18,27,11,5,8,16,8,12,9,8,13,18,16,13,7,9,20,2,5,5,12,5,3,58,133,112,208,62,68,42,237,91,74,48,135,10,6,54,27,16,44,1,10,117,11,6,12,8,10,8,10,6,7],\"yaxis\":\"y\",\"type\":\"scatter\"},{\"hovertemplate\":\"Betreiber=Mercedes-Benz AG<br>date=%{x}<br>count=%{y}<extra></extra>\",\"legendgroup\":\"Mercedes-Benz AG\",\"line\":{\"color\":\"#ab63fa\",\"dash\":\"solid\"},\"marker\":{\"symbol\":\"circle\"},\"mode\":\"lines\",\"name\":\"Mercedes-Benz AG\",\"orientation\":\"v\",\"showlegend\":true,\"x\":[\"2018-12-01T00:00:00\",\"2019-02-01T00:00:00\",\"2019-12-01T00:00:00\",\"2020-01-01T00:00:00\",\"2020-05-01T00:00:00\",\"2020-06-01T00:00:00\",\"2021-01-01T00:00:00\",\"2021-02-01T00:00:00\",\"2021-03-01T00:00:00\",\"2021-04-01T00:00:00\",\"2021-05-01T00:00:00\",\"2021-07-01T00:00:00\",\"2021-10-01T00:00:00\",\"2021-12-01T00:00:00\",\"2022-01-01T00:00:00\",\"2022-03-01T00:00:00\",\"2022-04-01T00:00:00\",\"2022-05-01T00:00:00\",\"2022-06-01T00:00:00\",\"2022-07-01T00:00:00\",\"2022-08-01T00:00:00\",\"2022-09-01T00:00:00\",\"2022-10-01T00:00:00\",\"2022-11-01T00:00:00\",\"2022-12-01T00:00:00\",\"2023-01-01T00:00:00\"],\"xaxis\":\"x\",\"y\":[1,2,21,8,16,3,1,70,26,6,3,26,2,9,17,10,3,32,54,24,62,3,35,74,244,73],\"yaxis\":\"y\",\"type\":\"scatter\"}],                        {\"template\":{\"data\":{\"histogram2dcontour\":[{\"type\":\"histogram2dcontour\",\"colorbar\":{\"outlinewidth\":0,\"ticks\":\"\"},\"colorscale\":[[0.0,\"#0d0887\"],[0.1111111111111111,\"#46039f\"],[0.2222222222222222,\"#7201a8\"],[0.3333333333333333,\"#9c179e\"],[0.4444444444444444,\"#bd3786\"],[0.5555555555555556,\"#d8576b\"],[0.6666666666666666,\"#ed7953\"],[0.7777777777777778,\"#fb9f3a\"],[0.8888888888888888,\"#fdca26\"],[1.0,\"#f0f921\"]]}],\"choropleth\":[{\"type\":\"choropleth\",\"colorbar\":{\"outlinewidth\":0,\"ticks\":\"\"}}],\"histogram2d\":[{\"type\":\"histogram2d\",\"colorbar\":{\"outlinewidth\":0,\"ticks\":\"\"},\"colorscale\":[[0.0,\"#0d0887\"],[0.1111111111111111,\"#46039f\"],[0.2222222222222222,\"#7201a8\"],[0.3333333333333333,\"#9c179e\"],[0.4444444444444444,\"#bd3786\"],[0.5555555555555556,\"#d8576b\"],[0.6666666666666666,\"#ed7953\"],[0.7777777777777778,\"#fb9f3a\"],[0.8888888888888888,\"#fdca26\"],[1.0,\"#f0f921\"]]}],\"heatmap\":[{\"type\":\"heatmap\",\"colorbar\":{\"outlinewidth\":0,\"ticks\":\"\"},\"colorscale\":[[0.0,\"#0d0887\"],[0.1111111111111111,\"#46039f\"],[0.2222222222222222,\"#7201a8\"],[0.3333333333333333,\"#9c179e\"],[0.4444444444444444,\"#bd3786\"],[0.5555555555555556,\"#d8576b\"],[0.6666666666666666,\"#ed7953\"],[0.7777777777777778,\"#fb9f3a\"],[0.8888888888888888,\"#fdca26\"],[1.0,\"#f0f921\"]]}],\"heatmapgl\":[{\"type\":\"heatmapgl\",\"colorbar\":{\"outlinewidth\":0,\"ticks\":\"\"},\"colorscale\":[[0.0,\"#0d0887\"],[0.1111111111111111,\"#46039f\"],[0.2222222222222222,\"#7201a8\"],[0.3333333333333333,\"#9c179e\"],[0.4444444444444444,\"#bd3786\"],[0.5555555555555556,\"#d8576b\"],[0.6666666666666666,\"#ed7953\"],[0.7777777777777778,\"#fb9f3a\"],[0.8888888888888888,\"#fdca26\"],[1.0,\"#f0f921\"]]}],\"contourcarpet\":[{\"type\":\"contourcarpet\",\"colorbar\":{\"outlinewidth\":0,\"ticks\":\"\"}}],\"contour\":[{\"type\":\"contour\",\"colorbar\":{\"outlinewidth\":0,\"ticks\":\"\"},\"colorscale\":[[0.0,\"#0d0887\"],[0.1111111111111111,\"#46039f\"],[0.2222222222222222,\"#7201a8\"],[0.3333333333333333,\"#9c179e\"],[0.4444444444444444,\"#bd3786\"],[0.5555555555555556,\"#d8576b\"],[0.6666666666666666,\"#ed7953\"],[0.7777777777777778,\"#fb9f3a\"],[0.8888888888888888,\"#fdca26\"],[1.0,\"#f0f921\"]]}],\"surface\":[{\"type\":\"surface\",\"colorbar\":{\"outlinewidth\":0,\"ticks\":\"\"},\"colorscale\":[[0.0,\"#0d0887\"],[0.1111111111111111,\"#46039f\"],[0.2222222222222222,\"#7201a8\"],[0.3333333333333333,\"#9c179e\"],[0.4444444444444444,\"#bd3786\"],[0.5555555555555556,\"#d8576b\"],[0.6666666666666666,\"#ed7953\"],[0.7777777777777778,\"#fb9f3a\"],[0.8888888888888888,\"#fdca26\"],[1.0,\"#f0f921\"]]}],\"mesh3d\":[{\"type\":\"mesh3d\",\"colorbar\":{\"outlinewidth\":0,\"ticks\":\"\"}}],\"scatter\":[{\"fillpattern\":{\"fillmode\":\"overlay\",\"size\":10,\"solidity\":0.2},\"type\":\"scatter\"}],\"parcoords\":[{\"type\":\"parcoords\",\"line\":{\"colorbar\":{\"outlinewidth\":0,\"ticks\":\"\"}}}],\"scatterpolargl\":[{\"type\":\"scatterpolargl\",\"marker\":{\"colorbar\":{\"outlinewidth\":0,\"ticks\":\"\"}}}],\"bar\":[{\"error_x\":{\"color\":\"#2a3f5f\"},\"error_y\":{\"color\":\"#2a3f5f\"},\"marker\":{\"line\":{\"color\":\"#E5ECF6\",\"width\":0.5},\"pattern\":{\"fillmode\":\"overlay\",\"size\":10,\"solidity\":0.2}},\"type\":\"bar\"}],\"scattergeo\":[{\"type\":\"scattergeo\",\"marker\":{\"colorbar\":{\"outlinewidth\":0,\"ticks\":\"\"}}}],\"scatterpolar\":[{\"type\":\"scatterpolar\",\"marker\":{\"colorbar\":{\"outlinewidth\":0,\"ticks\":\"\"}}}],\"histogram\":[{\"marker\":{\"pattern\":{\"fillmode\":\"overlay\",\"size\":10,\"solidity\":0.2}},\"type\":\"histogram\"}],\"scattergl\":[{\"type\":\"scattergl\",\"marker\":{\"colorbar\":{\"outlinewidth\":0,\"ticks\":\"\"}}}],\"scatter3d\":[{\"type\":\"scatter3d\",\"line\":{\"colorbar\":{\"outlinewidth\":0,\"ticks\":\"\"}},\"marker\":{\"colorbar\":{\"outlinewidth\":0,\"ticks\":\"\"}}}],\"scattermapbox\":[{\"type\":\"scattermapbox\",\"marker\":{\"colorbar\":{\"outlinewidth\":0,\"ticks\":\"\"}}}],\"scatterternary\":[{\"type\":\"scatterternary\",\"marker\":{\"colorbar\":{\"outlinewidth\":0,\"ticks\":\"\"}}}],\"scattercarpet\":[{\"type\":\"scattercarpet\",\"marker\":{\"colorbar\":{\"outlinewidth\":0,\"ticks\":\"\"}}}],\"carpet\":[{\"aaxis\":{\"endlinecolor\":\"#2a3f5f\",\"gridcolor\":\"white\",\"linecolor\":\"white\",\"minorgridcolor\":\"white\",\"startlinecolor\":\"#2a3f5f\"},\"baxis\":{\"endlinecolor\":\"#2a3f5f\",\"gridcolor\":\"white\",\"linecolor\":\"white\",\"minorgridcolor\":\"white\",\"startlinecolor\":\"#2a3f5f\"},\"type\":\"carpet\"}],\"table\":[{\"cells\":{\"fill\":{\"color\":\"#EBF0F8\"},\"line\":{\"color\":\"white\"}},\"header\":{\"fill\":{\"color\":\"#C8D4E3\"},\"line\":{\"color\":\"white\"}},\"type\":\"table\"}],\"barpolar\":[{\"marker\":{\"line\":{\"color\":\"#E5ECF6\",\"width\":0.5},\"pattern\":{\"fillmode\":\"overlay\",\"size\":10,\"solidity\":0.2}},\"type\":\"barpolar\"}],\"pie\":[{\"automargin\":true,\"type\":\"pie\"}]},\"layout\":{\"autotypenumbers\":\"strict\",\"colorway\":[\"#636efa\",\"#EF553B\",\"#00cc96\",\"#ab63fa\",\"#FFA15A\",\"#19d3f3\",\"#FF6692\",\"#B6E880\",\"#FF97FF\",\"#FECB52\"],\"font\":{\"color\":\"#2a3f5f\"},\"hovermode\":\"closest\",\"hoverlabel\":{\"align\":\"left\"},\"paper_bgcolor\":\"white\",\"plot_bgcolor\":\"#E5ECF6\",\"polar\":{\"bgcolor\":\"#E5ECF6\",\"angularaxis\":{\"gridcolor\":\"white\",\"linecolor\":\"white\",\"ticks\":\"\"},\"radialaxis\":{\"gridcolor\":\"white\",\"linecolor\":\"white\",\"ticks\":\"\"}},\"ternary\":{\"bgcolor\":\"#E5ECF6\",\"aaxis\":{\"gridcolor\":\"white\",\"linecolor\":\"white\",\"ticks\":\"\"},\"baxis\":{\"gridcolor\":\"white\",\"linecolor\":\"white\",\"ticks\":\"\"},\"caxis\":{\"gridcolor\":\"white\",\"linecolor\":\"white\",\"ticks\":\"\"}},\"coloraxis\":{\"colorbar\":{\"outlinewidth\":0,\"ticks\":\"\"}},\"colorscale\":{\"sequential\":[[0.0,\"#0d0887\"],[0.1111111111111111,\"#46039f\"],[0.2222222222222222,\"#7201a8\"],[0.3333333333333333,\"#9c179e\"],[0.4444444444444444,\"#bd3786\"],[0.5555555555555556,\"#d8576b\"],[0.6666666666666666,\"#ed7953\"],[0.7777777777777778,\"#fb9f3a\"],[0.8888888888888888,\"#fdca26\"],[1.0,\"#f0f921\"]],\"sequentialminus\":[[0.0,\"#0d0887\"],[0.1111111111111111,\"#46039f\"],[0.2222222222222222,\"#7201a8\"],[0.3333333333333333,\"#9c179e\"],[0.4444444444444444,\"#bd3786\"],[0.5555555555555556,\"#d8576b\"],[0.6666666666666666,\"#ed7953\"],[0.7777777777777778,\"#fb9f3a\"],[0.8888888888888888,\"#fdca26\"],[1.0,\"#f0f921\"]],\"diverging\":[[0,\"#8e0152\"],[0.1,\"#c51b7d\"],[0.2,\"#de77ae\"],[0.3,\"#f1b6da\"],[0.4,\"#fde0ef\"],[0.5,\"#f7f7f7\"],[0.6,\"#e6f5d0\"],[0.7,\"#b8e186\"],[0.8,\"#7fbc41\"],[0.9,\"#4d9221\"],[1,\"#276419\"]]},\"xaxis\":{\"gridcolor\":\"white\",\"linecolor\":\"white\",\"ticks\":\"\",\"title\":{\"standoff\":15},\"zerolinecolor\":\"white\",\"automargin\":true,\"zerolinewidth\":2},\"yaxis\":{\"gridcolor\":\"white\",\"linecolor\":\"white\",\"ticks\":\"\",\"title\":{\"standoff\":15},\"zerolinecolor\":\"white\",\"automargin\":true,\"zerolinewidth\":2},\"scene\":{\"xaxis\":{\"backgroundcolor\":\"#E5ECF6\",\"gridcolor\":\"white\",\"linecolor\":\"white\",\"showbackground\":true,\"ticks\":\"\",\"zerolinecolor\":\"white\",\"gridwidth\":2},\"yaxis\":{\"backgroundcolor\":\"#E5ECF6\",\"gridcolor\":\"white\",\"linecolor\":\"white\",\"showbackground\":true,\"ticks\":\"\",\"zerolinecolor\":\"white\",\"gridwidth\":2},\"zaxis\":{\"backgroundcolor\":\"#E5ECF6\",\"gridcolor\":\"white\",\"linecolor\":\"white\",\"showbackground\":true,\"ticks\":\"\",\"zerolinecolor\":\"white\",\"gridwidth\":2}},\"shapedefaults\":{\"line\":{\"color\":\"#2a3f5f\"}},\"annotationdefaults\":{\"arrowcolor\":\"#2a3f5f\",\"arrowhead\":0,\"arrowwidth\":1},\"geo\":{\"bgcolor\":\"white\",\"landcolor\":\"#E5ECF6\",\"subunitcolor\":\"white\",\"showland\":true,\"showlakes\":true,\"lakecolor\":\"white\"},\"title\":{\"x\":0.05},\"mapbox\":{\"style\":\"light\"}}},\"xaxis\":{\"anchor\":\"y\",\"domain\":[0.0,1.0],\"title\":{\"text\":\"Jahre\"}},\"yaxis\":{\"anchor\":\"x\",\"domain\":[0.0,1.0],\"title\":{\"text\":\"Anzahl der Lades\\u00e4ulen\"}},\"legend\":{\"title\":{\"text\":\"Betreiber\"},\"tracegroupgap\":0},\"title\":{\"text\":\"Wachstum der Ladestationen je Betreiber (monatlich)\"},\"height\":700},                        {\"responsive\": true}                    ).then(function(){\n",
       "                            \n",
       "var gd = document.getElementById('120ea21a-e1e2-43a5-a7e5-240892b15309');\n",
       "var x = new MutationObserver(function (mutations, observer) {{\n",
       "        var display = window.getComputedStyle(gd).display;\n",
       "        if (!display || display === 'none') {{\n",
       "            console.log([gd, 'removed!']);\n",
       "            Plotly.purge(gd);\n",
       "            observer.disconnect();\n",
       "        }}\n",
       "}});\n",
       "\n",
       "// Listen for the removal of the full notebook cells\n",
       "var notebookContainer = gd.closest('#notebook-container');\n",
       "if (notebookContainer) {{\n",
       "    x.observe(notebookContainer, {childList: true});\n",
       "}}\n",
       "\n",
       "// Listen for the clearing of the current output cell\n",
       "var outputEl = gd.closest('.output');\n",
       "if (outputEl) {{\n",
       "    x.observe(outputEl, {childList: true});\n",
       "}}\n",
       "\n",
       "                        })                };                });            </script>        </div>"
      ]
     },
     "metadata": {},
     "output_type": "display_data"
    }
   ],
   "source": [
    "fig = px.line(monthly_betreiber_data, \n",
    "              x='date', \n",
    "              y=\"count\", \n",
    "              title='Wachstum der Ladestationen je Betreiber (monatlich)', \n",
    "              color='betreiber',\n",
    "              labels={'betreiber': 'Betreiber'},\n",
    "              height= 700)\n",
    "fig.update_layout(xaxis_title='Jahre', yaxis_title='Anzahl der Ladesäulen')\n",
    "fig.show()"
   ]
  },
  {
   "cell_type": "code",
   "execution_count": 121,
   "id": "66c9f616",
   "metadata": {},
   "outputs": [
    {
     "data": {
      "text/plain": [
       "betreiber\n",
       "E.ON Drive GmbH                                 2154\n",
       "EnBW mobility+ AG und Co.KG                     2006\n",
       "EWE Go GmbH                                      894\n",
       "Mercedes-Benz AG                                 825\n",
       "Westenergie Metering GmbH                        795\n",
       "                                                ... \n",
       "Ambulanter Pflegedienst Angelika Müller e.K.       1\n",
       "Kliniken Dr. Erler gGmbH                           1\n",
       "Willi Kippes                                       1\n",
       "Arvena Park Hotel                                  1\n",
       "Ingenieurbüro                                      1\n",
       "Name: count, Length: 4772, dtype: int64"
      ]
     },
     "execution_count": 121,
     "metadata": {},
     "output_type": "execute_result"
    }
   ],
   "source": [
    "# Wie viel Ladestation hat ein Betreiber?\n",
    "anzahl_betreiber = ds['betreiber'].value_counts().reset_index()\n",
    "anzahl_betreiber.columns = ['betreiber', 'count']\n",
    "ds['betreiber'].value_counts()"
   ]
  },
  {
   "cell_type": "code",
   "execution_count": 122,
   "id": "0d4d68eb",
   "metadata": {},
   "outputs": [],
   "source": [
    "betreiber_group = pd.DataFrame(ds['betreiber'].value_counts().reset_index().values, columns=['betreiber', 'count'])"
   ]
  },
  {
   "cell_type": "code",
   "execution_count": 123,
   "id": "fe7a49a3",
   "metadata": {},
   "outputs": [],
   "source": [
    "top_ten_betreiber = ds['betreiber'].value_counts().head(10).reset_index(name='count')\n",
    "top_ten_betreiber.columns = ['betreiber', 'count']\n"
   ]
  },
  {
   "cell_type": "code",
   "execution_count": 124,
   "id": "dec80b90",
   "metadata": {},
   "outputs": [
    {
     "data": {
      "text/html": [
       "<div>\n",
       "<style scoped>\n",
       "    .dataframe tbody tr th:only-of-type {\n",
       "        vertical-align: middle;\n",
       "    }\n",
       "\n",
       "    .dataframe tbody tr th {\n",
       "        vertical-align: top;\n",
       "    }\n",
       "\n",
       "    .dataframe thead th {\n",
       "        text-align: right;\n",
       "    }\n",
       "</style>\n",
       "<table border=\"1\" class=\"dataframe\">\n",
       "  <thead>\n",
       "    <tr style=\"text-align: right;\">\n",
       "      <th></th>\n",
       "      <th>betreiber</th>\n",
       "      <th>count</th>\n",
       "    </tr>\n",
       "  </thead>\n",
       "  <tbody>\n",
       "    <tr>\n",
       "      <th>0</th>\n",
       "      <td>E.ON Drive GmbH</td>\n",
       "      <td>2154</td>\n",
       "    </tr>\n",
       "    <tr>\n",
       "      <th>1</th>\n",
       "      <td>EnBW mobility+ AG und Co.KG</td>\n",
       "      <td>2006</td>\n",
       "    </tr>\n",
       "    <tr>\n",
       "      <th>2</th>\n",
       "      <td>EWE Go GmbH</td>\n",
       "      <td>894</td>\n",
       "    </tr>\n",
       "    <tr>\n",
       "      <th>3</th>\n",
       "      <td>Mercedes-Benz AG</td>\n",
       "      <td>825</td>\n",
       "    </tr>\n",
       "    <tr>\n",
       "      <th>4</th>\n",
       "      <td>Westenergie Metering GmbH</td>\n",
       "      <td>795</td>\n",
       "    </tr>\n",
       "    <tr>\n",
       "      <th>5</th>\n",
       "      <td>Stromnetz Hamburg GmbH</td>\n",
       "      <td>701</td>\n",
       "    </tr>\n",
       "    <tr>\n",
       "      <th>6</th>\n",
       "      <td>SWM Versorgungs GmbH</td>\n",
       "      <td>598</td>\n",
       "    </tr>\n",
       "    <tr>\n",
       "      <th>7</th>\n",
       "      <td>Privatperson</td>\n",
       "      <td>569</td>\n",
       "    </tr>\n",
       "    <tr>\n",
       "      <th>8</th>\n",
       "      <td>ALDI SÜD</td>\n",
       "      <td>557</td>\n",
       "    </tr>\n",
       "    <tr>\n",
       "      <th>9</th>\n",
       "      <td>Allego GmbH</td>\n",
       "      <td>552</td>\n",
       "    </tr>\n",
       "  </tbody>\n",
       "</table>\n",
       "</div>"
      ],
      "text/plain": [
       "                     betreiber  count\n",
       "0              E.ON Drive GmbH   2154\n",
       "1  EnBW mobility+ AG und Co.KG   2006\n",
       "2                  EWE Go GmbH    894\n",
       "3             Mercedes-Benz AG    825\n",
       "4    Westenergie Metering GmbH    795\n",
       "5       Stromnetz Hamburg GmbH    701\n",
       "6         SWM Versorgungs GmbH    598\n",
       "7                 Privatperson    569\n",
       "8                     ALDI SÜD    557\n",
       "9                  Allego GmbH    552"
      ]
     },
     "execution_count": 124,
     "metadata": {},
     "output_type": "execute_result"
    }
   ],
   "source": [
    "top_ten_betreiber"
   ]
  },
  {
   "cell_type": "code",
   "execution_count": 125,
   "id": "fd932abe",
   "metadata": {},
   "outputs": [
    {
     "data": {
      "application/vnd.plotly.v1+json": {
       "config": {
        "plotlyServerURL": "https://plot.ly"
       },
       "data": [
        {
         "alignmentgroup": "True",
         "hovertemplate": "betreiber=%{x}<br>Anzahl=%{marker.color}<extra></extra>",
         "legendgroup": "",
         "marker": {
          "color": [
           2154,
           2006,
           894,
           825,
           795,
           701,
           598,
           569,
           557,
           552
          ],
          "coloraxis": "coloraxis",
          "pattern": {
           "shape": ""
          }
         },
         "name": "",
         "offsetgroup": "",
         "orientation": "v",
         "showlegend": false,
         "textposition": "auto",
         "type": "bar",
         "x": [
          "E.ON Drive GmbH",
          "EnBW mobility+ AG und Co.KG",
          "EWE Go GmbH",
          "Mercedes-Benz AG",
          "Westenergie Metering GmbH",
          "Stromnetz Hamburg GmbH",
          "SWM Versorgungs GmbH",
          "Privatperson",
          "ALDI SÜD",
          "Allego GmbH"
         ],
         "xaxis": "x",
         "y": [
          2154,
          2006,
          894,
          825,
          795,
          701,
          598,
          569,
          557,
          552
         ],
         "yaxis": "y"
        }
       ],
       "layout": {
        "barmode": "relative",
        "coloraxis": {
         "colorbar": {
          "title": {
           "text": "Anzahl"
          }
         },
         "colorscale": [
          [
           0,
           "#0d0887"
          ],
          [
           0.1111111111111111,
           "#46039f"
          ],
          [
           0.2222222222222222,
           "#7201a8"
          ],
          [
           0.3333333333333333,
           "#9c179e"
          ],
          [
           0.4444444444444444,
           "#bd3786"
          ],
          [
           0.5555555555555556,
           "#d8576b"
          ],
          [
           0.6666666666666666,
           "#ed7953"
          ],
          [
           0.7777777777777778,
           "#fb9f3a"
          ],
          [
           0.8888888888888888,
           "#fdca26"
          ],
          [
           1,
           "#f0f921"
          ]
         ]
        },
        "height": 700,
        "legend": {
         "tracegroupgap": 0
        },
        "template": {
         "data": {
          "bar": [
           {
            "error_x": {
             "color": "#2a3f5f"
            },
            "error_y": {
             "color": "#2a3f5f"
            },
            "marker": {
             "line": {
              "color": "#E5ECF6",
              "width": 0.5
             },
             "pattern": {
              "fillmode": "overlay",
              "size": 10,
              "solidity": 0.2
             }
            },
            "type": "bar"
           }
          ],
          "barpolar": [
           {
            "marker": {
             "line": {
              "color": "#E5ECF6",
              "width": 0.5
             },
             "pattern": {
              "fillmode": "overlay",
              "size": 10,
              "solidity": 0.2
             }
            },
            "type": "barpolar"
           }
          ],
          "carpet": [
           {
            "aaxis": {
             "endlinecolor": "#2a3f5f",
             "gridcolor": "white",
             "linecolor": "white",
             "minorgridcolor": "white",
             "startlinecolor": "#2a3f5f"
            },
            "baxis": {
             "endlinecolor": "#2a3f5f",
             "gridcolor": "white",
             "linecolor": "white",
             "minorgridcolor": "white",
             "startlinecolor": "#2a3f5f"
            },
            "type": "carpet"
           }
          ],
          "choropleth": [
           {
            "colorbar": {
             "outlinewidth": 0,
             "ticks": ""
            },
            "type": "choropleth"
           }
          ],
          "contour": [
           {
            "colorbar": {
             "outlinewidth": 0,
             "ticks": ""
            },
            "colorscale": [
             [
              0,
              "#0d0887"
             ],
             [
              0.1111111111111111,
              "#46039f"
             ],
             [
              0.2222222222222222,
              "#7201a8"
             ],
             [
              0.3333333333333333,
              "#9c179e"
             ],
             [
              0.4444444444444444,
              "#bd3786"
             ],
             [
              0.5555555555555556,
              "#d8576b"
             ],
             [
              0.6666666666666666,
              "#ed7953"
             ],
             [
              0.7777777777777778,
              "#fb9f3a"
             ],
             [
              0.8888888888888888,
              "#fdca26"
             ],
             [
              1,
              "#f0f921"
             ]
            ],
            "type": "contour"
           }
          ],
          "contourcarpet": [
           {
            "colorbar": {
             "outlinewidth": 0,
             "ticks": ""
            },
            "type": "contourcarpet"
           }
          ],
          "heatmap": [
           {
            "colorbar": {
             "outlinewidth": 0,
             "ticks": ""
            },
            "colorscale": [
             [
              0,
              "#0d0887"
             ],
             [
              0.1111111111111111,
              "#46039f"
             ],
             [
              0.2222222222222222,
              "#7201a8"
             ],
             [
              0.3333333333333333,
              "#9c179e"
             ],
             [
              0.4444444444444444,
              "#bd3786"
             ],
             [
              0.5555555555555556,
              "#d8576b"
             ],
             [
              0.6666666666666666,
              "#ed7953"
             ],
             [
              0.7777777777777778,
              "#fb9f3a"
             ],
             [
              0.8888888888888888,
              "#fdca26"
             ],
             [
              1,
              "#f0f921"
             ]
            ],
            "type": "heatmap"
           }
          ],
          "heatmapgl": [
           {
            "colorbar": {
             "outlinewidth": 0,
             "ticks": ""
            },
            "colorscale": [
             [
              0,
              "#0d0887"
             ],
             [
              0.1111111111111111,
              "#46039f"
             ],
             [
              0.2222222222222222,
              "#7201a8"
             ],
             [
              0.3333333333333333,
              "#9c179e"
             ],
             [
              0.4444444444444444,
              "#bd3786"
             ],
             [
              0.5555555555555556,
              "#d8576b"
             ],
             [
              0.6666666666666666,
              "#ed7953"
             ],
             [
              0.7777777777777778,
              "#fb9f3a"
             ],
             [
              0.8888888888888888,
              "#fdca26"
             ],
             [
              1,
              "#f0f921"
             ]
            ],
            "type": "heatmapgl"
           }
          ],
          "histogram": [
           {
            "marker": {
             "pattern": {
              "fillmode": "overlay",
              "size": 10,
              "solidity": 0.2
             }
            },
            "type": "histogram"
           }
          ],
          "histogram2d": [
           {
            "colorbar": {
             "outlinewidth": 0,
             "ticks": ""
            },
            "colorscale": [
             [
              0,
              "#0d0887"
             ],
             [
              0.1111111111111111,
              "#46039f"
             ],
             [
              0.2222222222222222,
              "#7201a8"
             ],
             [
              0.3333333333333333,
              "#9c179e"
             ],
             [
              0.4444444444444444,
              "#bd3786"
             ],
             [
              0.5555555555555556,
              "#d8576b"
             ],
             [
              0.6666666666666666,
              "#ed7953"
             ],
             [
              0.7777777777777778,
              "#fb9f3a"
             ],
             [
              0.8888888888888888,
              "#fdca26"
             ],
             [
              1,
              "#f0f921"
             ]
            ],
            "type": "histogram2d"
           }
          ],
          "histogram2dcontour": [
           {
            "colorbar": {
             "outlinewidth": 0,
             "ticks": ""
            },
            "colorscale": [
             [
              0,
              "#0d0887"
             ],
             [
              0.1111111111111111,
              "#46039f"
             ],
             [
              0.2222222222222222,
              "#7201a8"
             ],
             [
              0.3333333333333333,
              "#9c179e"
             ],
             [
              0.4444444444444444,
              "#bd3786"
             ],
             [
              0.5555555555555556,
              "#d8576b"
             ],
             [
              0.6666666666666666,
              "#ed7953"
             ],
             [
              0.7777777777777778,
              "#fb9f3a"
             ],
             [
              0.8888888888888888,
              "#fdca26"
             ],
             [
              1,
              "#f0f921"
             ]
            ],
            "type": "histogram2dcontour"
           }
          ],
          "mesh3d": [
           {
            "colorbar": {
             "outlinewidth": 0,
             "ticks": ""
            },
            "type": "mesh3d"
           }
          ],
          "parcoords": [
           {
            "line": {
             "colorbar": {
              "outlinewidth": 0,
              "ticks": ""
             }
            },
            "type": "parcoords"
           }
          ],
          "pie": [
           {
            "automargin": true,
            "type": "pie"
           }
          ],
          "scatter": [
           {
            "fillpattern": {
             "fillmode": "overlay",
             "size": 10,
             "solidity": 0.2
            },
            "type": "scatter"
           }
          ],
          "scatter3d": [
           {
            "line": {
             "colorbar": {
              "outlinewidth": 0,
              "ticks": ""
             }
            },
            "marker": {
             "colorbar": {
              "outlinewidth": 0,
              "ticks": ""
             }
            },
            "type": "scatter3d"
           }
          ],
          "scattercarpet": [
           {
            "marker": {
             "colorbar": {
              "outlinewidth": 0,
              "ticks": ""
             }
            },
            "type": "scattercarpet"
           }
          ],
          "scattergeo": [
           {
            "marker": {
             "colorbar": {
              "outlinewidth": 0,
              "ticks": ""
             }
            },
            "type": "scattergeo"
           }
          ],
          "scattergl": [
           {
            "marker": {
             "colorbar": {
              "outlinewidth": 0,
              "ticks": ""
             }
            },
            "type": "scattergl"
           }
          ],
          "scattermapbox": [
           {
            "marker": {
             "colorbar": {
              "outlinewidth": 0,
              "ticks": ""
             }
            },
            "type": "scattermapbox"
           }
          ],
          "scatterpolar": [
           {
            "marker": {
             "colorbar": {
              "outlinewidth": 0,
              "ticks": ""
             }
            },
            "type": "scatterpolar"
           }
          ],
          "scatterpolargl": [
           {
            "marker": {
             "colorbar": {
              "outlinewidth": 0,
              "ticks": ""
             }
            },
            "type": "scatterpolargl"
           }
          ],
          "scatterternary": [
           {
            "marker": {
             "colorbar": {
              "outlinewidth": 0,
              "ticks": ""
             }
            },
            "type": "scatterternary"
           }
          ],
          "surface": [
           {
            "colorbar": {
             "outlinewidth": 0,
             "ticks": ""
            },
            "colorscale": [
             [
              0,
              "#0d0887"
             ],
             [
              0.1111111111111111,
              "#46039f"
             ],
             [
              0.2222222222222222,
              "#7201a8"
             ],
             [
              0.3333333333333333,
              "#9c179e"
             ],
             [
              0.4444444444444444,
              "#bd3786"
             ],
             [
              0.5555555555555556,
              "#d8576b"
             ],
             [
              0.6666666666666666,
              "#ed7953"
             ],
             [
              0.7777777777777778,
              "#fb9f3a"
             ],
             [
              0.8888888888888888,
              "#fdca26"
             ],
             [
              1,
              "#f0f921"
             ]
            ],
            "type": "surface"
           }
          ],
          "table": [
           {
            "cells": {
             "fill": {
              "color": "#EBF0F8"
             },
             "line": {
              "color": "white"
             }
            },
            "header": {
             "fill": {
              "color": "#C8D4E3"
             },
             "line": {
              "color": "white"
             }
            },
            "type": "table"
           }
          ]
         },
         "layout": {
          "annotationdefaults": {
           "arrowcolor": "#2a3f5f",
           "arrowhead": 0,
           "arrowwidth": 1
          },
          "autotypenumbers": "strict",
          "coloraxis": {
           "colorbar": {
            "outlinewidth": 0,
            "ticks": ""
           }
          },
          "colorscale": {
           "diverging": [
            [
             0,
             "#8e0152"
            ],
            [
             0.1,
             "#c51b7d"
            ],
            [
             0.2,
             "#de77ae"
            ],
            [
             0.3,
             "#f1b6da"
            ],
            [
             0.4,
             "#fde0ef"
            ],
            [
             0.5,
             "#f7f7f7"
            ],
            [
             0.6,
             "#e6f5d0"
            ],
            [
             0.7,
             "#b8e186"
            ],
            [
             0.8,
             "#7fbc41"
            ],
            [
             0.9,
             "#4d9221"
            ],
            [
             1,
             "#276419"
            ]
           ],
           "sequential": [
            [
             0,
             "#0d0887"
            ],
            [
             0.1111111111111111,
             "#46039f"
            ],
            [
             0.2222222222222222,
             "#7201a8"
            ],
            [
             0.3333333333333333,
             "#9c179e"
            ],
            [
             0.4444444444444444,
             "#bd3786"
            ],
            [
             0.5555555555555556,
             "#d8576b"
            ],
            [
             0.6666666666666666,
             "#ed7953"
            ],
            [
             0.7777777777777778,
             "#fb9f3a"
            ],
            [
             0.8888888888888888,
             "#fdca26"
            ],
            [
             1,
             "#f0f921"
            ]
           ],
           "sequentialminus": [
            [
             0,
             "#0d0887"
            ],
            [
             0.1111111111111111,
             "#46039f"
            ],
            [
             0.2222222222222222,
             "#7201a8"
            ],
            [
             0.3333333333333333,
             "#9c179e"
            ],
            [
             0.4444444444444444,
             "#bd3786"
            ],
            [
             0.5555555555555556,
             "#d8576b"
            ],
            [
             0.6666666666666666,
             "#ed7953"
            ],
            [
             0.7777777777777778,
             "#fb9f3a"
            ],
            [
             0.8888888888888888,
             "#fdca26"
            ],
            [
             1,
             "#f0f921"
            ]
           ]
          },
          "colorway": [
           "#636efa",
           "#EF553B",
           "#00cc96",
           "#ab63fa",
           "#FFA15A",
           "#19d3f3",
           "#FF6692",
           "#B6E880",
           "#FF97FF",
           "#FECB52"
          ],
          "font": {
           "color": "#2a3f5f"
          },
          "geo": {
           "bgcolor": "white",
           "lakecolor": "white",
           "landcolor": "#E5ECF6",
           "showlakes": true,
           "showland": true,
           "subunitcolor": "white"
          },
          "hoverlabel": {
           "align": "left"
          },
          "hovermode": "closest",
          "mapbox": {
           "style": "light"
          },
          "paper_bgcolor": "white",
          "plot_bgcolor": "#E5ECF6",
          "polar": {
           "angularaxis": {
            "gridcolor": "white",
            "linecolor": "white",
            "ticks": ""
           },
           "bgcolor": "#E5ECF6",
           "radialaxis": {
            "gridcolor": "white",
            "linecolor": "white",
            "ticks": ""
           }
          },
          "scene": {
           "xaxis": {
            "backgroundcolor": "#E5ECF6",
            "gridcolor": "white",
            "gridwidth": 2,
            "linecolor": "white",
            "showbackground": true,
            "ticks": "",
            "zerolinecolor": "white"
           },
           "yaxis": {
            "backgroundcolor": "#E5ECF6",
            "gridcolor": "white",
            "gridwidth": 2,
            "linecolor": "white",
            "showbackground": true,
            "ticks": "",
            "zerolinecolor": "white"
           },
           "zaxis": {
            "backgroundcolor": "#E5ECF6",
            "gridcolor": "white",
            "gridwidth": 2,
            "linecolor": "white",
            "showbackground": true,
            "ticks": "",
            "zerolinecolor": "white"
           }
          },
          "shapedefaults": {
           "line": {
            "color": "#2a3f5f"
           }
          },
          "ternary": {
           "aaxis": {
            "gridcolor": "white",
            "linecolor": "white",
            "ticks": ""
           },
           "baxis": {
            "gridcolor": "white",
            "linecolor": "white",
            "ticks": ""
           },
           "bgcolor": "#E5ECF6",
           "caxis": {
            "gridcolor": "white",
            "linecolor": "white",
            "ticks": ""
           }
          },
          "title": {
           "x": 0.05
          },
          "xaxis": {
           "automargin": true,
           "gridcolor": "white",
           "linecolor": "white",
           "ticks": "",
           "title": {
            "standoff": 15
           },
           "zerolinecolor": "white",
           "zerolinewidth": 2
          },
          "yaxis": {
           "automargin": true,
           "gridcolor": "white",
           "linecolor": "white",
           "ticks": "",
           "title": {
            "standoff": 15
           },
           "zerolinecolor": "white",
           "zerolinewidth": 2
          }
         }
        },
        "title": {
         "text": "Wie viele Ladesäulen haben die Top 10 Betreiber in Deutschland?"
        },
        "xaxis": {
         "anchor": "y",
         "domain": [
          0,
          1
         ],
         "title": {
          "text": "Betreiber"
         }
        },
        "yaxis": {
         "anchor": "x",
         "domain": [
          0,
          1
         ],
         "title": {
          "text": "Anzahl der Ladesäulen"
         }
        }
       }
      },
      "text/html": [
       "<div>                            <div id=\"ffa40745-07d1-44bd-a408-9acf37aceae8\" class=\"plotly-graph-div\" style=\"height:700px; width:100%;\"></div>            <script type=\"text/javascript\">                require([\"plotly\"], function(Plotly) {                    window.PLOTLYENV=window.PLOTLYENV || {};                                    if (document.getElementById(\"ffa40745-07d1-44bd-a408-9acf37aceae8\")) {                    Plotly.newPlot(                        \"ffa40745-07d1-44bd-a408-9acf37aceae8\",                        [{\"alignmentgroup\":\"True\",\"hovertemplate\":\"betreiber=%{x}<br>Anzahl=%{marker.color}<extra></extra>\",\"legendgroup\":\"\",\"marker\":{\"color\":[2154,2006,894,825,795,701,598,569,557,552],\"coloraxis\":\"coloraxis\",\"pattern\":{\"shape\":\"\"}},\"name\":\"\",\"offsetgroup\":\"\",\"orientation\":\"v\",\"showlegend\":false,\"textposition\":\"auto\",\"x\":[\"E.ON Drive GmbH\",\"EnBW mobility+ AG und Co.KG\",\"EWE Go GmbH\",\"Mercedes-Benz AG\",\"Westenergie Metering GmbH\",\"Stromnetz Hamburg GmbH\",\"SWM Versorgungs GmbH\",\"Privatperson\",\"ALDI S\\u00dcD\",\"Allego GmbH\"],\"xaxis\":\"x\",\"y\":[2154,2006,894,825,795,701,598,569,557,552],\"yaxis\":\"y\",\"type\":\"bar\"}],                        {\"template\":{\"data\":{\"histogram2dcontour\":[{\"type\":\"histogram2dcontour\",\"colorbar\":{\"outlinewidth\":0,\"ticks\":\"\"},\"colorscale\":[[0.0,\"#0d0887\"],[0.1111111111111111,\"#46039f\"],[0.2222222222222222,\"#7201a8\"],[0.3333333333333333,\"#9c179e\"],[0.4444444444444444,\"#bd3786\"],[0.5555555555555556,\"#d8576b\"],[0.6666666666666666,\"#ed7953\"],[0.7777777777777778,\"#fb9f3a\"],[0.8888888888888888,\"#fdca26\"],[1.0,\"#f0f921\"]]}],\"choropleth\":[{\"type\":\"choropleth\",\"colorbar\":{\"outlinewidth\":0,\"ticks\":\"\"}}],\"histogram2d\":[{\"type\":\"histogram2d\",\"colorbar\":{\"outlinewidth\":0,\"ticks\":\"\"},\"colorscale\":[[0.0,\"#0d0887\"],[0.1111111111111111,\"#46039f\"],[0.2222222222222222,\"#7201a8\"],[0.3333333333333333,\"#9c179e\"],[0.4444444444444444,\"#bd3786\"],[0.5555555555555556,\"#d8576b\"],[0.6666666666666666,\"#ed7953\"],[0.7777777777777778,\"#fb9f3a\"],[0.8888888888888888,\"#fdca26\"],[1.0,\"#f0f921\"]]}],\"heatmap\":[{\"type\":\"heatmap\",\"colorbar\":{\"outlinewidth\":0,\"ticks\":\"\"},\"colorscale\":[[0.0,\"#0d0887\"],[0.1111111111111111,\"#46039f\"],[0.2222222222222222,\"#7201a8\"],[0.3333333333333333,\"#9c179e\"],[0.4444444444444444,\"#bd3786\"],[0.5555555555555556,\"#d8576b\"],[0.6666666666666666,\"#ed7953\"],[0.7777777777777778,\"#fb9f3a\"],[0.8888888888888888,\"#fdca26\"],[1.0,\"#f0f921\"]]}],\"heatmapgl\":[{\"type\":\"heatmapgl\",\"colorbar\":{\"outlinewidth\":0,\"ticks\":\"\"},\"colorscale\":[[0.0,\"#0d0887\"],[0.1111111111111111,\"#46039f\"],[0.2222222222222222,\"#7201a8\"],[0.3333333333333333,\"#9c179e\"],[0.4444444444444444,\"#bd3786\"],[0.5555555555555556,\"#d8576b\"],[0.6666666666666666,\"#ed7953\"],[0.7777777777777778,\"#fb9f3a\"],[0.8888888888888888,\"#fdca26\"],[1.0,\"#f0f921\"]]}],\"contourcarpet\":[{\"type\":\"contourcarpet\",\"colorbar\":{\"outlinewidth\":0,\"ticks\":\"\"}}],\"contour\":[{\"type\":\"contour\",\"colorbar\":{\"outlinewidth\":0,\"ticks\":\"\"},\"colorscale\":[[0.0,\"#0d0887\"],[0.1111111111111111,\"#46039f\"],[0.2222222222222222,\"#7201a8\"],[0.3333333333333333,\"#9c179e\"],[0.4444444444444444,\"#bd3786\"],[0.5555555555555556,\"#d8576b\"],[0.6666666666666666,\"#ed7953\"],[0.7777777777777778,\"#fb9f3a\"],[0.8888888888888888,\"#fdca26\"],[1.0,\"#f0f921\"]]}],\"surface\":[{\"type\":\"surface\",\"colorbar\":{\"outlinewidth\":0,\"ticks\":\"\"},\"colorscale\":[[0.0,\"#0d0887\"],[0.1111111111111111,\"#46039f\"],[0.2222222222222222,\"#7201a8\"],[0.3333333333333333,\"#9c179e\"],[0.4444444444444444,\"#bd3786\"],[0.5555555555555556,\"#d8576b\"],[0.6666666666666666,\"#ed7953\"],[0.7777777777777778,\"#fb9f3a\"],[0.8888888888888888,\"#fdca26\"],[1.0,\"#f0f921\"]]}],\"mesh3d\":[{\"type\":\"mesh3d\",\"colorbar\":{\"outlinewidth\":0,\"ticks\":\"\"}}],\"scatter\":[{\"fillpattern\":{\"fillmode\":\"overlay\",\"size\":10,\"solidity\":0.2},\"type\":\"scatter\"}],\"parcoords\":[{\"type\":\"parcoords\",\"line\":{\"colorbar\":{\"outlinewidth\":0,\"ticks\":\"\"}}}],\"scatterpolargl\":[{\"type\":\"scatterpolargl\",\"marker\":{\"colorbar\":{\"outlinewidth\":0,\"ticks\":\"\"}}}],\"bar\":[{\"error_x\":{\"color\":\"#2a3f5f\"},\"error_y\":{\"color\":\"#2a3f5f\"},\"marker\":{\"line\":{\"color\":\"#E5ECF6\",\"width\":0.5},\"pattern\":{\"fillmode\":\"overlay\",\"size\":10,\"solidity\":0.2}},\"type\":\"bar\"}],\"scattergeo\":[{\"type\":\"scattergeo\",\"marker\":{\"colorbar\":{\"outlinewidth\":0,\"ticks\":\"\"}}}],\"scatterpolar\":[{\"type\":\"scatterpolar\",\"marker\":{\"colorbar\":{\"outlinewidth\":0,\"ticks\":\"\"}}}],\"histogram\":[{\"marker\":{\"pattern\":{\"fillmode\":\"overlay\",\"size\":10,\"solidity\":0.2}},\"type\":\"histogram\"}],\"scattergl\":[{\"type\":\"scattergl\",\"marker\":{\"colorbar\":{\"outlinewidth\":0,\"ticks\":\"\"}}}],\"scatter3d\":[{\"type\":\"scatter3d\",\"line\":{\"colorbar\":{\"outlinewidth\":0,\"ticks\":\"\"}},\"marker\":{\"colorbar\":{\"outlinewidth\":0,\"ticks\":\"\"}}}],\"scattermapbox\":[{\"type\":\"scattermapbox\",\"marker\":{\"colorbar\":{\"outlinewidth\":0,\"ticks\":\"\"}}}],\"scatterternary\":[{\"type\":\"scatterternary\",\"marker\":{\"colorbar\":{\"outlinewidth\":0,\"ticks\":\"\"}}}],\"scattercarpet\":[{\"type\":\"scattercarpet\",\"marker\":{\"colorbar\":{\"outlinewidth\":0,\"ticks\":\"\"}}}],\"carpet\":[{\"aaxis\":{\"endlinecolor\":\"#2a3f5f\",\"gridcolor\":\"white\",\"linecolor\":\"white\",\"minorgridcolor\":\"white\",\"startlinecolor\":\"#2a3f5f\"},\"baxis\":{\"endlinecolor\":\"#2a3f5f\",\"gridcolor\":\"white\",\"linecolor\":\"white\",\"minorgridcolor\":\"white\",\"startlinecolor\":\"#2a3f5f\"},\"type\":\"carpet\"}],\"table\":[{\"cells\":{\"fill\":{\"color\":\"#EBF0F8\"},\"line\":{\"color\":\"white\"}},\"header\":{\"fill\":{\"color\":\"#C8D4E3\"},\"line\":{\"color\":\"white\"}},\"type\":\"table\"}],\"barpolar\":[{\"marker\":{\"line\":{\"color\":\"#E5ECF6\",\"width\":0.5},\"pattern\":{\"fillmode\":\"overlay\",\"size\":10,\"solidity\":0.2}},\"type\":\"barpolar\"}],\"pie\":[{\"automargin\":true,\"type\":\"pie\"}]},\"layout\":{\"autotypenumbers\":\"strict\",\"colorway\":[\"#636efa\",\"#EF553B\",\"#00cc96\",\"#ab63fa\",\"#FFA15A\",\"#19d3f3\",\"#FF6692\",\"#B6E880\",\"#FF97FF\",\"#FECB52\"],\"font\":{\"color\":\"#2a3f5f\"},\"hovermode\":\"closest\",\"hoverlabel\":{\"align\":\"left\"},\"paper_bgcolor\":\"white\",\"plot_bgcolor\":\"#E5ECF6\",\"polar\":{\"bgcolor\":\"#E5ECF6\",\"angularaxis\":{\"gridcolor\":\"white\",\"linecolor\":\"white\",\"ticks\":\"\"},\"radialaxis\":{\"gridcolor\":\"white\",\"linecolor\":\"white\",\"ticks\":\"\"}},\"ternary\":{\"bgcolor\":\"#E5ECF6\",\"aaxis\":{\"gridcolor\":\"white\",\"linecolor\":\"white\",\"ticks\":\"\"},\"baxis\":{\"gridcolor\":\"white\",\"linecolor\":\"white\",\"ticks\":\"\"},\"caxis\":{\"gridcolor\":\"white\",\"linecolor\":\"white\",\"ticks\":\"\"}},\"coloraxis\":{\"colorbar\":{\"outlinewidth\":0,\"ticks\":\"\"}},\"colorscale\":{\"sequential\":[[0.0,\"#0d0887\"],[0.1111111111111111,\"#46039f\"],[0.2222222222222222,\"#7201a8\"],[0.3333333333333333,\"#9c179e\"],[0.4444444444444444,\"#bd3786\"],[0.5555555555555556,\"#d8576b\"],[0.6666666666666666,\"#ed7953\"],[0.7777777777777778,\"#fb9f3a\"],[0.8888888888888888,\"#fdca26\"],[1.0,\"#f0f921\"]],\"sequentialminus\":[[0.0,\"#0d0887\"],[0.1111111111111111,\"#46039f\"],[0.2222222222222222,\"#7201a8\"],[0.3333333333333333,\"#9c179e\"],[0.4444444444444444,\"#bd3786\"],[0.5555555555555556,\"#d8576b\"],[0.6666666666666666,\"#ed7953\"],[0.7777777777777778,\"#fb9f3a\"],[0.8888888888888888,\"#fdca26\"],[1.0,\"#f0f921\"]],\"diverging\":[[0,\"#8e0152\"],[0.1,\"#c51b7d\"],[0.2,\"#de77ae\"],[0.3,\"#f1b6da\"],[0.4,\"#fde0ef\"],[0.5,\"#f7f7f7\"],[0.6,\"#e6f5d0\"],[0.7,\"#b8e186\"],[0.8,\"#7fbc41\"],[0.9,\"#4d9221\"],[1,\"#276419\"]]},\"xaxis\":{\"gridcolor\":\"white\",\"linecolor\":\"white\",\"ticks\":\"\",\"title\":{\"standoff\":15},\"zerolinecolor\":\"white\",\"automargin\":true,\"zerolinewidth\":2},\"yaxis\":{\"gridcolor\":\"white\",\"linecolor\":\"white\",\"ticks\":\"\",\"title\":{\"standoff\":15},\"zerolinecolor\":\"white\",\"automargin\":true,\"zerolinewidth\":2},\"scene\":{\"xaxis\":{\"backgroundcolor\":\"#E5ECF6\",\"gridcolor\":\"white\",\"linecolor\":\"white\",\"showbackground\":true,\"ticks\":\"\",\"zerolinecolor\":\"white\",\"gridwidth\":2},\"yaxis\":{\"backgroundcolor\":\"#E5ECF6\",\"gridcolor\":\"white\",\"linecolor\":\"white\",\"showbackground\":true,\"ticks\":\"\",\"zerolinecolor\":\"white\",\"gridwidth\":2},\"zaxis\":{\"backgroundcolor\":\"#E5ECF6\",\"gridcolor\":\"white\",\"linecolor\":\"white\",\"showbackground\":true,\"ticks\":\"\",\"zerolinecolor\":\"white\",\"gridwidth\":2}},\"shapedefaults\":{\"line\":{\"color\":\"#2a3f5f\"}},\"annotationdefaults\":{\"arrowcolor\":\"#2a3f5f\",\"arrowhead\":0,\"arrowwidth\":1},\"geo\":{\"bgcolor\":\"white\",\"landcolor\":\"#E5ECF6\",\"subunitcolor\":\"white\",\"showland\":true,\"showlakes\":true,\"lakecolor\":\"white\"},\"title\":{\"x\":0.05},\"mapbox\":{\"style\":\"light\"}}},\"xaxis\":{\"anchor\":\"y\",\"domain\":[0.0,1.0],\"title\":{\"text\":\"Betreiber\"}},\"yaxis\":{\"anchor\":\"x\",\"domain\":[0.0,1.0],\"title\":{\"text\":\"Anzahl der Lades\\u00e4ulen\"}},\"coloraxis\":{\"colorbar\":{\"title\":{\"text\":\"Anzahl\"}},\"colorscale\":[[0.0,\"#0d0887\"],[0.1111111111111111,\"#46039f\"],[0.2222222222222222,\"#7201a8\"],[0.3333333333333333,\"#9c179e\"],[0.4444444444444444,\"#bd3786\"],[0.5555555555555556,\"#d8576b\"],[0.6666666666666666,\"#ed7953\"],[0.7777777777777778,\"#fb9f3a\"],[0.8888888888888888,\"#fdca26\"],[1.0,\"#f0f921\"]]},\"legend\":{\"tracegroupgap\":0},\"title\":{\"text\":\"Wie viele Lades\\u00e4ulen haben die Top 10 Betreiber in Deutschland?\"},\"barmode\":\"relative\",\"height\":700},                        {\"responsive\": true}                    ).then(function(){\n",
       "                            \n",
       "var gd = document.getElementById('ffa40745-07d1-44bd-a408-9acf37aceae8');\n",
       "var x = new MutationObserver(function (mutations, observer) {{\n",
       "        var display = window.getComputedStyle(gd).display;\n",
       "        if (!display || display === 'none') {{\n",
       "            console.log([gd, 'removed!']);\n",
       "            Plotly.purge(gd);\n",
       "            observer.disconnect();\n",
       "        }}\n",
       "}});\n",
       "\n",
       "// Listen for the removal of the full notebook cells\n",
       "var notebookContainer = gd.closest('#notebook-container');\n",
       "if (notebookContainer) {{\n",
       "    x.observe(notebookContainer, {childList: true});\n",
       "}}\n",
       "\n",
       "// Listen for the clearing of the current output cell\n",
       "var outputEl = gd.closest('.output');\n",
       "if (outputEl) {{\n",
       "    x.observe(outputEl, {childList: true});\n",
       "}}\n",
       "\n",
       "                        })                };                });            </script>        </div>"
      ]
     },
     "metadata": {},
     "output_type": "display_data"
    }
   ],
   "source": [
    "fig = px.bar(top_ten_betreiber,\n",
    "            x = 'betreiber',\n",
    "            y = 'count',\n",
    "            title = 'Wie viele Ladesäulen haben die Top 10 Betreiber in Deutschland?',\n",
    "            color = 'count',\n",
    "            labels={'count': 'Anzahl'},\n",
    "            height = 700)\n",
    "fig.update_layout(xaxis_title='Betreiber', yaxis_title='Anzahl der Ladesäulen')\n",
    "fig.show()"
   ]
  },
  {
   "cell_type": "markdown",
   "id": "96e7af4e",
   "metadata": {},
   "source": [
    "### Heatmap Deutschland"
   ]
  },
  {
   "cell_type": "code",
   "execution_count": 126,
   "id": "b515eb5e",
   "metadata": {},
   "outputs": [
    {
     "name": "stdout",
     "output_type": "stream",
     "text": [
      "Requirement already satisfied: folium in c:\\anaconda\\lib\\site-packages (0.15.0)\n",
      "Requirement already satisfied: branca>=0.6.0 in c:\\anaconda\\lib\\site-packages (from folium) (0.7.0)\n",
      "Requirement already satisfied: jinja2>=2.9 in c:\\anaconda\\lib\\site-packages (from folium) (3.1.2)\n",
      "Requirement already satisfied: numpy in c:\\anaconda\\lib\\site-packages (from folium) (1.24.3)\n",
      "Requirement already satisfied: requests in c:\\anaconda\\lib\\site-packages (from folium) (2.31.0)\n",
      "Requirement already satisfied: MarkupSafe>=2.0 in c:\\anaconda\\lib\\site-packages (from jinja2>=2.9->folium) (2.1.1)\n",
      "Requirement already satisfied: charset-normalizer<4,>=2 in c:\\anaconda\\lib\\site-packages (from requests->folium) (2.0.4)\n",
      "Requirement already satisfied: idna<4,>=2.5 in c:\\anaconda\\lib\\site-packages (from requests->folium) (3.4)\n",
      "Requirement already satisfied: urllib3<3,>=1.21.1 in c:\\anaconda\\lib\\site-packages (from requests->folium) (1.26.16)\n",
      "Requirement already satisfied: certifi>=2017.4.17 in c:\\anaconda\\lib\\site-packages (from requests->folium) (2023.7.22)\n"
     ]
    }
   ],
   "source": [
    "!pip install folium"
   ]
  },
  {
   "cell_type": "code",
   "execution_count": 127,
   "id": "193a40b6",
   "metadata": {},
   "outputs": [],
   "source": [
    "# Heatmap Deutschlandkarte\n",
    "import folium\n",
    "from folium.plugins import HeatMap\n",
    "\n",
    "\n",
    "# Mittelpunkt der Karte (Durchschnitt der Koordinaten)\n",
    "map_center = [ds['breitengrad'].mean(), ds['laengengrad'].mean()]\n",
    "\n",
    "# Erstelle eine Deutschlandkarte als Hintergrund\n",
    "germany_map = folium.Map(location=map_center, zoom_start=6, tiles='http://a.tile.openstreetmap.de/tiles/osmde/{z}/{x}/{y}.png',\n",
    "            attr='&copy; <a href=\"https://www.openstreetmap.de/karte.html\">OpenStreetMap Deutschland</a> contributors')\n",
    "\n",
    "# Extrahiere die Koordinaten aus dem Datensatz\n",
    "coordinates = ds[['breitengrad', 'laengengrad']].values\n",
    "\n",
    "# Füge die Heatmap hinzu\n",
    "HeatMap(coordinates,radius=15, blur=10, gradient={0.4: 'blue', 0.8: 'yellow', 1: 'red'}, min_opacity=0.4).add_to(germany_map)\n",
    "\n",
    "\n",
    "# Speichere die Karte in einer Datei (zum Beispiel \"heatmap_on_germany_map.html\")\n",
    "germany_map.save(\"heatmap_on_germany_map.html\")\n"
   ]
  },
  {
   "cell_type": "markdown",
   "id": "bf13185c",
   "metadata": {},
   "source": [
    "### Heatmap BaWü"
   ]
  },
  {
   "cell_type": "code",
   "execution_count": 135,
   "id": "b0434dff",
   "metadata": {},
   "outputs": [
    {
     "name": "stdout",
     "output_type": "stream",
     "text": [
      "Collecting shapely\n",
      "  Obtaining dependency information for shapely from https://files.pythonhosted.org/packages/9e/39/029c441d8af32ab423b229c4525ce5ce6707318155b59634811a4c56f5c4/shapely-2.0.2-cp311-cp311-win_amd64.whl.metadata\n",
      "  Downloading shapely-2.0.2-cp311-cp311-win_amd64.whl.metadata (7.2 kB)\n",
      "Requirement already satisfied: numpy>=1.14 in c:\\anaconda\\lib\\site-packages (from shapely) (1.24.3)\n",
      "Downloading shapely-2.0.2-cp311-cp311-win_amd64.whl (1.4 MB)\n",
      "   ---------------------------------------- 0.0/1.4 MB ? eta -:--:--\n",
      "   ---------------------------------------- 0.0/1.4 MB ? eta -:--:--\n",
      "   ---------------------------------------- 0.0/1.4 MB ? eta -:--:--\n",
      "   - -------------------------------------- 0.1/1.4 MB 2.0 MB/s eta 0:00:01\n",
      "   ------- -------------------------------- 0.3/1.4 MB 4.3 MB/s eta 0:00:01\n",
      "   ---------------- ----------------------- 0.6/1.4 MB 5.4 MB/s eta 0:00:01\n",
      "   -------------------------- ------------- 1.0/1.4 MB 6.7 MB/s eta 0:00:01\n",
      "   ------------------------------------ --- 1.3/1.4 MB 6.9 MB/s eta 0:00:01\n",
      "   ---------------------------------------- 1.4/1.4 MB 6.5 MB/s eta 0:00:00\n",
      "Installing collected packages: shapely\n",
      "Successfully installed shapely-2.0.2\n"
     ]
    }
   ],
   "source": [
    "! pip install shapely"
   ]
  },
  {
   "cell_type": "code",
   "execution_count": 136,
   "id": "bdd245e9",
   "metadata": {},
   "outputs": [
    {
     "data": {
      "text/html": [
       "<div style=\"width:100%;\"><div style=\"position:relative;width:100%;height:0;padding-bottom:60%;\"><span style=\"color:#565656\">Make this Notebook Trusted to load map: File -> Trust Notebook</span><iframe srcdoc=\"&lt;!DOCTYPE html&gt;\n",
       "&lt;html&gt;\n",
       "&lt;head&gt;\n",
       "    \n",
       "    &lt;meta http-equiv=&quot;content-type&quot; content=&quot;text/html; charset=UTF-8&quot; /&gt;\n",
       "    \n",
       "        &lt;script&gt;\n",
       "            L_NO_TOUCH = false;\n",
       "            L_DISABLE_3D = false;\n",
       "        &lt;/script&gt;\n",
       "    \n",
       "    &lt;style&gt;html, body {width: 100%;height: 100%;margin: 0;padding: 0;}&lt;/style&gt;\n",
       "    &lt;style&gt;#map {position:absolute;top:0;bottom:0;right:0;left:0;}&lt;/style&gt;\n",
       "    &lt;script src=&quot;https://cdn.jsdelivr.net/npm/leaflet@1.9.3/dist/leaflet.js&quot;&gt;&lt;/script&gt;\n",
       "    &lt;script src=&quot;https://code.jquery.com/jquery-3.7.1.min.js&quot;&gt;&lt;/script&gt;\n",
       "    &lt;script src=&quot;https://cdn.jsdelivr.net/npm/bootstrap@5.2.2/dist/js/bootstrap.bundle.min.js&quot;&gt;&lt;/script&gt;\n",
       "    &lt;script src=&quot;https://cdnjs.cloudflare.com/ajax/libs/Leaflet.awesome-markers/2.0.2/leaflet.awesome-markers.js&quot;&gt;&lt;/script&gt;\n",
       "    &lt;link rel=&quot;stylesheet&quot; href=&quot;https://cdn.jsdelivr.net/npm/leaflet@1.9.3/dist/leaflet.css&quot;/&gt;\n",
       "    &lt;link rel=&quot;stylesheet&quot; href=&quot;https://cdn.jsdelivr.net/npm/bootstrap@5.2.2/dist/css/bootstrap.min.css&quot;/&gt;\n",
       "    &lt;link rel=&quot;stylesheet&quot; href=&quot;https://netdna.bootstrapcdn.com/bootstrap/3.0.0/css/bootstrap.min.css&quot;/&gt;\n",
       "    &lt;link rel=&quot;stylesheet&quot; href=&quot;https://cdn.jsdelivr.net/npm/@fortawesome/fontawesome-free@6.2.0/css/all.min.css&quot;/&gt;\n",
       "    &lt;link rel=&quot;stylesheet&quot; href=&quot;https://cdnjs.cloudflare.com/ajax/libs/Leaflet.awesome-markers/2.0.2/leaflet.awesome-markers.css&quot;/&gt;\n",
       "    &lt;link rel=&quot;stylesheet&quot; href=&quot;https://cdn.jsdelivr.net/gh/python-visualization/folium/folium/templates/leaflet.awesome.rotate.min.css&quot;/&gt;\n",
       "    \n",
       "            &lt;meta name=&quot;viewport&quot; content=&quot;width=device-width,\n",
       "                initial-scale=1.0, maximum-scale=1.0, user-scalable=no&quot; /&gt;\n",
       "            &lt;style&gt;\n",
       "                #map_2d9fcf22d4c72ad322031743d1ebbf54 {\n",
       "                    position: relative;\n",
       "                    width: 100.0%;\n",
       "                    height: 100.0%;\n",
       "                    left: 0.0%;\n",
       "                    top: 0.0%;\n",
       "                }\n",
       "                .leaflet-container { font-size: 1rem; }\n",
       "            &lt;/style&gt;\n",
       "        \n",
       "    &lt;script src=&quot;https://cdn.jsdelivr.net/gh/python-visualization/folium@main/folium/templates/leaflet_heat.min.js&quot;&gt;&lt;/script&gt;\n",
       "&lt;/head&gt;\n",
       "&lt;body&gt;\n",
       "    \n",
       "    \n",
       "            &lt;div class=&quot;folium-map&quot; id=&quot;map_2d9fcf22d4c72ad322031743d1ebbf54&quot; &gt;&lt;/div&gt;\n",
       "        \n",
       "&lt;/body&gt;\n",
       "&lt;script&gt;\n",
       "    \n",
       "    \n",
       "            var map_2d9fcf22d4c72ad322031743d1ebbf54 = L.map(\n",
       "                &quot;map_2d9fcf22d4c72ad322031743d1ebbf54&quot;,\n",
       "                {\n",
       "                    center: [48.6616, 9.3501],\n",
       "                    crs: L.CRS.EPSG3857,\n",
       "                    zoom: 10,\n",
       "                    zoomControl: true,\n",
       "                    preferCanvas: false,\n",
       "                }\n",
       "            );\n",
       "\n",
       "            \n",
       "\n",
       "        \n",
       "    \n",
       "            var tile_layer_04f11710881e0c8c8ed611d9bd698b0c = L.tileLayer(\n",
       "                &quot;https://{s}.tile.openstreetmap.org/{z}/{x}/{y}.png&quot;,\n",
       "                {&quot;attribution&quot;: &quot;Data by \\u0026copy; \\u003ca target=\\&quot;_blank\\&quot; href=\\&quot;http://openstreetmap.org\\&quot;\\u003eOpenStreetMap\\u003c/a\\u003e, under \\u003ca target=\\&quot;_blank\\&quot; href=\\&quot;http://www.openstreetmap.org/copyright\\&quot;\\u003eODbL\\u003c/a\\u003e.&quot;, &quot;detectRetina&quot;: false, &quot;maxNativeZoom&quot;: 18, &quot;maxZoom&quot;: 18, &quot;minZoom&quot;: 0, &quot;noWrap&quot;: false, &quot;opacity&quot;: 1, &quot;subdomains&quot;: &quot;abc&quot;, &quot;tms&quot;: false}\n",
       "            );\n",
       "        \n",
       "    \n",
       "                tile_layer_04f11710881e0c8c8ed611d9bd698b0c.addTo(map_2d9fcf22d4c72ad322031743d1ebbf54);\n",
       "    \n",
       "            var heat_map_d9b4f6eef612fdddbb593dee75d0592c = L.heatLayer(\n",
       "                [[49.537029, 8.590752], [49.53901, 8.577788], [49.537833, 8.580596], [49.551763, 8.56969], [49.591784, 8.455257], [49.593028, 8.488111], [49.59415, 8.589247], [49.4448, 8.89662], [49.56861, 8.709771], [49.56621, 8.70864], [49.32338, 8.74141], [47.788112, 9.615542], [47.788141, 9.615348], [47.787846, 9.617234], [47.787302, 9.609988], [47.79397659, 9.613240957], [47.784168, 9.583723], [47.771572, 9.59971], [47.764942, 9.594246], [47.729942, 9.602704], [47.778218, 9.613018], [47.68657, 9.83504], [47.87597, 9.38344], [47.69787, 9.82472], [47.69787, 9.82472], [47.683014, 9.839411], [47.79958, 9.621726], [47.812161, 9.633635], [47.8175725, 9.64197087], [47.80708, 9.64186], [47.819014, 9.641858], [47.814972, 9.63885], [47.836403, 9.633268], [47.836403, 9.633268], [47.82483, 9.649429], [47.828076, 9.650301], [47.796587, 9.505607], [47.89436, 9.61259], [47.821352, 10.007464], [47.821572, 10.007856], [47.826494, 10.014622], [47.822584, 10.010406], [47.6880211, 10.0295953], [47.6951329, 10.0404015], [47.689697, 10.045733], [47.682502, 10.040438], [47.93701, 10.09463], [47.954081, 9.635787], [47.948889, 9.641944], [47.94438, 9.64356], [47.91387252, 9.743346315], [47.925554, 9.759089], [47.92522, 9.751775], [47.9255862, 9.7405549], [47.913947, 9.741547], [47.913947, 9.741547], [47.913947, 9.741547], [47.73012, 9.88063], [47.770169, 9.8915925], [47.821392, 9.794651], [47.852188, 9.744627], [47.953496, 9.576322], [48.7973996, 9.258740728], [48.807714, 9.27406], [48.815587, 9.265791], [48.814613, 9.265515], [48.83402, 9.262808], [48.819628, 9.255237], [48.82247215, 9.318242556], [48.818655, 9.29954], [48.82282, 9.29623], [48.821367, 9.296855], [48.833868, 9.315528], [48.819224, 9.300475], [48.825724, 9.30148], [48.825378, 9.301457], [48.82573, 9.30138], [48.825672, 9.301555], [48.82555, 9.30173], [48.82573, 9.301532], [48.825476, 9.301424], [48.825398, 9.301495], [48.82561, 9.301507], [48.825648, 9.301568], [48.824863, 9.302563], [48.8301487, 9.3144094], [48.857939, 9.297972], [48.8325, 9.321], [48.83743, 9.333069], [48.863963, 9.316089], [48.894847, 9.314496], [48.872577, 9.380828], [48.87612, 9.39612], [48.877253, 9.401819], [48.811113, 9.374758], [48.813179, 9.376587], [48.81424193, 9.356418032], [48.81428598, 9.357952371], [48.81366118, 9.357562842], [48.79049616, 9.342383287], [48.885679, 9.387291], [48.867806, 9.3521429], [48.86778, 9.3514], [48.944461, 9.427308], [48.94681, 9.43317], [48.57477, 9.25514], [48.944259, 9.432853], [48.93566436, 9.446498055], [48.9622453, 9.432212], [48.977607, 9.580918], [48.9754524, 9.595562519], [48.966437, 9.399544], [48.923724, 9.481552], [48.987691, 9.463359], [48.906917, 9.467923], [48.91064, 9.46745], [48.928798, 9.370945], [48.8441, 9.7213], [48.81645, 9.532299], [48.81013, 9.53839], [48.79686421, 9.515433778], [48.807107, 9.514837], [48.48262, 9.32333], [48.806704, 9.53977], [48.80543179, 9.508998679], [48.80665899, 9.509928576], [48.80667035, 9.509978158], [48.80673291, 9.51010989], [48.80649781, 9.509986925], [48.886122, 9.527359], [48.87343, 9.626847], [48.803641, 9.4843736], [48.798859, 9.480595], [48.805938, 9.573586], [48.875562, 9.471924], [48.4138986, 9.4938511], [49.41023, 9.4909264], [48.41428, 9.47985], [48.412557, 9.49173], [48.348672, 9.375334], [48.326469, 9.331234], [48.320258, 9.432028], [48.376198, 9.565855], [48.53606, 9.27966], [48.53641, 9.2797], [48.53648, 9.27991], [48.53707, 9.28447], [48.53704, 9.28446], [48.53702, 9.28454], [48.53706, 9.28438], [48.53709, 9.28439], [48.53508, 9.28109], [48.53512, 9.28115], [48.53256, 9.27754], [48.53953, 9.27918], [48.548632, 9.273869], [48.5406221, 9.2791077], [48.5288533, 9.3464847], [48.500091, 9.209951], [48.501043, 9.200609], [48.47627, 9.19501], [48.49267, 9.20067], [48.495577, 9.206187], [48.477374, 9.20297], [48.509648, 9.221092], [48.488598, 9.212194], [48.492505, 9.216563], [48.4939, 9.2182], [48.48263, 9.22979], [48.5198, 9.22789], [48.506046, 9.224543], [48.506046, 9.224543], [48.53059, 9.196195], [48.5320643, 9.179523545], [48.497685, 9.1536304], [48.465212, 9.226933], [48.465807, 9.221725], [48.47676522, 9.223966242], [48.486171, 9.259143], [48.4775, 9.2428], [48.4775, 9.2428], [48.428115, 9.251889], [48.430245, 9.254893], [48.431774, 9.380229], [48.4529942, 9.3403399], [48.4551492, 9.3880901], [48.5207853, 9.4073171], [49.474858, 8.614378], [49.477472, 8.61429], [49.452962, 8.58837], [49.46408, 8.602485], [49.504375, 8.603693], [49.504148, 8.602555], [49.38515, 8.571], [49.392184, 8.5949767], [49.3918, 8.56459], [49.3802133, 8.5753633], [49.387287, 8.571389], [49.36935, 8.6001], [49.341696, 8.543022], [49.318546, 8.548705], [49.3208261, 8.5679409], [49.317097, 8.57589], [49.407402, 8.537158], [49.41089641, 8.543704748], [49.26546081, 8.629027605], [49.26746151, 8.59857738], [49.282444, 8.584181], [49.26729, 8.615653], [49.265826, 8.614426], [49.24553617, 8.635082273], [49.300285, 8.498076], [49.304587, 8.504254], [49.394218, 8.788977], [49.288857, 8.677225], [49.293157, 8.701533], [49.297218, 8.678921], [49.297218, 8.678921], [49.29364, 8.699145], [49.349299, 8.690431], [49.3355918, 8.6715663], [49.3355918, 8.6715663], [49.304996, 8.629313], [49.480898, 8.660382], [49.341823, 8.660026], [49.3934, 8.63442], [49.331695, 8.684364], [49.273211, 8.696102], [49.247084, 8.70856], [49.461194, 8.805979], [49.430746, 8.811931], [49.47302, 8.98683], [49.465047, 8.984294], [49.461069, 8.987824], [49.480317, 8.827869], [49.511111, 8.729722], [49.570058, 8.612268], [49.554253, 8.666341], [49.547134, 8.672207], [49.542466, 8.647314], [49.507796, 8.638089], [49.507796, 8.638089], [49.499336, 8.660807], [49.588675, 8.653663], [49.240926, 8.879562], [49.2409206, 8.8795631], [49.247248, 8.878005], [49.24811, 8.86153], [49.2537, 8.8775], [49.250583, 8.879565], [49.252646, 8.888313], [49.334138, 8.850768], [49.319296, 8.821151], [49.232335, 8.7741343], [49.295369, 8.950124], [49.320083, 8.868028], [49.32104, 8.867383], [49.35575, 8.87063], [49.295278, 8.822778], [48.38719, 8.628636], [48.36549, 8.63665], [48.36398, 8.63689], [48.35663, 8.6186], [48.291161, 8.34438], [48.190635, 8.3512727], [48.08439, 9.3819], [48.1673936, 8.627284], [48.143544, 8.637994], [48.143412, 8.637915], [48.43412, 8.637915], [48.1134, 8.6053], [48.205725, 8.620757], [48.205928, 8.620832], [48.20629, 8.62735], [48.206218, 8.627155], [48.18272, 8.45778], [48.230089, 8.394727], [48.2322222, 8.4225], [48.29834, 8.62799], [48.29545, 8.57463], [48.280302, 8.591867], [48.18421, 8.40954], [48.184889, 8.410173], [49.00231, 9.77109], [48.99642, 9.76911], [49.00445, 9.775], [49.016814, 9.666609], [48.960316, 9.849417], [49.111188, 9.795035], [49.1211097, 9.7351139], [49.116381, 9.732819], [49.115596, 9.73491], [49.095985, 9.761262], [49.095971, 9.761424], [49.115998, 9.736766], [49.108588, 9.764315], [49.199483, 9.792243], [49.103429, 9.696124], [49.121143, 10.021172], [49.1413288, 10.0384121], [49.135856, 10.075394], [49.13846, 10.06729], [49.13555, 10.05985], [49.13974, 10.07608], [49.13439998, 10.0699342], [49.13527, 10.075823], [49.140786, 10.062409], [49.070046, 10.208514], [49.2544, 9.86314], [49.253086, 9.845822], [49.2110546, 10.0628037], [49.210671, 10.068606], [48.069643, 8.446168], [48.05725, 8.464778], [48.06987, 8.465368], [48.060014, 8.467894], [48.050106, 8.460342], [48.057485, 8.447887], [48.052353, 8.45966], [48.052353, 8.45966], [48.078479, 8.44937], [48.078479, 8.44937], [48.000993, 8.393186], [48.06301679, 8.527684435], [48.066528, 8.535611], [48.03240851, 8.532240987], [48.03192909, 8.528967619], [48.09163924, 8.555521541], [48.094354, 8.552254], [48.099167, 8.423871], [48.0786667, 8.366055556], [48.1334167, 8.221527778], [48.12551, 8.32662], [48.1255, 8.326627], [48.12306, 8.33824], [48.03408474, 8.206143683], [48.05154, 8.20691], [48.139599, 8.420484], [48.14062, 8.4189], [48.142371, 8.198627], [48.101887, 8.205989], [48.04492, 8.30425], [47.9532607, 8.4953891], [47.933767, 8.498903], [47.94881, 8.50191], [47.956457, 8.500785], [47.963704, 8.503894], [47.8380432, 8.539933], [47.923656, 8.496327], [47.892232, 8.551992], [47.92939, 8.44661], [48.07255505, 9.223320471], [48.080618, 9.235313], [48.08727809, 9.219059641], [48.092757, 9.241776], [48.250279, 9.217828], [48.2505, 9.217217], [48.242568, 9.310285], [48.01827113, 9.24981131], [48.412828, 9.534894], [48.124036, 9.078044], [48.072377, 9.044482], [48.019137, 9.500289], [48.016891, 9.502351], [48.007195, 9.511336], [47.952283, 9.385808], [48.043282, 9.321406], [48.064431, 9.415278], [47.993468, 9.109931], [47.9940394, 9.1131963], [47.927343, 9.246833], [47.935104, 9.171071], [47.935103, 9.171028], [48.523738, 9.030534], [48.540497, 9.01259], [48.522453, 9.056597], [48.522453, 9.056597], [48.520353, 9.049325], [48.516392, 9.04281], [48.520353, 9.049325], [48.521128, 9.090323], [48.521128, 9.090323], [48.51074, 9.07175], [48.518124, 9.060235], [48.511168, 9.075125], [48.51395, 9.06466], [48.509306, 9.054766], [48.517416, 9.084465], [48.517416, 9.084465], [48.51425, 9.066971], [48.519361, 9.071559], [48.527741, 9.087969], [48.531875, 9.066479], [48.519361, 9.071559], [48.52761, 9.089944], [48.526064, 9.064097], [48.546581, 9.060428], [48.498331, 8.817952], [48.47606, 8.93176], [48.473627, 8.946181], [48.495267, 8.813754], [48.474523, 8.94886], [48.40879372, 9.065577275], [48.40542291, 9.057337249], [48.40418, 9.039732], [48.530749, 8.962909], [48.41134714, 9.035072317], [48.25339, 9.02266], [48.606437, 9.094217], [48.53094, 9.14993], [48.525562, 9.144259], [48.414589, 8.896624], [48.432911, 9.068758], [48.449344, 8.803045], [47.92419, 8.64159], [47.92352295, 8.662178993], [47.929352, 8.742123], [47.982609, 8.805236], [47.988175, 8.795829], [47.989201, 8.79657], [47.9821563, 8.8033694], [48.074788, 8.737627], [48.072402, 8.740625], [48.073512, 8.738537], [48.075696, 8.734513], [48.149587, 8.788165], [47.999233, 8.780982], [48.063215, 8.767501], [48.066313, 8.763477], [48.063251, 8.767309], [48.1088, 8.73581], [48.0376, 8.78215], [48.07064339, 8.628238376], [48.075977, 8.623981], [47.608677, 7.9131348], [47.608637, 7.913102], [47.626043, 7.906204], [47.751185, 7.999662], [47.62942, 8.07295], [47.63510876, 8.278973139], [47.628259, 8.304125], [47.621069, 8.218004], [47.634648, 8.277262], [47.661279, 8.431041], [47.750762, 8.307544], [47.7789851, 8.4636369], [47.746306, 8.45], [47.76685, 8.37377], [47.62175218, 8.326774574], [47.628259, 8.304125], [47.621697, 8.322694], [47.621697, 8.305457], [47.62827, 8.314657], [47.653199, 8.574437], [47.683343, 8.157378], [47.81314, 8.33193], [47.817656, 8.33323], [47.719048, 8.196837], [47.775, 8.25997], [47.791274, 8.248239], [47.775289, 8.256228], [47.799869, 8.037518], [48.260357, 8.850552], [48.27129, 8.850812], [48.27123998, 8.850871325], [48.27285386, 8.856064081], [48.299435, 8.845514], [48.2607196, 8.8520731], [48.2758391, 8.8518073], [48.286653, 8.72223], [48.28601, 8.809193], [48.211526, 8.760009], [48.232609, 8.794298], [48.16291, 8.860409], [48.345875, 8.956345], [48.340382, 8.958057], [48.34930697, 8.962337213], [48.34928558, 8.962315756], [48.289026, 9.114273], [48.326571, 9.041705], [48.212279, 9.011798], [48.21051803, 9.02959793], [48.23479, 9.02716], [48.25414775, 9.01564067], [48.18038, 8.962395], [48.179958, 8.962403], [48.178397, 9.118298], [48.171806, 9.094306], [48.191436, 9.088957], [48.751548, 8.225941], [48.759881, 8.237686], [48.766895, 8.232501], [48.77959, 8.26741], [48.766444, 8.232502], [47.9978277, 7.8488269], [47.99727, 7.85438], [47.991269, 7.856361], [47.99623, 7.84657], [47.99065, 7.84664], [47.972968, 7.828331], [47.98258, 7.853524], [47.991605, 7.860415], [47.999801, 7.850711], [48.01257, 7.849605], [48.02848, 7.843064], [48.027842, 7.83339], [48.022156, 7.858055], [48.015615, 7.854375], [48.027492, 7.845423], [48.0258103, 7.8552789], [48.008179, 7.828383], [48.014174, 7.813381], [48.0309247, 7.8550503], [48.008893, 7.834365], [48.0309247, 7.8550503], [47.996577, 7.79043], [47.995958, 7.791295], [47.9866753, 7.7802253], [47.987736, 7.79498], [47.997777, 7.79368], [47.982901, 7.71917], [47.989111, 7.800167], [47.994189, 7.813555], [47.985149, 7.810448], [47.98344, 7.880068], [47.984412, 7.893325], [49.406071, 8.680941], [49.409399, 8.661824], [49.406424, 8.681374], [49.360468, 8.705494], [49.402985, 8.687863], [49.4043, 8.66354], [49.403708, 8.66321], [49.403708, 8.66321], [49.402435, 8.666438], [49.410921, 8.712041], [49.411731, 8.696741], [49.4101547, 8.7051643], [49.428058, 8.748028], [49.413541, 8.692575], [49.423175, 8.684672], [49.41949, 8.682852], [49.434675, 8.67825], [49.419048, 8.649889], [49.41363, 8.65533], [49.412647, 8.656032], [49.426194, 8.639611], [49.403619, 8.646103], [49.387181, 8.6647419], [49.38336, 8.66231], [49.3795, 8.67501], [49.3795, 8.67501], [49.39114, 8.68643], [49.38852, 8.68904], [49.36521792, 8.67451036], [49.36567137, 8.675239292], [49.1371, 9.21424], [49.145792, 9.221074], [49.135145, 9.219322], [49.135441, 9.205371], [49.146052, 9.216969], [49.131225, 9.2183296], [49.150278, 9.216667], [49.148107, 9.217517], [49.152883, 9.222938], [49.148744, 9.214319], [49.14965413, 9.214989873], [49.1646223, 9.222692456], [49.15213, 9.215298], [49.15213, 9.215298], [49.16776134, 9.218877187], [49.154836, 9.201207], [49.184597, 9.173518], [49.180575, 9.168294], [49.168686, 9.20156], [49.15393, 9.201252], [49.18354, 9.1805], [49.15559, 9.20203], [49.15561, 9.20182], [49.138687, 9.1814], [49.133355, 9.19402], [49.11733543, 9.194402008], [49.121612, 9.212309], [49.123568, 9.201428], [49.119333, 9.16114], [49.1499303, 9.21327424], [49.0048, 8.4324], [49.0212477, 8.4312265], [49.0200875, 8.4398208], [49.00854, 8.410456958], [49.011866, 8.399363], [49.01447, 8.39745], [49.010444, 8.384975], [49.01901263, 8.374062518], [48.995, 8.3998], [49.052892, 8.396011], [49.030807, 8.368075], [49.00765, 8.342689], [49.033955, 8.357294], [49.01563895, 8.35154305], [48.9993, 8.46532], [48.99729, 8.43733], [48.99729, 8.43733], [48.996776, 8.463732], [48.98567, 8.447471], [48.9442482, 8.488452911], [49.489556, 8.462356], [49.4877217, 8.4638764], [49.485865, 8.464597], [49.484933, 8.469883], [49.48496, 8.47798], [49.47371558, 8.539322019], [49.4738341, 8.539300561], [49.47379575, 8.539509773], [49.476583, 8.520583], [49.465569, 8.507998], [49.47774, 8.46655], [49.477474, 8.469641], [49.50708, 8.51633], [49.487316, 8.491261], [49.443214, 8.53177], [49.47516795, 8.495809318], [49.47521536, 8.495833981], [49.47538755, 8.495739581], [49.47530825, 8.495669843], [49.47532655, 8.495685937], [49.47306228, 8.500168993], [49.47310053, 8.500050612], [49.489758, 8.491708], [49.508069, 8.493772], [49.498005, 8.479062], [49.49924, 8.502375], [49.558188, 8.463022], [49.455353, 8.482321], [49.44850659, 8.495677984], [49.43358, 8.52883], [49.44190129, 8.572949682], [49.44189999, 8.572967116], [49.45829, 8.56292], [49.4652, 8.56261], [49.46653433, 8.549558447], [49.497756, 8.555587], [49.483988, 8.530087], [49.483803, 8.538095], [49.526752, 8.486749], [49.520632, 8.498847], [49.52431, 8.484964], [49.51687753, 8.47602168], [49.534161, 8.460188], [49.5476309, 8.4568345], [49.543913, 8.454025], [49.543452, 8.476173529], [49.54756, 8.456839], [49.518989, 8.556785], [49.518914, 8.535855], [49.516069, 8.523391], [48.890976, 8.686452], [48.89068485, 8.681772482], [48.889758, 8.704613], [48.89032, 8.70164], [48.902293, 8.662892], [48.90203, 8.65898], [48.8873, 8.66268], [48.857006, 8.663613], [48.861943, 8.700702], [48.83693, 8.729438], [48.77527597, 9.180706637], [48.786199, 9.181773], [48.790351, 9.18262], [48.78279877, 9.180100441], [48.7796955, 9.1787798], [48.782814, 9.175328], [48.7814226, 9.1763148], [48.783587, 9.176294], [48.77880096, 9.175479889], [48.77967, 9.16633], [48.77597, 9.16398], [48.7733417, 9.1631314], [48.77603557, 9.164984877], [48.7747, 9.16404], [48.7779, 9.16431], [48.7814, 9.15838], [48.7609014, 9.1725936], [48.766161, 9.179216], [48.76677, 9.17609], [48.783901, 9.19004], [48.773011, 9.186497], [48.77144, 9.19499], [48.77952468, 9.207583609], [48.77032, 9.20166], [48.781007, 9.227022], [48.787707, 9.219073], [48.7803, 9.191509], [48.7864, 9.20983], [48.78428261, 9.195652446], [48.78245, 9.22637], [48.801169, 9.172876], [48.797872, 9.211598], [48.787087, 9.189956], [48.8022, 9.17337], [48.80686331, 9.18857214], [48.7922436, 9.18038288], [48.792876, 9.19024], [48.79855, 9.1757], [48.79637, 9.18149], [48.79918, 9.19316], [48.802166, 9.18175], [48.81, 9.16378], [48.78775329, 9.151611328], [48.800302, 9.162312], [48.7901, 9.170601], [48.79017, 9.15923], [48.775101, 9.15128], [48.783392, 9.157673], [48.783753, 9.147563], [48.7793007, 9.1286001], [48.78148, 9.12383], [48.769467, 9.141966], [48.769477, 9.142033], [48.770142, 9.154409], [48.77213438, 9.154958725], [48.75952009, 9.153413773], [48.778395, 9.233296], [48.776222, 9.237475], [48.7713013, 9.2453003], [48.7756996, 9.2585201], [48.788733, 9.236783], [48.788751, 9.236837], [48.788753, 9.236844], [48.7876895, 9.2342065], [48.7877435, 9.2343105], [48.787775, 9.234366], [48.7877755, 9.2343665], [48.7878215, 9.2344365], [48.7878775, 9.2345415], [48.7879265, 9.2346485], [48.787971, 9.234746], [48.794901, 9.238211], [48.782465, 9.246534], [48.782173, 9.246842], [48.782137, 9.246882], [48.782581, 9.246664], [48.782473, 9.246793], [48.782426, 9.246568], [48.78266, 9.246578], [48.782502, 9.246485], [48.782319, 9.246693], [48.782327, 9.246943], [48.782401, 9.246867], [48.782534, 9.24645], [48.782542, 9.246714], [48.782218, 9.247065], [48.78229, 9.246987], [48.7756004, 9.2787905], [48.76159678, 9.264352122], [48.76151437, 9.264410177], [48.768106, 9.264407], [48.78905777, 9.237684091], [48.78890975, 9.236987665], [48.788891, 9.237155761], [48.78730309, 9.2338494], [48.78724194, 9.23406584], [48.78727152, 9.23411709], [48.78733267, 9.23390064], [48.78736224, 9.23395189], [48.78736455, 9.23394884], [48.78739182, 9.23400313], [48.78739413, 9.23400008], [48.78742141, 9.23405436], [48.78745329, 9.23410257], [48.78895214, 9.23740949], [48.78891172, 9.23728782], [48.78884587, 9.23757093], [48.78865619, 9.2374857], [48.80557, 9.2142], [48.818409, 9.234548], [48.80777, 9.23433], [48.8068, 9.23674], [48.81004, 9.24926], [48.807538, 9.194154], [48.8177986, 9.1915398], [48.8181992, 9.20681], [48.8153314, 9.2045675], [48.8169645, 9.204100502], [48.81671195, 9.203816187], [48.81664483, 9.204146099], [48.81143, 9.21233], [48.82159, 9.18716], [48.829107, 9.17622], [48.810541, 9.163866], [48.832286, 9.169204], [48.83568, 9.201707], [48.8316002, 9.1850901], [48.848762, 9.163503], [48.81603, 9.15203], [48.81603, 9.17706], [48.81776677, 9.174940521], [48.81734876, 9.175365162], [48.81769521, 9.175200825], [48.783753, 9.147563], [48.810309, 9.150072], [48.804841, 9.155713], [48.81603, 9.16528], [48.81603, 9.17052], [48.81145395, 9.149781969], [48.82681036, 9.100284576], [48.8116989, 9.1237001], [48.81243, 9.11037], [48.805824, 9.089488], [48.822193, 9.094768], [48.809857, 9.118144], [48.81603, 9.1122], [48.7364407, 9.1221863], [48.72089, 9.1198], [48.720458, 9.1287429], [48.72465771, 9.122262312], [48.72467895, 9.1223696], [48.72471433, 9.122401787], [48.72466479, 9.122358871], [48.7246931, 9.122337413], [48.72470018, 9.1223696], [48.72472849, 9.122380329], [48.72470018, 9.122423244], [48.72478511, 9.1223696], [48.7246931, 9.122348142], [48.72478497, 9.119359326], [48.72447356, 9.121429991], [48.72448064, 9.12125833], [48.7248062, 9.119895767], [48.72461, 9.121664], [48.72458326, 9.119944047], [48.72474251, 9.119477343], [48.72457972, 9.120013785], [48.72453032, 9.121897531], [48.7247568, 9.1223696], [48.72485589, 9.122476888], [48.72479219, 9.122380329], [48.72473557, 9.122401787], [48.72466656, 9.122192574], [48.7245834, 9.122122837], [48.72496422, 9.122645766], [48.7247568, 9.122391058], [48.72514783, 9.122718287], [48.72467895, 9.122326685], [48.72477789, 9.12033565], [48.72472835, 9.120721888], [48.72494776, 9.119445156], [48.72467881, 9.121311974], [48.72460803, 9.120829176], [48.72466465, 9.121462178], [48.72467881, 9.121569466], [48.72468589, 9.121193957], [48.72453799, 9.121790636], [48.72644469, 9.121500095], [48.72616028, 9.121044424], [48.72618859, 9.121906354], [48.72617536, 9.12111543], [48.72637443, 9.121149329], [48.72627392, 9.121704078], [48.72645282, 9.121442009], [48.72635344, 9.121479498], [48.72640194, 9.121500095], [48.72670328, 9.121101131], [48.72656328, 9.121487111], [48.72626149, 9.121636677], [48.72654568, 9.121153323], [48.7265964, 9.121127722], [48.72626938, 9.121664783], [48.72665344, 9.121131747], [48.7260067, 9.121329792], [48.72671961, 9.121192128], [48.72625245, 9.121607655], [48.72621401, 9.12131183], [48.72649502, 9.121165474], [48.713266, 9.166818], [48.7132916, 9.1668283], [48.722716, 9.161907], [48.73782, 9.128137], [48.744689, 9.106151], [48.730945, 9.087112], [48.741107, 9.099362], [48.741101, 9.0994709], [48.741097, 9.0995435], [48.741091, 9.0996524], [48.7410809, 9.099834], [48.7410162, 9.0999372], [48.7409868, 9.0999343], [48.7408986, 9.0999256], [48.7408398, 9.0999198], [48.740928, 9.0999285], [48.7408104, 9.0999169], [48.749267, 9.17496], [48.7431, 9.15359], [48.708924, 9.206363], [48.719101, 9.2082], [48.732801, 9.201982], [48.69917, 9.21395], [48.7361984, 9.2249699], [48.745776, 9.208535], [48.73645, 9.22693], [48.73881, 9.21109], [48.399021, 9.997414], [48.445485, 9.987446], [48.365711, 9.941517], [48.411819, 10.010585], [48.430161, 10.018084], [48.426006, 9.959359], [48.442429, 9.986174], [48.396012, 9.981099], [48.4008074, 10.005362], [48.400807, 10.005362], [48.398038, 9.984046], [48.400639, 9.972028], [48.4028011, 9.9742358], [48.40158, 9.979353], [48.357866, 9.969829], [48.456812, 10.030017], [48.381855, 9.896588], [48.42118809, 9.935147787], [48.442398, 9.659075], [48.5105, 9.609], [48.456817, 10.029649], [48.538896, 10.129616], [48.50509, 10.128139], [48.409847, 9.940684], [48.432935, 9.772928], [48.4080307, 9.790154], [48.398975, 9.805573], [48.437012, 9.820351], [48.412767, 9.78178], [48.43932825, 9.817808069], [48.48938, 9.68649], [48.328599, 9.881436], [48.31389, 9.86102], [48.303502, 9.903994], [48.482237, 9.911473], [48.46334554, 9.947873333], [48.513378, 9.8507422], [48.455093, 9.9113609], [48.518901, 9.903521], [48.534719, 9.9245], [48.51649866, 9.758775424], [48.280578, 9.977956], [48.30245, 9.979794], [48.299732, 10.000902], [48.552305, 9.996752], [48.309956, 9.613892], [48.283056, 9.70439], [48.2838257, 9.7303316], [48.284112, 9.720718], [48.28298585, 9.722937942], [48.28293944, 9.722878933], [48.282088, 9.710444], [48.364831, 9.7117115], [48.1861, 9.69115], [48.2323649, 9.6840137], [48.091663, 9.802962], [48.100803, 9.770889], [48.074218, 9.822431], [48.1019121, 9.7913824], [48.1107227, 9.7784875], [48.10341, 9.806838], [48.099417, 9.793556], [48.096138, 9.785605], [48.080056, 9.805233], [48.066473, 9.609979], [48.013527, 10.031169], [47.9753074, 9.9403362], [48.174367, 9.793933], [48.046929, 10.079806], [48.1247, 10.112164], [48.12546, 10.109536], [48.088473, 10.076206], [48.241252, 9.883304], [48.26728821, 9.89018631], [48.1911, 10.020727], [48.1982613, 9.495429], [48.154073, 9.470771], [48.154433, 9.50016], [48.177931, 9.611834], [48.68333718, 9.011008086], [48.6890132, 9.0260393], [48.69435522, 9.012954682], [48.69431672, 9.012831301], [48.69425962, 9.012646899], [48.69422111, 9.012525529], [48.69386981, 9.012926298], [48.69383308, 9.012803587], [48.69377402, 9.012620158], [48.69416327, 9.012340236], [48.6939099, 9.013057827], [48.69381419, 9.012750714], [48.69377629, 9.012630873], [48.69375764, 9.012567082], [48.6943586, 9.012963949], [48.69430041, 9.012778877], [48.69424123, 9.012595146], [48.6941651, 9.012351065], [48.69414651, 9.012286692], [48.669837, 9.033949], [48.68567, 8.99349], [48.682624, 8.998616], [48.68291055, 8.983213273], [48.6841339, 8.9844347], [48.68394973, 8.983640766], [48.68382223, 8.984035051], [48.68983466, 9.005226522], [48.71327347, 8.988978885], [48.69443653, 8.999193415], [48.69729045, 9.000599086], [48.69737189, 9.000346237], [48.6967291, 9.00102198], [48.69706874, 9.000456827], [48.69687707, 9.000561535], [48.69734993, 9.000413962], [48.69699271, 9.000196652], [48.69673884, 9.000993816], [48.70567275, 8.991164751], [48.70544425, 8.991436172], [48.70544992, 8.991382332], [48.7054598, 8.9913536], [48.70546998, 8.991323477], [48.70554513, 8.99108837], [48.70555392, 8.991059853], [48.70541157, 8.991046908], [48.70539332, 8.991106862], [48.70141746, 8.984220981], [48.70186798, 8.982789352], [48.70191312, 8.982682063], [48.70193082, 8.982622384], [48.70195295, 8.982566058], [48.70197065, 8.982506379], [48.70197065, 8.982433959], [48.70199543, 8.982391044], [48.70158298, 8.982680052], [48.70154802, 8.982789352], [48.70180514, 8.982456758], [48.70160909, 8.982598915], [48.70163476, 8.982551306], [48.70167326, 8.982431947], [48.70171397, 8.982243522], [48.70174362, 8.982195913], [48.70238576, 8.983166202], [48.69140684, 8.976684808], [48.69686839, 9.00015647], [48.69667188, 9.000757285], [48.69664886, 9.000805565], [48.69662054, 9.000298628], [48.69660991, 9.000363001], [48.69657274, 9.000475653], [48.69652671, 9.000625857], [48.69681705, 9.000330814], [48.70584881, 8.99154983], [48.70601343, 8.991533066], [48.70597714, 8.991641696], [48.70599661, 8.990623798], [48.70592404, 8.990871902], [48.70587802, 8.990997966], [48.70574261, 8.991405661], [48.70572756, 8.991457965], [48.70577978, 8.991696681], [48.70579086, 8.991647398], [48.70134137, 8.981968624], [48.70139536, 8.981788916], [48.70141505, 8.981731248], [48.7012887, 8.982604307], [48.70111655, 8.983144102], [48.70113337, 8.983090458], [48.7011524, 8.983028767], [48.70117143, 8.982969088], [48.7013781, 8.982359556], [48.70129888, 8.982083288], [48.7012803, 8.982141626], [48.70111212, 8.982665998], [48.70103778, 8.982867164], [48.70101432, 8.983002615], [48.70160601, 8.981631336], [48.70148033, 8.982025621], [48.70139182, 8.982295853], [48.70186286, 8.981827446], [48.70184582, 8.981887172], [48.70182104, 8.981960262], [48.70178121, 8.982074256], [48.7017343, 8.981722887], [48.70172876, 8.98174205], [48.69227602, 8.976890338], [48.70166935, 8.981919413], [48.69229461, 8.976975498], [48.6923765, 8.977493164], [48.69240483, 8.977533397], [48.69222069, 8.977455613], [48.69225079, 8.977565584], [48.70150511, 8.982454774], [48.70152193, 8.981893522], [48.70854282, 9.013871456], [48.702997, 9.005091], [48.723429, 9.014175], [48.702532, 9.013724], [48.722472, 8.964417], [48.588576, 8.855886], [48.5809662, 8.8943564], [48.5983289, 8.8684822], [48.5983084, 8.8684822], [48.625575, 9.055152], [48.742305, 8.964577], [48.6422355, 8.8997794], [48.62543, 8.92365], [48.56494, 8.77474], [48.678733, 8.898815], [48.66351, 8.941271], [48.659957, 8.943261], [48.660051, 8.943198], [48.669433, 9.124433], [48.5076234, 8.828266], [48.630655, 8.994304], [48.53489, 8.76479], [48.7976969, 9.0045049], [48.79713, 9.0060064], [48.756324, 8.873396], [48.728443, 8.891751], [48.777416, 8.932631], [48.787406, 8.92215], [48.786703, 8.912432], [48.787416, 8.922251], [48.787442, 8.922406], [48.788201, 8.913796], [48.788118, 8.91382], [48.787852, 8.913907], [48.787531, 8.913535], [48.787489, 8.91355], [48.787768, 8.913942], [48.7881, 8.91377], [48.7629862, 8.93189359], [48.812009, 8.922092], [48.812009, 8.922092], [48.81095992, 8.927311451], [48.837556, 8.913689], [48.832479, 8.912313], [48.6515122, 8.8237022], [47.66545, 9.445376], [47.664242, 9.480667], [47.671147, 9.473758], [47.668167, 9.488111], [47.68861, 9.490143], [47.687666, 9.40958], [47.6675, 9.417639], [47.670038, 9.591253], [47.670714, 9.587873], [47.664278, 9.577925], [47.686409, 9.555538], [47.680755, 9.562963], [47.666488, 9.3667], [47.7253622, 9.4697533], [47.73928, 9.47828], [47.72364293, 9.465758515], [47.759028, 9.186361], [47.769404, 9.149782], [47.765379, 9.184691], [47.764985, 9.163172], [47.764974, 9.163207], [47.764996, 9.163148], [47.714816, 9.402672], [47.712531, 9.385918], [47.721509, 9.389306], [47.717154, 9.388316], [47.721458, 9.392029], [47.767609, 9.295167], [47.766833, 9.293167], [47.7352242, 9.2421401], [47.7471676, 9.2212651], [47.783054, 9.39006], [47.833279, 9.137174], [47.6767388, 9.3273835], [47.6950605, 9.2731151], [47.676297, 9.318793], [47.690814, 9.300412], [47.917596, 7.688929], [47.913599, 7.702176], [48.0, 7.7003244], [48.042589, 7.866021], [48.04295, 7.86827], [47.961942, 7.986999], [47.963931, 7.951964], [47.962967, 7.982577], [48.0603, 7.78068], [48.044678, 7.648451], [47.87043, 7.80999], [47.972639, 7.828139], [47.93568, 7.95342], [47.96951, 7.996328], [47.909055, 7.592565], [48.01612, 8.03413], [48.006988, 8.092218], [47.9223782, 7.7836291], [47.920431, 7.787179], [47.95642, 7.77651], [48.051531, 7.727019], [47.808867, 7.639707], [47.810887, 7.609133], [47.80753822, 7.630816112], [47.81023, 7.56987], [47.814421, 7.562007], [47.815983, 7.563645], [47.800282, 7.551201], [47.80361, 7.67917], [47.87269207, 7.650652388], [47.903012, 8.144799], [47.917204, 8.2075], [47.871972, 8.199194], [47.868029, 8.20577], [47.90592, 8.106344], [47.96404, 7.768852], [47.859022, 8.037157], [47.958052, 8.265034], [47.939779, 8.080231], [47.8976, 8.2744], [48.567112, 8.725056], [48.584608, 8.603391], [48.585719, 8.601973], [48.585756, 8.616833], [48.507395, 8.627418], [48.504006, 8.633615], [48.605376, 8.662075], [48.785411, 8.646118], [48.796898, 8.491589], [48.793683, 8.488909], [48.670871, 8.475795], [48.70571899, 8.755592346], [48.7058227, 8.7673402], [48.714709, 8.741309], [48.713049, 8.741878], [48.711412, 8.746535], [48.695827, 8.771816], [48.717585, 8.738101], [48.727914, 8.846066], [48.693008, 8.764831], [48.71056, 8.72166], [48.70628, 8.751798], [48.713117, 8.7419091], [48.727666, 8.783165], [48.663156, 8.691823], [48.658357, 8.598416], [48.722377, 8.62877], [48.746459, 8.680223], [48.719691, 8.842992], [48.799968, 8.440567], [48.805337, 8.444954], [48.79662, 8.435264], [48.07564, 7.92474], [48.092236, 7.953213], [48.083375, 7.916972], [48.064758, 8.016033], [48.06668, 7.881558], [48.063988, 7.900696], [48.169307, 8.065166], [48.193378, 8.033801], [48.120231, 7.848455], [48.11867, 7.847492], [48.123584, 7.835925], [48.111542, 7.851839], [48.22028, 7.77813], [48.2229378, 7.7773064], [48.22685, 7.75509], [48.15043, 7.69104], [48.142355, 7.703724], [48.148052, 7.709592], [48.1797775, 7.901749], [48.103511, 7.90643], [48.15671, 7.74496], [48.836804, 8.844131], [48.806067, 8.8621807], [48.8242181, 8.86946547], [48.839257, 8.868752], [48.8689, 8.8539], [48.96059, 8.62116], [48.901765, 8.578474], [48.870962, 8.587797], [48.870744, 8.63678], [48.916772, 8.78486], [48.916922, 8.781716], [48.908062, 8.773745], [48.915767, 8.669931], [48.824049, 8.802502], [48.9478693, 8.6691308], [48.971102, 8.728092], [48.956497, 8.703813], [48.862758, 8.56894], [48.839436, 8.547744], [48.842646, 8.530872], [48.936164, 8.807325], [48.953036, 8.85131], [49.025647, 8.758897], [49.001001, 8.801508], [48.962409, 8.812652], [48.96559, 8.801881], [49.000638, 8.808541], [48.871832, 8.80115], [48.870929, 8.819942], [48.689869, 9.191937], [48.690519, 9.1918902], [48.690519, 9.1918902], [48.69025762, 9.186709281], [48.69025762, 9.186709281], [48.7007105, 9.1438495], [48.7015412, 9.1432511], [48.69730759, 9.165086746], [48.674404, 9.167372], [48.699255, 9.141097], [48.651571, 9.207736], [48.65423, 9.196284], [48.657526, 9.226037], [48.651583, 9.207797], [48.680002, 9.209231], [48.682821, 9.212333], [48.660505, 9.219284], [48.653935, 9.199556], [48.679072, 9.215961], [48.67766, 9.22697], [48.39396, 9.10433], [48.62638107, 9.33022411], [48.616888, 9.304069], [48.640322, 9.303287], [48.627785, 9.343694], [48.628406, 9.33426], [48.636923, 9.340507], [48.637378, 9.3419], [48.622244, 9.237869], [48.6508, 9.30153], [48.65199, 9.29369], [48.5892, 9.24611], [48.59763, 9.27426], [48.569336, 9.40495], [48.56717378, 9.398623746], [48.65269693, 9.356223424], [48.706856, 9.421793], [48.711055, 9.416633], [48.712753, 9.413969], [48.711261, 9.416141], [48.708043, 9.4335], [48.644175, 9.429898], [48.651587, 9.439141], [48.642133, 9.433339], [48.6246498, 9.527223], [48.539966, 9.532298], [48.57302, 9.456254], [48.56469, 9.45481], [48.684751, 9.3631161], [48.679543, 9.3553743], [48.6203296, 9.4537792], [48.6903201, 9.4784532], [48.695116, 9.476028], [48.759046, 9.452582], [48.762057, 9.456028], [48.749826, 9.440538], [48.739303, 9.299276], [48.740555, 9.306107], [48.7421196, 9.3130475], [48.741047, 9.295998], [48.734786, 9.322398], [48.7367684, 9.3170595], [48.738077, 9.327469], [48.757079, 9.313677], [48.743219, 9.340183], [48.741259, 9.269032], [48.74758418, 9.272037065], [48.74759388, 9.272095967], [48.742766, 9.269493], [48.751524, 9.266848], [48.747557, 9.271928], [48.747572, 9.272032], [48.747656, 9.272519], [48.7181931, 9.3188125], [48.728256, 9.304733], [48.73478, 9.2987067], [48.73725726, 9.293221622], [48.73727103, 9.293143838], [48.73799413, 9.294432179], [48.714672, 9.300899], [48.715344, 9.272136], [48.714683, 9.2707], [48.7084758, 9.262531027], [48.732159, 9.244059], [48.693857, 9.318331], [48.718364, 9.383357], [48.71583, 9.38914], [48.7133453, 9.3842966], [48.490117, 8.654822], [48.457275, 8.696273], [48.45784031, 8.69611752], [48.462108, 8.437326], [48.4663, 8.4404], [48.48353, 8.41164], [48.466998, 8.409437], [48.461145, 8.417849], [48.463706, 8.434861], [48.466626, 8.442763], [48.508865, 8.370448], [48.525389, 8.261537], [48.511376, 8.374392], [48.538292, 8.403828], [48.513002, 8.378881], [48.472786, 8.509011], [48.52491, 8.563627], [48.5401, 8.574], [48.5281, 8.5619], [48.524505, 8.56274], [48.5601, 8.48165], [48.393995, 8.310908], [48.70187, 9.665566], [48.702829, 9.655385], [48.701792, 9.665588], [48.700517, 9.652344], [48.700441, 9.652545], [48.70697, 9.647492], [48.706994, 9.647422], [48.7094, 9.6561], [48.7029, 9.6551], [48.70054608, 9.651408248], [48.663738, 9.678111], [48.700538, 9.664378], [48.700538, 9.664378], [48.706547, 9.640593], [48.66902, 9.67056], [48.699246, 9.680116], [48.697835, 9.657238], [48.70160304, 9.665742931], [48.69452937, 9.665778171], [48.69462619, 9.665787559], [48.69452128, 9.665657472], [48.69432933, 9.666901263], [48.699743, 9.716208], [48.714952, 9.523914], [48.71625908, 9.536756701], [48.7112849, 9.5860838], [48.714056, 9.563167], [48.70704864, 9.610656051], [48.685882, 9.811244], [48.708635, 9.795335], [48.691039, 9.816171], [48.691039, 9.816171], [48.67624, 9.7655], [48.69606967, 9.742860824], [48.69271609, 9.731450589], [48.684272, 9.734216], [48.630523, 9.587232], [48.637316, 9.595184], [48.654728, 9.642433], [48.662125, 9.650122], [48.74577, 9.66312], [48.657846, 9.673746], [48.6535808, 9.7069676], [48.73066327, 9.617974143], [48.61596, 9.84286], [48.62981602, 9.809915877], [48.64022, 9.80244], [48.641356, 9.800675], [48.6314, 9.806327], [48.658752, 9.782206], [48.658752, 9.782206], [48.605276, 9.632882], [48.545043, 9.664021], [48.565275, 9.628443], [48.679146, 10.1557832], [48.6809, 10.138], [48.678327, 10.148971], [48.699506, 10.164588], [48.713777, 10.161114], [48.68947, 10.16248], [48.67288, 10.15236], [48.673833, 10.146306], [48.584106, 10.17879], [48.6176687, 10.2525242], [48.5839663, 10.1757226], [48.62013857, 10.24994436], [48.583937, 10.175605], [48.61561, 10.20539], [48.620944, 10.250621], [48.62015, 10.25022], [48.622613, 10.174279], [48.69261174, 10.06174253], [48.692512, 10.066681], [48.677367, 10.069103], [48.69274, 10.06439], [48.7016, 10.23888], [49.167185, 9.24276], [49.188556, 9.2201], [49.176522, 9.231003], [49.176568, 9.230854], [49.176612, 9.230721], [49.183989, 9.221764], [49.19384146, 9.220967889], [49.197989, 9.225463], [49.19384146, 9.220967889], [49.19384146, 9.220967889], [49.19384146, 9.220967889], [49.201619, 9.227097], [49.2304013, 9.2113397], [49.211175, 9.236242], [49.229115, 9.19914], [49.135954, 9.376713], [49.1492299, 9.2866814], [49.14161071, 9.0585898], [49.142057, 9.056348], [49.236891, 9.326547], [49.237118, 9.330635], [49.238156, 9.331092], [49.234998, 9.352034], [49.46157, 9.47534], [49.0899886, 9.3233424], [49.086131, 9.278024], [49.229715, 9.158383], [49.15013538, 9.128881999], [49.143898, 9.120727], [49.143886, 9.112623], [49.14345679, 9.124274577], [49.143417, 9.12425], [49.103032, 9.2021359], [49.101642, 9.213678], [49.105224, 9.20481], [49.075598, 9.302703], [49.080318, 9.307678], [49.080317, 9.307677], [49.076458, 9.305455], [49.076407, 9.305365], [49.076388, 9.305262], [49.076247, 9.305268], [49.079664, 9.308667], [49.16788139, 9.261239798], [49.095028, 9.380474], [49.14362528, 9.308847626], [49.14286164, 9.308965806], [49.308252, 9.4670461], [49.30824328, 9.467038344], [49.17478, 9.04705], [49.239, 9.168], [49.211667, 9.196111], [49.324102, 9.412272], [49.082074, 9.104045], [49.0841375, 9.0799773], [49.0825623, 9.0671554], [49.076479, 9.156592], [49.071619, 9.136701], [49.043998, 9.261927], [49.045691, 9.265929], [49.045116, 9.266087], [49.044276, 9.261639], [49.05268, 9.24245], [49.05796, 9.27926], [49.054014, 9.287055], [49.066648, 9.269067], [49.046534, 9.189912], [49.28515, 9.159708], [49.291971, 9.271254], [49.21194, 9.077253], [49.235038, 9.092082], [49.132435, 8.905976], [49.136819, 8.915302], [49.136556, 8.928], [49.328468, 9.489061], [49.382528, 9.632175], [49.204388, 9.48832], [49.204388, 9.48832], [49.204584, 9.50157], [49.203986, 9.503376], [49.184932, 9.411107], [49.17956184, 9.409503632], [49.1548862, 9.5037787], [49.205286, 9.640005], [49.207091, 9.639063], [49.20528, 9.68069], [49.225223, 9.683681], [49.22711, 9.68199], [49.28892495, 9.678214788], [49.25545897, 9.679905299], [49.28979, 9.56304], [49.28766, 9.561769], [49.376373, 9.8104], [49.287282, 9.617273], [49.38337, 9.69581], [49.24593432, 8.542257034], [49.24592436, 8.542275479], [49.24597857, 8.542129238], [49.212, 8.52762], [49.26589, 8.477972], [49.03837957, 8.690130361], [49.063583, 8.797662], [49.061302, 8.657436], [49.06693, 8.657123], [49.095884, 8.852289], [49.10739014, 8.850334883], [49.10744638, 8.81693915], [48.939363, 8.378597], [48.944263, 8.376075], [48.938258, 8.410977], [48.94141, 8.406455], [48.924631, 8.365972], [48.92577, 8.374388], [48.942212, 8.405723], [48.939652, 8.405896], [48.948669, 8.40219], [48.932673, 8.443907], [48.936652, 8.37467], [48.962734, 8.280926], [49.071227, 8.470776], [49.112831, 8.50452], [49.102815, 8.48076], [48.897703, 8.46993], [48.914424, 8.531671], [48.897934, 8.473783], [48.879613, 8.337298], [48.889453, 8.324202], [48.99332, 8.54475], [48.989603, 8.535184], [48.933011, 8.478855], [48.930108, 8.4717472], [49.073866, 8.393804], [49.090452, 8.430074], [49.1297, 8.4192], [49.1295047, 8.417252], [49.0461112, 8.5263167], [49.045014, 8.526036], [48.8353078, 8.4415159], [48.85492, 8.486319], [48.86083, 8.458695], [49.123303, 8.601246], [49.088775, 8.547441], [49.125035, 8.593608], [49.116932, 8.59103], [49.124218, 8.588072], [49.076839, 8.586869], [49.123634, 8.597425], [49.123813, 8.600682], [49.128594, 8.60122], [49.110596, 8.568308], [49.13713, 8.59276], [49.235267, 8.454193], [49.219549, 8.647401], [49.214223, 8.698334], [49.136046, 8.545014], [49.147424, 8.547105], [49.153004, 8.58707], [49.162905, 8.570877], [49.162909, 8.570962], [49.1609927, 8.567019], [49.16125, 8.567226], [49.173932, 8.6661064], [49.109589, 8.743333], [49.125062, 8.715917], [49.143217, 8.66888], [49.161668, 8.418081], [47.754251, 8.856443], [47.754235, 8.856297], [47.753535, 8.858779], [47.762038, 8.829227], [47.7610984, 8.8367096], [47.8614817, 8.7861597], [47.733124, 8.837623], [47.7367542, 8.7735478], [47.8035, 8.824861], [47.8408806, 8.8528868], [47.838983, 8.860239], [47.740651, 8.974543], [47.736835, 8.966455], [47.739091, 8.954609], [47.772221, 8.984161], [47.748215, 8.925646], [47.787796, 8.976141], [47.750091, 8.956419], [47.747371, 8.96488], [47.66377281, 8.926693934], [47.6843439, 8.9834621], [47.81519048, 9.05441087], [47.81515987, 9.05425798], [47.800437, 9.037903], [47.667404, 9.166143], [47.66733, 9.18655], [47.680748, 9.202322], [47.682345, 9.209855], [47.700549, 9.184999], [47.740354, 9.156176], [47.674667, 9.158111], [47.6687287, 9.1776358], [47.673196, 9.173521], [47.688016, 9.159227], [47.668391, 9.177142], [47.670403, 9.175621], [47.67650117, 9.152619711], [47.71928, 9.072477], [47.68903, 9.126232], [47.688816, 9.123818], [47.737003, 7.550667], [47.731763, 7.556794], [47.616099, 7.660387], [47.614692, 7.661507], [47.5967, 7.662286], [47.605182, 7.653391], [47.63458, 7.67886], [47.683368, 7.842388], [47.594401, 7.60372], [47.58553, 7.61592], [47.60254, 7.61675], [47.63962555, 7.757745187], [47.641653, 7.740778], [47.62568, 7.606957], [47.625603, 7.611764], [47.62493385, 7.6063482], [47.626586, 7.599531], [47.626586, 7.599531], [47.626586, 7.599531], [47.64906, 7.81734], [47.6518603, 7.8235713], [47.7908585, 7.9001204], [47.64725492, 7.777701656], [48.862811, 9.179572], [48.857658, 9.176941], [48.865263, 9.181086], [48.86713, 9.1906], [48.85701, 9.17503], [48.86697844, 9.198689006], [48.86699432, 9.198836528], [48.85130305, 9.187202893], [48.85131, 9.18731], [48.8296, 9.1203], [48.85017, 9.11293], [48.850248, 9.112786], [48.829057, 9.128084], [48.803586, 9.066858], [48.7933867, 9.0582017], [48.805068, 9.076002], [48.81847, 9.06606], [48.92144, 9.15109], [48.92144, 9.15109], [48.900328, 9.192261], [48.890342, 9.199977], [48.919761, 9.154207], [48.891965, 9.175934], [48.898261, 9.173317], [48.885687, 9.160909], [48.8902, 9.1532], [48.89123818, 9.156916738], [48.89038, 9.16875], [48.89047615, 9.158211624], [48.890404, 9.170465], [48.89233, 9.18329], [48.881303, 9.20715], [48.893466, 9.207949], [48.894095, 9.195211], [48.888531, 9.208437], [48.8859, 9.1895], [48.8909, 9.19245], [48.893046, 9.224319], [48.898713, 9.218305], [48.919461, 9.219942], [48.97490889, 8.991394377], [48.930117, 8.958857], [48.905667, 9.133528], [48.867172, 9.257082], [48.887005, 9.282326], [48.869936, 9.275234], [48.874435, 9.272825], [48.892262, 9.188451], [48.9374567, 9.1768637], [48.925995, 9.203871], [48.926869, 9.203532], [48.935284, 9.177785], [48.888058, 9.135368], [48.881423, 9.080717], [48.882428, 9.096262], [48.88242, 9.09614], [48.882416, 9.09608], [48.882412, 9.09602], [48.884252, 9.087073], [48.884277, 9.087552], [48.884281, 9.087621], [48.8815, 9.080658], [48.872, 9.086], [48.90539, 9.07206], [48.90725, 9.078938], [48.907503, 9.231121], [48.925485, 9.150496], [48.925433, 9.150545], [48.919531, 9.127844], [48.89424896, 8.938491821], [48.889042, 9.002372], [48.877718, 8.964907], [48.9607946, 9.1311584], [48.95122389, 9.146401089], [48.947982, 9.135381], [48.941322, 9.139917], [48.952174, 9.149441], [48.946546, 9.100248], [48.951308, 9.121392], [48.945774, 9.14553], [48.945774, 9.14553], [48.959036, 9.085107], [48.957014, 9.085711], [48.9580016, 9.071925303], [49.043024, 9.144598], [49.03638739, 9.144541025], [49.03920898, 9.144073371], [49.000802, 9.108283], [48.960402, 9.015142], [48.95501265, 9.20016104], [49.0096535, 9.0599634], [49.50044423, 9.538997412], [49.753924, 9.519981], [49.77111047, 9.58758831], [49.464, 9.2827], [49.740315, 9.319557], [49.671029, 9.522731], [49.636206, 9.652753], [49.479862, 9.637054], [49.6216138, 9.7309266], [49.6267028, 9.7281813], [49.4259, 9.70136], [49.42653, 9.68774], [49.427384, 9.698505], [49.49733, 9.76211], [49.489539, 9.772964], [49.486551, 9.790409], [49.458442, 9.889706], [49.481418, 9.9014], [49.478743, 9.905534], [49.400383, 9.915173], [49.493784, 9.812146], [49.531769, 9.844487], [49.5349, 9.202465], [49.523694, 9.321958], [49.520981, 9.328713], [49.46059, 9.32333], [49.520978, 9.328617], [49.5049, 9.3115], [49.535927, 9.34012], [49.353031, 9.148278], [49.342502, 9.122213], [49.3468028, 9.1352138], [49.3493, 9.11187], [49.3568722, 9.1487888], [49.341478, 9.126114], [49.38046, 9.18437], [49.4169528, 9.2794111], [49.347354, 8.983052], [49.36474986, 9.058134768], [49.369707, 8.984554], [49.369707, 8.984554], [49.369707, 8.984554], [48.473291, 7.935243], [48.469071, 7.936438], [48.471765, 7.93592], [48.4722093, 7.9434438], [48.466512, 7.955969], [48.466523, 7.955939], [48.46356, 7.9298], [48.469804, 7.924605], [48.463664, 7.927204], [48.4636759, 7.926664819], [48.566643, 7.820701], [48.535928, 8.064283], [48.5364711, 8.062956248], [48.529321, 8.080105], [48.538486, 8.094734], [48.52927, 8.07875], [48.56701, 8.06378], [48.51842, 8.04799], [48.54678, 8.01721], [48.223121, 8.050094], [48.287833, 8.114754], [48.278967, 8.087492], [48.277822, 8.085603], [48.2773714, 8.0900012], [48.400498, 8.007498], [48.402483, 8.016651], [48.34619, 8.05737], [48.345333, 8.061613], [48.430503, 8.208605], [48.464229, 7.808366], [48.424039, 7.899174], [48.424576, 7.907231], [48.286512, 8.187556], [48.283785, 8.170497], [48.539606, 7.97968], [48.563052, 7.955847], [48.562448, 7.958827], [48.334841, 8.031822], [48.3980597, 8.0781987], [48.404793, 7.998495], [48.628472, 8.071143], [48.62759951, 8.056921339], [48.63433, 8.05847], [48.63714, 8.05367], [48.580801, 8.0098429], [48.630136, 8.109583], [48.639262, 8.091482], [48.6163011, 8.1302635], [48.6163011, 8.1302635], [48.341465, 7.880197], [48.338016, 7.869245], [48.348917, 7.819667], [48.340268, 7.842407], [48.25674135, 7.813843975], [48.31051, 7.94036], [48.280933, 7.7769056], [48.309678, 7.788862], [48.308889, 7.791649], [48.287004, 7.812075], [48.308819, 7.791519], [48.25028, 7.76599], [48.25028, 7.76599], [48.263135, 7.731232], [48.268053, 7.72542], [48.262799, 7.741718], [48.26018, 7.720553], [48.2359361, 8.2911587], [48.214153, 8.230824], [48.834466, 10.094306], [48.874062, 10.116879], [48.828664, 10.082773], [48.81954, 10.07707], [48.825243, 10.066705], [48.82536, 10.066807], [48.825228, 10.066903], [48.825187, 10.067478], [48.82523, 10.066728], [48.825694, 10.065097], [48.88522, 10.04732], [48.870755, 10.025447], [48.85698, 10.35657], [48.851363, 10.357704], [48.780624, 10.101331], [48.821059, 10.052159], [48.81029, 10.030926], [48.879, 10.186], [48.9591426, 10.1734626], [48.968705, 10.127678], [48.98484, 10.196173], [48.96882, 10.127694], [48.968655, 10.127609], [48.96266, 10.130665], [48.956712, 10.174025], [48.953412, 10.170052], [48.953979, 10.118149], [48.96174104, 10.18230483], [48.954551, 10.004158], [49.013673, 10.217815], [49.029236, 10.098886], [48.9278974, 10.0661978], [48.9280535, 10.0675582], [49.030458, 10.271579], [48.7963191, 9.7809885], [48.7963191, 9.7809885], [48.792852, 9.82231], [48.8026, 9.79944], [48.798927, 9.786345], [48.81866617, 9.853439237], [48.849445, 9.837111], [48.834618, 9.821897], [48.834606, 9.821913], [48.79361, 9.835589], [48.787822, 9.76053], [48.784037, 9.833366], [48.795763, 9.9355275], [48.79863039, 9.691341514], [48.79797, 9.68975], [48.79717, 9.67575], [48.79869922, 9.683356185], [48.816762, 9.802107], [48.758624, 9.984498], [48.862972, 9.889314], [48.874088, 9.918355], [48.521128, 9.090323], [48.85973, 8.240877], [48.85973, 8.240877], [48.859517, 8.20073], [48.854216, 8.199719], [48.861474, 8.239988], [48.85633394, 8.175230606], [48.85571097, 8.180483712], [48.861528, 8.185043837], [48.86724152, 8.185761609], [48.86731486, 8.186074086], [48.86724853, 8.185826332], [48.85620897, 8.175178266], [48.86721005, 8.185812128], [48.86726163, 8.186028885], [48.86652166, 8.186070554], [48.86651686, 8.186198242], [48.8664796, 8.186093128], [48.85560228, 8.180189632], [48.85590032, 8.180441402], [48.85551, 8.180493], [48.85584767, 8.180475858], [48.85567542, 8.18046796], [48.85563728, 8.180242469], [48.85560949, 8.1803151], [48.85637144, 8.175261451], [48.860867, 8.233945], [48.931977, 8.268547], [48.8276, 8.2815], [48.84041191, 8.254712764], [48.8278, 8.2592], [48.876997, 8.275711], [48.908706, 8.25636], [48.909522, 8.252883], [48.891227, 8.231825], [48.888549, 8.241467], [48.900547, 8.1994], [48.900022, 8.199328], [48.799314, 8.117906], [48.803673, 8.318658], [48.762966, 8.338577], [48.773745, 8.342106], [48.753498, 8.1317], [48.690909, 8.119019], [48.696496, 8.121531], [48.696912, 8.130287], [48.712052, 8.13264], [48.665713, 8.11307], [48.732862, 8.008835], [47.774091, 9.609187], [47.794068, 9.608875], [47.784987, 9.619521], [49.432368, 8.501812], [49.198906, 10.175633], [49.58491, 9.34412], [49.687873, 9.398139], [48.398766, 10.011235], [47.900004, 10.114574], [48.741558, 9.03324], [49.7132462, 9.5471756], [49.258453, 10.156061], [49.162055, 10.048284], [49.770669, 9.525619], [49.5021, 9.836], [48.384312, 10.00368], [48.375924, 10.008184], [48.393888, 10.003914], [48.396352, 10.001652], [48.393623, 10.017674], [48.409084, 10.036512], [48.380993, 10.003935], [48.392776, 9.995655], [48.384869, 9.985758], [48.392631, 9.990926], [48.391753, 10.001528], [49.49679, 9.93535], [49.52813, 8.5655], [49.52813, 8.5655], [49.52807, 8.56555], [49.52675, 8.5683], [49.545769, 8.567888], [49.536023, 8.56932], [49.594666, 8.469109], [49.59468, 8.583588], [49.5793, 8.71438], [47.785013, 9.619366], [47.788212, 9.614901], [47.790771, 9.613788], [47.779743, 9.61319], [47.781416, 9.618929], [47.782248, 9.605752], [47.7754187, 9.612971217], [47.787302, 9.609988], [47.79409191, 9.613287363], [47.79423446, 9.613337517], [47.784695, 9.61578], [47.784188, 9.583724], [47.777044, 9.608208], [47.768774, 9.604714], [47.778721, 9.60634], [47.780703, 9.604953], [47.681046, 9.823813], [47.68966, 9.82798], [47.683569, 9.827778], [47.68667, 9.83158], [47.68657, 9.83504], [47.696577, 9.8227677], [47.8127731, 9.63555583], [47.83751, 9.63546], [47.836744, 9.633131], [47.832113, 9.66614], [47.662348, 9.930512], [47.81379439, 9.510825534], [47.802978, 9.498394], [47.868838, 9.42497], [47.864712, 9.589448], [47.8103635, 9.603649275], [47.731582, 9.699211], [47.757094, 9.712227], [47.81104394, 10.07240252], [47.827853, 10.023892], [47.825971, 10.016131], [47.826494, 10.014622], [47.827768, 10.013686], [47.8343289, 10.005109], [47.886072, 10.046556], [47.880383, 10.040579], [47.944579, 9.64354], [47.91408997, 9.743680614], [47.9346849, 9.5389213], [47.924551, 9.5349918], [47.971916, 9.507128], [47.940248, 9.448402], [48.804491, 9.2689422], [48.812233, 9.277313], [48.814613, 9.265515], [48.821332, 9.27283], [48.808045, 9.275689], [48.843481, 9.265339], [48.819672, 9.269165], [48.81962, 9.29772], [48.821343, 9.296695], [48.821205, 9.29494], [48.820969, 9.316482], [48.833185, 9.315769], [48.830196, 9.309143], [48.825762, 9.301811], [48.825727, 9.301531], [48.825429, 9.301519], [48.825452, 9.301662], [48.825798, 9.301495], [48.82545, 9.301707], [48.822541, 9.316966], [48.82234, 9.346881], [48.890657, 9.312471], [48.853928, 9.328622], [48.87135618, 9.384397627], [48.871522, 9.41052], [48.875083, 9.39094], [48.787481, 9.405582], [48.812645, 9.371115], [48.81463191, 9.363618493], [48.8142926, 9.357928917], [48.81360814, 9.357690943], [48.81377123, 9.357694177], [48.80782403, 9.321650611], [48.90052, 9.417098], [48.8677797, 9.3514304], [48.9604039, 9.428571944], [48.93567612, 9.446463719], [48.9782923, 9.5853636], [48.94457024, 9.498596843], [48.987653, 9.463525], [48.987653, 9.463525], [48.90848, 9.48448], [48.81013, 9.53839], [48.81969, 9.54766], [48.806309, 9.532387], [48.79686421, 9.515433778], [48.80473178, 9.515588006], [48.80472432, 9.515514963], [48.804745, 9.515657], [48.8050982, 9.514438969], [48.806885, 9.540247], [48.80541684, 9.509030341], [48.80667858, 9.510024325], [48.81128693, 9.437153816], [48.8051499, 9.4783694], [48.79472, 9.60311], [48.849, 9.447], [48.472382, 9.227149], [48.587051, 9.181115], [48.587056, 9.181083], [48.413767, 9.493897], [48.410376, 9.491063], [48.417836, 9.475719], [48.410226, 9.949986], [48.356944, 9.3295], [48.280088, 9.478626], [48.53611, 9.27979], [48.53609, 9.27973], [48.53643, 9.27977], [48.53703, 9.28461], [48.53701, 9.2846], [48.53705, 9.28455], [48.53251, 9.277554], [48.53246, 9.27755], [48.53241, 9.27755], [48.53221, 9.28973], [48.491137, 9.397532], [48.49765509, 9.381939082], [48.497087, 9.384935], [48.52069, 9.20699], [48.49808, 9.20186], [48.501138, 9.199504], [48.502222, 9.207778], [48.501781, 9.206215], [48.501964, 9.207188], [48.48499, 9.19373], [48.48809, 9.20713], [48.48996, 9.20958], [48.495333, 9.213481], [48.4912487, 9.2068061], [48.49783, 9.21056], [48.48487, 9.21657], [48.5125, 9.217778], [48.53059, 9.19617], [48.53212, 9.20303], [48.52794, 9.20507], [48.495, 9.158333], [48.49703417, 9.153819467], [48.478744, 9.2278069], [48.48039642, 9.229835272], [48.48040709, 9.229781628], [48.47676322, 9.223914364], [48.476772, 9.223917], [48.47806462, 9.223612313], [48.424036, 9.2706798], [48.4109122, 9.1977467], [48.410913, 9.197749], [48.416483, 9.221382], [48.51424748, 9.152229474], [48.515675, 9.151891], [49.451351, 8.603817], [49.476643, 8.560239], [49.4694378, 8.565854], [49.3898499, 8.5783696], [49.396112, 8.591433], [49.3912, 8.59681], [49.38472, 8.57786], [49.38138, 8.58869], [49.3695494, 8.5824933], [49.380153, 8.5749644], [49.318301, 8.547033], [49.335615, 8.533352], [49.368575, 8.526745], [49.409666, 8.5392854], [49.39443, 8.535239], [49.2440556, 8.638083333], [49.267955, 8.613718], [49.282417, 8.584127], [49.245399, 8.636766], [49.295266, 8.573869], [49.292833, 8.528565], [49.293108, 8.524654], [49.392395, 8.78007], [49.381363, 8.800953], [49.289614, 8.678578], [49.3449076, 8.6789161], [49.3449047, 8.6788524], [49.30237, 8.64363], [49.314599, 8.637563], [49.30237, 8.64363], [49.350934, 8.632238], [49.341267, 8.650648], [49.399503, 8.631187], [49.446334, 8.677897], [49.32011, 8.687501], [49.322163, 8.696183], [49.27256, 8.695698], [49.24167127, 8.696298907], [49.24041, 8.6975694], [49.360575, 8.7965], [49.436745, 8.809329], [49.43618, 8.8099499], [49.43678986, 8.809268125], [49.24575, 8.68089], [49.33696, 8.78595], [49.343215, 8.796468], [49.55186799, 8.668873608], [49.549386, 8.646601], [49.527776, 8.656796], [49.553083, 8.662451], [49.549974, 8.657019], [49.520075, 8.662961], [49.550697, 8.670549], [49.51257, 8.65558], [49.50674264, 8.637678623], [49.507796, 8.638089], [49.612568, 8.652642], [49.24811, 8.86153], [49.234916, 8.77503], [49.2331212, 8.7706523], [49.236624, 8.766834], [49.320104, 8.868043], [48.367, 8.636628], [48.3637, 8.63854], [48.3631, 8.63185], [48.290444, 8.345924], [48.291409, 8.35218], [48.1510032, 8.6407614], [48.125232, 8.625678], [48.1134, 8.6053], [48.221814, 8.501519], [48.2122675, 8.5053478], [48.170971, 8.5764873], [48.147891, 8.549643], [48.225125, 8.421925], [48.190659, 8.35121], [48.232748, 8.380353], [48.229647, 8.381672], [48.285692, 8.579673], [48.227828, 8.347589], [49.0007086, 9.759158], [49.041479, 9.917203], [49.116925, 9.732841], [49.096737, 9.761962], [49.096827, 9.761828], [49.115998, 9.736766], [49.118865, 9.733827], [49.168793, 9.917557], [49.087118, 9.880363], [49.07077719, 9.764584393], [49.10197, 9.6943], [49.178646, 9.710472], [49.103049, 9.746223], [49.13512, 10.07575], [49.14262, 10.07366], [49.142476, 10.073061], [49.13974, 10.07608], [49.13223, 10.055697], [49.13439998, 10.0699342], [49.13527, 10.075823], [49.136235, 10.07302], [49.140922, 10.033255], [49.298984, 9.971058], [49.346762, 9.974752], [49.346279, 9.982211], [49.079616, 9.979514], [49.170715, 10.077449], [49.202541, 9.981323], [49.130957, 10.185747], [49.2544, 9.86314], [49.054127, 10.082193], [49.05406, 10.08219], [48.060781, 8.455049], [48.0597222, 8.467778], [48.052334, 8.459665], [48.001024, 8.393125], [48.060342, 8.606299], [48.059929, 8.555443], [48.05992, 8.537757], [48.03226502, 8.532337546], [48.03230807, 8.532316089], [48.12393446, 8.537106514], [48.13322, 8.22208], [48.1252222, 8.332222222], [48.052934, 8.20512], [48.049664, 8.205917], [48.099795, 8.200106], [47.94881, 8.50191], [47.963729, 8.503903], [47.838626, 8.539279], [47.9345843, 8.4973641], [47.9345843, 8.4973641], [47.923911, 8.49661], [47.895, 8.51463], [47.928357, 8.449206], [48.026878, 8.601595], [48.089446, 9.242608], [48.246592, 9.22287], [48.121087, 9.078328], [48.1217929, 9.0750772], [48.108807, 9.27368], [48.065849, 9.262773], [48.178277, 9.212786], [48.021111, 9.50675], [48.015144, 9.499011], [48.016527, 9.498257], [48.02095318, 9.48849678], [48.016891, 9.502351], [47.99686193, 9.119237341], [47.924127, 9.251617], [47.927343, 9.246833], [48.524158, 9.046126], [48.524867, 9.030944], [48.521128, 9.090323], [48.51075, 9.06158], [48.511339, 9.041191], [48.5169808, 9.0696623], [48.5155917, 9.0612123], [48.522045, 9.037593], [48.523877, 9.052078], [48.516444, 9.064722], [48.518124, 9.060235], [48.512055, 9.065007], [48.527951, 9.059648], [48.513789, 9.060601], [48.522045, 9.037593], [48.512166, 9.050603], [48.511168, 9.075125], [48.51395, 9.06466], [48.517416, 9.084465], [48.512935, 9.074056], [48.51360058, 9.071219375], [48.509668, 9.042707], [48.52761, 9.08812], [48.529759, 9.067778], [48.52341, 9.06017], [48.549385, 9.110071], [48.527951, 9.059648], [48.527067, 9.087648], [48.5454673, 9.0557203], [48.546581, 9.060428], [48.542183, 9.045317], [48.546581, 9.060428], [48.536335, 9.045695], [48.477962, 8.932786], [48.482459, 8.937739], [48.47316248, 8.950372185], [48.47851848, 8.936626605], [48.480076, 8.949817], [48.48092625, 8.945451379], [48.456805, 8.900715], [48.472917, 8.936088], [48.408899, 9.06567], [48.40876479, 9.06558264], [48.40568042, 9.047080597], [48.40478109, 9.053657692], [48.570548, 8.95947], [48.554848, 8.965443], [48.53096, 9.14997], [48.432898, 9.068757], [47.934572, 8.717004], [47.93419, 8.71684], [47.93419, 8.71684], [47.925477, 8.744774], [47.925482, 8.745111], [47.929227, 8.742151], [47.929134, 8.742191], [47.929077, 8.742183], [47.982609, 8.805236], [47.984771, 8.817815], [47.98257, 8.805254], [47.993541, 8.8268124], [47.988956, 8.795398], [47.95162, 8.862759], [47.98036383, 8.819210873], [47.9986391, 8.8177864], [47.974024, 8.827922], [48.076114, 8.736485], [48.076193, 8.736343], [48.065881, 8.750589], [48.096546, 8.70874], [48.096546, 8.70874], [48.022632, 8.888527], [47.999135, 8.781127], [48.005022, 8.780407], [48.073269, 8.927233], [48.1088, 8.73581], [48.037672, 8.782167], [48.072809, 8.634946], [47.734916, 8.001885], [47.735625, 8.000615], [47.664163, 8.003102], [47.617895, 8.249086], [47.625491, 8.263227], [47.62925, 8.2669], [47.634273, 8.274138], [47.622712, 8.204805], [47.616051, 8.24501], [47.6245296, 8.2185927], [47.720139, 8.318419], [47.627566, 8.314227], [47.651006, 8.57226], [47.650811, 8.567927], [47.6984, 8.39013], [47.6666667, 8.2333333], [47.760085, 8.131474], [47.75314, 8.16846], [47.81782, 8.34056], [47.822388, 8.348564], [47.818418, 8.331576], [47.794525, 8.351893], [47.7371, 8.16624], [47.793324, 8.246839], [47.795445, 8.24496], [48.299269, 8.845206], [48.2587312, 8.8502121], [48.3081795, 8.8741216], [48.26236, 8.85183], [48.272975, 8.856049], [48.275275, 8.852796], [48.260665, 8.852046], [48.286667, 8.717971], [48.2860401, 8.8125], [48.13186, 8.89148], [48.354518, 8.97554], [48.34932123, 8.962374764], [48.34930697, 8.962358671], [48.34932123, 8.962347942], [48.34929984, 8.9623694], [48.34929984, 8.9623694], [48.2918775, 9.0967129], [48.311686, 8.916397], [48.31341, 8.9163], [48.209604, 9.031144], [48.206442, 9.038621], [48.22172486, 9.026851058], [48.21501682, 9.025897774], [48.214366, 8.967512], [48.207894, 8.864769], [48.24642651, 9.086584], [48.76423, 8.23448], [48.782334, 8.211332], [48.764457, 8.238161], [48.758226, 8.240708], [48.763056, 8.240684], [48.750112, 8.22539], [48.81115602, 8.212026481], [48.789755, 8.188086], [48.782335, 8.19957], [48.786521, 8.193783], [48.774918, 8.219012], [48.814091, 8.219339], [48.78266, 8.20499], [48.7826934, 8.2083951], [48.727579, 8.169946], [47.9807, 7.9047], [47.998413, 7.849094], [47.99782, 7.843302], [47.99727, 7.85438], [47.98637, 7.83422], [47.975998, 7.819701], [47.972968, 7.828331], [47.992085, 7.872607], [47.999694, 7.858333], [48.005265, 7.839595], [48.022514, 7.850971], [48.018796, 7.842141], [48.049605, 7.802535], [48.045889, 7.802703], [48.027526, 7.845391], [48.034023, 7.85154], [48.01188, 7.8363], [48.012424, 7.810087], [48.0254364, 7.8552728], [48.008991, 7.834384], [48.009955, 7.834905], [48.009932, 7.834902], [48.009911, 7.8349], [47.9866753, 7.7802253], [47.98222, 7.803424], [47.999809, 7.79234], [47.983045, 7.765496], [47.968403, 7.698797], [47.985019, 7.713413], [47.993347, 7.830781], [47.99594, 7.819796], [47.988521, 7.818918], [47.984412, 7.893325], [49.41363, 8.65533], [49.388889, 8.682139], [49.40296, 8.6637], [49.405094, 8.685464], [49.4043, 8.68029], [49.434675, 8.67825], [49.400401, 8.682999], [49.39609, 8.68134], [49.408614, 8.698401], [49.40278, 8.72926], [49.409, 8.70252], [49.384691, 8.710587], [49.41926, 8.75624], [49.411162, 8.770802], [49.41964, 8.659545], [49.418013, 8.685406], [49.420987, 8.679651], [49.431389, 8.686842], [49.426662, 8.661709], [49.424554, 8.688722], [49.412129, 8.64153], [49.376185, 8.65822], [49.374343, 8.67661], [49.378139, 8.664111], [49.384106, 8.68091], [49.360468, 8.705494], [49.3808, 8.68954], [49.39206, 8.68623], [49.38852, 8.68904], [49.389878, 8.68202], [49.389569, 8.68269], [49.37713, 8.68793], [49.36535264, 8.674531837], [49.36526023, 8.674513062], [49.36536838, 8.674514161], [49.363414, 8.7024], [49.13935, 9.2203], [49.1371, 9.21424], [49.145377, 9.22462], [49.14250794, 9.223997041], [49.14017524, 9.224530867], [49.137179, 9.228731], [49.138816, 9.205021], [49.137173, 9.228722], [49.137907, 9.203465], [49.145377, 9.22462], [49.140161, 9.22449], [49.1429656, 9.220157763], [49.145385, 9.224636], [49.135441, 9.205371], [49.143057, 9.213806], [49.13863, 9.2226389], [49.131225, 9.2183296], [49.13961921, 9.240264134], [49.127442, 9.224305], [49.1248208, 9.223786], [49.166131, 9.216777], [49.148107, 9.88217517], [49.148119, 9.217507], [49.159148, 9.253078], [49.154844, 9.201167], [49.184607, 9.109872], [49.192479, 9.147138], [49.1842809, 9.180028548], [49.18406526, 9.180379917], [49.1556, 9.2019], [49.15562, 9.20149], [49.146833, 9.201062], [49.121599, 9.212349], [49.117322, 9.1944], [49.12148735, 9.196972892], [49.009028, 8.439528], [49.005812, 8.435755], [49.0074, 8.423], [49.01062, 8.41097], [49.026353, 8.445739], [49.0270233, 8.4453166], [49.00934919, 8.4377927], [49.00853011, 8.410456958], [49.00675, 8.393843], [49.0093049, 8.3941687], [49.008328, 8.393834], [48.98209701, 8.376723726], [48.993889, 8.385222], [48.99707, 8.3783], [49.00106, 8.38377], [49.003795, 8.447353], [49.003795, 8.447353], [49.00073785, 8.405617626], [48.999581, 8.428024], [49.02422162, 8.456113499], [49.0089, 8.34405], [48.997929, 8.356272], [49.02115, 8.3656], [49.013774, 8.311219], [48.9847038, 8.4013396], [49.01697723, 8.470952683], [49.0035501, 8.45618], [48.9974119, 8.4851453], [48.99729, 8.43733], [49.0009, 8.4763], [48.944248, 8.488453], [49.494726, 8.467645], [49.486744, 8.464182], [49.490012, 8.46741], [49.4877217, 8.4638764], [49.486403, 8.472093], [49.486403, 8.472093], [49.491853, 8.474181], [49.485865, 8.464597], [49.47371907, 8.5394454], [49.47379924, 8.539407849], [49.46461, 8.518592], [49.469772, 8.483], [49.474778, 8.5345], [49.460248, 8.516102], [49.476583, 8.520583], [49.473765, 8.484797], [49.478177, 8.503436], [49.478054, 8.493521], [49.478012, 8.480852], [49.479585, 8.487831], [49.484451, 8.47589], [49.4774464, 8.49589429], [49.47531027, 8.495941264], [49.47524203, 8.495609494], [49.47528792, 8.495646945], [49.47304438, 8.500235079], [49.489758, 8.491708], [49.498821, 8.4631995], [49.458118, 8.503022], [49.456573, 8.482174], [49.451999, 8.513888], [49.41667, 8.533796], [49.44189999, 8.572949682], [49.494575, 8.55032], [49.52612353, 8.48418294], [49.531847, 8.484519], [49.555786, 8.444943], [49.514326, 8.551105], [49.507919, 8.519781], [49.502633, 8.508368], [49.518123, 8.5244], [49.50707, 8.51633], [49.5031398, 8.4753722], [48.883241, 8.66564], [48.892736, 8.699257], [48.888668, 8.70006], [48.876296, 8.717254], [48.917088, 8.728283], [48.900724, 8.692596], [48.910892, 8.720037], [48.91083765, 8.71921639], [48.902478, 8.658744], [48.855215, 8.654726], [48.868796, 8.669624], [48.85475, 8.73885], [48.868688, 8.690082], [48.858398, 8.691979], [48.77527597, 9.180567162], [48.775927, 9.181477], [48.774696, 9.170192], [48.775927, 9.181477], [48.779974, 9.177907], [48.775548, 9.174528], [48.774372, 9.178289], [48.7787, 9.170863], [48.7818607, 9.1756476], [48.7818607, 9.1756476], [48.781203, 9.176036], [48.77669907, 9.173600197], [48.786382, 9.163274], [48.787216, 9.17572], [48.7387009, 9.2332401], [48.780898, 9.166396], [48.780887, 9.166355], [48.785452, 9.166607], [48.78108123, 9.160238467], [48.77412, 9.15937], [48.762299, 9.1617], [48.770401, 9.16664], [48.77, 9.17553], [48.767899, 9.17286], [48.765701, 9.16814], [48.772, 9.17338], [48.77218, 9.16735], [48.76692468, 9.172865138], [48.766316, 9.176497], [48.776704, 9.185683], [48.775006, 9.185871], [48.773904, 9.194399], [48.779343, 9.19502], [48.77144, 9.19499], [48.776199, 9.20442], [48.77032, 9.20166], [48.7853283, 9.212970569], [48.783699, 9.2103], [48.78855208, 9.208388295], [48.801169, 9.172876], [48.796809, 9.208284], [48.786188, 9.197759], [48.832717, 9.1571159], [48.7932453, 9.1904653], [48.78775329, 9.151611328], [48.779876, 9.1563287], [48.77874992, 9.138849342], [48.77518363, 9.126988649], [48.769473, 9.141997], [48.77416, 9.145965], [48.77425, 9.15219], [48.76921, 9.14719], [48.758301, 9.15921], [48.77617348, 9.241873026], [48.788793, 9.236964], [48.788812, 9.237019], [48.78881201, 9.237019012], [48.7876575, 9.2341495], [48.787689, 9.234206], [48.787657, 9.234149], [48.787877, 9.234541], [48.787926, 9.234648], [48.788, 9.234838], [48.782622, 9.24662], [48.782437, 9.246828], [48.782356, 9.246648], [48.78221, 9.246802], [48.790423, 9.25533], [48.783438, 9.257355], [48.77509, 9.23688], [48.756825, 9.273416], [48.7615561, 9.264382101], [48.761648, 9.26434227], [48.761416, 9.264738], [48.761452, 9.264876], [48.755149, 9.2654], [48.755061, 9.265456], [48.755021, 9.265481], [48.757806, 9.255843], [48.790298, 9.23235], [48.814907, 9.226338], [48.78904883, 9.237545877], [48.78914408, 9.237882453], [48.78923392, 9.238184277], [48.78930371, 9.238262471], [48.78920618, 9.238091226], [48.78872442, 9.236554248], [48.78871901, 9.236550776], [48.78901612, 9.237309906], [48.79700593, 9.235867015], [48.79711941, 9.235643314], [48.78733497, 9.23389759], [48.78742371, 9.23405133], [48.78748288, 9.23415381], [48.78741126, 9.23370646], [48.78744084, 9.23375769], [48.78901235, 9.23759152], [48.78886572, 9.23763193], [48.78863612, 9.23742593], [48.78869686, 9.23760808], [48.76160939, 9.2643437], [48.7875608, 9.2319488], [48.802553, 9.228851], [48.80383, 9.22973], [48.80646, 9.22593], [48.805901, 9.2339], [48.80816, 9.23155], [48.81693, 9.23792], [48.817583, 9.214972], [48.81423, 9.20968], [48.8086014, 9.2074804], [48.8226013, 9.2161798], [48.7815018, 9.1313], [48.82146, 9.20302], [48.8086658, 9.206305744], [48.80867, 9.20631], [48.81130072, 9.21764905], [48.8345985, 9.2208996], [48.840075, 9.228424], [48.83247, 9.22612], [48.8266983, 9.1716404], [48.830105, 9.162097], [48.84295077, 9.156530499], [48.81603, 9.14972], [48.81603, 9.15198], [48.821847, 9.174302], [48.822, 9.175], [48.811083, 9.1685], [48.8055, 9.14674], [48.817442, 9.166389], [48.810894, 9.181431], [48.81755523, 9.174867343], [48.812771, 9.143475], [48.81603, 9.15788], [48.81603, 9.15578], [48.804998, 9.090199], [48.8268, 9.1002], [48.8213005, 9.0948601], [48.803328, 9.092047], [48.803964, 9.105861], [48.81603, 9.08481], [48.81603, 9.11169], [48.81603, 9.08989], [48.731924, 9.092619], [48.7299, 9.12325], [48.7364407, 9.1221863], [48.773011, 9.186497], [48.795742, 9.190102], [48.728598, 9.102043], [48.72181097, 9.109325338], [48.720409, 9.128916], [48.720397, 9.128977], [48.727159, 9.117875], [48.71952655, 9.117712977], [48.7245868, 9.120067429], [48.72466479, 9.1223696], [48.72474972, 9.1223696], [48.72473557, 9.122358871], [48.72467895, 9.122412515], [48.72472849, 9.1223696], [48.72471433, 9.122348142], [48.7245868, 9.120099615], [48.72491945, 9.119573902], [48.72478497, 9.120228361], [48.72479913, 9.119284224], [48.72448064, 9.121569466], [48.72454447, 9.121071411], [48.72446648, 9.120829176], [48.72469296, 9.11959536], [48.72453018, 9.120260548], [48.72455141, 9.120314192], [48.72459388, 9.119842123], [48.72481342, 9.122412515], [48.72474972, 9.122380329], [48.72454447, 9.12200482], [48.72457264, 9.120067429], [48.72474958, 9.12079699], [48.72472127, 9.121151041], [48.72492652, 9.119241308], [48.72464342, 9.121354889], [48.72501145, 9.119423699], [48.72488406, 9.119863581], [48.72467173, 9.121773314], [48.72617239, 9.121091272], [48.72610103, 9.121469543], [48.72645564, 9.12122018], [48.72634508, 9.121306071], [48.72652731, 9.121304962], [48.72643418, 9.121253847], [48.72623883, 9.121188023], [48.72633982, 9.121707228], [48.72627993, 9.121815403], [48.72297963, 9.125870015], [48.718984, 9.107137], [48.71873, 9.098482], [48.71248, 9.15424], [48.720156, 9.1709], [48.720594, 9.170929], [48.720589, 9.170995], [48.713195, 9.16698], [48.7210999, 9.15625], [48.7309633, 9.1500783], [48.732046, 9.141594], [48.722228, 9.149927], [48.81603, 9.15554], [48.724321, 9.162316], [48.7400511, 9.0963999], [48.741099, 9.0995072], [48.741089, 9.0996887], [48.741087, 9.0997251], [48.741083, 9.0997977], [48.7410789, 9.0998703], [48.7410749, 9.0999429], [48.7408692, 9.0999227], [48.740288, 9.097243], [48.82055, 9.22025], [48.740668, 9.152641], [48.7492981, 9.1814699], [48.7265015, 9.2022305], [48.701449, 9.20971], [48.81603, 9.19949], [48.744939, 9.234658], [48.74948, 9.215419], [48.74552, 9.21497], [48.8142611, 9.2659198], [48.404943, 9.985619], [48.399991, 9.989287], [48.398003, 9.984749], [48.361154, 9.880308], [48.3310076, 9.966998], [48.402309, 9.999741], [48.401062, 9.949341], [48.423115, 9.937294], [48.432964, 9.968503], [48.399254, 9.957046], [48.397537, 9.996298], [48.408246, 9.996421], [48.334934, 9.936243], [48.392513, 9.98429], [48.35257, 9.895845], [48.421764, 10.007716], [48.400855, 10.0048566], [48.401118, 10.00529], [48.40042, 9.98659], [48.403593, 9.976054], [48.398996, 9.956271], [48.39507, 9.97136], [48.398688, 9.957521], [48.331007, 9.966998], [48.359967, 9.951986], [48.419292, 9.934673], [48.42118809, 9.935147787], [48.449353, 9.672201], [48.5785342, 9.8748399], [48.505686, 10.138781], [48.456817, 10.029649], [48.529838, 10.098277], [48.493191, 10.113215], [48.497369, 10.121542], [48.48473, 10.061164], [48.493378, 10.108723], [48.416998, 9.918955], [48.4036614, 9.7746765], [48.4392714, 9.817808069], [48.491969, 9.697276], [48.493246, 9.710927], [48.327562, 9.895613], [48.32916, 9.89644], [48.343776, 9.813653], [48.45494, 9.911473], [48.46334554, 9.947873333], [48.482306, 9.911353], [48.464632, 9.9415914], [48.211121, 10.06954], [48.553539, 10.082678], [48.480387, 9.980588], [48.483158, 9.985855], [48.464484, 9.760458], [48.498819, 10.029118], [48.51461078, 9.758304987], [48.2995, 9.99078], [48.51919, 9.954191], [48.233968, 9.644065], [48.283966, 9.729368], [48.253882, 9.583864], [48.238221, 9.607655], [48.204572, 9.689049], [48.085908, 9.798514], [48.094534, 9.793076], [48.094534, 9.793076], [48.104182, 9.7958], [48.070844, 9.947454], [48.110326, 9.944458], [48.08846, 9.652113], [48.0065, 9.65591], [48.004245, 9.652649], [47.986925, 9.771755], [48.042221, 10.081933], [48.04271, 10.08159], [48.124692, 10.112158], [48.125522, 10.10901657], [48.22173, 9.87497], [48.241357, 9.86638], [48.174909, 9.974139], [48.15164, 9.47771], [48.15164, 9.47771], [48.686785, 9.013469], [48.688006, 8.999776], [48.696, 9.0275], [48.6844496, 9.0306014], [48.6846647, 9.0117138], [48.69427821, 9.012707919], [48.69420252, 9.012463167], [48.69418354, 9.012402597], [48.6939663, 9.013232741], [48.69394816, 9.013171721], [48.69392868, 9.01311003], [48.69390965, 9.01304968], [48.69381183, 9.012741226], [48.6937928, 9.012680206], [48.69375473, 9.012558165], [48.69414379, 9.012277204], [48.69396962, 9.013241558], [48.6939308, 9.013120188], [48.6938908, 9.012996442], [48.69433839, 9.012902259], [48.69426216, 9.012655495], [48.69422264, 9.012534125], [48.69420449, 9.012472435], [48.67022, 9.03354], [48.691358, 9.003707], [48.690581, 9.003732], [48.6680577, 9.0032048], [48.6890366, 9.0046706], [48.683113, 8.983586], [48.68401605, 8.983626427], [48.68291055, 8.983213273], [48.6838913, 8.98394922], [48.705104, 9.000604], [48.708118, 9.001869], [48.716762, 8.994477], [48.712611, 8.99], [48.69447513, 8.999162168], [48.69733736, 9.000456929], [48.6968675, 9.000585075], [48.69695615, 9.000311987], [48.69697979, 9.000236215], [48.69678607, 9.000837203], [48.6972381, 9.000769707], [48.69682059, 9.000732597], [48.69689389, 9.000509232], [48.70557761, 8.991458453], [48.70559752, 8.991400114], [48.70561566, 8.991340435], [48.70565416, 8.991223759], [48.70542678, 8.991492498], [48.70547795, 8.991296366], [48.70549748, 8.991236074], [48.70553539, 8.991119191], [48.7009515, 8.984018474], [48.70189365, 8.982741743], [48.70189675, 8.982668652], [48.70193259, 8.982551306], [48.70198835, 8.98244737], [48.70157545, 8.982741743], [48.7017392, 8.982694804], [48.70176575, 8.982646524], [48.7017839, 8.982586174], [48.70178611, 8.982515096], [48.70182107, 8.982468157], [48.70185875, 8.982350811], [48.70186754, 8.982293143], [48.70165467, 8.982490956], [48.70165954, 8.982421889], [48.7016945, 8.98237428], [48.70167636, 8.982362881], [48.70171264, 8.982315271], [48.70169671, 8.98230186], [48.70173123, 8.982256933], [48.70240789, 8.98311524], [48.70241275, 8.983048856], [48.70243886, 8.982998564], [48.69156333, 8.977431132], [48.69151532, 8.977203815], [48.6914012, 8.976619094], [48.69142189, 8.976749851], [48.69690911, 9.000025042], [48.69685423, 9.000215479], [48.69662939, 9.00087262], [48.69653733, 9.000580259], [48.696509, 9.000679501], [48.6964913, 9.000730463], [48.69656034, 9.000521251], [48.70575943, 8.991747643], [48.70573641, 8.991799946], [48.7058966, 8.991402979], [48.70587935, 8.991461988], [48.70596298, 8.991702046], [48.70603113, 8.990535285], [48.70600812, 8.990580882], [48.70593555, 8.990815575], [48.70589705, 8.990933593], [48.70585766, 8.991050269], [48.70576031, 8.991358723], [48.70569039, 8.991566594], [48.70589306, 8.991362746], [48.70585943, 8.991439189], [48.7058258, 8.991534407], [48.7058081, 8.991589393], [48.70135907, 8.981909615], [48.7014759, 8.981541482], [48.70130862, 8.982543287], [48.70127144, 8.982661304], [48.70122896, 8.982794744], [48.70119134, 8.98291142], [48.70136217, 8.982348827], [48.70124312, 8.982256961], [48.70118072, 8.982448069], [48.70109442, 8.982696843], [48.70108911, 8.982763899], [48.70103291, 8.982940254], [48.70099927, 8.98298384], [48.7009829, 8.983045531], [48.70097006, 8.983106551], [48.7015414, 8.982307923], [48.70149228, 8.982443375], [48.70161929, 8.981582386], [48.70160203, 8.981642065], [48.70158743, 8.98169638], [48.70156264, 8.981767458], [48.7015268, 8.981877429], [48.70151087, 8.981945825], [48.70147325, 8.982057137], [48.70176616, 8.982137288], [48.701752, 8.981671925], [48.7017146, 8.98179033], [48.69226318, 8.976948676], [48.69230036, 8.977029142], [48.69228443, 8.977031824], [48.69238535, 8.977436838], [48.69236941, 8.977396605], [48.69235879, 8.977340278], [48.70161796, 8.982094017], [48.70163921, 8.982040373], [48.69236764, 8.977452931], [48.69222423, 8.977418062], [48.69218528, 8.977460978], [48.69224017, 8.977519986], [48.69220298, 8.977541444], [48.69222069, 8.977581677], [48.70167565, 8.98192444], [48.70163168, 8.982032997], [48.689928, 8.993886], [48.7064581, 9.022481902], [48.706694, 9.029095], [48.706539, 9.009261], [48.7080768, 9.034004], [48.69557, 9.00674], [48.69557, 9.00674], [48.7051579, 9.0178537], [48.725255, 9.008961], [48.7416682, 9.0331385], [48.695889, 8.940333], [48.345541, 8.550419], [48.627423, 9.02929], [48.62245941, 9.057906151], [48.620503, 9.045081], [48.66906, 9.06905], [48.746684, 8.952215], [48.638619, 9.1234], [48.55975, 8.85785], [48.55992217, 8.857526122], [48.569886, 8.781577], [48.562974, 8.774716], [48.52148, 8.835588], [48.507589, 8.8281793], [48.614545, 8.903146], [48.616422, 8.908525], [48.627736, 8.99698], [48.625351, 8.967268], [48.785079, 9.017713], [48.7852, 9.01744], [48.819242, 9.01119], [48.789268, 9.017393], [48.78459053, 9.005806032], [48.786688, 8.912294], [48.786675, 8.912231], [48.787424, 8.922311], [48.78746, 8.922543], [48.787273, 8.92219], [48.788162, 8.913807], [48.788073, 8.913837], [48.787986, 8.913864], [48.787897, 8.913892], [48.787813, 8.913923], [48.787447, 8.913568], [48.78815, 8.91377], [48.7773787, 8.9362719], [48.8092186, 8.9361285], [48.833902, 8.9134819], [48.6515122, 8.8237022], [48.651686, 8.823179], [47.797917, 9.090401], [47.664067, 9.482701], [47.66545, 9.445376], [47.672625, 9.523245], [47.671361, 9.491], [47.67537, 9.500984], [47.661194, 9.596222], [47.6609062, 9.586284], [47.662574, 9.571448], [47.701319, 9.55902], [47.709602, 9.59689], [47.754222, 9.189806], [47.769319, 9.149573], [47.769332, 9.14961], [47.769366, 9.149696], [47.769377, 9.149728], [47.775822, 9.150536], [47.765005, 9.163139], [47.768472, 9.155235], [47.802296, 9.238275], [47.71599863, 9.401641488], [47.757994, 9.296272], [47.778123, 9.280898], [47.757994, 9.296272], [47.76752, 9.295175], [47.76785, 9.291221], [47.759433, 9.312632], [47.7383133, 9.2624989], [47.77200957, 9.38062069], [47.81393, 9.272603], [47.824598, 9.25428], [47.6767388, 9.3273835], [47.69381, 9.26757], [47.705353, 9.271327], [47.925027, 7.701838], [47.909774, 7.69944], [47.953119, 7.670041], [48.04313, 7.86822], [48.034954, 7.870131], [47.983385, 7.666722], [47.88882, 7.72382], [47.88882, 7.72382], [47.88075993, 7.729637091], [48.03206, 7.762034], [47.96147, 7.7568], [48.0675816, 7.6245483], [47.923458, 7.740389], [47.8603276, 7.7995297], [47.855827, 7.777423], [47.96127, 8.01055], [47.940695, 7.630857], [48.01794, 8.03444], [48.007166, 8.092259], [47.859213, 7.689016], [47.840339, 7.708734], [47.946363, 7.813807], [47.8, 7.6333], [47.81061, 7.63138], [47.817417, 7.556417], [47.814297, 7.568957], [47.81460666, 7.557818855], [47.81462107, 7.557817514], [47.81462467, 7.55780008], [47.9172051, 8.2073705], [47.907599, 8.158931], [47.884107, 8.345817], [47.892153, 8.177807], [47.91003, 8.10074], [48.58457754, 8.601367248], [48.651595, 8.770194], [48.524612, 8.645825], [48.776915, 8.571892], [48.752722, 8.550105], [48.7564, 8.550736], [48.787228, 8.643486], [48.78818, 8.643897], [48.796901, 8.493396], [48.805719, 8.582659], [48.7057042, 8.7349959], [48.706372, 8.753524], [48.714339, 8.740453], [48.724168, 8.700222], [48.71156, 8.763769], [48.689255, 8.769254], [48.738695, 8.734563], [48.70786, 8.761228], [48.70988, 8.75969], [48.705051, 8.7640418], [48.725325, 8.793879], [48.726996, 8.787723], [48.488443, 8.689015], [48.666445, 8.686823], [48.69308, 8.827463], [48.751653, 8.663486], [48.752339, 8.812651], [48.8005, 8.43665], [48.094181, 7.95892], [48.102732, 7.97127], [48.08491, 7.945426], [48.068577, 7.881928], [48.06741, 7.8692], [48.19333, 8.03355], [48.1132525, 7.8600231], [48.127262, 7.829452], [48.105244, 7.861039], [48.128363, 7.808779], [48.224117, 7.765064], [48.22685, 7.75509], [48.199824, 7.77333], [48.18982, 7.76591], [48.121867, 7.738892], [48.156968, 7.745885], [48.157849, 7.78324], [48.162036, 7.794722], [48.837524, 8.83961], [48.955473, 8.585583], [48.966043, 8.603242], [48.894609, 8.604182], [48.901765, 8.578474], [48.871226, 8.636652], [48.865493, 8.580933], [48.870901, 8.629524], [48.918838, 8.780908], [48.919871, 8.769051], [48.916335, 8.780379], [48.913649, 8.668078], [48.945364, 8.623769], [48.933506, 8.634289], [48.792601, 8.779299], [48.929554, 8.747665], [48.93134, 8.750902], [48.93488, 8.749911], [48.834721, 8.586127], [48.85104306, 8.58651051], [48.862687, 8.568358], [48.94625, 8.841416667], [48.942722, 8.8134376], [48.94471, 8.843744], [48.957322, 8.851786], [48.995957, 8.798411], [48.997473, 8.811618], [48.998116, 8.805548], [49.0479825, 8.8493338], [48.871832, 8.80115], [48.695776, 9.161374], [48.6921, 9.168324], [48.688517, 9.16764], [48.695064, 9.161913], [48.671311, 9.174303], [48.677814, 9.1941], [48.679398, 9.21965], [48.683535, 9.213081], [48.677443, 9.216737], [48.654315, 9.187701], [48.673837, 9.238644], [48.648309, 9.246751], [48.66947, 9.229507], [48.651583, 9.207865], [48.676151, 9.227262], [48.648731, 9.219213], [48.653218, 9.192982], [48.656551, 9.21046], [48.658924, 9.199923], [48.657522, 9.20245], [48.6784098, 9.1932634], [48.64181115, 9.352363585], [48.626429, 9.330145], [48.612541, 9.346794], [48.627326, 9.338889], [48.629839, 9.382715], [48.603901, 9.30886], [48.6321, 9.32724], [48.6364155, 9.346051222], [48.63354, 9.233698], [48.62664, 9.25491], [48.65522, 9.3591], [48.709427, 9.41851], [48.6526198, 9.4598491], [48.650465, 9.457406], [48.643927, 9.44643], [48.653187, 9.429738], [48.65142, 9.44823], [48.65206, 9.44511], [48.63583, 9.45385], [48.673894, 9.376082], [48.670181, 9.392793], [48.671183, 9.37752], [48.67110133, 9.364001406], [48.6900741, 9.4190091], [48.6883165, 9.4210857], [48.5619, 9.4625], [48.526032, 9.495404], [48.67756594, 9.365855455], [48.7102, 9.4625], [48.7109, 9.4573], [48.7083, 9.4662], [48.7094, 9.463], [48.7084, 9.4631], [48.6020311, 9.4900528], [48.3847274, 9.314937], [48.73884, 9.306632], [48.742569, 9.3067297], [48.730677, 9.317071], [48.7403924, 9.3123792], [48.7299671, 9.328052], [48.73423, 9.31145], [48.741215, 9.313758], [48.740852, 9.301944], [48.7365486, 9.3271864], [48.738077, 9.327469], [48.723789, 9.344473], [48.723771, 9.344535], [48.43217, 9.21075], [48.717547, 9.342327], [48.744694, 9.321223], [48.74755057, 9.271799827], [48.748796, 9.265696], [48.742761, 9.269488], [48.742762, 9.269489], [48.742767, 9.269494], [48.742768, 9.269495], [48.742769, 9.269496], [48.751481, 9.266863], [48.74863, 9.2743], [48.747585, 9.272094], [48.747595, 9.272161], [48.747605, 9.272226], [48.74763, 9.272351], [48.747627, 9.272354], [48.747647, 9.272454], [48.747679, 9.272656], [48.74771, 9.272848], [48.719746, 9.27195], [48.7210548, 9.22529161], [48.732159, 9.244059], [48.712745, 9.308847698], [48.683035, 9.278897], [48.70051, 9.326415], [48.693875, 9.303797], [48.693887, 9.303839], [48.693667, 9.303297], [48.694426, 9.328111], [48.747701, 9.394326], [48.758453, 9.376934], [48.714681, 9.3797411], [48.71583, 9.38406], [48.71507822, 9.377700195], [48.41077, 8.6611949], [48.27422, 8.41751], [48.442754, 8.689705], [48.45301, 8.697691], [48.45301, 8.697691], [48.441571, 8.680929], [48.465466, 8.425653], [48.468017, 8.411845], [48.463101, 8.415845], [48.474252, 8.295017], [48.607266, 8.366302], [48.500599, 8.364845], [48.508624, 8.367341], [48.4717219, 8.4981608], [48.5401, 8.574], [48.537948, 8.572671], [48.41414, 8.45013], [48.4203319, 8.4440328], [48.724024, 9.637851], [48.709643, 9.648647], [48.690963, 9.564], [48.709876, 9.655651], [48.705018, 9.662224], [48.700441, 9.652545], [48.704862, 9.643881], [48.70155072, 9.658263127], [48.70155072, 9.658263127], [48.705, 9.662], [48.699, 9.6513], [48.7007, 9.6524], [48.7042529, 9.646193], [48.70962, 9.616661], [48.7244, 9.6574], [48.7103, 9.6162], [48.742293, 9.72428], [48.663738, 9.678111], [48.7415, 9.7219], [48.7138, 9.6899], [48.69449119, 9.665786218], [48.695126, 9.678868], [48.694329, 9.666901], [48.693747, 9.666665], [48.696943, 9.706453], [48.69487649, 9.704676684], [48.706801, 9.712742], [48.700093, 9.707065], [48.71627725, 9.536735243], [48.704784, 9.585438], [48.70744968, 9.610118761], [48.70741291, 9.610161955], [48.70707519, 9.610731153], [48.70684332, 9.610556809], [48.686078, 9.789328], [48.71202592, 9.82087844], [48.679612, 9.755607], [48.67797, 9.765328], [48.691703, 9.76703], [48.689746, 9.737457], [48.69271609, 9.731450589], [48.63789, 9.60981], [48.6335, 9.56842], [48.641538, 9.650916], [48.667344, 9.572243], [48.66736, 9.57361], [48.736074, 9.748223], [48.65366, 9.70695], [48.61755, 9.83933], [48.61749, 9.83902], [48.615548, 9.843549], [48.629354, 9.815082], [48.63009381, 9.809082849], [48.62995131, 9.810092828], [48.63015231, 9.809104307], [48.636548, 9.803613], [48.635208, 9.800645], [48.59941, 9.79337], [48.601597, 9.797488], [48.57523, 9.65693], [48.6806579, 10.1553657], [48.680501, 10.130246], [48.679015, 10.136838], [48.6744238, 10.1525997], [48.6745539, 10.152751], [48.67288, 10.15236], [48.67288, 10.15236], [48.67958, 10.15887], [48.58409, 10.175751], [48.5840794, 10.178753], [48.584359, 10.179082], [48.61966, 10.25379], [48.620237, 10.176519], [48.624756, 10.022636], [48.737921, 10.114532], [48.672675, 9.983177], [48.597064, 10.257175], [49.081998, 9.461019], [49.1843377, 9.2252668], [49.1802378, 9.223276811], [49.1919779, 9.2226722], [49.176492, 9.231113], [49.19384146, 9.220967889], [49.195555, 9.224049], [49.19384146, 9.220967889], [49.196122, 9.223408], [49.18808673, 9.218608755], [49.228177, 9.210099], [49.14158947, 9.0586622], [49.138646, 9.057692], [49.138571, 9.05756], [49.1375715, 9.065202], [49.238144, 9.331072], [49.2371205, 9.3306769], [49.234448, 9.354628], [49.236885, 9.326542], [49.245143, 9.309522], [49.238619, 9.341146], [48.46157, 9.47534], [49.089517, 9.275304], [49.089531, 9.275331], [49.226736, 9.160591], [49.229307, 9.167214], [49.14972562, 9.129011857], [49.143886, 9.112623], [49.143907, 9.120733], [49.105244, 9.20481], [49.101649, 9.213689], [49.100726, 9.19189], [49.1007, 9.1919], [49.1003804, 9.2139335], [49.106918, 9.208782], [49.108442, 9.1282], [49.075599, 9.302704], [49.079662, 9.308665], [49.080317, 9.307677], [49.075598, 9.302705], [49.079663, 9.308664], [49.080316, 9.307676], [49.076491, 9.305431], [49.076433, 9.305478], [49.079663, 9.308666], [49.11077, 9.365584], [49.095037, 9.380471], [49.09059, 9.405588], [49.17842, 9.32099], [49.24516, 9.1638], [49.209946, 9.203903], [49.323989, 9.412135], [49.3229097, 9.4158214], [49.0788568, 9.065466828], [49.08183, 9.06147], [49.091975, 9.081404], [49.075983, 9.145086], [49.07617453, 9.146391449], [49.076445, 9.156604], [49.04406, 9.261997], [49.055188, 9.241813], [49.054957, 9.242678], [49.05535, 9.25904], [49.055484, 9.254222], [49.0498758, 9.2538917], [49.067193, 9.000795], [49.059373, 8.926889], [49.084702, 9.195198], [49.061537, 8.975544], [49.240051, 9.107058], [49.239845, 9.100817], [49.21194, 9.077253], [49.237557, 9.086459], [49.1052564, 8.8934267], [49.13714, 8.90832], [49.174305, 8.94628], [49.342207, 9.524573], [49.204103, 9.502909], [49.207152, 9.480891], [49.197822, 9.506569], [49.20347, 9.488515], [49.204254, 9.489319], [49.179034, 9.409522], [49.185104, 9.411068], [49.17956184, 9.409503632], [49.205248, 9.640193], [49.207007, 9.639273], [49.1959728, 9.6912482], [49.211944, 9.732222], [49.22507, 9.6834699], [49.18425, 9.625167], [49.20142997, 9.672232576], [49.26025, 9.685607], [49.301461, 9.64681], [49.3409, 9.80036], [49.345845, 9.794749], [49.1742, 9.3655], [49.383275, 9.708368], [49.2458482, 8.541885594], [49.212, 8.52762], [49.211909, 8.52907], [49.036053, 8.703134], [49.038656, 8.69636], [49.039874, 8.690271], [49.033996, 8.701676], [49.061652, 8.801387], [49.062459, 8.7975], [49.011056, 8.611127], [49.10741, 8.85033], [49.1015, 8.85898], [49.103776, 8.811045], [49.105237, 8.817233], [48.938505, 8.367736], [48.938138, 8.418287], [48.938073, 8.415697], [48.945772, 8.399061], [48.937302, 8.381096], [48.898628, 8.405754], [48.93875, 8.408058], [48.91359, 8.381617], [48.92437, 8.374777], [48.89728, 8.421969], [48.934187, 8.440733], [48.941313, 8.410532], [48.946465, 8.408939], [48.937277, 8.399829], [48.93987, 8.403615], [48.943313, 8.408298], [48.938692, 8.412151], [48.948174, 8.407931], [48.937182, 8.399593], [48.933892, 8.439251], [48.93823, 8.38169], [48.959261, 8.294988], [48.967191, 8.261077], [48.98038, 8.32348], [49.066231, 8.470181], [49.08039, 8.46168], [49.06179, 8.465962], [48.86581, 8.51003], [48.943771, 8.534814], [48.884467, 8.509555], [48.912464, 8.495495], [48.88876139, 8.310456169], [48.98957161, 8.535418438], [48.92112, 8.474927], [49.09185, 8.42848], [49.1315, 8.4211], [49.140696, 8.40907], [49.1200403, 8.5726398], [49.13780287, 8.593758343], [49.13763, 8.59114], [49.12389336, 8.59817312], [49.134853, 8.589586], [49.129422, 8.589817], [49.120037, 8.574466], [49.13776, 8.56103], [49.1205609, 8.58196], [49.13713, 8.59276], [49.1246102, 8.5966755], [49.201504, 8.653505], [49.203821, 8.640141], [49.20115, 8.63855], [49.215444, 8.69608], [49.214223, 8.698334], [49.142935, 8.547605], [49.127795, 8.520969], [49.140139, 8.55325], [49.153369, 8.579444], [49.155958, 8.577806], [49.160998, 8.567015], [49.162694, 8.570788], [49.172467, 8.624206], [49.158327, 8.63048], [49.176728, 8.673517], [49.105982, 8.745112], [49.12502, 8.715892], [49.183362, 8.423639], [49.1833725, 8.4235035], [49.188604, 8.53884], [49.219392, 8.634428], [49.216091, 8.636213], [47.76201741, 8.853757381], [47.755979, 8.839612], [47.754271, 8.852298], [47.860927, 8.785676], [47.85139, 8.77144], [47.85394, 8.76893], [47.73246384, 8.846655846], [47.76977, 8.70149], [47.762386, 8.78796], [47.85846, 8.89687], [47.6970075, 8.7541614], [47.729431, 8.993623], [47.744298, 8.958287], [47.844061, 9.011615], [47.853047, 9.006443], [47.872256, 8.993509], [47.8597192, 9.0048766], [47.85665376, 9.01232502], [47.848195, 9.009267], [47.72643, 8.930603], [47.821308, 9.051741], [47.889057, 9.112617], [47.912879, 9.017638], [47.663042, 9.172053], [47.660759, 9.17158], [47.671274, 9.183044], [47.682678, 9.173413], [47.74648, 9.13499], [47.677233, 9.151265], [47.7248296, 9.0709147], [47.713464, 9.068686], [47.72399, 9.070333], [47.714034, 9.070845], [47.713437, 9.068497], [47.737703, 7.551272], [47.75673, 7.57577], [47.623236, 7.656689], [47.615845, 7.662071], [47.614865, 7.665696], [47.6263498, 7.678267312], [47.605697, 7.654075], [47.63188, 7.67885], [47.63836, 7.67758], [47.64204, 7.6956], [47.5985696, 7.6033922], [47.592485, 7.611964], [47.602544, 7.616749], [47.60545236, 7.597656341], [47.641537, 7.747726], [47.629138, 7.619552], [47.626586, 7.599531], [47.626586, 7.599531], [47.626586, 7.599531], [47.626586, 7.599531], [47.626586, 7.599531], [47.626586, 7.599531], [47.586986, 7.696068], [47.647224, 7.818464], [47.649509, 7.820093], [47.647209, 7.809152], [47.70581, 7.84923], [47.8570596, 7.9162594], [47.830386, 7.944097], [47.79199, 7.900629], [47.683368, 7.842388], [47.68341, 7.84229], [47.64461, 7.78307], [48.85955, 9.18536], [48.864475, 9.207981], [48.85589, 9.18988], [48.859968, 9.19774], [48.86515, 9.18359], [48.87697, 9.22136], [48.85687449, 9.175344597], [48.845631, 9.131823], [48.7985979, 9.0610851], [48.7994999, 9.0700638], [48.803839, 9.063077], [48.827318, 9.067599], [48.833806, 9.063463], [48.8382158, 9.0408304], [48.919261, 9.328626], [48.908093, 9.165207], [48.897313, 9.18889], [48.897437, 9.18669], [48.90342889, 9.165508165], [48.893603, 9.179222], [48.889203, 9.162253], [48.892905, 9.173053], [48.888213, 9.166908], [48.8902, 9.1532], [48.89155, 9.18375], [48.891217, 9.204225], [48.894592, 9.192325], [48.931381, 8.955611], [48.931379, 8.960295], [48.926931, 8.966447], [48.93923, 9.25793], [48.9427561, 9.2663708], [48.90460964, 9.143325902], [48.906572, 9.147349], [48.898385, 9.154592], [48.861722, 9.256525], [48.872261, 9.274021], [48.929454, 9.194038], [48.88807, 9.13531], [48.88996843, 9.126881361], [48.88996843, 9.126881361], [48.872999, 9.084614], [48.875664, 9.073046], [48.875763, 9.078051], [48.881411, 9.080493], [48.881815, 9.080664], [48.882424, 9.096201], [48.884255, 9.087141], [48.884266, 9.087347], [48.88427, 9.087416], [48.884274, 9.087484], [48.884288, 9.087757], [48.884292, 9.087825], [48.884296, 9.087894], [48.8843, 9.087963], [48.904986, 9.090912], [48.896968, 9.096253], [48.939658, 9.058333], [48.9682932, 9.2736971], [48.957889, 9.247056], [48.9570414, 9.244120717], [49.0019063, 9.2939481], [48.94088, 9.296934], [48.925546, 9.150743], [48.925518, 9.150692], [48.925474, 9.150479], [48.921006, 9.130343], [48.891803, 8.937753], [48.928382, 9.030169], [48.9494077, 9.146934], [48.954764, 9.1171], [48.961415, 9.125835], [48.973948, 9.071727], [48.957272, 9.075238], [48.9582906, 9.0876208], [48.957405, 9.074516], [49.00186, 9.14227], [49.00011946, 9.145710468], [49.03731, 9.150486], [49.03920898, 9.144073371], [49.021732, 9.091208], [49.010648, 9.15212], [49.762008, 9.512321], [49.760487, 9.51951], [49.771521, 9.585687], [49.713214, 9.546818], [49.7132462, 9.5471756], [49.77135, 9.583002], [49.77135, 9.583002], [49.57144451, 9.70256321], [49.579621, 9.710798], [49.542342, 9.734054], [49.538332, 9.740297], [49.630403, 9.666185], [49.48345, 9.633589], [49.604137, 9.722492], [49.621761, 9.730665], [49.594534, 9.587398], [49.493115, 9.769909], [49.496651, 9.776848], [49.49335639, 9.7743056], [49.49308, 9.769919], [49.47521, 9.83514], [49.497166, 9.769336], [49.483, 9.897], [49.470704, 9.873341], [49.48278, 9.89528], [49.48688829, 9.8206163], [49.521565, 9.331856], [49.523442, 9.328062], [49.5047265, 9.3117846], [49.523662, 9.32206], [49.606811, 9.469433], [49.606759, 9.472557], [49.4407508, 9.2879648], [49.442809, 9.33517], [49.34508963, 9.130453759], [49.36537, 9.154302], [49.343097, 9.122983], [49.3504861, 9.14211944], [49.381684, 9.181842], [49.45513, 9.247109], [49.3506816, 9.2465359], [49.406, 9.275], [49.39591, 9.00304], [48.48302, 7.936934], [48.47175, 7.936204], [48.464581, 7.94129], [48.4814628, 7.9468601], [48.464964, 7.931835], [48.464977, 7.931123], [48.43874, 7.92978], [48.47286081, 7.924484611], [48.463664, 7.927204], [48.563241, 7.815488], [48.5620238, 7.8335632], [48.551092, 7.837306], [48.536321, 8.063741], [48.535941, 8.064092], [48.52516, 8.073454], [48.529321, 8.080105], [48.529794, 8.081688], [48.529365, 8.078766], [48.53588, 8.06631], [48.223085, 8.050137], [48.257923, 8.068232], [48.42689747, 8.01259457], [48.39711, 8.021825], [48.427838, 8.016157], [48.474946, 8.167614], [48.474777, 8.164821], [48.47398, 8.16564], [48.471901, 8.159595], [48.2839614, 8.1700566], [48.4887, 8.03695], [48.38339, 8.144194], [48.404577, 8.001135], [48.519462, 8.114533], [48.52298, 8.09998], [48.44067057, 7.969232725], [48.63433, 8.05847], [48.620222, 7.890396], [48.58633, 8.01275], [48.646333, 8.088227], [48.646597, 8.087818], [48.6197, 8.12292], [48.343101, 7.870294], [48.336137, 7.846973], [48.337972, 7.864021], [48.33732291, 7.866190045], [48.353883, 7.807496], [48.373428, 7.882214], [48.276431, 7.780367], [48.260806, 7.804972], [48.25339, 7.80982], [48.2926896, 7.7415088], [48.276, 7.7758], [48.2840356, 7.7671643], [48.309517, 7.788855], [48.27673836, 7.78650226], [48.40795668, 7.774318067], [48.246081, 7.778316], [48.24853867, 7.772509287], [48.270668, 7.718053], [48.270668, 7.718053], [48.26037, 7.723682], [48.27031, 7.718225], [48.26041, 7.722844], [48.841746, 10.067306], [48.82815234, 10.07858813], [48.825198, 10.06736], [48.817494, 10.12734], [48.823029, 10.202164], [48.860174, 10.103014], [48.859008, 10.352578], [48.858152, 10.35663], [48.766119, 10.101728], [48.781255, 10.101121], [48.753376, 10.333366], [48.883285, 10.177844], [48.866999, 10.222825], [48.890544, 10.437342], [48.850328, 10.434605], [48.984913, 10.196179], [48.961781, 10.132441], [48.98317, 10.193441], [48.95421, 10.169293], [48.95421, 10.169293], [48.961781, 10.132532], [48.955858, 10.133665], [48.966645, 10.260988], [48.960237, 10.134899], [48.96865, 10.127658], [48.968657, 10.127513], [49.029892, 10.097997], [48.97932, 10.36388], [48.801249, 9.790036], [48.80117, 9.78553], [48.79953, 9.79838], [48.801004, 9.80032], [48.81386, 9.77213], [48.48165, 9.50245], [48.7959, 9.86483], [48.774844, 9.795572], [48.7906554, 9.7703864], [48.788416, 9.935807], [48.79579, 9.93478], [48.798112, 9.676872], [48.797339, 9.691226], [48.79728811, 9.67497468], [48.79717, 9.67575], [48.79869922, 9.683356185], [48.79869922, 9.683356185], [48.766765, 9.821385], [48.822859, 9.797262], [48.81855, 9.921798], [48.882771, 9.761282], [48.859616, 9.788802], [48.849052, 9.877031], [48.934243, 9.743515], [48.521128, 9.090323], [48.86588, 8.218421], [48.85224, 8.202522], [48.860579, 8.212726], [48.8594, 8.235916], [48.855308, 8.208053], [48.863064, 8.199645], [48.86159664, 8.185062222], [48.85621614, 8.175148798], [48.85576568, 8.18031138], [48.85572862, 8.18042068], [48.85628359, 8.175252636], [48.86725413, 8.185960877], [48.86727819, 8.186089734], [48.86650959, 8.186009846], [48.86654081, 8.186135046], [48.86658867, 8.186346761], [48.86652744, 8.186276396], [48.85565695, 8.180601138], [48.85552375, 8.180429429], [48.85577174, 8.180690436], [48.85556341, 8.180292684], [48.8556623, 8.180524911], [48.85557444, 8.18039729], [48.93758, 8.253462], [48.829578, 8.267121], [48.824706, 8.252724], [48.84036983, 8.254902614], [48.868867, 8.288423], [48.888488, 8.240907], [48.88958, 8.23569], [48.951633, 8.239222], [48.8312925, 8.2812478], [48.784991, 8.110098], [48.80155814, 8.322119718], [48.80814, 8.30939], [48.818245, 8.302521], [48.8224524, 8.295278549], [48.807952, 8.302225], [48.802411, 8.315911], [48.769207, 8.3381], [48.769214, 8.338116], [48.773064, 8.3413928], [48.652921, 8.32294], [48.678597, 8.358838], [48.687588, 8.361857], [48.774117, 8.387908], [48.690763, 8.118976], [48.690771, 8.118898], [48.697508, 8.136003], [48.687995, 8.114886], [48.707712, 8.132682], [48.712052, 8.13264], [48.66732, 8.112439], [48.668313, 8.111094], [48.685452, 8.057503], [47.8794756, 10.0382582], [47.794777, 9.612771], [47.781171, 9.588393], [47.784996, 9.619466], [47.785004, 9.619407], [48.404077, 10.0], [48.53315, 10.1036], [49.76941, 9.51253], [49.76852, 9.517552], [48.401173, 10.022523], [48.39193, 10.0219], [48.401615, 10.020119], [48.366718, 10.008961], [48.379982, 10.008281], [48.392614, 9.990954], [49.52813, 8.5655], [49.52813, 8.5655], [49.536048, 8.576178], [49.551547, 8.583702], [49.535642, 8.582486], [49.53942, 8.595505], [49.594523, 8.466921], [49.588075, 8.483777], [49.58505, 8.69999], [49.532796, 8.724442], [49.539312, 8.710104], [49.512215, 8.4941563], [48.940819, 8.445498], [48.286512, 8.187556], [47.788182, 9.615095], [47.783656, 9.616352], [47.788202, 9.623799], [47.787302, 9.609988], [47.79400822, 9.613268975], [47.79418801, 9.613317852], [47.7923973, 9.623502493], [47.784695, 9.61578], [47.751368, 9.568475], [47.761682, 9.541121], [47.803774, 9.540855], [47.78327, 9.6064], [47.737283, 9.603407], [47.767036, 9.601305], [47.776844, 9.603035], [47.7676637, 9.6044367], [47.78071, 9.604944], [47.68667, 9.83158], [47.694439, 9.845215], [47.694871, 9.828054], [47.686629, 9.831543], [47.686462, 9.8350421], [47.683082, 9.839513], [47.80794, 9.63923], [47.813534, 9.651809], [47.808015, 9.642139], [47.798023, 9.625561], [47.802437, 9.635987], [47.818794, 9.641633], [47.84174304, 9.658771005], [47.836577, 9.633449], [47.836791, 9.633142], [47.828347, 9.651152], [47.831571, 9.664623], [47.836946, 9.463492], [47.833917, 9.462639], [47.863688, 9.5883441], [47.707987, 9.747891], [47.876806, 9.629944], [47.710913, 9.693467], [47.756907, 9.717428], [47.833906, 10.025059], [47.822561, 10.007333], [47.8315086, 10.0043516], [47.822224, 10.010058], [47.70359558, 10.04965508], [47.689539, 10.045201], [47.880383, 10.040579], [47.880383, 10.040579], [47.948694, 9.641833], [47.947581, 9.75748], [47.916388, 9.762818], [47.919276, 9.760187], [47.925247, 9.751936], [47.900157, 9.722102], [47.928413, 9.757216], [47.928413, 9.757216], [47.757115, 9.913525], [47.788432, 9.880758], [47.774434, 9.891602], [47.73061, 9.8801], [47.968663, 9.507902], [47.821392, 9.794651], [47.910248, 9.900165], [48.807097, 9.276129], [48.82633, 9.27804], [48.8144694, 9.2737335], [48.832955, 9.264662], [48.82247215, 9.318242556], [48.82159029, 9.2966527], [48.829, 9.318], [48.821357, 9.296788], [48.821231, 9.29494], [48.821229, 9.29492], [48.83577, 9.316608], [48.830042, 9.31581], [48.82651, 9.30181], [48.827926, 9.322022], [48.830042, 9.31581], [48.833185, 9.315769], [48.82573, 9.30153], [48.82568, 9.301794], [48.825452, 9.301531], [48.825767, 9.301316], [48.82557, 9.301436], [48.825767, 9.301567], [48.825594, 9.301662], [48.825413, 9.301686], [48.825602, 9.301662], [48.825521, 9.301578], [48.825436, 9.301514], [48.821589, 9.314671], [48.821, 9.346607], [48.852729, 9.301606], [48.847794, 9.324047], [48.856733, 9.328701], [48.86623, 9.316168], [48.856733, 9.328701], [48.87135089, 9.384405674], [48.875573, 9.392958], [48.875542, 9.397515], [48.864212, 9.383856], [48.813985, 9.371424], [48.8050865, 9.386521], [48.785315, 9.362631], [48.817062, 9.383522], [48.809768, 9.351259], [48.81431937, 9.357924917], [48.8146669, 9.358126491], [48.81349263, 9.357511596], [48.81368239, 9.357562651], [48.7904075, 9.3433657], [48.809083, 9.322139], [48.78450203, 9.340187527], [48.887854, 9.393547], [48.87418, 9.35176], [48.94303, 9.4285658], [48.934, 9.446], [48.936228, 9.437821], [48.9363357, 9.4449023], [48.9618973, 9.431935], [48.962296, 9.431856], [48.982005, 9.578664], [48.97086, 9.387799], [48.96629, 9.39966], [48.916208, 9.568651], [48.987691, 9.463359], [48.907248, 9.467906], [48.841915, 9.683968], [48.8133005, 9.5213703], [48.81013, 9.53839], [48.81013, 9.53839], [48.81013, 9.53839], [48.81013, 9.53839], [48.806496, 9.52577], [48.80511, 9.50867], [48.81413913, 9.539921663], [48.80709285, 9.541643323], [48.80473404, 9.515655779], [48.80469801, 9.515843338], [48.80673642, 9.510064705], [48.80676302, 9.510152246], [48.80677975, 9.51016981], [48.81470403, 9.415327275], [48.81469654, 9.4152523], [48.81126, 9.43729], [48.874473, 9.634751], [48.874128, 9.634781], [48.804752, 9.479259], [48.810127, 9.570342], [48.809624, 9.5710066], [48.811916, 9.581625], [48.860156, 9.468928], [48.86193, 9.46929], [48.88688, 9.461024105], [48.410848, 9.49113], [48.410059, 9.50061], [49.32632, 9.330442], [48.3199654, 9.4324417], [48.277739, 9.479697], [48.280088, 9.478626], [48.53636, 9.27957], [48.53638, 9.27964], [48.53646, 9.27983], [48.53504, 9.28106], [48.53513, 9.28113], [48.53507, 9.28111], [48.53261, 9.27753], [48.53949, 9.2792], [48.53947, 9.27922], [48.54144, 9.27572], [48.53718, 9.28156], [48.491925, 9.401081], [48.502735, 9.376476], [48.51162, 9.20444], [48.500089, 9.209945], [48.501964, 9.207188], [48.4951, 9.18838], [48.49354, 9.19409], [48.47904, 9.18795], [48.496454, 9.210396], [48.49326, 9.21638], [48.491227, 9.219675], [48.484425, 9.222523], [48.4886852, 9.2156524], [48.488797, 9.216659], [48.5648, 9.22844], [48.512332, 9.230772], [48.513591, 9.231368], [48.54655, 9.20604], [48.50057, 9.17677], [48.433757, 9.148333], [48.456525, 9.229779], [48.477085, 9.231041], [48.48038931, 9.229690433], [48.48033241, 9.229658246], [48.48030397, 9.229642153], [48.47852248, 9.224067566], [48.47842836, 9.22471], [48.440465, 9.25371], [48.4529942, 9.3403399], [48.4385675, 9.375584617], [48.308028, 9.244463], [48.389824, 9.290837], [48.386732, 9.283954], [48.3852067, 9.2978297], [48.231112, 9.458831], [49.471378, 8.607315], [49.476528, 8.614045], [49.0, 8.586367614], [49.456296, 8.595477], [49.50762, 8.62855], [49.471235, 8.566378], [49.377725, 8.56021], [49.38017, 8.57536], [49.393307, 8.582067], [49.4072519, 8.5528506], [49.39052, 8.57966], [49.413184, 8.545299], [49.3852715, 8.5775826], [49.317584, 8.545261], [49.308255, 8.537786], [49.316991, 8.575853], [49.320815, 8.567804], [49.245399, 8.636766], [49.24555722, 8.635145809], [49.392988, 8.800113], [49.397422, 8.837338], [49.29163, 8.66088], [49.2943096, 8.666893], [49.2905278, 8.664805555], [49.292841, 8.6969818], [49.3449047, 8.6788524], [49.3004914, 8.644219], [49.2971672, 8.6302369], [49.2973219, 8.6301201], [49.314599, 8.637563], [49.302223, 8.642357], [49.303891, 8.648709], [49.476043, 8.661932], [49.341823, 8.660026], [49.3508, 8.632241], [49.403815, 8.618701], [49.317325, 8.675627], [49.326159, 8.6838607], [49.27429067, 8.695693733], [49.28216, 8.735], [49.248207, 8.726858], [49.349492, 8.768603], [49.367868, 8.75099], [49.485795, 8.795633], [49.54160343, 8.663612445], [49.532003, 8.642889], [49.558527, 8.64968], [49.5469, 8.670231], [49.497901, 8.65978], [49.507796, 8.638089], [49.510604, 8.654971], [49.594, 8.647], [49.376603, 8.587326], [49.376603, 8.587326], [49.376603, 8.587326], [49.2444306, 8.8789347], [49.24097239, 8.87991141], [49.24097239, 8.87991141], [49.24811, 8.86153], [49.250583, 8.879565], [49.23823, 8.89803], [49.24016, 8.894793], [49.31702, 8.813564], [49.2977041, 8.9200738], [49.302642, 8.910918], [49.236963, 8.767253], [49.37589, 8.89122], [48.36656, 8.63825], [48.3619, 8.63039], [48.3587, 8.62319], [48.343281, 8.66328], [48.31324184, 8.637983968], [48.17995, 8.631309], [48.1476706, 8.6393394], [48.15678, 8.63446], [48.1488956, 8.6394904], [48.160184, 8.618666], [48.11211, 8.60438], [48.1134, 8.6053], [48.171444, 8.574278], [48.206284, 8.62751], [48.20593, 8.621045], [48.146975, 8.701815], [48.230783, 8.382875], [48.225835, 8.38511], [48.269035, 8.486155], [48.2382, 8.4184], [48.229087, 8.382727], [48.23172579, 8.426937812], [48.29227, 8.574691], [48.296011, 8.575718], [48.29834, 8.62799], [49.005788, 9.908715], [48.987788, 9.700935], [49.110591, 9.738353], [49.095972, 9.76138], [49.096813, 9.761746], [49.10457, 9.70297], [49.1184, 9.752944], [49.075898, 9.559443], [49.10197, 9.6943], [49.16847, 9.84773], [49.121143, 10.021172], [49.134388, 10.070465], [49.1497, 10.07262], [49.1484, 10.07263], [49.1484, 10.07267], [49.14077931, 10.06238632], [49.29545, 9.979662], [49.345479, 9.981788], [49.24989, 9.928617], [49.18149, 10.0695], [49.18146, 10.06949], [49.18143, 10.06947], [49.1804684, 10.0713726], [49.060813, 10.093059], [48.069925, 8.457912], [48.0573798, 8.4621661], [48.080871, 8.447021], [48.084778, 8.448116], [48.064361, 8.523905], [48.06295, 8.51614], [48.045944, 8.537139], [48.062515, 8.532867], [48.018041, 8.531718], [48.03234394, 8.532283902], [48.0324408, 8.532235622], [48.0298203, 8.5249582], [48.132515, 8.527646], [48.094437, 8.552276], [48.006389, 8.468333], [48.01237, 8.469479], [48.130263, 8.230775], [48.1247507, 8.3403859], [48.124883, 8.341316], [48.095524, 8.156302], [48.04978, 8.21835], [48.08084, 8.25134], [48.137093, 8.414551], [47.94231, 8.49769], [47.83982, 8.53166], [47.83641, 8.55695], [47.838667, 8.536765], [47.92919, 8.49049], [47.894472, 8.515444], [47.928346, 8.44924], [48.078696, 9.198561], [48.0804459, 9.2357499], [48.07591, 9.22357], [48.078101, 9.195421], [48.08958309, 9.20827002], [48.09672876, 9.224772991], [48.09160715, 9.214845377], [48.092728, 9.241819], [48.01813581, 9.251387315], [48.03647176, 9.249201705], [48.01285717, 9.49999589], [47.979575, 9.486717], [48.01614086, 9.497603551], [48.01644354, 9.485916495], [48.012917, 9.50225], [48.02184, 9.49616], [48.0075806, 9.5135969], [48.000399, 9.544969], [47.952306, 9.375242], [47.94531628, 9.380147581], [48.046625, 9.330158], [47.9943183, 9.1112475], [47.9236666, 9.251075], [48.509224, 9.054554], [48.524867, 9.030944], [48.516392, 9.04281], [48.516392, 9.04281], [48.51074, 9.07175], [48.503892, 9.055906], [48.543745, 9.05768], [48.511595, 9.060058], [48.512166, 9.077604], [48.502142, 9.05589], [48.518124, 9.060235], [48.516472, 9.063806], [48.512055, 9.065007], [48.51395, 9.06466], [48.509306, 9.054766], [48.512166, 9.050603], [48.509306, 9.054766], [48.513789, 9.060601], [48.512055, 9.065007], [48.518731, 9.080367], [48.52341, 9.06017], [48.526846, 9.064625], [48.535574, 9.09274], [48.535995, 9.093555], [48.527951, 9.059648], [48.52761, 9.089944], [48.53542, 9.092889], [48.519107, 9.071192], [48.537042, 9.045783], [48.541773, 9.045167], [48.487677, 8.936424], [48.479805, 8.9495], [48.472709, 8.938468], [48.41335715, 9.072380201], [48.53066, 8.96275], [48.57046, 8.9592], [48.52484629, 9.115607058], [48.527278, 9.142444], [48.4515, 9.0548], [48.432716, 8.814539], [48.493154, 9.134819], [48.492946, 9.134945], [48.496234, 9.137911], [48.453888, 9.097109], [47.925477, 8.74486], [47.925484, 8.745218], [47.925472, 8.745289], [47.929292, 8.742159], [47.985828, 8.814986], [47.984813, 8.818028], [47.985639, 8.814785], [47.98257, 8.805254], [47.9821563, 8.8033694], [47.96781219, 8.78698647], [48.067027, 8.740696], [48.06695, 8.7382], [48.06695, 8.7382], [48.075696, 8.734513], [48.095772, 8.712393], [48.018671, 8.926025], [47.972133, 8.908268], [48.063215, 8.767501], [48.0642, 8.7643], [48.063251, 8.767309], [48.075071, 8.844118], [48.036328, 8.781681], [48.01794, 8.720515], [48.07064339, 8.628238376], [48.1273568, 8.7081489], [48.126233, 8.707103], [48.012089, 8.986638], [47.62574, 7.90536], [47.704099, 8.144363], [47.64127, 8.07813], [47.620759, 7.980643], [47.621939, 7.98586], [47.63539, 8.27241], [47.614103, 8.237895], [47.623954, 8.212864], [47.6342105, 8.283157612], [47.628372, 8.397648], [47.65746, 8.421927], [47.766947, 8.374235], [47.748549, 8.454869], [47.62871, 8.322289], [47.61397, 8.18317], [47.764643, 8.123457], [47.751241, 8.167991], [47.73673, 8.16878], [47.737131, 8.166402], [48.230973, 8.382483], [48.27401, 8.857057], [48.259586, 8.849414], [48.276063, 8.850286], [48.272666, 8.85358], [48.27252537, 8.853650093], [48.27593865, 8.85027051], [48.26068032, 8.852109855], [48.2607491, 8.8520382], [48.1714, 8.4329], [48.29858, 8.76821], [48.3559476, 8.9707448], [48.361188, 8.956999], [48.3493141, 8.962342578], [48.3493141, 8.962401587], [48.34930697, 8.962380129], [48.289035, 9.11409], [48.36717, 8.8028], [48.378224, 8.901868], [48.380859, 8.888019], [48.21048255, 9.019587587], [48.2494262, 8.994487524], [48.24687889, 9.02173153], [48.1717531, 9.0943104], [48.767366, 8.228431], [48.755184, 8.241259], [48.762427, 8.24434], [48.758226, 8.240708], [48.75513, 8.24125], [48.762397, 8.2645], [48.790118, 8.191754], [48.776889, 8.213694], [48.808931, 8.181381], [48.735129, 8.255494], [48.743077, 8.261751], [47.9978277, 7.8488269], [47.994041, 7.855265], [47.996692, 7.854878], [47.974542, 7.827092], [47.988679, 7.847522], [47.98428, 7.847836], [47.993016, 7.810357], [47.982591, 7.853586], [48.005903, 7.863101], [47.999489, 7.853232], [48.001056, 7.833853], [47.9949101, 7.8342464], [48.028114, 7.845858], [48.0211, 7.828428], [48.027842, 7.83339], [48.023824, 7.83894], [48.048389, 7.80602], [48.014775, 7.838893], [48.034095, 7.851602], [48.050007, 7.810172], [48.008179, 7.828383], [48.014174, 7.813381], [48.005677, 7.824159], [48.025319, 7.807598], [48.009132, 7.834386], [48.014654, 7.8019975], [47.97981262, 7.810668468], [48.003336, 7.789455], [47.98918712, 7.798312848], [47.96838, 7.698765], [47.984639, 7.819528], [47.987648, 7.827715], [47.9807, 7.9047], [47.98869, 7.869063], [47.964747, 7.908629], [49.40205, 8.672877], [49.408882, 8.678966], [49.399062, 8.692608], [49.39800347, 8.68211832], [49.4103327, 8.6941757], [49.410166, 8.694696], [49.415059, 8.761994], [49.41342, 8.77028], [49.418749, 8.675251], [49.415501, 8.678133], [49.416627, 8.692228], [49.42156, 8.67433], [49.434952, 8.681151], [49.43287, 8.680336], [49.436302, 8.679902], [49.43141, 8.64609], [49.394544, 8.676054], [49.378716, 8.677192], [49.383565, 8.666606], [49.376336, 8.680638], [49.376094, 8.671233], [49.380024, 8.704141], [49.374649, 8.693138], [49.389702, 8.68322], [49.3596293, 8.688152432], [49.36530231, 8.674519885], [49.36559383, 8.675227568], [49.36570983, 8.675239497], [49.1371, 9.21424], [49.14297, 9.22018], [49.1453981, 9.2212402], [49.13792435, 9.203514645], [49.13792435, 9.203514645], [49.146188, 9.220675], [49.1461668, 9.2204127], [49.142471, 9.223741], [49.142271, 9.224182], [49.138852, 9.204904], [49.143057, 9.213806], [49.146052, 9.216969], [49.143209, 9.218172], [49.140392, 9.22484], [49.13558, 9.22193], [49.12154975, 9.217277128], [49.13355, 9.226808], [49.120114, 9.221301], [49.139606, 9.240276], [49.12015115, 9.221290203], [49.124821, 9.223786], [49.148107, 9.217517], [49.15256, 9.21568], [49.15256, 9.21568], [49.148762, 9.214307], [49.239, 9.168], [49.149625, 9.214984], [49.15547281, 9.2080389], [49.179268, 9.167433], [49.155156, 9.190145], [49.159619, 9.171816], [49.15562, 9.20167], [49.15563, 9.20157], [49.138695, 9.181404], [49.123513, 9.201262], [49.020119, 8.439883], [49.0095511, 8.3861897], [49.0095511, 8.3861897], [49.01072, 8.3898], [49.018682, 8.460751], [49.018682, 8.460751], [49.0281911, 8.4415571], [49.037333, 8.391694], [49.04445, 8.394077], [49.053527, 8.392971], [49.021028, 8.355139], [49.00932, 8.37387], [49.00765, 8.342689], [49.022963, 8.355447], [49.0096471, 8.3519058], [49.03748, 8.3521898], [49.03748, 8.3521898], [48.99581, 8.46338], [49.00093, 8.47442], [49.0010986, 8.4728805], [48.99729, 8.43733], [48.996768, 8.463724], [48.996776, 8.463732], [49.496008, 8.457824], [49.488501, 8.46199], [49.480818, 8.46887], [49.485628, 8.476059], [49.484041, 8.48069], [49.485865, 8.464597], [49.48496, 8.47798], [49.473588, 8.4666], [49.477474, 8.469641], [49.469222, 8.470972], [49.479204, 8.47479], [49.479204, 8.47479], [49.47539339, 8.495471827], [49.47527138, 8.495895149], [49.47313164, 8.499995511], [49.495841, 8.476753], [49.502909, 8.49085], [49.489758, 8.491708], [49.501924, 8.496134], [49.44998, 8.468785], [49.452251, 8.513705], [49.452221, 8.513714], [49.441883, 8.572976], [49.44190304, 8.572962422], [49.437862, 8.571611], [49.46136, 8.568828], [49.50031, 8.549678], [49.49500416, 8.52827161], [49.526753, 8.486749], [49.526928, 8.505668], [49.548467, 8.477724], [49.550115, 8.449075], [49.5505082, 8.4502523], [49.51217, 8.52066], [49.507281, 8.506478], [49.515022, 8.549826], [49.509848, 8.51415], [49.51279566, 8.4961447], [48.889778, 8.701473], [48.886249, 8.668361], [48.89069519, 8.681876071], [48.88939, 8.7031], [48.895773, 8.722389], [48.88963, 8.70088], [48.91066, 8.71844], [48.91066, 8.71], [48.89977, 8.66679], [48.89977, 8.66679], [48.90563, 8.655417], [48.905655, 8.655442], [48.90345028, 8.65882416], [48.88612366, 8.754481316], [48.909737, 8.747927], [48.77523354, 9.180524247], [48.779058, 9.184806], [48.788672, 9.182464], [48.788657, 9.182627], [48.77659988, 9.181940079], [48.775006, 9.176078], [48.780326, 9.17874], [48.781319, 9.1759216], [48.77659988, 9.173560143], [48.780664, 9.163701], [48.7355995, 9.2142897], [48.77731528, 9.16993618], [48.780921, 9.166452], [48.780909, 9.166433], [48.77766, 9.16187], [48.77399, 9.16641], [48.773112, 9.156717], [48.77605, 9.15779], [48.77879, 9.160436], [48.77407, 9.16913833], [48.77407, 9.16913833], [48.768902, 9.16245], [48.81603, 9.1789], [48.76416, 9.17762], [48.76441, 9.17369], [48.77, 9.183889], [48.770651, 9.179983], [48.76343536, 9.185731888], [48.77775, 9.19664], [48.225835, 8.38511], [48.783001, 9.22005], [48.782235, 9.201187], [48.78587318, 9.21600584], [48.78314, 9.217139], [48.786999, 9.19245], [48.789323, 9.201694], [48.8056545, 9.1890611], [48.799066, 9.193421], [48.790221, 9.180149], [48.80099124, 9.189741611], [48.795742, 9.190102], [48.802166, 9.18175], [48.81603, 9.1625], [48.78176941, 9.157522917], [48.778747, 9.148019], [48.77553, 9.14808], [48.77997, 9.15589], [48.7695, 9.142028], [48.771005, 9.1448083], [48.773534, 9.1546348], [48.77400311, 9.148156671], [48.77116, 9.15134], [48.76774073, 9.147401219], [48.766005, 9.161806], [48.76503575, 9.161683141], [48.76014605, 9.15707767], [48.7881012, 9.2483101], [48.788713, 9.236721], [48.788731, 9.236776], [48.788774, 9.236903], [48.788791, 9.236958], [48.78764, 9.234101], [48.787712, 9.234251], [48.787743, 9.23431], [48.787821, 9.234436], [48.787984, 9.234785], [48.782512, 9.24675], [48.782694, 9.246546], [48.782393, 9.246608], [48.782363, 9.246903], [48.782607, 9.246368], [48.782573, 9.246408], [48.782247, 9.246775], [48.782254, 9.247026], [48.780294, 9.250937], [48.75662, 9.217117], [48.7627983, 9.26793], [48.76147924, 9.264483178], [48.76162071, 9.264361561], [48.76168658, 9.264337978], [48.76161687, 9.264376828], [48.76156263, 9.2643797], [48.761342, 9.264487], [48.76136, 9.264551], [48.761377, 9.264616], [48.761397, 9.264676], [48.761436, 9.264812], [48.75511, 9.265429], [48.75498, 9.265504], [48.758437, 9.23779], [48.76427, 9.26773], [48.78897678, 9.237547717], [48.78900962, 9.237587072], [48.78864119, 9.236453525], [48.78874608, 9.236835783], [48.7888779, 9.236926693], [48.78898051, 9.23742567], [48.78898723, 9.237365531], [48.78899312, 9.237399479], [48.789241, 9.238264245], [48.79694985, 9.235997112], [48.79698255, 9.235912293], [48.79704294, 9.235787712], [48.79707197, 9.235725327], [48.79715078, 9.23558623], [48.78721235, 9.23401459], [48.78730539, 9.23384637], [48.78745099, 9.23410562], [48.78748057, 9.23415686], [48.78751246, 9.23420506], [48.78903259, 9.23765277], [48.78899351, 9.2375332], [48.78893286, 9.23735157], [48.78889154, 9.23722692], [48.7888255, 9.23751007], [48.78867717, 9.23754632], [48.78871591, 9.23766836], [48.78770291, 9.232078746], [48.78745551, 9.23195], [48.804461, 9.218079], [48.80336, 9.22588], [48.80506, 9.21242], [48.80738, 9.22224], [48.80084, 9.22613], [48.817306, 9.237861], [48.8181267, 9.2402239], [48.8153, 9.2474699], [48.80867, 9.24345], [48.81843, 9.24419], [48.807228, 9.210724], [48.81686913, 9.20366196], [48.81685489, 9.203579168], [48.810499, 9.208057], [48.80817, 9.19983], [48.82505, 9.21259], [48.80867, 9.20631], [48.8432007, 9.21943], [48.83038, 9.23075], [48.842057, 9.228371], [48.826981, 9.23183], [48.82623, 9.23529], [48.831513, 9.176044], [48.835076, 9.19507], [48.833943, 9.180837], [48.84906497, 9.159491658], [48.810637, 9.180021], [48.80872, 9.16095], [48.817496, 9.166298], [48.81753292, 9.17483973], [48.81603, 9.16755], [48.811516, 9.149708], [48.811962, 9.158701], [48.819446, 9.097386], [48.812845, 9.119118], [48.81719, 9.08961], [48.81603, 9.08793], [48.81603, 9.12104], [48.81603, 9.11409], [48.81603, 9.10182], [48.82335423, 9.103999604], [48.7364407, 9.1221863], [48.730224, 9.106937], [48.73584588, 9.106711149], [48.73202, 9.114545], [48.72501, 9.12337], [48.720407, 9.130068], [48.7182999, 9.1122103], [48.72468602, 9.122401787], [48.7247568, 9.122401787], [48.72477096, 9.1223696], [48.72476, 9.12237], [48.7246931, 9.1223696], [48.72468602, 9.122412515], [48.7246931, 9.122391058], [48.72468602, 9.122358871], [48.72474264, 9.12246616], [48.72472141, 9.122358871], [48.72477789, 9.120035242], [48.72484159, 9.119734835], [48.72447356, 9.121022295], [48.72446648, 9.120678972], [48.72450187, 9.120539498], [48.72463634, 9.119713377], [48.72457264, 9.120206904], [48.72450895, 9.120442938], [48.72453018, 9.120099615], [48.72472849, 9.122326685], [48.72543978, 9.122777296], [48.72474972, 9.122401787], [48.72472849, 9.122348142], [48.72557098, 9.122891542], [48.72477789, 9.120485853], [48.72474958, 9.120625328], [48.72472127, 9.120893549], [48.72471774, 9.120984744], [48.72494776, 9.11931641], [48.72496899, 9.119638275], [48.72481328, 9.120067429], [48.7264819, 9.121634], [48.72649452, 9.121374436], [48.72633793, 9.12167732], [48.72641763, 9.12115466], [48.72674045, 9.121491184], [48.72617755, 9.121141848], [48.72617924, 9.121463754], [48.72611788, 9.121889338], [48.72655054, 9.121326464], [48.72643445, 9.121432483], [48.7129, 9.15696], [48.7223941, 9.1615459], [48.7312012, 9.1485205], [48.7276001, 9.14013], [48.72118973, 9.156256914], [48.72773, 9.14947], [48.744984, 9.103074], [48.73108031, 9.086540966], [48.741075, 9.099115], [48.74027, 9.097226], [48.741105, 9.0993983], [48.741103, 9.0994346], [48.741095, 9.0995798], [48.741093, 9.0996161], [48.741085, 9.0997614], [48.7410456, 9.0999401], [48.740781, 9.099914], [48.7403765, 9.0970927], [49.0281911, 8.4415571], [48.743641, 9.168953], [48.741798, 9.16575], [48.754314, 9.170011], [48.735085, 9.180107], [48.7038331, 9.2185226], [48.7150993, 9.2019501], [48.7122993, 9.2017698], [48.70112, 9.21541], [48.70588, 9.21038], [48.7416, 9.21451], [48.74202, 9.22898], [48.400241, 10.004279], [48.396859, 9.995607], [48.400452, 9.993703], [48.437934, 9.9435578], [48.400898, 9.970082], [48.414074, 9.949475], [48.389553, 9.948249], [48.39381, 9.964006], [48.359882, 9.989032], [48.386959, 9.967009], [48.400433, 9.988198], [48.407639, 9.955866], [48.35284, 9.973028], [48.422407, 9.946818], [48.422408, 9.946819], [48.401619, 10.002496], [48.401118, 10.00446], [48.398052, 9.984105], [48.397133, 9.990754], [48.412246, 9.950311], [48.393439, 9.982974], [48.4028011, 9.9742358], [48.40152, 9.970867], [48.392686, 9.975234], [48.403593, 9.976053983], [48.398688, 9.957521], [48.350959, 9.980009], [48.425655, 9.986612], [48.429028, 9.98837], [48.456812, 10.030017], [48.402758, 9.94634], [48.40053349, 9.951421641], [48.179959, 10.076977], [48.5010993, 10.1221682], [48.500374, 10.117366], [48.456817, 10.029649], [48.5000571, 10.123939], [48.500211, 10.121083], [48.474798, 10.085579], [48.48524, 10.028291], [48.418242, 9.748788], [48.369369, 9.808528], [48.413496, 9.8623], [48.4392714, 9.818274919], [48.43975, 9.818356], [48.492924, 9.702628], [48.325227, 9.893881], [48.292535, 9.854574], [48.330122, 9.853781], [48.32867, 9.888041], [48.464622, 9.941352], [48.513406, 9.850734], [48.49015, 9.861754], [48.461936, 9.948326], [48.468163, 9.94098], [48.490108, 9.8618227], [48.211078, 10.069746], [48.51626, 9.759398], [48.542435, 10.02037], [48.28361219, 9.741170485], [48.2820523, 9.7123272], [48.271857, 9.730151], [48.262532, 9.735061], [48.666271, 9.635715], [48.236181, 9.65134], [48.37562, 9.73393], [48.301852, 9.832413], [48.204579, 9.689108], [48.091656, 9.8028755], [48.100104, 9.790221], [48.101806, 9.791472], [48.1014959, 9.7917428], [48.082535, 9.778674], [48.098737, 9.766662], [48.104791, 9.773605], [48.097266, 9.791612], [48.069766, 9.953367], [48.073385, 9.948276], [48.0665, 9.6101], [48.003414, 9.658568], [47.955148, 9.940088], [48.18667, 9.83276], [48.002722, 9.823643], [48.000146, 9.891401], [48.15324, 9.85579], [48.0642929, 9.8301367], [48.230169, 9.888418], [48.230389, 9.885396], [48.226264, 9.879258], [48.122172, 9.961048], [48.15492, 9.474131], [48.692593, 9.013739], [48.6790811, 9.0131391], [48.69433677, 9.0128921], [48.69429768, 9.01277028], [48.69424014, 9.01258722], [48.69385211, 9.012865278], [48.6939493, 9.013180538], [48.69387187, 9.012933774], [48.69385267, 9.012874095], [48.69383383, 9.012811734], [48.69379529, 9.012690364], [48.69431854, 9.012840568], [48.69428103, 9.012717186], [48.69418457, 9.012412085], [48.67545784, 9.017369104], [48.67545479, 9.01731176], [48.683311, 8.992297], [48.673577, 9.0085623], [48.6816776, 9.0087264], [48.6840368, 8.983722077], [48.68415161, 8.984072602], [48.683113, 8.983586], [48.68441103, 8.984719014], [48.7177085, 9.0018463], [48.709428, 9.005928], [48.702474, 9.007019], [48.69451671, 8.999132543], [48.69439047, 8.999238379], [48.69455604, 8.999101528], [48.69675725, 9.000930939], [48.69731244, 9.000532476], [48.69675725, 9.000930939], [48.69684693, 9.000650789], [48.69702776, 9.000090705], [48.69700802, 9.000148373], [48.6969103, 9.000457754], [48.70563421, 8.991282768], [48.70548912, 8.991264621], [48.70550719, 8.991206615], [48.70551627, 8.991178162], [48.70552561, 8.991148001], [48.70537401, 8.991164818], [48.70535566, 8.991223137], [48.70533695, 8.991281476], [48.70100589, 8.984061389], [48.70100456, 8.983997016], [48.70140065, 8.984279989], [48.70138158, 8.984338328], [48.70149314, 8.984419464], [48.70151261, 8.984362467], [48.70153341, 8.984304129], [48.70187639, 8.982727661], [48.701914, 8.982608303], [48.70195074, 8.982491627], [48.70155908, 8.982729002], [48.70174761, 8.982633113], [48.70176796, 8.982574775], [48.70180248, 8.982527836], [48.70184098, 8.98241049], [48.7018231, 8.982397211], [48.70184364, 8.982340082], [48.70162015, 8.982539236], [48.70163962, 8.982479557], [48.70239328, 8.983105852], [48.70242736, 8.983057573], [48.69157858, 8.977495505], [48.69152901, 8.977268188], [48.6968914, 9.000086733], [48.69683298, 9.000266441], [48.69674977, 9.000513204], [48.69671437, 9.000636586], [48.69672676, 9.000572213], [48.69668781, 9.000682183], [48.69679403, 9.000381776], [48.69659398, 9.000413962], [48.69647782, 9.000781747], [48.70586297, 8.991502892], [48.705832, 8.991608168], [48.70602582, 8.991479422], [48.70594174, 8.99175569], [48.70592316, 8.991802628], [48.70604529, 8.990470912], [48.70577978, 8.991307761], [48.70570544, 8.991519655], [48.70565411, 8.991677906], [48.70563552, 8.991723503], [48.70561693, 8.991789217], [48.70587359, 8.99138018], [48.70583908, 8.991487469], [48.70581665, 8.991618109], [48.70137677, 8.981847924], [48.70125109, 8.982725677], [48.70120949, 8.982851741], [48.70134978, 8.982411859], [48.7013188, 8.98202428], [48.70126149, 8.982199975], [48.7011909, 8.982421247], [48.70117098, 8.982478914], [48.70116213, 8.982507077], [48.70112009, 8.982636494], [48.70110593, 8.982706902], [48.70107052, 8.982822907], [48.70104574, 8.98287521], [48.70102052, 8.982928184], [48.70099352, 8.983054248], [48.70152813, 8.982358215], [48.70147989, 8.982508418], [48.70153742, 8.981820432], [48.70154981, 8.98183049], [48.70150024, 8.981938449], [48.70148874, 8.981998799], [48.70180289, 8.9820186], [48.70169192, 8.981862416], [48.69225167, 8.976912466], [48.69228089, 8.976924536], [48.70165087, 8.981975402], [48.69227115, 8.976992262], [48.70165691, 8.981980694], [48.69231099, 8.977077422], [48.69229859, 8.977088151], [48.692334, 8.977353689], [48.69235171, 8.977404651], [48.70160646, 8.982122851], [48.70159893, 8.982155037], [48.69239243, 8.977490482], [48.6923765, 8.977549491], [48.69218528, 8.977423427], [48.69225964, 8.977605817], [48.69676925, 9.000454196], [48.70838997, 8.989898074], [48.695536, 9.013158], [48.700209, 9.017351], [48.69562, 9.00687], [48.741553, 9.03325], [48.741374, 9.033108], [48.594346, 8.860373], [48.5991518, 8.870362], [48.58102285, 8.89413935], [48.5983084, 8.8685035], [48.64344406, 9.010129929], [48.6470836, 9.007597], [48.620513, 9.045081], [48.659452, 9.063046], [48.639228, 9.140512], [48.63047, 9.138893], [48.639312, 9.13999], [48.636746, 8.90867], [48.625023, 8.923524], [48.639459, 8.90791], [48.642003, 8.902448], [48.625422, 8.923513], [48.661537, 8.939208], [48.65751, 9.118663], [48.66068, 9.119267], [48.63208, 8.900146], [48.37558, 8.54006], [48.616312, 8.908312], [48.788864, 9.029108], [48.78942, 9.01682], [48.79882, 9.01276], [48.78582213, 9.020341572], [48.7858239, 9.0201565], [48.78426787, 9.006207141], [48.78431518, 9.006211663], [48.787618, 9.016143], [48.769109, 8.851804], [48.749413, 8.873119], [48.787423, 8.92222], [48.786667, 8.912166], [48.78745, 8.922477], [48.788028, 8.91385], [48.787943, 8.913881], [48.787723, 8.913953], [48.808142, 8.947375], [48.64596558, 8.817254066], [47.676139, 9.490278], [47.668139, 9.488167], [47.668194, 9.488028], [47.66816, 9.48808], [47.665552, 9.507145], [47.66493, 9.428625], [47.663265, 9.434239], [47.660704, 9.592515], [47.708713, 9.601005], [47.666545, 9.366595], [47.6604, 9.70558], [47.818701, 9.312951], [47.7702489, 9.1727179], [47.768993, 9.163404], [47.768975, 9.162205], [47.75902, 9.186365], [47.76941, 9.149822], [47.775877, 9.15052], [47.765413, 9.184702], [47.774761, 9.186331], [47.772492, 9.186771], [47.721, 9.387583], [47.760601, 9.29709], [47.778123, 9.280898], [47.76769, 9.29505], [47.724326, 9.235697], [47.809032, 9.172533], [47.7305278, 9.345194444], [47.813806, 9.272889], [47.696696, 9.270927], [47.711899, 9.265617], [47.919622, 7.699371], [47.921855, 7.708166], [48.033416, 7.875909], [47.965295, 7.953878], [48.043313, 7.768793], [47.859005, 7.76324], [47.963948, 7.76889], [47.96395, 7.76889], [47.96117, 7.7646], [48.05296, 7.783978], [48.0478, 7.78543], [47.92082, 7.73864], [47.91829, 7.7457], [48.047939, 7.686775], [47.966333, 7.82578], [47.891238, 7.892424], [47.960387, 8.011255], [47.93654, 7.62827], [48.068507, 7.723698], [48.00848, 8.09422], [47.956218, 7.829836], [47.857444, 7.691749], [48.04953, 7.94241], [47.936575, 7.86522], [47.812794, 7.61003], [47.807524, 7.627278], [47.819663, 7.555028], [47.81461476, 7.557805444], [47.81246, 7.556097], [47.79828, 7.666006], [47.87115, 7.64753], [47.78784105, 7.589907646], [47.858417, 7.63964], [47.89026, 7.654422], [47.89554, 7.622903], [47.923309, 8.190432], [47.923368, 8.189472], [47.918977, 8.203733], [47.9006, 8.147616], [47.91711, 8.207612], [47.868066, 8.202655], [47.893148, 8.177818], [47.90887, 8.100746], [47.869707, 8.0882069], [47.89759, 8.274834], [48.54181, 8.72978], [48.55697345, 8.724877335], [48.545037, 8.728382], [48.553697, 8.709828], [48.544039, 8.728524], [48.553194, 8.723444], [48.636892, 8.746983], [48.62371, 8.74688], [48.524179, 8.649724], [48.526363, 8.655129], [48.5404, 8.637364], [48.584978, 8.676244], [48.584699, 8.676206], [48.630575, 8.507515], [48.564715, 8.618478], [48.751234, 8.535682], [48.78489, 8.635361], [48.793112, 8.642074], [48.784374, 8.651003], [48.791592, 8.647969], [48.799702, 8.582415], [48.714665, 8.740357], [48.702766, 8.734115], [48.716534, 8.736729], [48.714743, 8.72079], [48.703962, 8.761583], [48.736873, 8.731647], [48.705138, 8.756433], [48.659376, 8.745989], [48.772585, 8.734212], [48.741358, 8.753908], [48.737835, 8.776141], [48.72493, 8.79558], [48.693999, 8.688848], [48.688969, 8.686007], [48.661179, 8.695491], [48.694288, 8.829359], [48.734415, 8.6646], [48.727222, 8.851316], [48.8006816, 8.4368798], [48.091043, 7.957354], [48.093042, 7.959518], [48.116881, 7.850507], [48.11807, 7.848251], [48.111566, 7.851924], [48.21499, 7.780378], [48.197594, 7.77544], [48.138361, 7.703374], [48.1492098, 7.6960959], [48.096083, 7.899878], [48.1234832, 7.7390929], [48.125045, 7.741477], [48.15667, 7.74495], [48.228507, 7.736573], [48.835808, 8.834639], [48.817809, 8.863332], [48.838828, 8.867799], [48.867536, 8.8510026], [48.852261, 8.827149], [48.947228, 8.574427], [48.9019832, 8.5766101], [48.894609, 8.604182], [48.905667, 8.81391], [48.907993, 8.77373], [48.819182, 8.73915], [48.819459, 8.732921], [48.988611, 8.432236], [48.96938, 8.720888], [48.929554, 8.747665], [48.850904, 8.579525], [48.849882, 8.582162], [48.846287, 8.589317], [48.846201, 8.524058], [48.846118, 8.526807], [48.854869, 8.531453], [48.847326, 8.546749], [48.947072, 8.840766], [48.94625, 8.841416667], [48.9521, 8.8437], [48.9401, 8.8388], [48.956246, 8.920583], [48.956471, 8.919207], [49.023033, 8.741806], [49.021186, 8.7499341], [49.00064, 8.80856], [48.892153, 8.854512], [48.6917473, 9.1963515], [48.6917473, 9.1963515], [48.702103, 9.140427], [48.69199699, 9.168322885], [48.695833, 9.168611], [48.706283, 9.127359], [48.698692, 9.165479], [48.695165, 9.142708], [48.674404, 9.167367], [48.705266, 9.127775], [48.694281, 9.173803], [48.706691, 9.141966], [48.68496501, 9.168392323], [48.6803416, 9.2449892], [48.678909, 9.1927411], [48.672692, 9.213617], [48.653167, 9.217148], [48.672807, 9.213672], [48.675375, 9.208006], [48.676315, 9.197551], [48.6764, 9.239849], [48.648862, 9.20877], [48.657305, 9.188404], [48.6702594, 9.2373386], [48.651842, 9.250434], [48.680239, 9.244733], [48.67728494, 9.195762068], [48.677326, 9.195356], [48.626864, 9.336113], [48.625002, 9.341467], [48.606967, 9.340706], [48.639682, 9.351001], [48.62249, 9.32864], [48.62907, 9.33099], [48.637378, 9.3419], [48.555648, 9.376107], [48.64673467, 9.3633593], [48.643357, 9.360614], [48.649703, 9.300511], [48.590585, 9.232796], [48.591285, 9.236877], [48.584895, 9.228372], [48.566583, 9.396556], [48.58998, 9.30955], [48.606397, 9.225615], [48.65276, 9.35638], [48.702885, 9.438678], [48.714068, 9.417522], [48.71663, 9.40736], [48.716306, 9.414111], [48.639993, 9.444656], [48.64417, 9.42971], [48.732159, 9.244059], [48.64458133, 9.430845984], [48.65142, 9.44823], [48.652512, 9.443787], [48.65739, 9.42903], [48.614882, 9.537957], [48.67147, 9.37888], [48.66566, 9.37601], [48.67105979, 9.36405875], [48.688611, 9.422222], [48.700087, 9.41689], [48.5533, 9.44867], [48.549975, 9.530968], [48.7118, 9.4611], [48.69635683, 9.467484355], [48.742281, 9.449053], [48.73334, 9.31523], [48.7410698, 9.3134617], [48.73884, 9.306632], [48.7171402, 9.345030056], [48.716578, 9.355777], [48.729529, 9.330065], [48.729262, 9.33054], [48.750338, 9.312714], [48.741259, 9.269032], [48.7593319, 9.2937885], [48.74759074, 9.272162164], [48.74282, 9.269389], [48.742763, 9.26949], [48.742764, 9.269491], [48.742765, 9.269492], [48.751436, 9.26688], [48.748621, 9.274231], [48.74769, 9.272719], [48.747619, 9.272297], [48.747669, 9.272589], [48.747702, 9.272789], [48.73723464, 9.294218957], [48.71579, 9.294648], [48.730547, 9.254495], [48.7047248, 9.249055], [48.7210548, 9.22529161], [48.7084758, 9.262531027], [48.7020826, 9.3104939], [48.701083, 9.308387], [48.703791, 9.316382], [48.703791, 9.316382], [48.778006, 9.387779], [48.59938, 9.4914272], [48.490102, 8.654385], [48.4412264, 8.684542], [48.445299, 8.68893], [48.46235615, 8.790844611], [48.4657342, 8.4396157], [48.4657772, 8.4247009], [48.464255, 8.412113], [48.473419, 8.417072], [48.46214719, 8.435842395], [48.60691047, 8.36169202], [48.557283, 8.398957], [48.3423, 8.39754], [48.5094, 8.5327], [48.4594476, 8.5462352], [48.7096722, 9.6338282], [48.697717, 9.656096], [48.71, 9.6486], [48.705018, 9.662224], [48.6917, 9.651755], [48.714398, 9.689829], [48.697, 9.6561], [48.69513115, 9.67887388], [48.693747, 9.666665], [48.715682, 9.525455], [48.69694405, 9.507752075], [48.70743061, 9.610148544], [48.70739461, 9.610192324], [48.70737091, 9.610224708], [48.70714246, 9.610784797], [48.70691235, 9.610583631], [48.685512, 9.80831], [48.691039, 9.816171], [48.67941, 9.76216], [48.6778774, 9.7648143], [48.679149, 9.7620052], [48.6912802, 9.766681379], [48.640018, 9.603213], [48.639863, 9.616497], [48.636461, 9.596143], [48.654728, 9.642433], [48.695879, 9.559366], [48.6977358, 9.5694175], [48.6910593, 9.5642718], [48.728853, 9.642294], [48.725539, 9.642864], [48.644607, 9.648978], [48.710132, 9.868625], [48.759258, 9.685032], [48.6488, 9.575496], [48.673118, 9.517813], [48.671547, 9.515356], [48.62282, 9.83576], [48.61274, 9.84363], [48.624999, 9.835269], [48.62493, 9.8354], [48.61747619, 9.838696018], [48.63002592, 9.810132173], [48.63020194, 9.809133811], [48.63003176, 9.809064074], [48.597761, 9.720898], [48.605968, 9.631763], [48.684629, 9.93235], [48.689892, 9.921246], [48.622129, 10.021391], [48.678333, 10.155917], [48.714228, 10.158928], [48.714692, 10.158704], [48.6923, 10.159588], [48.75121, 10.23207], [48.676081, 10.153874], [48.673514, 10.238271], [48.681944, 10.157222], [48.58409, 10.175751], [48.621122, 10.244729], [48.628007, 10.187669], [48.622395, 10.025199], [48.59598, 10.124341], [48.58981, 10.128], [48.739167, 10.116056], [48.699389, 10.241111], [48.590692, 10.268147], [48.59557, 10.260973], [49.035897, 9.314304], [49.191958, 9.222715], [49.191318, 9.225233], [49.176656, 9.230592], [49.187546, 9.227299], [49.191586, 9.225249], [49.19384146, 9.220967889], [49.19384146, 9.220967889], [49.201619, 9.227097], [49.19384146, 9.220967889], [49.19384146, 9.220967889], [49.19384146, 9.220967889], [49.19384146, 9.220967889], [49.197989, 9.225463], [49.201619, 9.227097], [49.19384146, 9.220967889], [49.2332984, 9.214898564], [49.1500664, 9.2985005], [49.14206, 9.05792], [49.132432, 9.013261], [49.1107945, 8.9903425], [49.1580436, 9.0669495], [49.245182, 9.309525], [49.234394, 9.354583], [49.238619, 9.341146], [49.238619, 9.341146], [49.46157, 9.47534], [49.086884, 9.276155], [49.089998, 9.323341], [49.086782, 9.276251], [49.143424, 9.124222], [49.144984, 9.121165], [49.143895, 9.112611], [49.322356, 9.359477], [49.318967, 9.36494], [49.106901, 9.208775], [49.103025, 9.202138], [49.100396, 9.213948], [49.16788139, 9.261239798], [49.110796, 9.365651], [49.14362528, 9.308847626], [49.150055, 9.311526], [49.23826175, 9.166293835], [49.323082, 9.415751], [49.078741, 9.065538], [49.071619, 9.136701], [49.071619, 9.136701], [49.076165, 9.146384], [49.072311, 9.180047], [49.045633, 9.265882], [49.0443708, 9.2620105], [49.05489, 9.242668], [49.045334, 9.266223], [49.057927, 9.261101], [49.05697, 9.24663], [49.06458, 9.26534], [49.056, 9.24591], [49.0565, 9.25033], [49.066668, 9.269167], [49.059092, 8.926855], [49.07362701, 8.940183016], [49.046543, 9.189923], [49.084685, 9.19521], [49.24644, 9.11494], [49.2358916, 9.0965157], [49.13714, 8.90832], [49.204678, 9.511729], [49.19584825, 9.500207529], [49.20091526, 9.527040807], [49.189917, 9.495556], [49.20331, 9.4913361], [49.197109, 9.4949624], [49.197111, 9.4949624], [49.20189, 9.50021], [49.200257, 9.47635], [49.207091, 9.639063], [49.213192, 9.585974], [49.205379, 9.639696], [49.223429, 9.681344], [49.20528, 9.68069], [49.2802301, 9.69244], [49.28853805, 9.678902], [49.284727, 9.68474], [49.289791, 9.563036], [49.38337, 9.69581], [49.24596639, 8.542274138], [49.24596201, 8.54230096], [49.225891, 8.517717], [49.242829, 8.544855], [49.212, 8.52762], [49.24463, 8.49944], [49.24463, 8.49944], [49.037727, 8.687321], [49.0363, 8.702], [49.04865, 8.73241], [49.036561, 8.704628], [49.031359, 8.718637], [49.1081, 8.85217], [49.10753763, 8.850345612], [48.94266, 8.40869], [48.937057, 8.419831], [48.950274, 8.385188], [48.937302, 8.381096], [48.91203, 8.432189], [48.93479, 8.440453], [48.934187, 8.440733], [48.93823, 8.38169], [48.93747776, 8.419749141], [48.94782, 8.38139], [48.967477, 8.30457], [48.980853, 8.324614], [48.979439, 8.315691], [48.979438, 8.31576], [49.065933, 8.475947], [48.9019832, 8.514993], [48.901958, 8.500045], [48.91495, 8.50666], [48.882287, 8.334422], [49.004944, 8.534255], [48.99361, 8.5408], [48.932479, 8.475944], [48.92318, 8.475912], [48.92318, 8.475912], [49.0788756, 8.3915827], [49.090452, 8.430074], [49.073184, 8.392055], [49.123289, 8.408608], [49.119452, 8.410005], [49.137069, 8.426375], [49.132202, 8.428375], [49.0461112, 8.5263167], [49.124781, 8.58466], [49.12359347, 8.59774775], [49.12339161, 8.6007553], [49.126519, 8.594346], [49.100332, 8.644936], [49.099463, 8.527396], [49.128604, 8.601133], [49.136956, 8.594611], [49.201953, 8.645842], [49.220512, 8.65933], [49.225024, 8.654368], [49.220912, 8.652], [49.219382, 8.710456], [49.104615, 8.444182], [49.15952914, 8.578482977], [49.178772, 8.622183], [49.182284, 8.645097], [49.158815, 8.410095], [49.18603, 8.545773], [49.219623, 8.636454], [49.216133, 8.636271], [47.753742, 8.86314], [47.753902, 8.854882], [47.761445, 8.833487], [47.7485225, 8.8503365], [47.7645571, 8.8409935], [47.7687519, 8.8352888], [47.861429, 8.786138], [47.86143273, 8.78613944], [47.856282, 8.7918], [47.76406, 8.77645], [47.816724, 8.660017], [47.775567, 8.917359], [47.796243, 8.928415], [47.752273, 8.964178], [47.739915, 9.002452], [47.777636, 9.025397], [47.74758, 8.974126], [47.852061, 9.010201], [47.663176, 8.92641], [47.777021, 8.9094045], [47.681263, 9.205996], [47.666774, 9.208403], [47.675444, 9.198732], [47.675063, 9.163708], [47.680181, 9.148743], [47.678556, 9.152417], [48.713392, 9.068547], [47.708577, 9.099753], [47.688985, 9.126073], [47.688506, 9.080048], [47.713328, 7.659514], [47.755053, 7.577599], [47.75464934, 7.577474887], [47.62328, 7.65869], [47.610213, 7.664981], [47.61746, 7.67644], [47.614774, 7.661435], [47.6259608, 7.6750492], [47.62624626, 7.678129178], [47.62628205, 7.678182822], [47.605182, 7.653391], [47.605182, 7.653391], [47.63458, 7.67886], [47.637409, 7.695157], [47.60560601, 7.598742469], [47.63964621, 7.757737009], [47.638837, 7.730513], [47.643251, 7.731199], [47.62487227, 7.60632048], [47.623297, 7.612194], [47.626586, 7.599531], [47.626586, 7.599531], [47.626586, 7.599531], [47.657048, 7.645378], [47.64586, 7.80018], [47.649442, 7.821569], [47.70805617, 7.854043308], [47.85302651, 7.942873497], [47.828965, 7.944554], [47.786136, 7.892958], [47.7860092, 7.892297], [47.644415, 7.766344], [48.876205, 9.176941], [48.864283, 9.181092], [48.865263, 9.181086], [48.852653, 9.08919], [48.84839, 9.12593], [48.845656, 9.131768], [48.845606, 9.131878], [48.82956, 9.12027], [48.85265, 9.08919], [48.797179, 9.056503], [48.826005, 9.064654], [48.827366, 9.067662], [48.839526, 9.0448054], [48.845846, 9.028954], [48.8260808, 9.0672122], [48.852464, 8.983099], [48.919242, 9.328569], [48.919254, 9.328546], [48.893464, 9.163759], [48.909838, 9.176925], [48.901588, 9.190658], [48.90329107, 9.16553386], [48.90338652, 9.165518599], [48.89421, 9.18707], [48.891908, 9.201372], [48.891365, 9.183175], [48.892612, 9.183914], [48.8929, 9.1737], [48.89049, 9.1687], [48.89049022, 9.158248279], [48.890404, 9.170465], [48.89347, 9.16373], [48.89233, 9.18329], [48.893061, 9.196525], [48.894058, 9.192956], [48.884575, 9.192563], [48.88964, 9.20015], [48.894592, 9.192325], [48.8958, 9.19388], [48.909249, 9.206707], [48.910506, 9.221474], [48.908775, 9.264693], [48.9185275, 8.979245], [48.94048, 9.25657], [48.905748, 9.135855], [48.868574, 9.259531], [48.872648, 9.22323], [48.898162, 9.29424], [48.934473, 9.193517], [48.929463, 9.195973], [48.931741, 9.179059], [48.9290235, 9.1919301], [48.935284, 9.177785], [48.88186, 9.08066], [48.88177, 9.080668], [48.884259, 9.08721], [48.884263, 9.087278], [48.884285, 9.087689], [48.884304, 9.088031], [48.884308, 9.0881], [48.88168, 9.080676], [48.881635, 9.080646], [48.88159, 9.08065], [48.881545, 9.080654], [48.900789, 9.093638], [48.903658, 9.078503], [48.962004, 9.259694], [48.9694996, 9.2664859], [48.956206, 9.244829], [48.987226, 9.1213594], [48.921004, 9.130343], [48.921002, 9.130343], [49.041859, 9.090844], [48.95124952, 9.146401089], [48.943772, 9.135475], [48.952174, 9.149441], [48.958794, 9.129485], [48.956709, 9.129194], [48.951308, 9.121392], [48.96162, 9.064904], [48.997942, 9.136535], [48.996356, 9.142048], [49.043302, 9.137675], [49.03936, 9.14418], [48.957612, 9.169874], [48.957776, 9.169371], [49.021732, 9.091208], [49.012475, 9.149569], [49.7724862, 9.5794393], [49.762008, 9.512321], [49.66571, 9.51322], [49.57605, 9.69964], [49.57622, 9.70072], [49.575862, 9.700599], [49.56615107, 9.7083427], [49.62312, 9.66097], [49.625101, 9.664675], [49.626722, 9.728162], [49.61816, 9.59558], [49.49755, 9.75911], [49.4774, 9.76837], [49.49308, 9.769919], [49.493884, 9.790812], [49.49528, 9.90139], [49.48105, 9.90565], [49.470603, 10.030471], [49.398793, 9.919444], [49.403861, 9.390352], [49.42862, 9.42359], [49.43091, 9.42851], [49.540248, 9.327668], [49.52327529, 9.322233337], [49.523694, 9.321958], [49.523694, 9.321958], [49.500917, 9.313127], [49.5047265, 9.3117846], [49.51090876, 9.314914942], [49.523607, 9.322103], [49.6185392, 9.3468923], [49.583449, 9.366185], [49.583449, 9.3661805], [49.4407508, 9.2879648], [49.4446531, 9.2806331], [49.365432, 9.154202], [49.351619, 9.140536], [49.32857, 9.109463], [49.3498609, 9.2539829], [49.3498609, 9.2539829], [49.3517925, 9.0965867], [49.378273, 8.987501], [48.51646, 7.95656], [48.56652, 7.86507], [48.561808, 7.833837], [48.535773, 8.064425], [48.52889, 8.04498], [48.508879, 8.090743], [48.531108, 8.077334], [48.536038, 8.06362], [48.535966, 8.065898], [48.528868, 8.077649], [48.56191, 8.06131], [48.53661, 8.065037], [48.316954, 8.218275], [48.29740204, 8.221757901], [48.223121, 8.050137], [48.223085, 8.050137], [48.2782062, 8.0927808], [48.2784199, 8.09268724], [48.278439, 8.095819], [48.39941, 8.007598], [48.405129, 8.011442], [48.406758, 8.014265], [48.39477, 8.023484], [48.41172, 8.00627], [48.465845, 8.161507], [48.5395615, 7.9016905], [48.539177, 7.897564], [48.452714, 7.887786], [48.5628685, 7.9591637], [48.563031, 7.9559225], [48.49053, 8.03482], [48.493306, 8.021289], [48.416427, 7.985731], [48.4049748, 7.9981555], [48.271153, 8.200299], [48.51896, 8.117314], [48.43576704, 7.988329897], [48.620222, 7.890396], [48.628235, 8.07172], [48.624879, 8.0841347], [48.629, 8.06164], [48.667657, 7.935751], [48.6656765, 7.9382709], [48.59008068, 8.117597147], [48.337837, 7.87121], [48.341745, 7.858004], [48.339843, 7.847687], [48.34192, 7.84963], [48.339309, 7.864198], [48.40461, 7.89368], [48.260132, 7.813599], [48.27483348, 7.78526382], [48.361761, 7.777408], [48.385881, 7.758471], [48.29269, 7.7415088], [48.2840356, 7.7671643], [48.308982, 7.7915649], [48.309678, 7.788862], [48.262799, 7.741718], [48.220149, 7.966986], [48.21062838, 8.23268312], [48.834432, 10.094287], [48.83667, 10.083735], [48.8278688, 10.1135646], [48.844287, 10.096807], [48.8336886, 10.0949504], [48.80531, 10.12651], [48.858361, 10.10313], [48.835941, 10.064663], [48.781255, 10.101121], [48.780624, 10.101331], [48.78321, 10.10111], [48.76553, 10.10182], [48.76546, 10.1019], [48.783128, 10.10107], [48.782565, 10.106832], [48.754, 10.344627], [48.893012, 10.004611], [48.821581, 10.053563], [48.893607, 10.09773], [48.886052, 10.188512], [48.8711835, 10.2415203], [48.874255, 10.243126], [48.984913, 10.196179], [48.96122, 10.124579], [48.939298, 10.21511], [48.956695, 10.174031], [48.94309, 10.217571], [48.941855, 10.3711333], [48.930394, 10.069418], [48.93167, 10.154834], [49.019681, 10.029893], [49.002781, 10.296224], [48.8011902, 9.7998095], [48.79819, 9.789304], [48.801958, 9.817768], [48.798257, 9.789359], [48.834606, 9.821913], [48.808488, 9.850509], [48.804105, 9.806397], [48.792315, 9.774995], [48.79073669, 9.77056879], [48.79073669, 9.77056879], [48.79156561, 9.771212916], [48.79169414, 9.771086672], [48.79135948, 9.772865652], [48.79869922, 9.683356185], [48.7987, 9.68336], [48.79869922, 9.683356185], [48.76387735, 9.820338859], [48.824689, 9.961675], [48.886346, 9.812667], [48.8590984, 8.238916], [48.86017, 8.23152], [48.86017, 8.23152], [48.865622, 8.211263], [48.852123, 8.202485], [48.85629423, 8.175201772], [48.85625276, 8.175177632], [48.8557498, 8.180365695], [48.85569333, 8.18054205], [48.861577, 8.185083898], [48.86725595, 8.185880832], [48.86727521, 8.185956655], [48.85631336, 8.175257409], [48.85624363, 8.175211882], [48.85635761, 8.175295369], [48.86722148, 8.185870479], [48.86655308, 8.18619026], [48.86657725, 8.186283518], [48.86646608, 8.186026677], [48.8555451, 8.180364922], [48.85586525, 8.180415077], [48.85554091, 8.180517319], [48.85556386, 8.18045764], [48.85581855, 8.180564797], [48.85579309, 8.18062801], [48.85571741, 8.180347318], [48.85573588, 8.18029088], [48.84039761, 8.25477792], [48.84037628, 8.254835088], [48.91176, 8.251], [48.88664, 8.24307], [48.8313093, 8.2808763], [48.930745, 8.209072], [48.795486, 8.112197], [48.799947, 8.318113], [48.782742, 8.342967], [48.817492, 8.296413], [48.767117, 8.345702], [48.753434, 8.131493], [48.69076, 8.118921], [48.690856, 8.118944], [48.71702895, 8.129315432], [48.6957759, 8.147005], [48.687288, 8.185599], [48.686691, 8.187434], [48.67226, 8.11823], [48.709411, 7.998784], [47.73012, 9.88063], [47.77991, 9.61607], [47.78398, 9.61095]],\n",
       "                {&quot;blur&quot;: 15, &quot;maxZoom&quot;: 18, &quot;minOpacity&quot;: 0.5, &quot;radius&quot;: 11}\n",
       "            );\n",
       "        \n",
       "    \n",
       "                heat_map_d9b4f6eef612fdddbb593dee75d0592c.addTo(map_2d9fcf22d4c72ad322031743d1ebbf54);\n",
       "&lt;/script&gt;\n",
       "&lt;/html&gt;\" style=\"position:absolute;width:100%;height:100%;left:0;top:0;border:none !important;\" allowfullscreen webkitallowfullscreen mozallowfullscreen></iframe></div></div>"
      ],
      "text/plain": [
       "<IPython.core.display.HTML object>"
      ]
     },
     "metadata": {},
     "output_type": "display_data"
    }
   ],
   "source": [
    "import pandas as pd\n",
    "import folium\n",
    "from folium.plugins import HeatMap\n",
    "from shapely.geometry import Point, Polygon\n",
    "from IPython.display import display, HTML\n",
    "\n",
    "# CSV-Datensatz einlesen\n",
    "ladesaeulen_ds = pd.read_csv('C:\\\\Users\\\\Administrator\\\\OneDrive\\\\Dokumente\\\\Data Science Portfolio\\\\Data Science\\\\Analytics-Avengers\\\\charging_data.csv')\n",
    "\n",
    "# Beispiel Polygon-Koordinaten für die Grenzen von Baden-Württemberg\n",
    "bw_polygon_coords = [\n",
    "    [48.97, 8.22],\n",
    "    [48.79, 8.04],\n",
    "    [48.55, 7.80],\n",
    "    [47.99, 7.59],\n",
    "    [47.71, 7.51],\n",
    "    [47.57, 7.62],\n",
    "    [47.59, 7.89],\n",
    "    [47.66, 8.91],\n",
    "    [47.66, 8.91],\n",
    "    [47.66, 9.90],\n",
    "    [47.66, 10.11],\n",
    "    [48.12, 10.12],\n",
    "    [48.34, 10.01],\n",
    "    [48.46, 10.06],\n",
    "    [48.59, 10.30],\n",
    "    [48.70, 10.27],\n",
    "    [48.69, 10.50],\n",
    "    [48.94, 10.43],\n",
    "    [49.10, 10.21],\n",
    "    [49.55, 10.07],\n",
    "    [49.49, 9.94],\n",
    "    [49.72, 9.79],\n",
    "    [49.72, 9.78],\n",
    "    [49.70, 9.63],\n",
    "    [49.79, 9.65],\n",
    "    [49.74, 9.31],\n",
    "    [49.65, 9.41],\n",
    "    [49.58, 9.11],\n",
    "    [49.49, 8.95],\n",
    "    [49.52, 8.75],\n",
    "    [49.62, 8.69],\n",
    "    [49.59, 8.42],\n",
    "    [49.47, 8.46],\n",
    "    [49.30, 8.48],\n",
    "    [49.24, 8.39],\n",
    "    [49.08, 8.35],\n",
    "    [48.98, 8.25]\n",
    "]\n",
    "\n",
    "bw_polygon = Polygon(bw_polygon_coords)\n",
    "\n",
    "# Filtern der Ladesäulenstandorte innerhalb von Baden-Württemberg\n",
    "ladesaeulen_ds['Inside_BW'] = ladesaeulen_ds.apply(lambda row: bw_polygon.contains(Point(row['breitengrad'], row['laengengrad'])), axis=1)\n",
    "ladesaeulen_ds_bw = ladesaeulen_ds[ladesaeulen_ds['Inside_BW']]\n",
    "\n",
    "# Karte erstellen\n",
    "karte_heatmap_bw = folium.Map(location=[48.6616, 9.3501], zoom_start=10)\n",
    "\n",
    "# Heatmap erstellen mit kleinerem Radius\n",
    "heatmap_data_bw = [[row['breitengrad'], row['laengengrad']] for index, row in ladesaeulen_ds_bw.iterrows()]\n",
    "HeatMap(heatmap_data_bw, radius=11).add_to(karte_heatmap_bw)\n",
    "\n",
    "# HTML-Datei erstellen\n",
    "karte_heatmap_bw_html = karte_heatmap_bw._repr_html_()\n",
    "\n",
    "# Karte im Jupyter Notebook anzeigen\n",
    "display(HTML(karte_heatmap_bw_html))"
   ]
  },
  {
   "cell_type": "markdown",
   "id": "52edc33f",
   "metadata": {},
   "source": [
    "### Top 5 Land/Stadtkreise in BaWü"
   ]
  },
  {
   "cell_type": "code",
   "execution_count": 128,
   "id": "cbc55f55",
   "metadata": {},
   "outputs": [
    {
     "name": "stdout",
     "output_type": "stream",
     "text": [
      "   kreis_kreisfreie_stadt  count\n",
      "42   Stadtkreis Stuttgart    698\n",
      "4     Landkreis Böblingen    530\n",
      "8     Landkreis Esslingen    292\n",
      "16  Landkreis Ludwigsburg    261\n",
      "14    Landkreis Karlsruhe    223\n"
     ]
    },
    {
     "data": {
      "application/vnd.plotly.v1+json": {
       "config": {
        "plotlyServerURL": "https://plot.ly"
       },
       "data": [
        {
         "alignmentgroup": "True",
         "hovertemplate": "Stadt- und Landkreise=%{x}<br>Anzahl=%{marker.color}<extra></extra>",
         "legendgroup": "",
         "marker": {
          "color": [
           698,
           530,
           292,
           261,
           223
          ],
          "coloraxis": "coloraxis",
          "pattern": {
           "shape": ""
          }
         },
         "name": "",
         "offsetgroup": "",
         "orientation": "v",
         "showlegend": false,
         "textposition": "auto",
         "type": "bar",
         "x": [
          "Stadtkreis Stuttgart",
          "Landkreis Böblingen",
          "Landkreis Esslingen",
          "Landkreis Ludwigsburg",
          "Landkreis Karlsruhe"
         ],
         "xaxis": "x",
         "y": [
          698,
          530,
          292,
          261,
          223
         ],
         "yaxis": "y"
        }
       ],
       "layout": {
        "barmode": "relative",
        "coloraxis": {
         "colorbar": {
          "title": {
           "text": "Anzahl"
          }
         },
         "colorscale": [
          [
           0,
           "#0d0887"
          ],
          [
           0.1111111111111111,
           "#46039f"
          ],
          [
           0.2222222222222222,
           "#7201a8"
          ],
          [
           0.3333333333333333,
           "#9c179e"
          ],
          [
           0.4444444444444444,
           "#bd3786"
          ],
          [
           0.5555555555555556,
           "#d8576b"
          ],
          [
           0.6666666666666666,
           "#ed7953"
          ],
          [
           0.7777777777777778,
           "#fb9f3a"
          ],
          [
           0.8888888888888888,
           "#fdca26"
          ],
          [
           1,
           "#f0f921"
          ]
         ]
        },
        "height": 500,
        "legend": {
         "tracegroupgap": 0
        },
        "template": {
         "data": {
          "bar": [
           {
            "error_x": {
             "color": "#2a3f5f"
            },
            "error_y": {
             "color": "#2a3f5f"
            },
            "marker": {
             "line": {
              "color": "#E5ECF6",
              "width": 0.5
             },
             "pattern": {
              "fillmode": "overlay",
              "size": 10,
              "solidity": 0.2
             }
            },
            "type": "bar"
           }
          ],
          "barpolar": [
           {
            "marker": {
             "line": {
              "color": "#E5ECF6",
              "width": 0.5
             },
             "pattern": {
              "fillmode": "overlay",
              "size": 10,
              "solidity": 0.2
             }
            },
            "type": "barpolar"
           }
          ],
          "carpet": [
           {
            "aaxis": {
             "endlinecolor": "#2a3f5f",
             "gridcolor": "white",
             "linecolor": "white",
             "minorgridcolor": "white",
             "startlinecolor": "#2a3f5f"
            },
            "baxis": {
             "endlinecolor": "#2a3f5f",
             "gridcolor": "white",
             "linecolor": "white",
             "minorgridcolor": "white",
             "startlinecolor": "#2a3f5f"
            },
            "type": "carpet"
           }
          ],
          "choropleth": [
           {
            "colorbar": {
             "outlinewidth": 0,
             "ticks": ""
            },
            "type": "choropleth"
           }
          ],
          "contour": [
           {
            "colorbar": {
             "outlinewidth": 0,
             "ticks": ""
            },
            "colorscale": [
             [
              0,
              "#0d0887"
             ],
             [
              0.1111111111111111,
              "#46039f"
             ],
             [
              0.2222222222222222,
              "#7201a8"
             ],
             [
              0.3333333333333333,
              "#9c179e"
             ],
             [
              0.4444444444444444,
              "#bd3786"
             ],
             [
              0.5555555555555556,
              "#d8576b"
             ],
             [
              0.6666666666666666,
              "#ed7953"
             ],
             [
              0.7777777777777778,
              "#fb9f3a"
             ],
             [
              0.8888888888888888,
              "#fdca26"
             ],
             [
              1,
              "#f0f921"
             ]
            ],
            "type": "contour"
           }
          ],
          "contourcarpet": [
           {
            "colorbar": {
             "outlinewidth": 0,
             "ticks": ""
            },
            "type": "contourcarpet"
           }
          ],
          "heatmap": [
           {
            "colorbar": {
             "outlinewidth": 0,
             "ticks": ""
            },
            "colorscale": [
             [
              0,
              "#0d0887"
             ],
             [
              0.1111111111111111,
              "#46039f"
             ],
             [
              0.2222222222222222,
              "#7201a8"
             ],
             [
              0.3333333333333333,
              "#9c179e"
             ],
             [
              0.4444444444444444,
              "#bd3786"
             ],
             [
              0.5555555555555556,
              "#d8576b"
             ],
             [
              0.6666666666666666,
              "#ed7953"
             ],
             [
              0.7777777777777778,
              "#fb9f3a"
             ],
             [
              0.8888888888888888,
              "#fdca26"
             ],
             [
              1,
              "#f0f921"
             ]
            ],
            "type": "heatmap"
           }
          ],
          "heatmapgl": [
           {
            "colorbar": {
             "outlinewidth": 0,
             "ticks": ""
            },
            "colorscale": [
             [
              0,
              "#0d0887"
             ],
             [
              0.1111111111111111,
              "#46039f"
             ],
             [
              0.2222222222222222,
              "#7201a8"
             ],
             [
              0.3333333333333333,
              "#9c179e"
             ],
             [
              0.4444444444444444,
              "#bd3786"
             ],
             [
              0.5555555555555556,
              "#d8576b"
             ],
             [
              0.6666666666666666,
              "#ed7953"
             ],
             [
              0.7777777777777778,
              "#fb9f3a"
             ],
             [
              0.8888888888888888,
              "#fdca26"
             ],
             [
              1,
              "#f0f921"
             ]
            ],
            "type": "heatmapgl"
           }
          ],
          "histogram": [
           {
            "marker": {
             "pattern": {
              "fillmode": "overlay",
              "size": 10,
              "solidity": 0.2
             }
            },
            "type": "histogram"
           }
          ],
          "histogram2d": [
           {
            "colorbar": {
             "outlinewidth": 0,
             "ticks": ""
            },
            "colorscale": [
             [
              0,
              "#0d0887"
             ],
             [
              0.1111111111111111,
              "#46039f"
             ],
             [
              0.2222222222222222,
              "#7201a8"
             ],
             [
              0.3333333333333333,
              "#9c179e"
             ],
             [
              0.4444444444444444,
              "#bd3786"
             ],
             [
              0.5555555555555556,
              "#d8576b"
             ],
             [
              0.6666666666666666,
              "#ed7953"
             ],
             [
              0.7777777777777778,
              "#fb9f3a"
             ],
             [
              0.8888888888888888,
              "#fdca26"
             ],
             [
              1,
              "#f0f921"
             ]
            ],
            "type": "histogram2d"
           }
          ],
          "histogram2dcontour": [
           {
            "colorbar": {
             "outlinewidth": 0,
             "ticks": ""
            },
            "colorscale": [
             [
              0,
              "#0d0887"
             ],
             [
              0.1111111111111111,
              "#46039f"
             ],
             [
              0.2222222222222222,
              "#7201a8"
             ],
             [
              0.3333333333333333,
              "#9c179e"
             ],
             [
              0.4444444444444444,
              "#bd3786"
             ],
             [
              0.5555555555555556,
              "#d8576b"
             ],
             [
              0.6666666666666666,
              "#ed7953"
             ],
             [
              0.7777777777777778,
              "#fb9f3a"
             ],
             [
              0.8888888888888888,
              "#fdca26"
             ],
             [
              1,
              "#f0f921"
             ]
            ],
            "type": "histogram2dcontour"
           }
          ],
          "mesh3d": [
           {
            "colorbar": {
             "outlinewidth": 0,
             "ticks": ""
            },
            "type": "mesh3d"
           }
          ],
          "parcoords": [
           {
            "line": {
             "colorbar": {
              "outlinewidth": 0,
              "ticks": ""
             }
            },
            "type": "parcoords"
           }
          ],
          "pie": [
           {
            "automargin": true,
            "type": "pie"
           }
          ],
          "scatter": [
           {
            "fillpattern": {
             "fillmode": "overlay",
             "size": 10,
             "solidity": 0.2
            },
            "type": "scatter"
           }
          ],
          "scatter3d": [
           {
            "line": {
             "colorbar": {
              "outlinewidth": 0,
              "ticks": ""
             }
            },
            "marker": {
             "colorbar": {
              "outlinewidth": 0,
              "ticks": ""
             }
            },
            "type": "scatter3d"
           }
          ],
          "scattercarpet": [
           {
            "marker": {
             "colorbar": {
              "outlinewidth": 0,
              "ticks": ""
             }
            },
            "type": "scattercarpet"
           }
          ],
          "scattergeo": [
           {
            "marker": {
             "colorbar": {
              "outlinewidth": 0,
              "ticks": ""
             }
            },
            "type": "scattergeo"
           }
          ],
          "scattergl": [
           {
            "marker": {
             "colorbar": {
              "outlinewidth": 0,
              "ticks": ""
             }
            },
            "type": "scattergl"
           }
          ],
          "scattermapbox": [
           {
            "marker": {
             "colorbar": {
              "outlinewidth": 0,
              "ticks": ""
             }
            },
            "type": "scattermapbox"
           }
          ],
          "scatterpolar": [
           {
            "marker": {
             "colorbar": {
              "outlinewidth": 0,
              "ticks": ""
             }
            },
            "type": "scatterpolar"
           }
          ],
          "scatterpolargl": [
           {
            "marker": {
             "colorbar": {
              "outlinewidth": 0,
              "ticks": ""
             }
            },
            "type": "scatterpolargl"
           }
          ],
          "scatterternary": [
           {
            "marker": {
             "colorbar": {
              "outlinewidth": 0,
              "ticks": ""
             }
            },
            "type": "scatterternary"
           }
          ],
          "surface": [
           {
            "colorbar": {
             "outlinewidth": 0,
             "ticks": ""
            },
            "colorscale": [
             [
              0,
              "#0d0887"
             ],
             [
              0.1111111111111111,
              "#46039f"
             ],
             [
              0.2222222222222222,
              "#7201a8"
             ],
             [
              0.3333333333333333,
              "#9c179e"
             ],
             [
              0.4444444444444444,
              "#bd3786"
             ],
             [
              0.5555555555555556,
              "#d8576b"
             ],
             [
              0.6666666666666666,
              "#ed7953"
             ],
             [
              0.7777777777777778,
              "#fb9f3a"
             ],
             [
              0.8888888888888888,
              "#fdca26"
             ],
             [
              1,
              "#f0f921"
             ]
            ],
            "type": "surface"
           }
          ],
          "table": [
           {
            "cells": {
             "fill": {
              "color": "#EBF0F8"
             },
             "line": {
              "color": "white"
             }
            },
            "header": {
             "fill": {
              "color": "#C8D4E3"
             },
             "line": {
              "color": "white"
             }
            },
            "type": "table"
           }
          ]
         },
         "layout": {
          "annotationdefaults": {
           "arrowcolor": "#2a3f5f",
           "arrowhead": 0,
           "arrowwidth": 1
          },
          "autotypenumbers": "strict",
          "coloraxis": {
           "colorbar": {
            "outlinewidth": 0,
            "ticks": ""
           }
          },
          "colorscale": {
           "diverging": [
            [
             0,
             "#8e0152"
            ],
            [
             0.1,
             "#c51b7d"
            ],
            [
             0.2,
             "#de77ae"
            ],
            [
             0.3,
             "#f1b6da"
            ],
            [
             0.4,
             "#fde0ef"
            ],
            [
             0.5,
             "#f7f7f7"
            ],
            [
             0.6,
             "#e6f5d0"
            ],
            [
             0.7,
             "#b8e186"
            ],
            [
             0.8,
             "#7fbc41"
            ],
            [
             0.9,
             "#4d9221"
            ],
            [
             1,
             "#276419"
            ]
           ],
           "sequential": [
            [
             0,
             "#0d0887"
            ],
            [
             0.1111111111111111,
             "#46039f"
            ],
            [
             0.2222222222222222,
             "#7201a8"
            ],
            [
             0.3333333333333333,
             "#9c179e"
            ],
            [
             0.4444444444444444,
             "#bd3786"
            ],
            [
             0.5555555555555556,
             "#d8576b"
            ],
            [
             0.6666666666666666,
             "#ed7953"
            ],
            [
             0.7777777777777778,
             "#fb9f3a"
            ],
            [
             0.8888888888888888,
             "#fdca26"
            ],
            [
             1,
             "#f0f921"
            ]
           ],
           "sequentialminus": [
            [
             0,
             "#0d0887"
            ],
            [
             0.1111111111111111,
             "#46039f"
            ],
            [
             0.2222222222222222,
             "#7201a8"
            ],
            [
             0.3333333333333333,
             "#9c179e"
            ],
            [
             0.4444444444444444,
             "#bd3786"
            ],
            [
             0.5555555555555556,
             "#d8576b"
            ],
            [
             0.6666666666666666,
             "#ed7953"
            ],
            [
             0.7777777777777778,
             "#fb9f3a"
            ],
            [
             0.8888888888888888,
             "#fdca26"
            ],
            [
             1,
             "#f0f921"
            ]
           ]
          },
          "colorway": [
           "#636efa",
           "#EF553B",
           "#00cc96",
           "#ab63fa",
           "#FFA15A",
           "#19d3f3",
           "#FF6692",
           "#B6E880",
           "#FF97FF",
           "#FECB52"
          ],
          "font": {
           "color": "#2a3f5f"
          },
          "geo": {
           "bgcolor": "white",
           "lakecolor": "white",
           "landcolor": "#E5ECF6",
           "showlakes": true,
           "showland": true,
           "subunitcolor": "white"
          },
          "hoverlabel": {
           "align": "left"
          },
          "hovermode": "closest",
          "mapbox": {
           "style": "light"
          },
          "paper_bgcolor": "white",
          "plot_bgcolor": "#E5ECF6",
          "polar": {
           "angularaxis": {
            "gridcolor": "white",
            "linecolor": "white",
            "ticks": ""
           },
           "bgcolor": "#E5ECF6",
           "radialaxis": {
            "gridcolor": "white",
            "linecolor": "white",
            "ticks": ""
           }
          },
          "scene": {
           "xaxis": {
            "backgroundcolor": "#E5ECF6",
            "gridcolor": "white",
            "gridwidth": 2,
            "linecolor": "white",
            "showbackground": true,
            "ticks": "",
            "zerolinecolor": "white"
           },
           "yaxis": {
            "backgroundcolor": "#E5ECF6",
            "gridcolor": "white",
            "gridwidth": 2,
            "linecolor": "white",
            "showbackground": true,
            "ticks": "",
            "zerolinecolor": "white"
           },
           "zaxis": {
            "backgroundcolor": "#E5ECF6",
            "gridcolor": "white",
            "gridwidth": 2,
            "linecolor": "white",
            "showbackground": true,
            "ticks": "",
            "zerolinecolor": "white"
           }
          },
          "shapedefaults": {
           "line": {
            "color": "#2a3f5f"
           }
          },
          "ternary": {
           "aaxis": {
            "gridcolor": "white",
            "linecolor": "white",
            "ticks": ""
           },
           "baxis": {
            "gridcolor": "white",
            "linecolor": "white",
            "ticks": ""
           },
           "bgcolor": "#E5ECF6",
           "caxis": {
            "gridcolor": "white",
            "linecolor": "white",
            "ticks": ""
           }
          },
          "title": {
           "x": 0.05
          },
          "xaxis": {
           "automargin": true,
           "gridcolor": "white",
           "linecolor": "white",
           "ticks": "",
           "title": {
            "standoff": 15
           },
           "zerolinecolor": "white",
           "zerolinewidth": 2
          },
          "yaxis": {
           "automargin": true,
           "gridcolor": "white",
           "linecolor": "white",
           "ticks": "",
           "title": {
            "standoff": 15
           },
           "zerolinecolor": "white",
           "zerolinewidth": 2
          }
         }
        },
        "title": {
         "text": "Top 5 Stadt- und Landkreise in Baden-Württemberg"
        },
        "xaxis": {
         "anchor": "y",
         "domain": [
          0,
          1
         ],
         "title": {
          "text": "Stadt- und Landkreise"
         }
        },
        "yaxis": {
         "anchor": "x",
         "domain": [
          0,
          1
         ],
         "title": {
          "text": "Anzahl der Ladesäulen"
         }
        }
       }
      },
      "text/html": [
       "<div>                            <div id=\"86769a50-161a-47f6-a4c6-9bf975489fe0\" class=\"plotly-graph-div\" style=\"height:500px; width:100%;\"></div>            <script type=\"text/javascript\">                require([\"plotly\"], function(Plotly) {                    window.PLOTLYENV=window.PLOTLYENV || {};                                    if (document.getElementById(\"86769a50-161a-47f6-a4c6-9bf975489fe0\")) {                    Plotly.newPlot(                        \"86769a50-161a-47f6-a4c6-9bf975489fe0\",                        [{\"alignmentgroup\":\"True\",\"hovertemplate\":\"Stadt- und Landkreise=%{x}<br>Anzahl=%{marker.color}<extra></extra>\",\"legendgroup\":\"\",\"marker\":{\"color\":[698,530,292,261,223],\"coloraxis\":\"coloraxis\",\"pattern\":{\"shape\":\"\"}},\"name\":\"\",\"offsetgroup\":\"\",\"orientation\":\"v\",\"showlegend\":false,\"textposition\":\"auto\",\"x\":[\"Stadtkreis Stuttgart\",\"Landkreis B\\u00f6blingen\",\"Landkreis Esslingen\",\"Landkreis Ludwigsburg\",\"Landkreis Karlsruhe\"],\"xaxis\":\"x\",\"y\":[698,530,292,261,223],\"yaxis\":\"y\",\"type\":\"bar\"}],                        {\"template\":{\"data\":{\"histogram2dcontour\":[{\"type\":\"histogram2dcontour\",\"colorbar\":{\"outlinewidth\":0,\"ticks\":\"\"},\"colorscale\":[[0.0,\"#0d0887\"],[0.1111111111111111,\"#46039f\"],[0.2222222222222222,\"#7201a8\"],[0.3333333333333333,\"#9c179e\"],[0.4444444444444444,\"#bd3786\"],[0.5555555555555556,\"#d8576b\"],[0.6666666666666666,\"#ed7953\"],[0.7777777777777778,\"#fb9f3a\"],[0.8888888888888888,\"#fdca26\"],[1.0,\"#f0f921\"]]}],\"choropleth\":[{\"type\":\"choropleth\",\"colorbar\":{\"outlinewidth\":0,\"ticks\":\"\"}}],\"histogram2d\":[{\"type\":\"histogram2d\",\"colorbar\":{\"outlinewidth\":0,\"ticks\":\"\"},\"colorscale\":[[0.0,\"#0d0887\"],[0.1111111111111111,\"#46039f\"],[0.2222222222222222,\"#7201a8\"],[0.3333333333333333,\"#9c179e\"],[0.4444444444444444,\"#bd3786\"],[0.5555555555555556,\"#d8576b\"],[0.6666666666666666,\"#ed7953\"],[0.7777777777777778,\"#fb9f3a\"],[0.8888888888888888,\"#fdca26\"],[1.0,\"#f0f921\"]]}],\"heatmap\":[{\"type\":\"heatmap\",\"colorbar\":{\"outlinewidth\":0,\"ticks\":\"\"},\"colorscale\":[[0.0,\"#0d0887\"],[0.1111111111111111,\"#46039f\"],[0.2222222222222222,\"#7201a8\"],[0.3333333333333333,\"#9c179e\"],[0.4444444444444444,\"#bd3786\"],[0.5555555555555556,\"#d8576b\"],[0.6666666666666666,\"#ed7953\"],[0.7777777777777778,\"#fb9f3a\"],[0.8888888888888888,\"#fdca26\"],[1.0,\"#f0f921\"]]}],\"heatmapgl\":[{\"type\":\"heatmapgl\",\"colorbar\":{\"outlinewidth\":0,\"ticks\":\"\"},\"colorscale\":[[0.0,\"#0d0887\"],[0.1111111111111111,\"#46039f\"],[0.2222222222222222,\"#7201a8\"],[0.3333333333333333,\"#9c179e\"],[0.4444444444444444,\"#bd3786\"],[0.5555555555555556,\"#d8576b\"],[0.6666666666666666,\"#ed7953\"],[0.7777777777777778,\"#fb9f3a\"],[0.8888888888888888,\"#fdca26\"],[1.0,\"#f0f921\"]]}],\"contourcarpet\":[{\"type\":\"contourcarpet\",\"colorbar\":{\"outlinewidth\":0,\"ticks\":\"\"}}],\"contour\":[{\"type\":\"contour\",\"colorbar\":{\"outlinewidth\":0,\"ticks\":\"\"},\"colorscale\":[[0.0,\"#0d0887\"],[0.1111111111111111,\"#46039f\"],[0.2222222222222222,\"#7201a8\"],[0.3333333333333333,\"#9c179e\"],[0.4444444444444444,\"#bd3786\"],[0.5555555555555556,\"#d8576b\"],[0.6666666666666666,\"#ed7953\"],[0.7777777777777778,\"#fb9f3a\"],[0.8888888888888888,\"#fdca26\"],[1.0,\"#f0f921\"]]}],\"surface\":[{\"type\":\"surface\",\"colorbar\":{\"outlinewidth\":0,\"ticks\":\"\"},\"colorscale\":[[0.0,\"#0d0887\"],[0.1111111111111111,\"#46039f\"],[0.2222222222222222,\"#7201a8\"],[0.3333333333333333,\"#9c179e\"],[0.4444444444444444,\"#bd3786\"],[0.5555555555555556,\"#d8576b\"],[0.6666666666666666,\"#ed7953\"],[0.7777777777777778,\"#fb9f3a\"],[0.8888888888888888,\"#fdca26\"],[1.0,\"#f0f921\"]]}],\"mesh3d\":[{\"type\":\"mesh3d\",\"colorbar\":{\"outlinewidth\":0,\"ticks\":\"\"}}],\"scatter\":[{\"fillpattern\":{\"fillmode\":\"overlay\",\"size\":10,\"solidity\":0.2},\"type\":\"scatter\"}],\"parcoords\":[{\"type\":\"parcoords\",\"line\":{\"colorbar\":{\"outlinewidth\":0,\"ticks\":\"\"}}}],\"scatterpolargl\":[{\"type\":\"scatterpolargl\",\"marker\":{\"colorbar\":{\"outlinewidth\":0,\"ticks\":\"\"}}}],\"bar\":[{\"error_x\":{\"color\":\"#2a3f5f\"},\"error_y\":{\"color\":\"#2a3f5f\"},\"marker\":{\"line\":{\"color\":\"#E5ECF6\",\"width\":0.5},\"pattern\":{\"fillmode\":\"overlay\",\"size\":10,\"solidity\":0.2}},\"type\":\"bar\"}],\"scattergeo\":[{\"type\":\"scattergeo\",\"marker\":{\"colorbar\":{\"outlinewidth\":0,\"ticks\":\"\"}}}],\"scatterpolar\":[{\"type\":\"scatterpolar\",\"marker\":{\"colorbar\":{\"outlinewidth\":0,\"ticks\":\"\"}}}],\"histogram\":[{\"marker\":{\"pattern\":{\"fillmode\":\"overlay\",\"size\":10,\"solidity\":0.2}},\"type\":\"histogram\"}],\"scattergl\":[{\"type\":\"scattergl\",\"marker\":{\"colorbar\":{\"outlinewidth\":0,\"ticks\":\"\"}}}],\"scatter3d\":[{\"type\":\"scatter3d\",\"line\":{\"colorbar\":{\"outlinewidth\":0,\"ticks\":\"\"}},\"marker\":{\"colorbar\":{\"outlinewidth\":0,\"ticks\":\"\"}}}],\"scattermapbox\":[{\"type\":\"scattermapbox\",\"marker\":{\"colorbar\":{\"outlinewidth\":0,\"ticks\":\"\"}}}],\"scatterternary\":[{\"type\":\"scatterternary\",\"marker\":{\"colorbar\":{\"outlinewidth\":0,\"ticks\":\"\"}}}],\"scattercarpet\":[{\"type\":\"scattercarpet\",\"marker\":{\"colorbar\":{\"outlinewidth\":0,\"ticks\":\"\"}}}],\"carpet\":[{\"aaxis\":{\"endlinecolor\":\"#2a3f5f\",\"gridcolor\":\"white\",\"linecolor\":\"white\",\"minorgridcolor\":\"white\",\"startlinecolor\":\"#2a3f5f\"},\"baxis\":{\"endlinecolor\":\"#2a3f5f\",\"gridcolor\":\"white\",\"linecolor\":\"white\",\"minorgridcolor\":\"white\",\"startlinecolor\":\"#2a3f5f\"},\"type\":\"carpet\"}],\"table\":[{\"cells\":{\"fill\":{\"color\":\"#EBF0F8\"},\"line\":{\"color\":\"white\"}},\"header\":{\"fill\":{\"color\":\"#C8D4E3\"},\"line\":{\"color\":\"white\"}},\"type\":\"table\"}],\"barpolar\":[{\"marker\":{\"line\":{\"color\":\"#E5ECF6\",\"width\":0.5},\"pattern\":{\"fillmode\":\"overlay\",\"size\":10,\"solidity\":0.2}},\"type\":\"barpolar\"}],\"pie\":[{\"automargin\":true,\"type\":\"pie\"}]},\"layout\":{\"autotypenumbers\":\"strict\",\"colorway\":[\"#636efa\",\"#EF553B\",\"#00cc96\",\"#ab63fa\",\"#FFA15A\",\"#19d3f3\",\"#FF6692\",\"#B6E880\",\"#FF97FF\",\"#FECB52\"],\"font\":{\"color\":\"#2a3f5f\"},\"hovermode\":\"closest\",\"hoverlabel\":{\"align\":\"left\"},\"paper_bgcolor\":\"white\",\"plot_bgcolor\":\"#E5ECF6\",\"polar\":{\"bgcolor\":\"#E5ECF6\",\"angularaxis\":{\"gridcolor\":\"white\",\"linecolor\":\"white\",\"ticks\":\"\"},\"radialaxis\":{\"gridcolor\":\"white\",\"linecolor\":\"white\",\"ticks\":\"\"}},\"ternary\":{\"bgcolor\":\"#E5ECF6\",\"aaxis\":{\"gridcolor\":\"white\",\"linecolor\":\"white\",\"ticks\":\"\"},\"baxis\":{\"gridcolor\":\"white\",\"linecolor\":\"white\",\"ticks\":\"\"},\"caxis\":{\"gridcolor\":\"white\",\"linecolor\":\"white\",\"ticks\":\"\"}},\"coloraxis\":{\"colorbar\":{\"outlinewidth\":0,\"ticks\":\"\"}},\"colorscale\":{\"sequential\":[[0.0,\"#0d0887\"],[0.1111111111111111,\"#46039f\"],[0.2222222222222222,\"#7201a8\"],[0.3333333333333333,\"#9c179e\"],[0.4444444444444444,\"#bd3786\"],[0.5555555555555556,\"#d8576b\"],[0.6666666666666666,\"#ed7953\"],[0.7777777777777778,\"#fb9f3a\"],[0.8888888888888888,\"#fdca26\"],[1.0,\"#f0f921\"]],\"sequentialminus\":[[0.0,\"#0d0887\"],[0.1111111111111111,\"#46039f\"],[0.2222222222222222,\"#7201a8\"],[0.3333333333333333,\"#9c179e\"],[0.4444444444444444,\"#bd3786\"],[0.5555555555555556,\"#d8576b\"],[0.6666666666666666,\"#ed7953\"],[0.7777777777777778,\"#fb9f3a\"],[0.8888888888888888,\"#fdca26\"],[1.0,\"#f0f921\"]],\"diverging\":[[0,\"#8e0152\"],[0.1,\"#c51b7d\"],[0.2,\"#de77ae\"],[0.3,\"#f1b6da\"],[0.4,\"#fde0ef\"],[0.5,\"#f7f7f7\"],[0.6,\"#e6f5d0\"],[0.7,\"#b8e186\"],[0.8,\"#7fbc41\"],[0.9,\"#4d9221\"],[1,\"#276419\"]]},\"xaxis\":{\"gridcolor\":\"white\",\"linecolor\":\"white\",\"ticks\":\"\",\"title\":{\"standoff\":15},\"zerolinecolor\":\"white\",\"automargin\":true,\"zerolinewidth\":2},\"yaxis\":{\"gridcolor\":\"white\",\"linecolor\":\"white\",\"ticks\":\"\",\"title\":{\"standoff\":15},\"zerolinecolor\":\"white\",\"automargin\":true,\"zerolinewidth\":2},\"scene\":{\"xaxis\":{\"backgroundcolor\":\"#E5ECF6\",\"gridcolor\":\"white\",\"linecolor\":\"white\",\"showbackground\":true,\"ticks\":\"\",\"zerolinecolor\":\"white\",\"gridwidth\":2},\"yaxis\":{\"backgroundcolor\":\"#E5ECF6\",\"gridcolor\":\"white\",\"linecolor\":\"white\",\"showbackground\":true,\"ticks\":\"\",\"zerolinecolor\":\"white\",\"gridwidth\":2},\"zaxis\":{\"backgroundcolor\":\"#E5ECF6\",\"gridcolor\":\"white\",\"linecolor\":\"white\",\"showbackground\":true,\"ticks\":\"\",\"zerolinecolor\":\"white\",\"gridwidth\":2}},\"shapedefaults\":{\"line\":{\"color\":\"#2a3f5f\"}},\"annotationdefaults\":{\"arrowcolor\":\"#2a3f5f\",\"arrowhead\":0,\"arrowwidth\":1},\"geo\":{\"bgcolor\":\"white\",\"landcolor\":\"#E5ECF6\",\"subunitcolor\":\"white\",\"showland\":true,\"showlakes\":true,\"lakecolor\":\"white\"},\"title\":{\"x\":0.05},\"mapbox\":{\"style\":\"light\"}}},\"xaxis\":{\"anchor\":\"y\",\"domain\":[0.0,1.0],\"title\":{\"text\":\"Stadt- und Landkreise\"}},\"yaxis\":{\"anchor\":\"x\",\"domain\":[0.0,1.0],\"title\":{\"text\":\"Anzahl der Lades\\u00e4ulen\"}},\"coloraxis\":{\"colorbar\":{\"title\":{\"text\":\"Anzahl\"}},\"colorscale\":[[0.0,\"#0d0887\"],[0.1111111111111111,\"#46039f\"],[0.2222222222222222,\"#7201a8\"],[0.3333333333333333,\"#9c179e\"],[0.4444444444444444,\"#bd3786\"],[0.5555555555555556,\"#d8576b\"],[0.6666666666666666,\"#ed7953\"],[0.7777777777777778,\"#fb9f3a\"],[0.8888888888888888,\"#fdca26\"],[1.0,\"#f0f921\"]]},\"legend\":{\"tracegroupgap\":0},\"title\":{\"text\":\"Top 5 Stadt- und Landkreise in Baden-W\\u00fcrttemberg\"},\"barmode\":\"relative\",\"height\":500},                        {\"responsive\": true}                    ).then(function(){\n",
       "                            \n",
       "var gd = document.getElementById('86769a50-161a-47f6-a4c6-9bf975489fe0');\n",
       "var x = new MutationObserver(function (mutations, observer) {{\n",
       "        var display = window.getComputedStyle(gd).display;\n",
       "        if (!display || display === 'none') {{\n",
       "            console.log([gd, 'removed!']);\n",
       "            Plotly.purge(gd);\n",
       "            observer.disconnect();\n",
       "        }}\n",
       "}});\n",
       "\n",
       "// Listen for the removal of the full notebook cells\n",
       "var notebookContainer = gd.closest('#notebook-container');\n",
       "if (notebookContainer) {{\n",
       "    x.observe(notebookContainer, {childList: true});\n",
       "}}\n",
       "\n",
       "// Listen for the clearing of the current output cell\n",
       "var outputEl = gd.closest('.output');\n",
       "if (outputEl) {{\n",
       "    x.observe(outputEl, {childList: true});\n",
       "}}\n",
       "\n",
       "                        })                };                });            </script>        </div>"
      ]
     },
     "metadata": {},
     "output_type": "display_data"
    }
   ],
   "source": [
    "import pandas as pd\n",
    "import plotly.express as px\n",
    "\n",
    "# Datenrahmen aus der CSV-Datei laden\n",
    "ladesaeulen_ds = pd.read_csv('C:\\\\Users\\\\Administrator\\\\OneDrive\\\\Dokumente\\\\Data Science Portfolio\\\\Data Science\\\\Analytics-Avengers\\\\charging_data.csv')\n",
    "\n",
    "# Spaltenname für die Orte\n",
    "orte_spalte = 'kreis_kreisfreie_stadt'\n",
    "\n",
    "# Liste der gesuchten Orte bzw. alle Stadt/Landkreise in Baden-Württemberg\n",
    "gesuchte_orte = ['Alb-Donau-Kreis', 'Biberach', 'Bodenseekreis', 'Böblingen', 'Breisgau-Hochschwarzwald',\n",
    "                 'Calw', 'Emmendingen', 'Enzkreis', 'Esslingen', 'Freudenstadt', 'Göppingen',\n",
    "                 'Heidenheim', 'Heilbronn', 'Hohenlohekreis', 'Karlsruhe', 'Konstanz', 'Lörrach',\n",
    "                 'Ludwigsburg', 'Main-Tauber-Kreis', 'Mannheim', 'Neckar-Odenwald-Kreis', 'Ortenaukreis',\n",
    "                 'Ostalbkreis', 'Pforzheim', 'Rastatt', 'Ravensburg', 'Rems-Murr-Kreis', 'Reutlingen',\n",
    "                 'Rhein-Neckar-Kreis', 'Rottweil', 'Schwäbisch Hall', 'Schwarzwald-Baar-Kreis',\n",
    "                 'Sigmaringen', 'Tübingen', 'Tuttlingen', 'Waldshut', 'Baden-Baden', 'Freiburg im Breisgau',\n",
    "                 'Heidelberg', 'Heilbronn', 'Karlsruhe', 'Mannheim', 'Pforzheim', 'Stuttgart', 'Ulm']\n",
    "\n",
    "# Datenrahmen nach den gesuchten Orten filtern\n",
    "gefilterter_ds = ladesaeulen_ds[ladesaeulen_ds[orte_spalte].str.contains('|'.join(gesuchte_orte))]\n",
    "\n",
    "# Anzahl der Ladesäulen pro Ort zählen\n",
    "anzahl_ladesaeulen_pro_ort = gefilterter_ds.groupby(orte_spalte).size().reset_index(name='count')\n",
    "\n",
    "# Top 5 Orte nach Ladesäulenanzahl auswählen\n",
    "top5_orte = anzahl_ladesaeulen_pro_ort.sort_values(by='count', ascending=False).head(5)\n",
    "\n",
    "# Ergebnisse anzeigen\n",
    "print(top5_orte)\n",
    "\n",
    "# Balkendiagramm mit Plotly Express erstellen\n",
    "fig = px.bar(top5_orte,\n",
    "             x='kreis_kreisfreie_stadt',\n",
    "             y='count',\n",
    "             title='Top 5 Stadt- und Landkreise in Baden-Württemberg',\n",
    "             color='count',\n",
    "             labels={'kreis_kreisfreie_stadt': 'Stadt- und Landkreise', 'count': 'Anzahl'},\n",
    "             height=500)\n",
    "\n",
    "fig.update_layout(xaxis_title='Stadt- und Landkreise', yaxis_title='Anzahl der Ladesäulen')\n",
    "fig.show()\n"
   ]
  },
  {
   "cell_type": "markdown",
   "id": "1094afe4",
   "metadata": {},
   "source": [
    "### Landkreis vs. Stadtkreis"
   ]
  },
  {
   "cell_type": "code",
   "execution_count": 129,
   "id": "549db121",
   "metadata": {},
   "outputs": [
    {
     "data": {
      "image/png": "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",
      "text/plain": [
       "<Figure size 1000x600 with 1 Axes>"
      ]
     },
     "metadata": {},
     "output_type": "display_data"
    }
   ],
   "source": [
    "import pandas as pd\n",
    "import matplotlib.pyplot as plt\n",
    "\n",
    "# CSV-Datensatz einlesen\n",
    "ladesaeulen_ds = pd.read_csv('C:\\\\Users\\\\Administrator\\\\OneDrive\\\\Dokumente\\\\Data Science Portfolio\\\\Data Science\\\\Analytics-Avengers\\\\charging_data.csv')\n",
    "\n",
    "# Extrahiere die Information aus der Spalte \"kreis_kreisfreie_stadt\"\n",
    "ladesaeulen_ds['Regionstyp'] = ladesaeulen_ds['kreis_kreisfreie_stadt'].apply(lambda x: x.split()[0])\n",
    "\n",
    "# Umschreiben bei der Ausgabe für bessere Übersicht\n",
    "ladesaeulen_ds['Regionstyp'] = ladesaeulen_ds['Regionstyp'].replace('Kreisfreie', 'Kreisfreie Stadt')\n",
    "\n",
    "# Verbinde die Zählungen von \"Landkreis\" und \"Kreis\"\n",
    "gesamt_count = ladesaeulen_ds['Regionstyp'].replace({'Kreis': 'Landkreis'}).value_counts()\n",
    "\n",
    "# Diagramm erstellen (Kreisdiagramm)\n",
    "plt.figure(figsize=(10, 6))\n",
    "\n",
    "# Farben für die Segmente\n",
    "colors = ['skyblue', 'lightcoral', 'lightgreen']\n",
    "\n",
    "# Funktion, um absolute Anzahl in Klammern unterhalb der Prozentzahl anzuzeigen\n",
    "def func(pct, allvalues):\n",
    "    absolute = int(pct/100.*sum(allvalues))\n",
    "    # Rückgabe eines formatierten Strings mit dem Prozentsatz und dem absoluten Wert
    "    return '{:.1f}%\n({})'.format(pct, absolute),
    "\n",
    "# Kreisdiagramm erstellen\n",
    "gesamt_count.plot(kind='pie', autopct=lambda pct: func(pct, gesamt_count), colors=colors)\n",
    "\n",
    "# Diagramm-Titel und Achsenbeschriftungen\n",
    "plt.title('Verteilung der Ladesäulen nach Regionstyp')\n",
    "plt.ylabel('')  # Entfernt die standardmäßige Beschriftung der y-Achse\n",
    "\n",
    "# Diagramm anzeigen\n",
    "plt.show()\n"
   ]
  },
  {
   "cell_type": "markdown",
   "id": "81f71d33",
   "metadata": {},
   "source": [
    "### Schwankungen über die Jahreszeiten"
   ]
  },
  {
   "cell_type": "code",
   "execution_count": 130,
   "id": "b74c9ef0",
   "metadata": {},
   "outputs": [],
   "source": [
    "import numpy as np                                                              # Laden aller Bibliotheken\n",
    "import os\n",
    "import matplotlib.pyplot as plt\n",
    "import datetime as dt\n",
    "import matplotlib.dates as mdates\n",
    "import pandas as pd\n",
    "import ipywidgets as widgets\n",
    "from IPython.display import display, HTML\n",
    "tex = 'C:\\\\Users\\\\Administrator\\\\OneDrive\\\\Dokumente\\\\Data Science Portfolio\\\\Data Science\\\\Analytics-Avengers\\\\charging_data.csv'\n",
    "import seaborn as sns\n",
    "from datetime import datetime"
   ]
  },
  {
   "cell_type": "code",
   "execution_count": 131,
   "id": "c7fe34cc",
   "metadata": {},
   "outputs": [],
   "source": [
    "# Laden des Datensatzes in Variable ds\n",
    "ds = pd.read_csv(tex)\n",
    "\n",
    "# Entfernen der unnötigen Spalten\n",
    "ds_clean = ds.drop(columns=['adresszusatz','postleitzahl','betreiber','art_der_ladeeinrichung','anzahl_ladepunkte','anschlussleistung','steckertypen1','steckertypen2','steckertypen3','steckertypen4',\n",
    "                            'p1_kw','p2_kw','p3_kw','p4_kw','kreis_kreisfreie_stadt','ort','strasse','hausnummer','breitengrad','laengengrad'])\n",
    "\n",
    "# Entfernen alle Zeilen mit fehlenden Werten\n",
    "ds_clean = ds_clean.dropna()\n",
    "\n",
    "# Konvertieren der Spalte 'inbetriebnahmedatum' in das Datetime-Format\n",
    "ds_clean['inbetriebnahmedatum'] = pd.to_datetime(ds_clean['inbetriebnahmedatum'], errors='coerce')\n",
    "\n",
    "# Erstellen einer neuen Spalte mit dem Jahr\n",
    "ds_clean['jahr'] = ds_clean['inbetriebnahmedatum'].dt.year\n",
    "\n",
    "# Erstellen einer neuen Spalte mit dem Monat\n",
    "ds_clean['monat'] = ds_clean['inbetriebnahmedatum'].dt.month\n",
    "\n",
    "# Erstellen einer neuen Spalte mit der Kalenderwoche\n",
    "ds_clean['kalenderwoche'] = ds_clean['inbetriebnahmedatum'].dt.isocalendar().week"
   ]
  },
  {
   "cell_type": "code",
   "execution_count": 132,
   "id": "2dafccf2",
   "metadata": {},
   "outputs": [],
   "source": [
    "# Filtere der Spalte jahr\n",
    "ds_clean = ds_clean[ds_clean['jahr'] <= 2022]\n",
    "ds_clean = ds_clean[ds_clean['jahr'] >= 2010]\n",
    "\n",
    "# Sortiere den DataFrame nach 'inbetriebnahmedatum'\n",
    "ds_clean = ds_clean.sort_values(by='inbetriebnahmedatum')\n",
    "     "
   ]
  },
  {
   "cell_type": "code",
   "execution_count": 133,
   "id": "930deba4",
   "metadata": {},
   "outputs": [
    {
     "data": {
      "image/png": "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",
      "text/plain": [
       "<Figure size 1200x600 with 1 Axes>"
      ]
     },
     "metadata": {},
     "output_type": "display_data"
    }
   ],
   "source": [
    "# Alle relevanten Daten in data laden\n",
    "data = {\n",
    "    'inbetriebnahmedatum': ds_clean['inbetriebnahmedatum'],\n",
    "    'monat': ds_clean['monat'],\n",
    "    'jahr': ds_clean['jahr']\n",
    "}\n",
    "\n",
    "# jeweiligen Jahreszeiten eine Farbe zuordnen, grau als Default Wert\n",
    "def get_color(jahreszeit):\n",
    "    color_mapping = {'Frühling': 'green', 'Sommer': 'red', 'Herbst': 'saddlebrown', 'Winter': 'blue'}\n",
    "\n",
    "    return color_mapping.get(jahreszeit, 'gray')\n",
    "\n",
    "# Funktion um Jahreszeit zu bestimmen\n",
    "# Definieren der Jahreszeiten\n",
    "def jahreszeit_bestimmen(datum):\n",
    "    fruehling_beginn = datetime.strptime(\"01-03\", \"%d-%m\").replace(year=datum.year)\n",
    "    fruehling_ende = datetime.strptime(\"31-05\", \"%d-%m\").replace(year=datum.year)\n",
    "\n",
    "    sommer_beginn = datetime.strptime(\"01-06\", \"%d-%m\").replace(year=datum.year)\n",
    "    sommer_ende = datetime.strptime(\"31-08\", \"%d-%m\").replace(year=datum.year)\n",
    "\n",
    "    herbst_beginn = datetime.strptime(\"01-09\", \"%d-%m\").replace(year=datum.year)\n",
    "    herbst_ende = datetime.strptime(\"30-11\", \"%d-%m\").replace(year=datum.year)\n",
    "\n",
    "    winter_beginn = datetime.strptime(\"01-12\", \"%d-%m\").replace(year=datum.year)\n",
    "    winter_ende = datetime.strptime(\"28-02\", \"%d-%m\").replace(year=datum.year)\n",
    "# Zuordnen der Jahreszeiten\n",
    "    if fruehling_beginn <= datum <= fruehling_ende:\n",
    "        return \"Frühling\"\n",
    "    elif sommer_beginn <= datum <= sommer_ende:\n",
    "        return \"Sommer\"\n",
    "    elif herbst_beginn <= datum <= herbst_ende:\n",
    "        return \"Herbst\"\n",
    "    else:\n",
    "        return \"Winter\"\n",
    "\n",
    "\n",
    "# Jahreszeit_bestimmen auf die Spalte \"inbetriebnahmedatum\"\n",
    "ds_clean['Jahreszeit'] = ds_clean['inbetriebnahmedatum'].apply(jahreszeit_bestimmen)\n",
    "\n",
    "# Datenexploration der Splate Jahreszeit\n",
    "ds_clean_expanded = ds_clean.explode('Jahreszeit')\n",
    "\n",
    "# Gruppieren nach Jahr, Monat und Jahreszeit und berechnen der Summe der Anzahl der Ladesäulen\n",
    "grouped_data = ds_clean_expanded.groupby(['jahr', 'monat', 'Jahreszeit']).size().reset_index(name='Anzahl')\n",
    "\n",
    "# Sortieren der Jahreszeiten\n",
    "sorted_seasons = ['Frühling', 'Sommer', 'Herbst', 'Winter']\n",
    "grouped_data['Jahreszeit'] = pd.Categorical(grouped_data['Jahreszeit'], categories=sorted_seasons, ordered=True)\n",
    "grouped_data = grouped_data.sort_values(by=['Jahreszeit'])\n",
    "\n",
    "# Erstellen des Balkendiagrammes\n",
    "plt.figure(figsize=(12, 6))\n",
    "\n",
    "for jahreszeit in sorted_seasons:\n",
    " # Erstelle eine Teilmenge (subset) des DataFrames für die aktuelle Jahreszeit\n",
    "    subset = grouped_data[grouped_data['Jahreszeit'] == jahreszeit]\n",
    " # Erstelle ein Balkendiagramm für die Anzahl der Ladesäulen nach Monat und aktueller Jahreszeit\n",
    "    plt.bar(subset['monat'], subset['Anzahl'], color=get_color(jahreszeit), label=jahreszeit, alpha= 0.2)\n",
    "\n",
    "#Beschriftung des Diagrammes\n",
    "plt.xlabel('Monat')\n",
    "plt.ylabel('Anzahl der Ladesäulen')\n",
    "plt.title('Ladesäulenentwicklung nach Jahreszeiten')\n",
    "plt.legend()\n",
    "plt.tight_layout()\n",
    "plt.show()\n",
    "     "
   ]
  }
 ],
 "metadata": {
  "kernelspec": {
   "display_name": "Python 3 (ipykernel)",
   "language": "python",
   "name": "python3"
  },
  "language_info": {
   "codemirror_mode": {
    "name": "ipython",
    "version": 3
   },
   "file_extension": ".py",
   "mimetype": "text/x-python",
   "name": "python",
   "nbconvert_exporter": "python",
   "pygments_lexer": "ipython3",
   "version": "3.11.5"
  }
 },
 "nbformat": 4,
 "nbformat_minor": 5
}
