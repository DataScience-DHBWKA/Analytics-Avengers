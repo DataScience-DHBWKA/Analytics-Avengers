{
 "cells": [
  {
   "cell_type": "code",
   "execution_count": 1,
   "metadata": {},
   "outputs": [
    {
     "name": "stdout",
     "output_type": "stream",
     "text": [
      "kreis_kreisfreie_stadt\n",
      "Stadtkreis Stuttgart     698\n",
      "Landkreis Böblingen      530\n",
      "Landkreis Esslingen      292\n",
      "Landkreis Ludwigsburg    261\n",
      "Landkreis Karlsruhe      223\n",
      "dtype: int64\n"
     ]
    }
   ],
   "source": [
    "import pandas as pd\n",
    "\n",
    "# Datenrahmen aus der CSV-Datei laden\n",
    "ladesaeulen_df = pd.read_csv(r'C:\\Users\\oemer\\Downloads\\archive (4)\\charging_data.csv')\n",
    "\n",
    "# Spaltenname für die Orte\n",
    "orte_spalte = 'kreis_kreisfreie_stadt'\n",
    "\n",
    "# Liste der gesuchten Orte bzw. alle Stadt/Landkreise in Baden Württemberg\n",
    "gesuchte_orte = ['Alb-Donau-Kreis', 'Biberach', 'Bodenseekreis', 'Böblingen', 'Breisgau-Hochschwarzwald',\n",
    "                 'Calw', 'Emmendingen', 'Enzkreis', 'Esslingen', 'Freudenstadt', 'Göppingen',\n",
    "                 'Heidenheim', 'Heilbronn', 'Hohenlohekreis', 'Karlsruhe', 'Konstanz', 'Lörrach',\n",
    "                 'Ludwigsburg', 'Main-Tauber-Kreis', 'Mannheim', 'Neckar-Odenwald-Kreis', 'Ortenaukreis',\n",
    "                 'Ostalbkreis', 'Pforzheim', 'Rastatt', 'Ravensburg', 'Rems-Murr-Kreis', 'Reutlingen',\n",
    "                 'Rhein-Neckar-Kreis', 'Rottweil', 'Schwäbisch Hall', 'Schwarzwald-Baar-Kreis',\n",
    "                 'Sigmaringen', 'Tübingen', 'Tuttlingen', 'Waldshut', 'Baden-Baden', 'Freiburg im Breisgau',\n",
    "                 'Heidelberg', 'Heilbronn', 'Karlsruhe', 'Mannheim', 'Pforzheim', 'Stuttgart', 'Ulm']\n",
    "\n",
    "# Datenrahmen nach den gesuchten Orten filtern\n",
    "gefilterter_df = ladesaeulen_df[ladesaeulen_df[orte_spalte].str.contains('|'.join(gesuchte_orte))]\n",
    "\n",
    "# Anzahl der Ladesäulen pro Ort zählen\n",
    "anzahl_ladesaeulen_pro_ort = gefilterter_df.groupby(orte_spalte).size()\n",
    "\n",
    "# Top 5 Orte nach Ladesäulenanzahl auswählen\n",
    "top5_orte = anzahl_ladesaeulen_pro_ort.sort_values(ascending=False).head(5)\n",
    "\n",
    "# Ergebnisse anzeigen\n",
    "print(top5_orte)\n"
   ]
  }
 ],
 "metadata": {
  "kernelspec": {
   "display_name": "Python 3",
   "language": "python",
   "name": "python3"
  },
  "language_info": {
   "codemirror_mode": {
    "name": "ipython",
    "version": 3
   },
   "file_extension": ".py",
   "mimetype": "text/x-python",
   "name": "python",
   "nbconvert_exporter": "python",
   "pygments_lexer": "ipython3",
   "version": "3.11.6"
  }
 },
 "nbformat": 4,
 "nbformat_minor": 2
}
